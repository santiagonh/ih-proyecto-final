{
 "cells": [
  {
   "cell_type": "markdown",
   "id": "350f86d5",
   "metadata": {},
   "source": [
    "# Playlist Categorization"
   ]
  },
  {
   "cell_type": "code",
   "execution_count": 255,
   "id": "742ff6f0",
   "metadata": {},
   "outputs": [],
   "source": [
    "import pandas as pd\n",
    "import numpy as np\n",
    "import matplotlib.pyplot as plt\n",
    "import seaborn as sns\n",
    "import hdbscan\n",
    "import scipy.cluster.hierarchy as sch\n",
    "import scipy\n",
    "import plotly.figure_factory as ff\n",
    "import plotly.figure_factory as ff"
   ]
  },
  {
   "cell_type": "code",
   "execution_count": 256,
   "id": "459bcce4",
   "metadata": {},
   "outputs": [],
   "source": [
    "df = pd.read_csv(\"/Users/santiago/ih-bootcamp/proyectos/sherpa/out/spoty/ambient_set.csv\")"
   ]
  },
  {
   "cell_type": "code",
   "execution_count": 257,
   "id": "173129cb",
   "metadata": {},
   "outputs": [],
   "source": [
    "df = df.iloc[:, 3:]"
   ]
  },
  {
   "cell_type": "code",
   "execution_count": 258,
   "id": "ea8d589b",
   "metadata": {},
   "outputs": [
    {
     "data": {
      "text/plain": [
       "295"
      ]
     },
     "execution_count": 258,
     "metadata": {},
     "output_type": "execute_result"
    }
   ],
   "source": [
    "len(df)"
   ]
  },
  {
   "cell_type": "code",
   "execution_count": 259,
   "id": "b99d03e0",
   "metadata": {
    "scrolled": true
   },
   "outputs": [
    {
     "data": {
      "text/html": [
       "<div>\n",
       "<style scoped>\n",
       "    .dataframe tbody tr th:only-of-type {\n",
       "        vertical-align: middle;\n",
       "    }\n",
       "\n",
       "    .dataframe tbody tr th {\n",
       "        vertical-align: top;\n",
       "    }\n",
       "\n",
       "    .dataframe thead th {\n",
       "        text-align: right;\n",
       "    }\n",
       "</style>\n",
       "<table border=\"1\" class=\"dataframe\">\n",
       "  <thead>\n",
       "    <tr style=\"text-align: right;\">\n",
       "      <th></th>\n",
       "      <th>track_id</th>\n",
       "      <th>artist</th>\n",
       "      <th>track</th>\n",
       "      <th>album</th>\n",
       "      <th>duration</th>\n",
       "      <th>tempo</th>\n",
       "      <th>energy</th>\n",
       "      <th>danceability</th>\n",
       "      <th>valence</th>\n",
       "      <th>key</th>\n",
       "      <th>time_signature</th>\n",
       "      <th>acousticness</th>\n",
       "      <th>instrumentalness</th>\n",
       "      <th>mode</th>\n",
       "      <th>styles</th>\n",
       "    </tr>\n",
       "  </thead>\n",
       "  <tbody>\n",
       "    <tr>\n",
       "      <th>0</th>\n",
       "      <td>2t7OLqJA5oD5I5QZRwMPAR</td>\n",
       "      <td>Healion</td>\n",
       "      <td>About Breathing</td>\n",
       "      <td>In Light, It Undoes Nothing...</td>\n",
       "      <td>7.200000</td>\n",
       "      <td>160.011</td>\n",
       "      <td>0.676</td>\n",
       "      <td>0.618</td>\n",
       "      <td>0.146</td>\n",
       "      <td>F#</td>\n",
       "      <td>4</td>\n",
       "      <td>0.0609</td>\n",
       "      <td>0.735</td>\n",
       "      <td>0</td>\n",
       "      <td>['Drum n Bass', 'IDM', 'Leftfield']</td>\n",
       "    </tr>\n",
       "    <tr>\n",
       "      <th>1</th>\n",
       "      <td>1adXPHPWJrsa90kHuJZNrV</td>\n",
       "      <td>Healion</td>\n",
       "      <td>About Breathing - Remix</td>\n",
       "      <td>In Light, It Undoes Nothing...</td>\n",
       "      <td>6.143417</td>\n",
       "      <td>159.994</td>\n",
       "      <td>0.913</td>\n",
       "      <td>0.724</td>\n",
       "      <td>0.948</td>\n",
       "      <td>D#</td>\n",
       "      <td>4</td>\n",
       "      <td>0.0269</td>\n",
       "      <td>0.821</td>\n",
       "      <td>0</td>\n",
       "      <td>['Drum n Bass', 'IDM', 'Leftfield']</td>\n",
       "    </tr>\n",
       "    <tr>\n",
       "      <th>2</th>\n",
       "      <td>5sBXirjKrYh57rEGOiUBtP</td>\n",
       "      <td>Healion</td>\n",
       "      <td>Vetiver</td>\n",
       "      <td>In Light, It Undoes Nothing...</td>\n",
       "      <td>4.625000</td>\n",
       "      <td>128.007</td>\n",
       "      <td>0.594</td>\n",
       "      <td>0.644</td>\n",
       "      <td>0.585</td>\n",
       "      <td>G#</td>\n",
       "      <td>4</td>\n",
       "      <td>0.4800</td>\n",
       "      <td>0.889</td>\n",
       "      <td>0</td>\n",
       "      <td>['Drum n Bass', 'IDM', 'Leftfield']</td>\n",
       "    </tr>\n",
       "    <tr>\n",
       "      <th>3</th>\n",
       "      <td>6EnNR8NnMTznFVowHfWPk8</td>\n",
       "      <td>Healion</td>\n",
       "      <td>I'll See It When I Believe It</td>\n",
       "      <td>In Light, It Undoes Nothing...</td>\n",
       "      <td>4.382600</td>\n",
       "      <td>112.795</td>\n",
       "      <td>0.523</td>\n",
       "      <td>0.220</td>\n",
       "      <td>0.287</td>\n",
       "      <td>A</td>\n",
       "      <td>4</td>\n",
       "      <td>0.4830</td>\n",
       "      <td>0.773</td>\n",
       "      <td>0</td>\n",
       "      <td>['Drum n Bass', 'IDM', 'Leftfield']</td>\n",
       "    </tr>\n",
       "    <tr>\n",
       "      <th>4</th>\n",
       "      <td>33wGiihh5zKVLAb3J3DvBk</td>\n",
       "      <td>Healion</td>\n",
       "      <td>Gathering</td>\n",
       "      <td>In Light, It Undoes Nothing...</td>\n",
       "      <td>4.053333</td>\n",
       "      <td>149.986</td>\n",
       "      <td>0.882</td>\n",
       "      <td>0.578</td>\n",
       "      <td>0.821</td>\n",
       "      <td>F#</td>\n",
       "      <td>4</td>\n",
       "      <td>0.4960</td>\n",
       "      <td>0.877</td>\n",
       "      <td>1</td>\n",
       "      <td>['Drum n Bass', 'IDM', 'Leftfield']</td>\n",
       "    </tr>\n",
       "  </tbody>\n",
       "</table>\n",
       "</div>"
      ],
      "text/plain": [
       "                 track_id   artist                          track  \\\n",
       "0  2t7OLqJA5oD5I5QZRwMPAR  Healion                About Breathing   \n",
       "1  1adXPHPWJrsa90kHuJZNrV  Healion        About Breathing - Remix   \n",
       "2  5sBXirjKrYh57rEGOiUBtP  Healion                        Vetiver   \n",
       "3  6EnNR8NnMTznFVowHfWPk8  Healion  I'll See It When I Believe It   \n",
       "4  33wGiihh5zKVLAb3J3DvBk  Healion                      Gathering   \n",
       "\n",
       "                            album  duration    tempo  energy  danceability  \\\n",
       "0  In Light, It Undoes Nothing...  7.200000  160.011   0.676         0.618   \n",
       "1  In Light, It Undoes Nothing...  6.143417  159.994   0.913         0.724   \n",
       "2  In Light, It Undoes Nothing...  4.625000  128.007   0.594         0.644   \n",
       "3  In Light, It Undoes Nothing...  4.382600  112.795   0.523         0.220   \n",
       "4  In Light, It Undoes Nothing...  4.053333  149.986   0.882         0.578   \n",
       "\n",
       "   valence key  time_signature  acousticness  instrumentalness  mode  \\\n",
       "0    0.146  F#               4        0.0609             0.735     0   \n",
       "1    0.948  D#               4        0.0269             0.821     0   \n",
       "2    0.585  G#               4        0.4800             0.889     0   \n",
       "3    0.287   A               4        0.4830             0.773     0   \n",
       "4    0.821  F#               4        0.4960             0.877     1   \n",
       "\n",
       "                                styles  \n",
       "0  ['Drum n Bass', 'IDM', 'Leftfield']  \n",
       "1  ['Drum n Bass', 'IDM', 'Leftfield']  \n",
       "2  ['Drum n Bass', 'IDM', 'Leftfield']  \n",
       "3  ['Drum n Bass', 'IDM', 'Leftfield']  \n",
       "4  ['Drum n Bass', 'IDM', 'Leftfield']  "
      ]
     },
     "execution_count": 259,
     "metadata": {},
     "output_type": "execute_result"
    }
   ],
   "source": [
    "df.head()"
   ]
  },
  {
   "cell_type": "code",
   "execution_count": 260,
   "id": "a7abd7db",
   "metadata": {},
   "outputs": [],
   "source": [
    "df.tempo=df.tempo.round().astype(int)"
   ]
  },
  {
   "cell_type": "code",
   "execution_count": 261,
   "id": "949c95a4",
   "metadata": {},
   "outputs": [],
   "source": [
    "df.duration=df.duration.round(decimals=2)"
   ]
  },
  {
   "cell_type": "code",
   "execution_count": 262,
   "id": "1ae394fd",
   "metadata": {
    "scrolled": true
   },
   "outputs": [
    {
     "name": "stdout",
     "output_type": "stream",
     "text": [
      "<class 'pandas.core.frame.DataFrame'>\n",
      "RangeIndex: 295 entries, 0 to 294\n",
      "Data columns (total 15 columns):\n",
      " #   Column            Non-Null Count  Dtype  \n",
      "---  ------            --------------  -----  \n",
      " 0   track_id          295 non-null    object \n",
      " 1   artist            295 non-null    object \n",
      " 2   track             295 non-null    object \n",
      " 3   album             295 non-null    object \n",
      " 4   duration          295 non-null    float64\n",
      " 5   tempo             295 non-null    int64  \n",
      " 6   energy            295 non-null    float64\n",
      " 7   danceability      295 non-null    float64\n",
      " 8   valence           295 non-null    float64\n",
      " 9   key               295 non-null    object \n",
      " 10  time_signature    295 non-null    int64  \n",
      " 11  acousticness      295 non-null    float64\n",
      " 12  instrumentalness  295 non-null    float64\n",
      " 13  mode              295 non-null    int64  \n",
      " 14  styles            259 non-null    object \n",
      "dtypes: float64(6), int64(3), object(6)\n",
      "memory usage: 34.7+ KB\n"
     ]
    }
   ],
   "source": [
    "df.info()"
   ]
  },
  {
   "cell_type": "markdown",
   "id": "6f1226da",
   "metadata": {},
   "source": [
    "## Clusterizando"
   ]
  },
  {
   "cell_type": "code",
   "execution_count": 263,
   "id": "57ac19bb",
   "metadata": {},
   "outputs": [],
   "source": [
    "from sklearn.mixture import GaussianMixture as GMM"
   ]
  },
  {
   "cell_type": "code",
   "execution_count": 264,
   "id": "69bbbad6",
   "metadata": {
    "scrolled": true
   },
   "outputs": [
    {
     "data": {
      "text/plain": [
       "<matplotlib.collections.PathCollection at 0x7fd5025e23d0>"
      ]
     },
     "execution_count": 264,
     "metadata": {},
     "output_type": "execute_result"
    },
    {
     "data": {
      "image/png": "[encoded data removed]",
      "text/plain": [
       "<Figure size 432x288 with 1 Axes>"
      ]
     },
     "metadata": {
      "needs_background": "light"
     },
     "output_type": "display_data"
    }
   ],
   "source": [
    "plt.scatter(df.energy, df.danceability, c=df.tempo)"
   ]
  },
  {
   "cell_type": "code",
   "execution_count": 265,
   "id": "acfb5c41",
   "metadata": {
    "scrolled": true
   },
   "outputs": [
    {
     "data": {
      "text/plain": [
       "<matplotlib.collections.PathCollection at 0x7fd502865e20>"
      ]
     },
     "execution_count": 265,
     "metadata": {},
     "output_type": "execute_result"
    },
    {
     "data": {
      "image/png": "[encoded data removed]",
      "text/plain": [
       "<Figure size 432x288 with 1 Axes>"
      ]
     },
     "metadata": {
      "needs_background": "light"
     },
     "output_type": "display_data"
    }
   ],
   "source": [
    "plt.scatter(df.acousticness, df.instrumentalness, c=df.tempo)"
   ]
  },
  {
   "cell_type": "code",
   "execution_count": 267,
   "id": "0bd80f7d",
   "metadata": {},
   "outputs": [
    {
     "data": {
      "text/plain": [
       "Index(['track_id', 'artist', 'track', 'album', 'duration', 'tempo', 'energy',\n",
       "       'danceability', 'valence', 'key', 'time_signature', 'acousticness',\n",
       "       'instrumentalness', 'mode', 'styles'],\n",
       "      dtype='object')"
      ]
     },
     "execution_count": 267,
     "metadata": {},
     "output_type": "execute_result"
    }
   ],
   "source": [
    "df.columns"
   ]
  },
  {
   "cell_type": "code",
   "execution_count": 268,
   "id": "4d640122",
   "metadata": {},
   "outputs": [],
   "source": [
    "import hdbscan\n",
    "import scipy.cluster.hierarchy as sch\n",
    "import scipy"
   ]
  },
  {
   "cell_type": "code",
   "execution_count": 269,
   "id": "b4a3b784",
   "metadata": {
    "scrolled": false
   },
   "outputs": [],
   "source": [
    "df_modelo = df[['energy','danceability', 'tempo', 'track']]"
   ]
  },
  {
   "cell_type": "code",
   "execution_count": 271,
   "id": "c9271d94",
   "metadata": {
    "scrolled": false
   },
   "outputs": [],
   "source": [
    "df_modelo.tempo=[(valor - df_modelo.tempo.min()) / (df_modelo.tempo.max() - df_modelo.tempo.min()) for valor in df_modelo.tempo]"
   ]
  },
  {
   "cell_type": "code",
   "execution_count": 284,
   "id": "143e98a3",
   "metadata": {
    "scrolled": true
   },
   "outputs": [
    {
     "data": {
      "text/plain": [
       "HDBSCAN(gen_min_span_tree=True, min_cluster_size=20)"
      ]
     },
     "execution_count": 284,
     "metadata": {},
     "output_type": "execute_result"
    }
   ],
   "source": [
    "cluster_hdb = hdbscan.HDBSCAN(min_cluster_size = 20, gen_min_span_tree = True, algorithm='best')\n",
    "cluster_hdb.fit(df_modelo.set_index('track'))"
   ]
  },
  {
   "cell_type": "code",
   "execution_count": 273,
   "id": "a6889780",
   "metadata": {},
   "outputs": [],
   "source": [
    "df_modelo['cluster'] = cluster_hdb.labels_"
   ]
  },
  {
   "cell_type": "code",
   "execution_count": 274,
   "id": "c09ee08b",
   "metadata": {},
   "outputs": [
    {
     "data": {
      "text/plain": [
       "<seaborn.axisgrid.PairGrid at 0x7fd504d649a0>"
      ]
     },
     "execution_count": 274,
     "metadata": {},
     "output_type": "execute_result"
    },
    {
     "data": {
      "image/png": "[encoded data removed]",
      "text/plain": [
       "<Figure size 720x720 with 20 Axes>"
      ]
     },
     "metadata": {
      "needs_background": "light"
     },
     "output_type": "display_data"
    }
   ],
   "source": [
    "sns.pairplot(df_modelo)"
   ]
  },
  {
   "cell_type": "code",
   "execution_count": 275,
   "id": "9818a746",
   "metadata": {},
   "outputs": [
    {
     "data": {
      "text/html": [
       "<div>\n",
       "<style scoped>\n",
       "    .dataframe tbody tr th:only-of-type {\n",
       "        vertical-align: middle;\n",
       "    }\n",
       "\n",
       "    .dataframe tbody tr th {\n",
       "        vertical-align: top;\n",
       "    }\n",
       "\n",
       "    .dataframe thead th {\n",
       "        text-align: right;\n",
       "    }\n",
       "</style>\n",
       "<table border=\"1\" class=\"dataframe\">\n",
       "  <thead>\n",
       "    <tr style=\"text-align: right;\">\n",
       "      <th></th>\n",
       "      <th>energy</th>\n",
       "      <th>danceability</th>\n",
       "      <th>tempo</th>\n",
       "      <th>track</th>\n",
       "      <th>cluster</th>\n",
       "    </tr>\n",
       "  </thead>\n",
       "  <tbody>\n",
       "    <tr>\n",
       "      <th>0</th>\n",
       "      <td>0.676</td>\n",
       "      <td>0.618</td>\n",
       "      <td>0.733945</td>\n",
       "      <td>About Breathing</td>\n",
       "      <td>0</td>\n",
       "    </tr>\n",
       "    <tr>\n",
       "      <th>1</th>\n",
       "      <td>0.913</td>\n",
       "      <td>0.724</td>\n",
       "      <td>0.733945</td>\n",
       "      <td>About Breathing - Remix</td>\n",
       "      <td>-1</td>\n",
       "    </tr>\n",
       "    <tr>\n",
       "      <th>2</th>\n",
       "      <td>0.594</td>\n",
       "      <td>0.644</td>\n",
       "      <td>0.587156</td>\n",
       "      <td>Vetiver</td>\n",
       "      <td>0</td>\n",
       "    </tr>\n",
       "    <tr>\n",
       "      <th>3</th>\n",
       "      <td>0.523</td>\n",
       "      <td>0.220</td>\n",
       "      <td>0.518349</td>\n",
       "      <td>I'll See It When I Believe It</td>\n",
       "      <td>-1</td>\n",
       "    </tr>\n",
       "    <tr>\n",
       "      <th>4</th>\n",
       "      <td>0.882</td>\n",
       "      <td>0.578</td>\n",
       "      <td>0.688073</td>\n",
       "      <td>Gathering</td>\n",
       "      <td>-1</td>\n",
       "    </tr>\n",
       "  </tbody>\n",
       "</table>\n",
       "</div>"
      ],
      "text/plain": [
       "   energy  danceability     tempo                          track  cluster\n",
       "0   0.676         0.618  0.733945                About Breathing        0\n",
       "1   0.913         0.724  0.733945        About Breathing - Remix       -1\n",
       "2   0.594         0.644  0.587156                        Vetiver        0\n",
       "3   0.523         0.220  0.518349  I'll See It When I Believe It       -1\n",
       "4   0.882         0.578  0.688073                      Gathering       -1"
      ]
     },
     "execution_count": 275,
     "metadata": {},
     "output_type": "execute_result"
    }
   ],
   "source": [
    "df_modelo.head()"
   ]
  },
  {
   "cell_type": "code",
   "execution_count": 285,
   "id": "cf78e5af",
   "metadata": {},
   "outputs": [
    {
     "name": "stderr",
     "output_type": "stream",
     "text": [
      "/opt/anaconda3/lib/python3.8/site-packages/sklearn/manifold/_t_sne.py:780: FutureWarning:\n",
      "\n",
      "The default initialization in TSNE will change from 'random' to 'pca' in 1.2.\n",
      "\n",
      "/opt/anaconda3/lib/python3.8/site-packages/sklearn/manifold/_t_sne.py:790: FutureWarning:\n",
      "\n",
      "The default learning rate in TSNE will change from 200.0 to 'auto' in 1.2.\n",
      "\n",
      "<ipython-input-285-0404328a528d>:2: MatplotlibDeprecationWarning:\n",
      "\n",
      "Adding an axes using the same arguments as a previous axes currently reuses the earlier instance.  In a future version, a new instance will always be created and returned.  Meanwhile, this warning can be suppressed, and the future behavior ensured, by passing a unique label to each axes instance.\n",
      "\n"
     ]
    },
    {
     "data": {
      "image/png": "[encoded data removed]",
      "text/plain": [
       "<Figure size 432x288 with 2 Axes>"
      ]
     },
     "metadata": {
      "needs_background": "light"
     },
     "output_type": "display_data"
    }
   ],
   "source": [
    "cluster_hdb.minimum_spanning_tree_.plot()\n",
    "ax = plt.axes()\n",
    "ax.set_facecolor(\"black\")\n",
    "plt.savefig('cluster_2.png')"
   ]
  },
  {
   "cell_type": "code",
   "execution_count": 277,
   "id": "0961ba6f",
   "metadata": {
    "scrolled": true
   },
   "outputs": [
    {
     "name": "stderr",
     "output_type": "stream",
     "text": [
      "<ipython-input-277-ce413cd21606>:3: MatplotlibDeprecationWarning:\n",
      "\n",
      "Adding an axes using the same arguments as a previous axes currently reuses the earlier instance.  In a future version, a new instance will always be created and returned.  Meanwhile, this warning can be suppressed, and the future behavior ensured, by passing a unique label to each axes instance.\n",
      "\n"
     ]
    },
    {
     "ename": "AttributeError",
     "evalue": "'AxesSubplot' object has no attribute 'set_textcolor'",
     "output_type": "error",
     "traceback": [
      "\u001b[0;31m---------------------------------------------------------------------------\u001b[0m",
      "\u001b[0;31mAttributeError\u001b[0m                            Traceback (most recent call last)",
      "\u001b[0;32m<ipython-input-277-ce413cd21606>\u001b[0m in \u001b[0;36m<module>\u001b[0;34m\u001b[0m\n\u001b[1;32m      3\u001b[0m \u001b[0max\u001b[0m \u001b[0;34m=\u001b[0m \u001b[0mplt\u001b[0m\u001b[0;34m.\u001b[0m\u001b[0maxes\u001b[0m\u001b[0;34m(\u001b[0m\u001b[0;34m)\u001b[0m\u001b[0;34m\u001b[0m\u001b[0;34m\u001b[0m\u001b[0m\n\u001b[1;32m      4\u001b[0m \u001b[0max\u001b[0m\u001b[0;34m.\u001b[0m\u001b[0mset_facecolor\u001b[0m\u001b[0;34m(\u001b[0m\u001b[0;34m\"#0b0f0e\"\u001b[0m\u001b[0;34m)\u001b[0m\u001b[0;34m\u001b[0m\u001b[0;34m\u001b[0m\u001b[0m\n\u001b[0;32m----> 5\u001b[0;31m \u001b[0max\u001b[0m\u001b[0;34m.\u001b[0m\u001b[0mset_textcolor\u001b[0m\u001b[0;34m(\u001b[0m\u001b[0;34m\"#0b0f0e\"\u001b[0m\u001b[0;34m)\u001b[0m\u001b[0;34m\u001b[0m\u001b[0;34m\u001b[0m\u001b[0m\n\u001b[0m\u001b[1;32m      6\u001b[0m \u001b[0mplt\u001b[0m\u001b[0;34m.\u001b[0m\u001b[0msavefig\u001b[0m\u001b[0;34m(\u001b[0m\u001b[0;34m'cluster_1.png'\u001b[0m\u001b[0;34m)\u001b[0m\u001b[0;34m\u001b[0m\u001b[0;34m\u001b[0m\u001b[0m\n",
      "\u001b[0;31mAttributeError\u001b[0m: 'AxesSubplot' object has no attribute 'set_textcolor'"
     ]
    },
    {
     "data": {
      "image/png": "[encoded data removed]",
      "text/plain": [
       "<Figure size 360x360 with 2 Axes>"
      ]
     },
     "metadata": {
      "needs_background": "light"
     },
     "output_type": "display_data"
    }
   ],
   "source": [
    "plt.figure(figsize = (5,5))\n",
    "cluster_hdb.condensed_tree_.plot()\n",
    "ax = plt.axes()\n",
    "ax.set_facecolor(\"#0b0f0e\")\n",
    "ax.set_textcolor(\"#0b0f0e\")\n",
    "plt.savefig('cluster_1.png')"
   ]
  },
  {
   "cell_type": "code",
   "execution_count": null,
   "id": "98e07b16",
   "metadata": {},
   "outputs": [],
   "source": [
    "import plotly.express as px\n",
    "fig = px.scatter_3d(df_modelo, x='energy', y='danceability', z='tempo',opacity=0.7, size =[0.2 for i in range(len(df_modelo))] )\n",
    "fig.show()"
   ]
  },
  {
   "cell_type": "code",
   "execution_count": 286,
   "id": "fe24f681",
   "metadata": {},
   "outputs": [],
   "source": [
    "df['cluster'] = cluster_hdb.labels_"
   ]
  },
  {
   "cell_type": "code",
   "execution_count": 287,
   "id": "4b896984",
   "metadata": {
    "scrolled": true
   },
   "outputs": [],
   "source": [
    "df_c=df.groupby('cluster').mean()[['energy', 'danceability', 'tempo']].reset_index()"
   ]
  },
  {
   "cell_type": "code",
   "execution_count": 288,
   "id": "854f5784",
   "metadata": {},
   "outputs": [
    {
     "data": {
      "text/html": [
       "<div>\n",
       "<style scoped>\n",
       "    .dataframe tbody tr th:only-of-type {\n",
       "        vertical-align: middle;\n",
       "    }\n",
       "\n",
       "    .dataframe tbody tr th {\n",
       "        vertical-align: top;\n",
       "    }\n",
       "\n",
       "    .dataframe thead th {\n",
       "        text-align: right;\n",
       "    }\n",
       "</style>\n",
       "<table border=\"1\" class=\"dataframe\">\n",
       "  <thead>\n",
       "    <tr style=\"text-align: right;\">\n",
       "      <th></th>\n",
       "      <th>cluster</th>\n",
       "      <th>energy</th>\n",
       "      <th>danceability</th>\n",
       "      <th>tempo</th>\n",
       "    </tr>\n",
       "  </thead>\n",
       "  <tbody>\n",
       "    <tr>\n",
       "      <th>0</th>\n",
       "      <td>0</td>\n",
       "      <td>0.147547</td>\n",
       "      <td>0.183166</td>\n",
       "      <td>96.350649</td>\n",
       "    </tr>\n",
       "    <tr>\n",
       "      <th>1</th>\n",
       "      <td>1</td>\n",
       "      <td>0.665731</td>\n",
       "      <td>0.641552</td>\n",
       "      <td>129.880597</td>\n",
       "    </tr>\n",
       "    <tr>\n",
       "      <th>2</th>\n",
       "      <td>2</td>\n",
       "      <td>0.440729</td>\n",
       "      <td>0.419244</td>\n",
       "      <td>120.086093</td>\n",
       "    </tr>\n",
       "  </tbody>\n",
       "</table>\n",
       "</div>"
      ],
      "text/plain": [
       "   cluster    energy  danceability       tempo\n",
       "0        0  0.147547      0.183166   96.350649\n",
       "1        1  0.665731      0.641552  129.880597\n",
       "2        2  0.440729      0.419244  120.086093"
      ]
     },
     "execution_count": 288,
     "metadata": {},
     "output_type": "execute_result"
    }
   ],
   "source": [
    "df_c"
   ]
  },
  {
   "cell_type": "code",
   "execution_count": 289,
   "id": "9cbdd6a6",
   "metadata": {},
   "outputs": [],
   "source": [
    "df_c.cluster=np.where(df_c.cluster==2, \"medias\", np.where(df_c.cluster==1, \"rápidas\", \"lentas\"))"
   ]
  },
  {
   "cell_type": "code",
   "execution_count": 290,
   "id": "9d3c6e43",
   "metadata": {},
   "outputs": [
    {
     "data": {
      "text/plain": [
       "2    151\n",
       "0     77\n",
       "1     67\n",
       "Name: cluster, dtype: int64"
      ]
     },
     "execution_count": 290,
     "metadata": {},
     "output_type": "execute_result"
    }
   ],
   "source": [
    "df.cluster.value_counts()"
   ]
  },
  {
   "cell_type": "code",
   "execution_count": 291,
   "id": "4c73241c",
   "metadata": {},
   "outputs": [],
   "source": [
    "df.cluster=np.where(df.cluster==2, \"medias\", np.where(df.cluster==1, \"rápidas\", \"lentas\"))"
   ]
  },
  {
   "cell_type": "code",
   "execution_count": 292,
   "id": "0387132d",
   "metadata": {
    "scrolled": true
   },
   "outputs": [
    {
     "data": {
      "text/html": [
       "<div>\n",
       "<style scoped>\n",
       "    .dataframe tbody tr th:only-of-type {\n",
       "        vertical-align: middle;\n",
       "    }\n",
       "\n",
       "    .dataframe tbody tr th {\n",
       "        vertical-align: top;\n",
       "    }\n",
       "\n",
       "    .dataframe thead th {\n",
       "        text-align: right;\n",
       "    }\n",
       "</style>\n",
       "<table border=\"1\" class=\"dataframe\">\n",
       "  <thead>\n",
       "    <tr style=\"text-align: right;\">\n",
       "      <th></th>\n",
       "      <th>track_id</th>\n",
       "      <th>artist</th>\n",
       "      <th>track</th>\n",
       "      <th>album</th>\n",
       "      <th>duration</th>\n",
       "      <th>tempo</th>\n",
       "      <th>energy</th>\n",
       "      <th>danceability</th>\n",
       "      <th>valence</th>\n",
       "      <th>key</th>\n",
       "      <th>time_signature</th>\n",
       "      <th>acousticness</th>\n",
       "      <th>instrumentalness</th>\n",
       "      <th>mode</th>\n",
       "      <th>styles</th>\n",
       "      <th>cluster</th>\n",
       "    </tr>\n",
       "  </thead>\n",
       "  <tbody>\n",
       "    <tr>\n",
       "      <th>0</th>\n",
       "      <td>2t7OLqJA5oD5I5QZRwMPAR</td>\n",
       "      <td>Healion</td>\n",
       "      <td>About Breathing</td>\n",
       "      <td>In Light, It Undoes Nothing...</td>\n",
       "      <td>7.20</td>\n",
       "      <td>160</td>\n",
       "      <td>0.676</td>\n",
       "      <td>0.618</td>\n",
       "      <td>0.146</td>\n",
       "      <td>F#</td>\n",
       "      <td>4</td>\n",
       "      <td>0.0609</td>\n",
       "      <td>0.735</td>\n",
       "      <td>0</td>\n",
       "      <td>['Drum n Bass', 'IDM', 'Leftfield']</td>\n",
       "      <td>rápidas</td>\n",
       "    </tr>\n",
       "    <tr>\n",
       "      <th>1</th>\n",
       "      <td>1adXPHPWJrsa90kHuJZNrV</td>\n",
       "      <td>Healion</td>\n",
       "      <td>About Breathing - Remix</td>\n",
       "      <td>In Light, It Undoes Nothing...</td>\n",
       "      <td>6.14</td>\n",
       "      <td>160</td>\n",
       "      <td>0.913</td>\n",
       "      <td>0.724</td>\n",
       "      <td>0.948</td>\n",
       "      <td>D#</td>\n",
       "      <td>4</td>\n",
       "      <td>0.0269</td>\n",
       "      <td>0.821</td>\n",
       "      <td>0</td>\n",
       "      <td>['Drum n Bass', 'IDM', 'Leftfield']</td>\n",
       "      <td>medias</td>\n",
       "    </tr>\n",
       "    <tr>\n",
       "      <th>2</th>\n",
       "      <td>5sBXirjKrYh57rEGOiUBtP</td>\n",
       "      <td>Healion</td>\n",
       "      <td>Vetiver</td>\n",
       "      <td>In Light, It Undoes Nothing...</td>\n",
       "      <td>4.62</td>\n",
       "      <td>128</td>\n",
       "      <td>0.594</td>\n",
       "      <td>0.644</td>\n",
       "      <td>0.585</td>\n",
       "      <td>G#</td>\n",
       "      <td>4</td>\n",
       "      <td>0.4800</td>\n",
       "      <td>0.889</td>\n",
       "      <td>0</td>\n",
       "      <td>['Drum n Bass', 'IDM', 'Leftfield']</td>\n",
       "      <td>rápidas</td>\n",
       "    </tr>\n",
       "    <tr>\n",
       "      <th>3</th>\n",
       "      <td>6EnNR8NnMTznFVowHfWPk8</td>\n",
       "      <td>Healion</td>\n",
       "      <td>I'll See It When I Believe It</td>\n",
       "      <td>In Light, It Undoes Nothing...</td>\n",
       "      <td>4.38</td>\n",
       "      <td>113</td>\n",
       "      <td>0.523</td>\n",
       "      <td>0.220</td>\n",
       "      <td>0.287</td>\n",
       "      <td>A</td>\n",
       "      <td>4</td>\n",
       "      <td>0.4830</td>\n",
       "      <td>0.773</td>\n",
       "      <td>0</td>\n",
       "      <td>['Drum n Bass', 'IDM', 'Leftfield']</td>\n",
       "      <td>medias</td>\n",
       "    </tr>\n",
       "    <tr>\n",
       "      <th>4</th>\n",
       "      <td>33wGiihh5zKVLAb3J3DvBk</td>\n",
       "      <td>Healion</td>\n",
       "      <td>Gathering</td>\n",
       "      <td>In Light, It Undoes Nothing...</td>\n",
       "      <td>4.05</td>\n",
       "      <td>150</td>\n",
       "      <td>0.882</td>\n",
       "      <td>0.578</td>\n",
       "      <td>0.821</td>\n",
       "      <td>F#</td>\n",
       "      <td>4</td>\n",
       "      <td>0.4960</td>\n",
       "      <td>0.877</td>\n",
       "      <td>1</td>\n",
       "      <td>['Drum n Bass', 'IDM', 'Leftfield']</td>\n",
       "      <td>medias</td>\n",
       "    </tr>\n",
       "  </tbody>\n",
       "</table>\n",
       "</div>"
      ],
      "text/plain": [
       "                 track_id   artist                          track  \\\n",
       "0  2t7OLqJA5oD5I5QZRwMPAR  Healion                About Breathing   \n",
       "1  1adXPHPWJrsa90kHuJZNrV  Healion        About Breathing - Remix   \n",
       "2  5sBXirjKrYh57rEGOiUBtP  Healion                        Vetiver   \n",
       "3  6EnNR8NnMTznFVowHfWPk8  Healion  I'll See It When I Believe It   \n",
       "4  33wGiihh5zKVLAb3J3DvBk  Healion                      Gathering   \n",
       "\n",
       "                            album  duration  tempo  energy  danceability  \\\n",
       "0  In Light, It Undoes Nothing...      7.20    160   0.676         0.618   \n",
       "1  In Light, It Undoes Nothing...      6.14    160   0.913         0.724   \n",
       "2  In Light, It Undoes Nothing...      4.62    128   0.594         0.644   \n",
       "3  In Light, It Undoes Nothing...      4.38    113   0.523         0.220   \n",
       "4  In Light, It Undoes Nothing...      4.05    150   0.882         0.578   \n",
       "\n",
       "   valence key  time_signature  acousticness  instrumentalness  mode  \\\n",
       "0    0.146  F#               4        0.0609             0.735     0   \n",
       "1    0.948  D#               4        0.0269             0.821     0   \n",
       "2    0.585  G#               4        0.4800             0.889     0   \n",
       "3    0.287   A               4        0.4830             0.773     0   \n",
       "4    0.821  F#               4        0.4960             0.877     1   \n",
       "\n",
       "                                styles  cluster  \n",
       "0  ['Drum n Bass', 'IDM', 'Leftfield']  rápidas  \n",
       "1  ['Drum n Bass', 'IDM', 'Leftfield']   medias  \n",
       "2  ['Drum n Bass', 'IDM', 'Leftfield']  rápidas  \n",
       "3  ['Drum n Bass', 'IDM', 'Leftfield']   medias  \n",
       "4  ['Drum n Bass', 'IDM', 'Leftfield']   medias  "
      ]
     },
     "execution_count": 292,
     "metadata": {},
     "output_type": "execute_result"
    }
   ],
   "source": [
    "df.head()"
   ]
  },
  {
   "cell_type": "code",
   "execution_count": 293,
   "id": "aa879b0a",
   "metadata": {},
   "outputs": [],
   "source": [
    "df.to_csv(\"/Users/santiago/ih-bootcamp/proyectos/sherpa/out/df_clusterizada.csv\")"
   ]
  },
  {
   "cell_type": "markdown",
   "id": "c4900291",
   "metadata": {},
   "source": [
    "## Plotly"
   ]
  },
  {
   "cell_type": "code",
   "execution_count": 226,
   "id": "c399402a",
   "metadata": {},
   "outputs": [
    {
     "data": {
      "text/plain": [
       "Index(['track_id', 'artist', 'track', 'album', 'duration', 'tempo', 'energy',\n",
       "       'danceability', 'valence', 'key', 'time_signature', 'acousticness',\n",
       "       'instrumentalness', 'mode', 'styles', 'cluster'],\n",
       "      dtype='object')"
      ]
     },
     "execution_count": 226,
     "metadata": {},
     "output_type": "execute_result"
    }
   ],
   "source": [
    "df.columns"
   ]
  },
  {
   "cell_type": "code",
   "execution_count": 227,
   "id": "31fea586",
   "metadata": {},
   "outputs": [],
   "source": [
    "df_modelo=df_modelo.set_index(df['track'])"
   ]
  },
  {
   "cell_type": "code",
   "execution_count": 229,
   "id": "59b50431",
   "metadata": {},
   "outputs": [],
   "source": [
    "df_modelo = df_modelo.set_index('track')"
   ]
  },
  {
   "cell_type": "code",
   "execution_count": 57,
   "id": "c9dc3441",
   "metadata": {
    "scrolled": true
   },
   "outputs": [
    {
     "data": {
      "application/vnd.plotly.v1+json": {
       "config": {
        "plotlyServerURL": "https://plot.ly"
       },
       "data": [
        {
         "hoverinfo": "text",
         "marker": {
          "color": "rgb(61,153,112)"
         },
         "mode": "lines",
         "type": "scatter",
         "x": [
          5,
          5,
          15,
          15
         ],
         "xaxis": "x",
         "y": [
          0,
          0.07584917910927724,
          0.07584917910927724,
          0
         ],
         "yaxis": "y"
        },
        {
         "hoverinfo": "text",
         "marker": {
          "color": "rgb(61,153,112)"
         },
         "mode": "lines",
         "type": "scatter",
         "x": [
          35,
          35,
          45,
          45
         ],
         "xaxis": "x",
         "y": [
          0,
          0.02759139166370381,
          0.02759139166370381,
          0
         ],
         "yaxis": "y"
        },
        {
         "hoverinfo": "text",
         "marker": {
          "color": "rgb(61,153,112)"
         },
         "mode": "lines",
         "type": "scatter",
         "x": [
          25,
          25,
          40,
          40
         ],
         "xaxis": "x",
         "y": [
          0,
          0.06261241793471442,
          0.06261241793471442,
          0.02759139166370381
         ],
         "yaxis": "y"
        },
        {
         "hoverinfo": "text",
         "marker": {
          "color": "rgb(61,153,112)"
         },
         "mode": "lines",
         "type": "scatter",
         "x": [
          55,
          55,
          65,
          65
         ],
         "xaxis": "x",
         "y": [
          0,
          0.056092441504537,
          0.056092441504537,
          0
         ],
         "yaxis": "y"
        },
        {
         "hoverinfo": "text",
         "marker": {
          "color": "rgb(61,153,112)"
         },
         "mode": "lines",
         "type": "scatter",
         "x": [
          75,
          75,
          85,
          85
         ],
         "xaxis": "x",
         "y": [
          0,
          0.033386703849585156,
          0.033386703849585156,
          0
         ],
         "yaxis": "y"
        },
        {
         "hoverinfo": "text",
         "marker": {
          "color": "rgb(61,153,112)"
         },
         "mode": "lines",
         "type": "scatter",
         "x": [
          105,
          105,
          115,
          115
         ],
         "xaxis": "x",
         "y": [
          0,
          0.035338122471796136,
          0.035338122471796136,
          0
         ],
         "yaxis": "y"
        },
        {
         "hoverinfo": "text",
         "marker": {
          "color": "rgb(61,153,112)"
         },
         "mode": "lines",
         "type": "scatter",
         "x": [
          95,
          95,
          110,
          110
         ],
         "xaxis": "x",
         "y": [
          0,
          0.048703268773527875,
          0.048703268773527875,
          0.035338122471796136
         ],
         "yaxis": "y"
        },
        {
         "hoverinfo": "text",
         "marker": {
          "color": "rgb(61,153,112)"
         },
         "mode": "lines",
         "type": "scatter",
         "x": [
          80,
          80,
          102.5,
          102.5
         ],
         "xaxis": "x",
         "y": [
          0.033386703849585156,
          0.06397896522882762,
          0.06397896522882762,
          0.048703268773527875
         ],
         "yaxis": "y"
        },
        {
         "hoverinfo": "text",
         "marker": {
          "color": "rgb(61,153,112)"
         },
         "mode": "lines",
         "type": "scatter",
         "x": [
          60,
          60,
          91.25,
          91.25
         ],
         "xaxis": "x",
         "y": [
          0.056092441504537,
          0.10430136368718361,
          0.10430136368718361,
          0.06397896522882762
         ],
         "yaxis": "y"
        },
        {
         "hoverinfo": "text",
         "marker": {
          "color": "rgb(61,153,112)"
         },
         "mode": "lines",
         "type": "scatter",
         "x": [
          32.5,
          32.5,
          75.625,
          75.625
         ],
         "xaxis": "x",
         "y": [
          0.06261241793471442,
          0.1329683417012862,
          0.1329683417012862,
          0.10430136368718361
         ],
         "yaxis": "y"
        },
        {
         "hoverinfo": "text",
         "marker": {
          "color": "rgb(61,153,112)"
         },
         "mode": "lines",
         "type": "scatter",
         "x": [
          10,
          10,
          54.0625,
          54.0625
         ],
         "xaxis": "x",
         "y": [
          0.07584917910927724,
          0.18538791160576795,
          0.18538791160576795,
          0.1329683417012862
         ],
         "yaxis": "y"
        },
        {
         "hoverinfo": "text",
         "marker": {
          "color": "rgb(61,153,112)"
         },
         "mode": "lines",
         "type": "scatter",
         "x": [
          135,
          135,
          145,
          145
         ],
         "xaxis": "x",
         "y": [
          0,
          0.06737270945740077,
          0.06737270945740077,
          0
         ],
         "yaxis": "y"
        },
        {
         "hoverinfo": "text",
         "marker": {
          "color": "rgb(61,153,112)"
         },
         "mode": "lines",
         "type": "scatter",
         "x": [
          125,
          125,
          140,
          140
         ],
         "xaxis": "x",
         "y": [
          0,
          0.12015193704539104,
          0.12015193704539104,
          0.06737270945740077
         ],
         "yaxis": "y"
        },
        {
         "hoverinfo": "text",
         "marker": {
          "color": "rgb(61,153,112)"
         },
         "mode": "lines",
         "type": "scatter",
         "x": [
          175,
          175,
          185,
          185
         ],
         "xaxis": "x",
         "y": [
          0,
          0.017622088369003697,
          0.017622088369003697,
          0
         ],
         "yaxis": "y"
        },
        {
         "hoverinfo": "text",
         "marker": {
          "color": "rgb(61,153,112)"
         },
         "mode": "lines",
         "type": "scatter",
         "x": [
          165,
          165,
          180,
          180
         ],
         "xaxis": "x",
         "y": [
          0,
          0.04756290667896081,
          0.04756290667896081,
          0.017622088369003697
         ],
         "yaxis": "y"
        },
        {
         "hoverinfo": "text",
         "marker": {
          "color": "rgb(61,153,112)"
         },
         "mode": "lines",
         "type": "scatter",
         "x": [
          155,
          155,
          172.5,
          172.5
         ],
         "xaxis": "x",
         "y": [
          0,
          0.06618369889807964,
          0.06618369889807964,
          0.04756290667896081
         ],
         "yaxis": "y"
        },
        {
         "hoverinfo": "text",
         "marker": {
          "color": "rgb(61,153,112)"
         },
         "mode": "lines",
         "type": "scatter",
         "x": [
          195,
          195,
          205,
          205
         ],
         "xaxis": "x",
         "y": [
          0,
          0.012237646832622668,
          0.012237646832622668,
          0
         ],
         "yaxis": "y"
        },
        {
         "hoverinfo": "text",
         "marker": {
          "color": "rgb(61,153,112)"
         },
         "mode": "lines",
         "type": "scatter",
         "x": [
          225,
          225,
          235,
          235
         ],
         "xaxis": "x",
         "y": [
          0,
          0.01826871912546075,
          0.01826871912546075,
          0
         ],
         "yaxis": "y"
        },
        {
         "hoverinfo": "text",
         "marker": {
          "color": "rgb(61,153,112)"
         },
         "mode": "lines",
         "type": "scatter",
         "x": [
          215,
          215,
          230,
          230
         ],
         "xaxis": "x",
         "y": [
          0,
          0.02991471202922735,
          0.02991471202922735,
          0.01826871912546075
         ],
         "yaxis": "y"
        },
        {
         "hoverinfo": "text",
         "marker": {
          "color": "rgb(61,153,112)"
         },
         "mode": "lines",
         "type": "scatter",
         "x": [
          200,
          200,
          222.5,
          222.5
         ],
         "xaxis": "x",
         "y": [
          0.012237646832622668,
          0.0480891057911415,
          0.0480891057911415,
          0.02991471202922735
         ],
         "yaxis": "y"
        },
        {
         "hoverinfo": "text",
         "marker": {
          "color": "rgb(61,153,112)"
         },
         "mode": "lines",
         "type": "scatter",
         "x": [
          255,
          255,
          265,
          265
         ],
         "xaxis": "x",
         "y": [
          0,
          0.023426523426058415,
          0.023426523426058415,
          0
         ],
         "yaxis": "y"
        },
        {
         "hoverinfo": "text",
         "marker": {
          "color": "rgb(61,153,112)"
         },
         "mode": "lines",
         "type": "scatter",
         "x": [
          245,
          245,
          260,
          260
         ],
         "xaxis": "x",
         "y": [
          0,
          0.06205068876136362,
          0.06205068876136362,
          0.023426523426058415
         ],
         "yaxis": "y"
        },
        {
         "hoverinfo": "text",
         "marker": {
          "color": "rgb(61,153,112)"
         },
         "mode": "lines",
         "type": "scatter",
         "x": [
          211.25,
          211.25,
          252.5,
          252.5
         ],
         "xaxis": "x",
         "y": [
          0.0480891057911415,
          0.0875592376469018,
          0.0875592376469018,
          0.06205068876136362
         ],
         "yaxis": "y"
        },
        {
         "hoverinfo": "text",
         "marker": {
          "color": "rgb(61,153,112)"
         },
         "mode": "lines",
         "type": "scatter",
         "x": [
          163.75,
          163.75,
          231.875,
          231.875
         ],
         "xaxis": "x",
         "y": [
          0.06618369889807964,
          0.12350162746443784,
          0.12350162746443784,
          0.0875592376469018
         ],
         "yaxis": "y"
        },
        {
         "hoverinfo": "text",
         "marker": {
          "color": "rgb(61,153,112)"
         },
         "mode": "lines",
         "type": "scatter",
         "x": [
          132.5,
          132.5,
          197.8125,
          197.8125
         ],
         "xaxis": "x",
         "y": [
          0.12015193704539104,
          0.1946928298005851,
          0.1946928298005851,
          0.12350162746443784
         ],
         "yaxis": "y"
        },
        {
         "hoverinfo": "text",
         "marker": {
          "color": "rgb(61,153,112)"
         },
         "mode": "lines",
         "type": "scatter",
         "x": [
          32.03125,
          32.03125,
          165.15625,
          165.15625
         ],
         "xaxis": "x",
         "y": [
          0.18538791160576795,
          0.3043752091602582,
          0.3043752091602582,
          0.1946928298005851
         ],
         "yaxis": "y"
        },
        {
         "hoverinfo": "text",
         "marker": {
          "color": "rgb(61,153,112)"
         },
         "mode": "lines",
         "type": "scatter",
         "x": [
          275,
          275,
          285,
          285
         ],
         "xaxis": "x",
         "y": [
          0,
          0.12139707531398773,
          0.12139707531398773,
          0
         ],
         "yaxis": "y"
        },
        {
         "hoverinfo": "text",
         "marker": {
          "color": "rgb(61,153,112)"
         },
         "mode": "lines",
         "type": "scatter",
         "x": [
          295,
          295,
          305,
          305
         ],
         "xaxis": "x",
         "y": [
          0,
          0.031411335490657236,
          0.031411335490657236,
          0
         ],
         "yaxis": "y"
        },
        {
         "hoverinfo": "text",
         "marker": {
          "color": "rgb(61,153,112)"
         },
         "mode": "lines",
         "type": "scatter",
         "x": [
          315,
          315,
          325,
          325
         ],
         "xaxis": "x",
         "y": [
          0,
          0.03820586328335608,
          0.03820586328335608,
          0
         ],
         "yaxis": "y"
        },
        {
         "hoverinfo": "text",
         "marker": {
          "color": "rgb(61,153,112)"
         },
         "mode": "lines",
         "type": "scatter",
         "x": [
          300,
          300,
          320,
          320
         ],
         "xaxis": "x",
         "y": [
          0.031411335490657236,
          0.07536164806109918,
          0.07536164806109918,
          0.03820586328335608
         ],
         "yaxis": "y"
        },
        {
         "hoverinfo": "text",
         "marker": {
          "color": "rgb(61,153,112)"
         },
         "mode": "lines",
         "type": "scatter",
         "x": [
          345,
          345,
          355,
          355
         ],
         "xaxis": "x",
         "y": [
          0,
          0.025000000000000022,
          0.025000000000000022,
          0
         ],
         "yaxis": "y"
        },
        {
         "hoverinfo": "text",
         "marker": {
          "color": "rgb(61,153,112)"
         },
         "mode": "lines",
         "type": "scatter",
         "x": [
          335,
          335,
          350,
          350
         ],
         "xaxis": "x",
         "y": [
          0,
          0.053987702278450685,
          0.053987702278450685,
          0.025000000000000022
         ],
         "yaxis": "y"
        },
        {
         "hoverinfo": "text",
         "marker": {
          "color": "rgb(61,153,112)"
         },
         "mode": "lines",
         "type": "scatter",
         "x": [
          365,
          365,
          375,
          375
         ],
         "xaxis": "x",
         "y": [
          0,
          0.05840095887317801,
          0.05840095887317801,
          0
         ],
         "yaxis": "y"
        },
        {
         "hoverinfo": "text",
         "marker": {
          "color": "rgb(61,153,112)"
         },
         "mode": "lines",
         "type": "scatter",
         "x": [
          342.5,
          342.5,
          370,
          370
         ],
         "xaxis": "x",
         "y": [
          0.053987702278450685,
          0.11328371455406293,
          0.11328371455406293,
          0.05840095887317801
         ],
         "yaxis": "y"
        },
        {
         "hoverinfo": "text",
         "marker": {
          "color": "rgb(61,153,112)"
         },
         "mode": "lines",
         "type": "scatter",
         "x": [
          310,
          310,
          356.25,
          356.25
         ],
         "xaxis": "x",
         "y": [
          0.07536164806109918,
          0.12395886387292199,
          0.12395886387292199,
          0.11328371455406293
         ],
         "yaxis": "y"
        },
        {
         "hoverinfo": "text",
         "marker": {
          "color": "rgb(61,153,112)"
         },
         "mode": "lines",
         "type": "scatter",
         "x": [
          280,
          280,
          333.125,
          333.125
         ],
         "xaxis": "x",
         "y": [
          0.12139707531398773,
          0.2018066596225818,
          0.2018066596225818,
          0.12395886387292199
         ],
         "yaxis": "y"
        },
        {
         "hoverinfo": "text",
         "marker": {
          "color": "rgb(61,153,112)"
         },
         "mode": "lines",
         "type": "scatter",
         "x": [
          395,
          395,
          405,
          405
         ],
         "xaxis": "x",
         "y": [
          0,
          0.022069028067218173,
          0.022069028067218173,
          0
         ],
         "yaxis": "y"
        },
        {
         "hoverinfo": "text",
         "marker": {
          "color": "rgb(61,153,112)"
         },
         "mode": "lines",
         "type": "scatter",
         "x": [
          385,
          385,
          400,
          400
         ],
         "xaxis": "x",
         "y": [
          0,
          0.044168336920975215,
          0.044168336920975215,
          0.022069028067218173
         ],
         "yaxis": "y"
        },
        {
         "hoverinfo": "text",
         "marker": {
          "color": "rgb(61,153,112)"
         },
         "mode": "lines",
         "type": "scatter",
         "x": [
          425,
          425,
          435,
          435
         ],
         "xaxis": "x",
         "y": [
          0,
          0.02581429833415922,
          0.02581429833415922,
          0
         ],
         "yaxis": "y"
        },
        {
         "hoverinfo": "text",
         "marker": {
          "color": "rgb(61,153,112)"
         },
         "mode": "lines",
         "type": "scatter",
         "x": [
          415,
          415,
          430,
          430
         ],
         "xaxis": "x",
         "y": [
          0,
          0.07005740491315962,
          0.07005740491315962,
          0.02581429833415922
         ],
         "yaxis": "y"
        },
        {
         "hoverinfo": "text",
         "marker": {
          "color": "rgb(61,153,112)"
         },
         "mode": "lines",
         "type": "scatter",
         "x": [
          455,
          455,
          465,
          465
         ],
         "xaxis": "x",
         "y": [
          0,
          0.012289914557541257,
          0.012289914557541257,
          0
         ],
         "yaxis": "y"
        },
        {
         "hoverinfo": "text",
         "marker": {
          "color": "rgb(61,153,112)"
         },
         "mode": "lines",
         "type": "scatter",
         "x": [
          445,
          445,
          460,
          460
         ],
         "xaxis": "x",
         "y": [
          0,
          0.07528699754825972,
          0.07528699754825972,
          0.012289914557541257
         ],
         "yaxis": "y"
        },
        {
         "hoverinfo": "text",
         "marker": {
          "color": "rgb(61,153,112)"
         },
         "mode": "lines",
         "type": "scatter",
         "x": [
          422.5,
          422.5,
          452.5,
          452.5
         ],
         "xaxis": "x",
         "y": [
          0.07005740491315962,
          0.11591560702231125,
          0.11591560702231125,
          0.07528699754825972
         ],
         "yaxis": "y"
        },
        {
         "hoverinfo": "text",
         "marker": {
          "color": "rgb(61,153,112)"
         },
         "mode": "lines",
         "type": "scatter",
         "x": [
          392.5,
          392.5,
          437.5,
          437.5
         ],
         "xaxis": "x",
         "y": [
          0.044168336920975215,
          0.16651296606578292,
          0.16651296606578292,
          0.11591560702231125
         ],
         "yaxis": "y"
        },
        {
         "hoverinfo": "text",
         "marker": {
          "color": "rgb(61,153,112)"
         },
         "mode": "lines",
         "type": "scatter",
         "x": [
          495,
          495,
          505,
          505
         ],
         "xaxis": "x",
         "y": [
          0,
          0.028795277378880307,
          0.028795277378880307,
          0
         ],
         "yaxis": "y"
        },
        {
         "hoverinfo": "text",
         "marker": {
          "color": "rgb(61,153,112)"
         },
         "mode": "lines",
         "type": "scatter",
         "x": [
          485,
          485,
          500,
          500
         ],
         "xaxis": "x",
         "y": [
          0,
          0.050749502400909356,
          0.050749502400909356,
          0.028795277378880307
         ],
         "yaxis": "y"
        },
        {
         "hoverinfo": "text",
         "marker": {
          "color": "rgb(61,153,112)"
         },
         "mode": "lines",
         "type": "scatter",
         "x": [
          475,
          475,
          492.5,
          492.5
         ],
         "xaxis": "x",
         "y": [
          0,
          0.07941064157776086,
          0.07941064157776086,
          0.050749502400909356
         ],
         "yaxis": "y"
        },
        {
         "hoverinfo": "text",
         "marker": {
          "color": "rgb(61,153,112)"
         },
         "mode": "lines",
         "type": "scatter",
         "x": [
          515,
          515,
          525,
          525
         ],
         "xaxis": "x",
         "y": [
          0,
          0.04554534003040238,
          0.04554534003040238,
          0
         ],
         "yaxis": "y"
        },
        {
         "hoverinfo": "text",
         "marker": {
          "color": "rgb(61,153,112)"
         },
         "mode": "lines",
         "type": "scatter",
         "x": [
          535,
          535,
          545,
          545
         ],
         "xaxis": "x",
         "y": [
          0,
          0.04836279561811952,
          0.04836279561811952,
          0
         ],
         "yaxis": "y"
        },
        {
         "hoverinfo": "text",
         "marker": {
          "color": "rgb(61,153,112)"
         },
         "mode": "lines",
         "type": "scatter",
         "x": [
          520,
          520,
          540,
          540
         ],
         "xaxis": "x",
         "y": [
          0.04554534003040238,
          0.12572910552358038,
          0.12572910552358038,
          0.04836279561811952
         ],
         "yaxis": "y"
        },
        {
         "hoverinfo": "text",
         "marker": {
          "color": "rgb(61,153,112)"
         },
         "mode": "lines",
         "type": "scatter",
         "x": [
          483.75,
          483.75,
          530,
          530
         ],
         "xaxis": "x",
         "y": [
          0.07941064157776086,
          0.195393531104043,
          0.195393531104043,
          0.12572910552358038
         ],
         "yaxis": "y"
        },
        {
         "hoverinfo": "text",
         "marker": {
          "color": "rgb(61,153,112)"
         },
         "mode": "lines",
         "type": "scatter",
         "x": [
          415,
          415,
          506.875,
          506.875
         ],
         "xaxis": "x",
         "y": [
          0.16651296606578292,
          0.2359085795619783,
          0.2359085795619783,
          0.195393531104043
         ],
         "yaxis": "y"
        },
        {
         "hoverinfo": "text",
         "marker": {
          "color": "rgb(61,153,112)"
         },
         "mode": "lines",
         "type": "scatter",
         "x": [
          306.5625,
          306.5625,
          460.9375,
          460.9375
         ],
         "xaxis": "x",
         "y": [
          0.2018066596225818,
          0.3805355303973467,
          0.3805355303973467,
          0.2359085795619783
         ],
         "yaxis": "y"
        },
        {
         "hoverinfo": "text",
         "marker": {
          "color": "rgb(61,153,112)"
         },
         "mode": "lines",
         "type": "scatter",
         "x": [
          98.59375,
          98.59375,
          383.75,
          383.75
         ],
         "xaxis": "x",
         "y": [
          0.3043752091602582,
          0.41892494301161287,
          0.41892494301161287,
          0.3805355303973467
         ],
         "yaxis": "y"
        },
        {
         "hoverinfo": "text",
         "marker": {
          "color": "rgb(61,153,112)"
         },
         "mode": "lines",
         "type": "scatter",
         "x": [
          575,
          575,
          585,
          585
         ],
         "xaxis": "x",
         "y": [
          0,
          0.0001817,
          0.0001817,
          0
         ],
         "yaxis": "y"
        },
        {
         "hoverinfo": "text",
         "marker": {
          "color": "rgb(61,153,112)"
         },
         "mode": "lines",
         "type": "scatter",
         "x": [
          565,
          565,
          580,
          580
         ],
         "xaxis": "x",
         "y": [
          0,
          0.0263417,
          0.0263417,
          0.0001817
         ],
         "yaxis": "y"
        },
        {
         "hoverinfo": "text",
         "marker": {
          "color": "rgb(61,153,112)"
         },
         "mode": "lines",
         "type": "scatter",
         "x": [
          555,
          555,
          572.5,
          572.5
         ],
         "xaxis": "x",
         "y": [
          0,
          0.4379417,
          0.4379417,
          0.0263417
         ],
         "yaxis": "y"
        },
        {
         "hoverinfo": "text",
         "marker": {
          "color": "rgb(61,153,112)"
         },
         "mode": "lines",
         "type": "scatter",
         "x": [
          241.171875,
          241.171875,
          563.75,
          563.75
         ],
         "xaxis": "x",
         "y": [
          0.41892494301161287,
          0.6377804389573578,
          0.6377804389573578,
          0.4379417
         ],
         "yaxis": "y"
        },
        {
         "hoverinfo": "text",
         "marker": {
          "color": "rgb(255,65,54)"
         },
         "mode": "lines",
         "type": "scatter",
         "x": [
          615,
          615,
          625,
          625
         ],
         "xaxis": "x",
         "y": [
          0,
          0.021400934559032716,
          0.021400934559032716,
          0
         ],
         "yaxis": "y"
        },
        {
         "hoverinfo": "text",
         "marker": {
          "color": "rgb(255,65,54)"
         },
         "mode": "lines",
         "type": "scatter",
         "x": [
          605,
          605,
          620,
          620
         ],
         "xaxis": "x",
         "y": [
          0,
          0.05119265561803273,
          0.05119265561803273,
          0.021400934559032716
         ],
         "yaxis": "y"
        },
        {
         "hoverinfo": "text",
         "marker": {
          "color": "rgb(255,65,54)"
         },
         "mode": "lines",
         "type": "scatter",
         "x": [
          655,
          655,
          665,
          665
         ],
         "xaxis": "x",
         "y": [
          0,
          0.01758317375580004,
          0.01758317375580004,
          0
         ],
         "yaxis": "y"
        },
        {
         "hoverinfo": "text",
         "marker": {
          "color": "rgb(255,65,54)"
         },
         "mode": "lines",
         "type": "scatter",
         "x": [
          645,
          645,
          660,
          660
         ],
         "xaxis": "x",
         "y": [
          0,
          0.039421440813237674,
          0.039421440813237674,
          0.01758317375580004
         ],
         "yaxis": "y"
        },
        {
         "hoverinfo": "text",
         "marker": {
          "color": "rgb(255,65,54)"
         },
         "mode": "lines",
         "type": "scatter",
         "x": [
          635,
          635,
          652.5,
          652.5
         ],
         "xaxis": "x",
         "y": [
          0,
          0.05398497937838801,
          0.05398497937838801,
          0.039421440813237674
         ],
         "yaxis": "y"
        },
        {
         "hoverinfo": "text",
         "marker": {
          "color": "rgb(255,65,54)"
         },
         "mode": "lines",
         "type": "scatter",
         "x": [
          612.5,
          612.5,
          643.75,
          643.75
         ],
         "xaxis": "x",
         "y": [
          0.05119265561803273,
          0.09896040591686513,
          0.09896040591686513,
          0.05398497937838801
         ],
         "yaxis": "y"
        },
        {
         "hoverinfo": "text",
         "marker": {
          "color": "rgb(255,65,54)"
         },
         "mode": "lines",
         "type": "scatter",
         "x": [
          595,
          595,
          628.125,
          628.125
         ],
         "xaxis": "x",
         "y": [
          0,
          0.1041447932032654,
          0.1041447932032654,
          0.09896040591686513
         ],
         "yaxis": "y"
        },
        {
         "hoverinfo": "text",
         "marker": {
          "color": "rgb(255,65,54)"
         },
         "mode": "lines",
         "type": "scatter",
         "x": [
          675,
          675,
          685,
          685
         ],
         "xaxis": "x",
         "y": [
          0,
          0.04765553478654501,
          0.04765553478654501,
          0
         ],
         "yaxis": "y"
        },
        {
         "hoverinfo": "text",
         "marker": {
          "color": "rgb(255,65,54)"
         },
         "mode": "lines",
         "type": "scatter",
         "x": [
          695,
          695,
          705,
          705
         ],
         "xaxis": "x",
         "y": [
          0,
          0.06125102439328253,
          0.06125102439328253,
          0
         ],
         "yaxis": "y"
        },
        {
         "hoverinfo": "text",
         "marker": {
          "color": "rgb(255,65,54)"
         },
         "mode": "lines",
         "type": "scatter",
         "x": [
          680,
          680,
          700,
          700
         ],
         "xaxis": "x",
         "y": [
          0.04765553478654501,
          0.09267254168936126,
          0.09267254168936126,
          0.06125102439328253
         ],
         "yaxis": "y"
        },
        {
         "hoverinfo": "text",
         "marker": {
          "color": "rgb(255,65,54)"
         },
         "mode": "lines",
         "type": "scatter",
         "x": [
          735,
          735,
          745,
          745
         ],
         "xaxis": "x",
         "y": [
          0,
          0.032336852000567795,
          0.032336852000567795,
          0
         ],
         "yaxis": "y"
        },
        {
         "hoverinfo": "text",
         "marker": {
          "color": "rgb(255,65,54)"
         },
         "mode": "lines",
         "type": "scatter",
         "x": [
          725,
          725,
          740,
          740
         ],
         "xaxis": "x",
         "y": [
          0,
          0.06952969148849278,
          0.06952969148849278,
          0.032336852000567795
         ],
         "yaxis": "y"
        },
        {
         "hoverinfo": "text",
         "marker": {
          "color": "rgb(255,65,54)"
         },
         "mode": "lines",
         "type": "scatter",
         "x": [
          715,
          715,
          732.5,
          732.5
         ],
         "xaxis": "x",
         "y": [
          0,
          0.09491697407211294,
          0.09491697407211294,
          0.06952969148849278
         ],
         "yaxis": "y"
        },
        {
         "hoverinfo": "text",
         "marker": {
          "color": "rgb(255,65,54)"
         },
         "mode": "lines",
         "type": "scatter",
         "x": [
          690,
          690,
          723.75,
          723.75
         ],
         "xaxis": "x",
         "y": [
          0.09267254168936126,
          0.1551002835959729,
          0.1551002835959729,
          0.09491697407211294
         ],
         "yaxis": "y"
        },
        {
         "hoverinfo": "text",
         "marker": {
          "color": "rgb(255,65,54)"
         },
         "mode": "lines",
         "type": "scatter",
         "x": [
          611.5625,
          611.5625,
          706.875,
          706.875
         ],
         "xaxis": "x",
         "y": [
          0.1041447932032654,
          0.2109724579144989,
          0.2109724579144989,
          0.1551002835959729
         ],
         "yaxis": "y"
        },
        {
         "hoverinfo": "text",
         "marker": {
          "color": "rgb(255,65,54)"
         },
         "mode": "lines",
         "type": "scatter",
         "x": [
          765,
          765,
          775,
          775
         ],
         "xaxis": "x",
         "y": [
          0,
          0.08901151608523243,
          0.08901151608523243,
          0
         ],
         "yaxis": "y"
        },
        {
         "hoverinfo": "text",
         "marker": {
          "color": "rgb(255,65,54)"
         },
         "mode": "lines",
         "type": "scatter",
         "x": [
          755,
          755,
          770,
          770
         ],
         "xaxis": "x",
         "y": [
          0,
          0.19892006410374613,
          0.19892006410374613,
          0.08901151608523243
         ],
         "yaxis": "y"
        },
        {
         "hoverinfo": "text",
         "marker": {
          "color": "rgb(255,65,54)"
         },
         "mode": "lines",
         "type": "scatter",
         "x": [
          785,
          785,
          795,
          795
         ],
         "xaxis": "x",
         "y": [
          0,
          0.015557699053255405,
          0.015557699053255405,
          0
         ],
         "yaxis": "y"
        },
        {
         "hoverinfo": "text",
         "marker": {
          "color": "rgb(255,65,54)"
         },
         "mode": "lines",
         "type": "scatter",
         "x": [
          805,
          805,
          815,
          815
         ],
         "xaxis": "x",
         "y": [
          0,
          0.026363800860111183,
          0.026363800860111183,
          0
         ],
         "yaxis": "y"
        },
        {
         "hoverinfo": "text",
         "marker": {
          "color": "rgb(255,65,54)"
         },
         "mode": "lines",
         "type": "scatter",
         "x": [
          790,
          790,
          810,
          810
         ],
         "xaxis": "x",
         "y": [
          0.015557699053255405,
          0.05020159343254351,
          0.05020159343254351,
          0.026363800860111183
         ],
         "yaxis": "y"
        },
        {
         "hoverinfo": "text",
         "marker": {
          "color": "rgb(255,65,54)"
         },
         "mode": "lines",
         "type": "scatter",
         "x": [
          825,
          825,
          835,
          835
         ],
         "xaxis": "x",
         "y": [
          0,
          0.0461993289830596,
          0.0461993289830596,
          0
         ],
         "yaxis": "y"
        },
        {
         "hoverinfo": "text",
         "marker": {
          "color": "rgb(255,65,54)"
         },
         "mode": "lines",
         "type": "scatter",
         "x": [
          855,
          855,
          865,
          865
         ],
         "xaxis": "x",
         "y": [
          0,
          0.0354265719458101,
          0.0354265719458101,
          0
         ],
         "yaxis": "y"
        },
        {
         "hoverinfo": "text",
         "marker": {
          "color": "rgb(255,65,54)"
         },
         "mode": "lines",
         "type": "scatter",
         "x": [
          845,
          845,
          860,
          860
         ],
         "xaxis": "x",
         "y": [
          0,
          0.0646814346565264,
          0.0646814346565264,
          0.0354265719458101
         ],
         "yaxis": "y"
        },
        {
         "hoverinfo": "text",
         "marker": {
          "color": "rgb(255,65,54)"
         },
         "mode": "lines",
         "type": "scatter",
         "x": [
          830,
          830,
          852.5,
          852.5
         ],
         "xaxis": "x",
         "y": [
          0.0461993289830596,
          0.08778382538941898,
          0.08778382538941898,
          0.0646814346565264
         ],
         "yaxis": "y"
        },
        {
         "hoverinfo": "text",
         "marker": {
          "color": "rgb(255,65,54)"
         },
         "mode": "lines",
         "type": "scatter",
         "x": [
          800,
          800,
          841.25,
          841.25
         ],
         "xaxis": "x",
         "y": [
          0.05020159343254351,
          0.11046756075713508,
          0.11046756075713508,
          0.08778382538941898
         ],
         "yaxis": "y"
        },
        {
         "hoverinfo": "text",
         "marker": {
          "color": "rgb(255,65,54)"
         },
         "mode": "lines",
         "type": "scatter",
         "x": [
          885,
          885,
          895,
          895
         ],
         "xaxis": "x",
         "y": [
          0,
          0.03552002248460185,
          0.03552002248460185,
          0
         ],
         "yaxis": "y"
        },
        {
         "hoverinfo": "text",
         "marker": {
          "color": "rgb(255,65,54)"
         },
         "mode": "lines",
         "type": "scatter",
         "x": [
          875,
          875,
          890,
          890
         ],
         "xaxis": "x",
         "y": [
          0,
          0.06140032573203501,
          0.06140032573203501,
          0.03552002248460185
         ],
         "yaxis": "y"
        },
        {
         "hoverinfo": "text",
         "marker": {
          "color": "rgb(255,65,54)"
         },
         "mode": "lines",
         "type": "scatter",
         "x": [
          915,
          915,
          925,
          925
         ],
         "xaxis": "x",
         "y": [
          0,
          0.026347068135309824,
          0.026347068135309824,
          0
         ],
         "yaxis": "y"
        },
        {
         "hoverinfo": "text",
         "marker": {
          "color": "rgb(255,65,54)"
         },
         "mode": "lines",
         "type": "scatter",
         "x": [
          905,
          905,
          920,
          920
         ],
         "xaxis": "x",
         "y": [
          0,
          0.06562043888783183,
          0.06562043888783183,
          0.026347068135309824
         ],
         "yaxis": "y"
        },
        {
         "hoverinfo": "text",
         "marker": {
          "color": "rgb(255,65,54)"
         },
         "mode": "lines",
         "type": "scatter",
         "x": [
          882.5,
          882.5,
          912.5,
          912.5
         ],
         "xaxis": "x",
         "y": [
          0.06140032573203501,
          0.12375181612380447,
          0.12375181612380447,
          0.06562043888783183
         ],
         "yaxis": "y"
        },
        {
         "hoverinfo": "text",
         "marker": {
          "color": "rgb(255,65,54)"
         },
         "mode": "lines",
         "type": "scatter",
         "x": [
          820.625,
          820.625,
          897.5,
          897.5
         ],
         "xaxis": "x",
         "y": [
          0.11046756075713508,
          0.17085695177999408,
          0.17085695177999408,
          0.12375181612380447
         ],
         "yaxis": "y"
        },
        {
         "hoverinfo": "text",
         "marker": {
          "color": "rgb(255,65,54)"
         },
         "mode": "lines",
         "type": "scatter",
         "x": [
          935,
          935,
          945,
          945
         ],
         "xaxis": "x",
         "y": [
          0,
          0.02681510760358047,
          0.02681510760358047,
          0
         ],
         "yaxis": "y"
        },
        {
         "hoverinfo": "text",
         "marker": {
          "color": "rgb(255,65,54)"
         },
         "mode": "lines",
         "type": "scatter",
         "x": [
          965,
          965,
          975,
          975
         ],
         "xaxis": "x",
         "y": [
          0,
          0.01483805914958743,
          0.01483805914958743,
          0
         ],
         "yaxis": "y"
        },
        {
         "hoverinfo": "text",
         "marker": {
          "color": "rgb(255,65,54)"
         },
         "mode": "lines",
         "type": "scatter",
         "x": [
          955,
          955,
          970,
          970
         ],
         "xaxis": "x",
         "y": [
          0,
          0.052198543937800504,
          0.052198543937800504,
          0.01483805914958743
         ],
         "yaxis": "y"
        },
        {
         "hoverinfo": "text",
         "marker": {
          "color": "rgb(255,65,54)"
         },
         "mode": "lines",
         "type": "scatter",
         "x": [
          940,
          940,
          962.5,
          962.5
         ],
         "xaxis": "x",
         "y": [
          0.02681510760358047,
          0.08559013960326632,
          0.08559013960326632,
          0.052198543937800504
         ],
         "yaxis": "y"
        },
        {
         "hoverinfo": "text",
         "marker": {
          "color": "rgb(255,65,54)"
         },
         "mode": "lines",
         "type": "scatter",
         "x": [
          995,
          995,
          1005,
          1005
         ],
         "xaxis": "x",
         "y": [
          0,
          0.05447487488686785,
          0.05447487488686785,
          0
         ],
         "yaxis": "y"
        },
        {
         "hoverinfo": "text",
         "marker": {
          "color": "rgb(255,65,54)"
         },
         "mode": "lines",
         "type": "scatter",
         "x": [
          985,
          985,
          1000,
          1000
         ],
         "xaxis": "x",
         "y": [
          0,
          0.0555161956167713,
          0.0555161956167713,
          0.05447487488686785
         ],
         "yaxis": "y"
        },
        {
         "hoverinfo": "text",
         "marker": {
          "color": "rgb(255,65,54)"
         },
         "mode": "lines",
         "type": "scatter",
         "x": [
          1025,
          1025,
          1035,
          1035
         ],
         "xaxis": "x",
         "y": [
          0,
          0.04184545375344456,
          0.04184545375344456,
          0
         ],
         "yaxis": "y"
        },
        {
         "hoverinfo": "text",
         "marker": {
          "color": "rgb(255,65,54)"
         },
         "mode": "lines",
         "type": "scatter",
         "x": [
          1015,
          1015,
          1030,
          1030
         ],
         "xaxis": "x",
         "y": [
          0,
          0.06072890580275596,
          0.06072890580275596,
          0.04184545375344456
         ],
         "yaxis": "y"
        },
        {
         "hoverinfo": "text",
         "marker": {
          "color": "rgb(255,65,54)"
         },
         "mode": "lines",
         "type": "scatter",
         "x": [
          992.5,
          992.5,
          1022.5,
          1022.5
         ],
         "xaxis": "x",
         "y": [
          0.0555161956167713,
          0.12205601991424532,
          0.12205601991424532,
          0.06072890580275596
         ],
         "yaxis": "y"
        },
        {
         "hoverinfo": "text",
         "marker": {
          "color": "rgb(255,65,54)"
         },
         "mode": "lines",
         "type": "scatter",
         "x": [
          951.25,
          951.25,
          1007.5,
          1007.5
         ],
         "xaxis": "x",
         "y": [
          0.08559013960326632,
          0.18002135425895033,
          0.18002135425895033,
          0.12205601991424532
         ],
         "yaxis": "y"
        },
        {
         "hoverinfo": "text",
         "marker": {
          "color": "rgb(255,65,54)"
         },
         "mode": "lines",
         "type": "scatter",
         "x": [
          859.0625,
          859.0625,
          979.375,
          979.375
         ],
         "xaxis": "x",
         "y": [
          0.17085695177999408,
          0.24169657003566722,
          0.24169657003566722,
          0.18002135425895033
         ],
         "yaxis": "y"
        },
        {
         "hoverinfo": "text",
         "marker": {
          "color": "rgb(255,65,54)"
         },
         "mode": "lines",
         "type": "scatter",
         "x": [
          762.5,
          762.5,
          919.21875,
          919.21875
         ],
         "xaxis": "x",
         "y": [
          0.19892006410374613,
          0.31932352245636375,
          0.31932352245636375,
          0.24169657003566722
         ],
         "yaxis": "y"
        },
        {
         "hoverinfo": "text",
         "marker": {
          "color": "rgb(255,65,54)"
         },
         "mode": "lines",
         "type": "scatter",
         "x": [
          659.21875,
          659.21875,
          840.859375,
          840.859375
         ],
         "xaxis": "x",
         "y": [
          0.2109724579144989,
          0.33998900265415033,
          0.33998900265415033,
          0.31932352245636375
         ],
         "yaxis": "y"
        },
        {
         "hoverinfo": "text",
         "marker": {
          "color": "rgb(255,65,54)"
         },
         "mode": "lines",
         "type": "scatter",
         "x": [
          1055,
          1055,
          1065,
          1065
         ],
         "xaxis": "x",
         "y": [
          0,
          0.05701797958356299,
          0.05701797958356299,
          0
         ],
         "yaxis": "y"
        },
        {
         "hoverinfo": "text",
         "marker": {
          "color": "rgb(255,65,54)"
         },
         "mode": "lines",
         "type": "scatter",
         "x": [
          1045,
          1045,
          1060,
          1060
         ],
         "xaxis": "x",
         "y": [
          0,
          0.11582767370448048,
          0.11582767370448048,
          0.05701797958356299
         ],
         "yaxis": "y"
        },
        {
         "hoverinfo": "text",
         "marker": {
          "color": "rgb(255,65,54)"
         },
         "mode": "lines",
         "type": "scatter",
         "x": [
          1095,
          1095,
          1105,
          1105
         ],
         "xaxis": "x",
         "y": [
          0,
          0.0583984417470618,
          0.0583984417470618,
          0
         ],
         "yaxis": "y"
        },
        {
         "hoverinfo": "text",
         "marker": {
          "color": "rgb(255,65,54)"
         },
         "mode": "lines",
         "type": "scatter",
         "x": [
          1085,
          1085,
          1100,
          1100
         ],
         "xaxis": "x",
         "y": [
          0,
          0.09209564563788637,
          0.09209564563788637,
          0.0583984417470618
         ],
         "yaxis": "y"
        },
        {
         "hoverinfo": "text",
         "marker": {
          "color": "rgb(255,65,54)"
         },
         "mode": "lines",
         "type": "scatter",
         "x": [
          1075,
          1075,
          1092.5,
          1092.5
         ],
         "xaxis": "x",
         "y": [
          0,
          0.20293037677164577,
          0.20293037677164577,
          0.09209564563788637
         ],
         "yaxis": "y"
        },
        {
         "hoverinfo": "text",
         "marker": {
          "color": "rgb(255,65,54)"
         },
         "mode": "lines",
         "type": "scatter",
         "x": [
          1052.5,
          1052.5,
          1083.75,
          1083.75
         ],
         "xaxis": "x",
         "y": [
          0.11582767370448048,
          0.2502149315966973,
          0.2502149315966973,
          0.20293037677164577
         ],
         "yaxis": "y"
        },
        {
         "hoverinfo": "text",
         "marker": {
          "color": "rgb(255,65,54)"
         },
         "mode": "lines",
         "type": "scatter",
         "x": [
          1135,
          1135,
          1145,
          1145
         ],
         "xaxis": "x",
         "y": [
          0,
          0.02963744250918048,
          0.02963744250918048,
          0
         ],
         "yaxis": "y"
        },
        {
         "hoverinfo": "text",
         "marker": {
          "color": "rgb(255,65,54)"
         },
         "mode": "lines",
         "type": "scatter",
         "x": [
          1125,
          1125,
          1140,
          1140
         ],
         "xaxis": "x",
         "y": [
          0,
          0.036034871915131154,
          0.036034871915131154,
          0.02963744250918048
         ],
         "yaxis": "y"
        },
        {
         "hoverinfo": "text",
         "marker": {
          "color": "rgb(255,65,54)"
         },
         "mode": "lines",
         "type": "scatter",
         "x": [
          1155,
          1155,
          1165,
          1165
         ],
         "xaxis": "x",
         "y": [
          0,
          0.04451294178511214,
          0.04451294178511214,
          0
         ],
         "yaxis": "y"
        },
        {
         "hoverinfo": "text",
         "marker": {
          "color": "rgb(255,65,54)"
         },
         "mode": "lines",
         "type": "scatter",
         "x": [
          1132.5,
          1132.5,
          1160,
          1160
         ],
         "xaxis": "x",
         "y": [
          0.036034871915131154,
          0.06905112592674753,
          0.06905112592674753,
          0.04451294178511214
         ],
         "yaxis": "y"
        },
        {
         "hoverinfo": "text",
         "marker": {
          "color": "rgb(255,65,54)"
         },
         "mode": "lines",
         "type": "scatter",
         "x": [
          1115,
          1115,
          1146.25,
          1146.25
         ],
         "xaxis": "x",
         "y": [
          0,
          0.12087700316764144,
          0.12087700316764144,
          0.06905112592674753
         ],
         "yaxis": "y"
        },
        {
         "hoverinfo": "text",
         "marker": {
          "color": "rgb(255,65,54)"
         },
         "mode": "lines",
         "type": "scatter",
         "x": [
          1185,
          1185,
          1195,
          1195
         ],
         "xaxis": "x",
         "y": [
          0,
          0.06252333963670417,
          0.06252333963670417,
          0
         ],
         "yaxis": "y"
        },
        {
         "hoverinfo": "text",
         "marker": {
          "color": "rgb(255,65,54)"
         },
         "mode": "lines",
         "type": "scatter",
         "x": [
          1175,
          1175,
          1190,
          1190
         ],
         "xaxis": "x",
         "y": [
          0,
          0.12357612225568307,
          0.12357612225568307,
          0.06252333963670417
         ],
         "yaxis": "y"
        },
        {
         "hoverinfo": "text",
         "marker": {
          "color": "rgb(255,65,54)"
         },
         "mode": "lines",
         "type": "scatter",
         "x": [
          1205,
          1205,
          1215,
          1215
         ],
         "xaxis": "x",
         "y": [
          0,
          0.12449228055797426,
          0.12449228055797426,
          0
         ],
         "yaxis": "y"
        },
        {
         "hoverinfo": "text",
         "marker": {
          "color": "rgb(255,65,54)"
         },
         "mode": "lines",
         "type": "scatter",
         "x": [
          1182.5,
          1182.5,
          1210,
          1210
         ],
         "xaxis": "x",
         "y": [
          0.12357612225568307,
          0.17887928848387558,
          0.17887928848387558,
          0.12449228055797426
         ],
         "yaxis": "y"
        },
        {
         "hoverinfo": "text",
         "marker": {
          "color": "rgb(255,65,54)"
         },
         "mode": "lines",
         "type": "scatter",
         "x": [
          1130.625,
          1130.625,
          1196.25,
          1196.25
         ],
         "xaxis": "x",
         "y": [
          0.12087700316764144,
          0.3011630782992205,
          0.3011630782992205,
          0.17887928848387558
         ],
         "yaxis": "y"
        },
        {
         "hoverinfo": "text",
         "marker": {
          "color": "rgb(255,65,54)"
         },
         "mode": "lines",
         "type": "scatter",
         "x": [
          1068.125,
          1068.125,
          1163.4375,
          1163.4375
         ],
         "xaxis": "x",
         "y": [
          0.2502149315966973,
          0.4615817599856154,
          0.4615817599856154,
          0.3011630782992205
         ],
         "yaxis": "y"
        },
        {
         "hoverinfo": "text",
         "marker": {
          "color": "rgb(255,65,54)"
         },
         "mode": "lines",
         "type": "scatter",
         "x": [
          750.0390625,
          750.0390625,
          1115.78125,
          1115.78125
         ],
         "xaxis": "x",
         "y": [
          0.33998900265415033,
          0.4864518802326049,
          0.4864518802326049,
          0.4615817599856154
         ],
         "yaxis": "y"
        },
        {
         "hoverinfo": "text",
         "marker": {
          "color": "rgb(255,65,54)"
         },
         "mode": "lines",
         "type": "scatter",
         "x": [
          1245,
          1245,
          1255,
          1255
         ],
         "xaxis": "x",
         "y": [
          0,
          0.0746437404557576,
          0.0746437404557576,
          0
         ],
         "yaxis": "y"
        },
        {
         "hoverinfo": "text",
         "marker": {
          "color": "rgb(255,65,54)"
         },
         "mode": "lines",
         "type": "scatter",
         "x": [
          1235,
          1235,
          1250,
          1250
         ],
         "xaxis": "x",
         "y": [
          0,
          0.16230049227833038,
          0.16230049227833038,
          0.0746437404557576
         ],
         "yaxis": "y"
        },
        {
         "hoverinfo": "text",
         "marker": {
          "color": "rgb(255,65,54)"
         },
         "mode": "lines",
         "type": "scatter",
         "x": [
          1225,
          1225,
          1242.5,
          1242.5
         ],
         "xaxis": "x",
         "y": [
          0,
          0.4067173588416978,
          0.4067173588416978,
          0.16230049227833038
         ],
         "yaxis": "y"
        },
        {
         "hoverinfo": "text",
         "marker": {
          "color": "rgb(255,65,54)"
         },
         "mode": "lines",
         "type": "scatter",
         "x": [
          1265,
          1265,
          1275,
          1275
         ],
         "xaxis": "x",
         "y": [
          0,
          0.13883267624712817,
          0.13883267624712817,
          0
         ],
         "yaxis": "y"
        },
        {
         "hoverinfo": "text",
         "marker": {
          "color": "rgb(255,65,54)"
         },
         "mode": "lines",
         "type": "scatter",
         "x": [
          1295,
          1295,
          1305,
          1305
         ],
         "xaxis": "x",
         "y": [
          0,
          0.06644078565523573,
          0.06644078565523573,
          0
         ],
         "yaxis": "y"
        },
        {
         "hoverinfo": "text",
         "marker": {
          "color": "rgb(255,65,54)"
         },
         "mode": "lines",
         "type": "scatter",
         "x": [
          1285,
          1285,
          1300,
          1300
         ],
         "xaxis": "x",
         "y": [
          0,
          0.09483354884409208,
          0.09483354884409208,
          0.06644078565523573
         ],
         "yaxis": "y"
        },
        {
         "hoverinfo": "text",
         "marker": {
          "color": "rgb(255,65,54)"
         },
         "mode": "lines",
         "type": "scatter",
         "x": [
          1315,
          1315,
          1325,
          1325
         ],
         "xaxis": "x",
         "y": [
          0,
          0.0524726404756324,
          0.0524726404756324,
          0
         ],
         "yaxis": "y"
        },
        {
         "hoverinfo": "text",
         "marker": {
          "color": "rgb(255,65,54)"
         },
         "mode": "lines",
         "type": "scatter",
         "x": [
          1355,
          1355,
          1365,
          1365
         ],
         "xaxis": "x",
         "y": [
          0,
          0.03400085280918021,
          0.03400085280918021,
          0
         ],
         "yaxis": "y"
        },
        {
         "hoverinfo": "text",
         "marker": {
          "color": "rgb(255,65,54)"
         },
         "mode": "lines",
         "type": "scatter",
         "x": [
          1345,
          1345,
          1360,
          1360
         ],
         "xaxis": "x",
         "y": [
          0,
          0.0731452798682605,
          0.0731452798682605,
          0.03400085280918021
         ],
         "yaxis": "y"
        },
        {
         "hoverinfo": "text",
         "marker": {
          "color": "rgb(255,65,54)"
         },
         "mode": "lines",
         "type": "scatter",
         "x": [
          1335,
          1335,
          1352.5,
          1352.5
         ],
         "xaxis": "x",
         "y": [
          0,
          0.09878518104422292,
          0.09878518104422292,
          0.0731452798682605
         ],
         "yaxis": "y"
        },
        {
         "hoverinfo": "text",
         "marker": {
          "color": "rgb(255,65,54)"
         },
         "mode": "lines",
         "type": "scatter",
         "x": [
          1320,
          1320,
          1343.75,
          1343.75
         ],
         "xaxis": "x",
         "y": [
          0.0524726404756324,
          0.16333108093633517,
          0.16333108093633517,
          0.09878518104422292
         ],
         "yaxis": "y"
        },
        {
         "hoverinfo": "text",
         "marker": {
          "color": "rgb(255,65,54)"
         },
         "mode": "lines",
         "type": "scatter",
         "x": [
          1292.5,
          1292.5,
          1331.875,
          1331.875
         ],
         "xaxis": "x",
         "y": [
          0.09483354884409208,
          0.1965482122296268,
          0.1965482122296268,
          0.16333108093633517
         ],
         "yaxis": "y"
        },
        {
         "hoverinfo": "text",
         "marker": {
          "color": "rgb(255,65,54)"
         },
         "mode": "lines",
         "type": "scatter",
         "x": [
          1270,
          1270,
          1312.1875,
          1312.1875
         ],
         "xaxis": "x",
         "y": [
          0.13883267624712817,
          0.32297761105739164,
          0.32297761105739164,
          0.1965482122296268
         ],
         "yaxis": "y"
        },
        {
         "hoverinfo": "text",
         "marker": {
          "color": "rgb(255,65,54)"
         },
         "mode": "lines",
         "type": "scatter",
         "x": [
          1385,
          1385,
          1395,
          1395
         ],
         "xaxis": "x",
         "y": [
          0,
          0.08386894538504697,
          0.08386894538504697,
          0
         ],
         "yaxis": "y"
        },
        {
         "hoverinfo": "text",
         "marker": {
          "color": "rgb(255,65,54)"
         },
         "mode": "lines",
         "type": "scatter",
         "x": [
          1375,
          1375,
          1390,
          1390
         ],
         "xaxis": "x",
         "y": [
          0,
          0.15265336549120556,
          0.15265336549120556,
          0.08386894538504697
         ],
         "yaxis": "y"
        },
        {
         "hoverinfo": "text",
         "marker": {
          "color": "rgb(255,65,54)"
         },
         "mode": "lines",
         "type": "scatter",
         "x": [
          1415,
          1415,
          1425,
          1425
         ],
         "xaxis": "x",
         "y": [
          0,
          0.039901979892314234,
          0.039901979892314234,
          0
         ],
         "yaxis": "y"
        },
        {
         "hoverinfo": "text",
         "marker": {
          "color": "rgb(255,65,54)"
         },
         "mode": "lines",
         "type": "scatter",
         "x": [
          1405,
          1405,
          1420,
          1420
         ],
         "xaxis": "x",
         "y": [
          0,
          0.10084345286812017,
          0.10084345286812017,
          0.039901979892314234
         ],
         "yaxis": "y"
        },
        {
         "hoverinfo": "text",
         "marker": {
          "color": "rgb(255,65,54)"
         },
         "mode": "lines",
         "type": "scatter",
         "x": [
          1455,
          1455,
          1465,
          1465
         ],
         "xaxis": "x",
         "y": [
          0,
          0.057402456391966866,
          0.057402456391966866,
          0
         ],
         "yaxis": "y"
        },
        {
         "hoverinfo": "text",
         "marker": {
          "color": "rgb(255,65,54)"
         },
         "mode": "lines",
         "type": "scatter",
         "x": [
          1445,
          1445,
          1460,
          1460
         ],
         "xaxis": "x",
         "y": [
          0,
          0.12356932466629802,
          0.12356932466629802,
          0.057402456391966866
         ],
         "yaxis": "y"
        },
        {
         "hoverinfo": "text",
         "marker": {
          "color": "rgb(255,65,54)"
         },
         "mode": "lines",
         "type": "scatter",
         "x": [
          1435,
          1435,
          1452.5,
          1452.5
         ],
         "xaxis": "x",
         "y": [
          0,
          0.14132417318266485,
          0.14132417318266485,
          0.12356932466629802
         ],
         "yaxis": "y"
        },
        {
         "hoverinfo": "text",
         "marker": {
          "color": "rgb(255,65,54)"
         },
         "mode": "lines",
         "type": "scatter",
         "x": [
          1412.5,
          1412.5,
          1443.75,
          1443.75
         ],
         "xaxis": "x",
         "y": [
          0.10084345286812017,
          0.256945787961879,
          0.256945787961879,
          0.14132417318266485
         ],
         "yaxis": "y"
        },
        {
         "hoverinfo": "text",
         "marker": {
          "color": "rgb(255,65,54)"
         },
         "mode": "lines",
         "type": "scatter",
         "x": [
          1382.5,
          1382.5,
          1428.125,
          1428.125
         ],
         "xaxis": "x",
         "y": [
          0.15265336549120556,
          0.3293154596998243,
          0.3293154596998243,
          0.256945787961879
         ],
         "yaxis": "y"
        },
        {
         "hoverinfo": "text",
         "marker": {
          "color": "rgb(255,65,54)"
         },
         "mode": "lines",
         "type": "scatter",
         "x": [
          1291.09375,
          1291.09375,
          1405.3125,
          1405.3125
         ],
         "xaxis": "x",
         "y": [
          0.32297761105739164,
          0.45376488134806053,
          0.45376488134806053,
          0.3293154596998243
         ],
         "yaxis": "y"
        },
        {
         "hoverinfo": "text",
         "marker": {
          "color": "rgb(255,65,54)"
         },
         "mode": "lines",
         "type": "scatter",
         "x": [
          1233.75,
          1233.75,
          1348.203125,
          1348.203125
         ],
         "xaxis": "x",
         "y": [
          0.4067173588416978,
          0.6255102884440951,
          0.6255102884440951,
          0.45376488134806053
         ],
         "yaxis": "y"
        },
        {
         "hoverinfo": "text",
         "marker": {
          "color": "rgb(255,65,54)"
         },
         "mode": "lines",
         "type": "scatter",
         "x": [
          932.91015625,
          932.91015625,
          1290.9765625,
          1290.9765625
         ],
         "xaxis": "x",
         "y": [
          0.4864518802326049,
          0.8735428875654169,
          0.8735428875654169,
          0.6255102884440951
         ],
         "yaxis": "y"
        },
        {
         "hoverinfo": "text",
         "marker": {
          "color": "rgb(35,205,205)"
         },
         "mode": "lines",
         "type": "scatter",
         "x": [
          1485,
          1485,
          1495,
          1495
         ],
         "xaxis": "x",
         "y": [
          0,
          0.09003750305792571,
          0.09003750305792571,
          0
         ],
         "yaxis": "y"
        },
        {
         "hoverinfo": "text",
         "marker": {
          "color": "rgb(35,205,205)"
         },
         "mode": "lines",
         "type": "scatter",
         "x": [
          1475,
          1475,
          1490,
          1490
         ],
         "xaxis": "x",
         "y": [
          0,
          0.1966686852144004,
          0.1966686852144004,
          0.09003750305792571
         ],
         "yaxis": "y"
        },
        {
         "hoverinfo": "text",
         "marker": {
          "color": "rgb(35,205,205)"
         },
         "mode": "lines",
         "type": "scatter",
         "x": [
          1505,
          1505,
          1515,
          1515
         ],
         "xaxis": "x",
         "y": [
          0,
          0.2843417266725799,
          0.2843417266725799,
          0
         ],
         "yaxis": "y"
        },
        {
         "hoverinfo": "text",
         "marker": {
          "color": "rgb(35,205,205)"
         },
         "mode": "lines",
         "type": "scatter",
         "x": [
          1482.5,
          1482.5,
          1510,
          1510
         ],
         "xaxis": "x",
         "y": [
          0.1966686852144004,
          0.41331860683374383,
          0.41331860683374383,
          0.2843417266725799
         ],
         "yaxis": "y"
        },
        {
         "hoverinfo": "text",
         "marker": {
          "color": "rgb(35,205,205)"
         },
         "mode": "lines",
         "type": "scatter",
         "x": [
          1555,
          1555,
          1565,
          1565
         ],
         "xaxis": "x",
         "y": [
          0,
          0.10527605604200616,
          0.10527605604200616,
          0
         ],
         "yaxis": "y"
        },
        {
         "hoverinfo": "text",
         "marker": {
          "color": "rgb(35,205,205)"
         },
         "mode": "lines",
         "type": "scatter",
         "x": [
          1545,
          1545,
          1560,
          1560
         ],
         "xaxis": "x",
         "y": [
          0,
          0.17317526381474527,
          0.17317526381474527,
          0.10527605604200616
         ],
         "yaxis": "y"
        },
        {
         "hoverinfo": "text",
         "marker": {
          "color": "rgb(35,205,205)"
         },
         "mode": "lines",
         "type": "scatter",
         "x": [
          1535,
          1535,
          1552.5,
          1552.5
         ],
         "xaxis": "x",
         "y": [
          0,
          0.23938394264717636,
          0.23938394264717636,
          0.17317526381474527
         ],
         "yaxis": "y"
        },
        {
         "hoverinfo": "text",
         "marker": {
          "color": "rgb(35,205,205)"
         },
         "mode": "lines",
         "type": "scatter",
         "x": [
          1525,
          1525,
          1543.75,
          1543.75
         ],
         "xaxis": "x",
         "y": [
          0,
          0.28979820492742875,
          0.28979820492742875,
          0.23938394264717636
         ],
         "yaxis": "y"
        },
        {
         "hoverinfo": "text",
         "marker": {
          "color": "rgb(35,205,205)"
         },
         "mode": "lines",
         "type": "scatter",
         "x": [
          1595,
          1595,
          1605,
          1605
         ],
         "xaxis": "x",
         "y": [
          0,
          0.04178576307537773,
          0.04178576307537773,
          0
         ],
         "yaxis": "y"
        },
        {
         "hoverinfo": "text",
         "marker": {
          "color": "rgb(35,205,205)"
         },
         "mode": "lines",
         "type": "scatter",
         "x": [
          1585,
          1585,
          1600,
          1600
         ],
         "xaxis": "x",
         "y": [
          0,
          0.05606703125670122,
          0.05606703125670122,
          0.04178576307537773
         ],
         "yaxis": "y"
        },
        {
         "hoverinfo": "text",
         "marker": {
          "color": "rgb(35,205,205)"
         },
         "mode": "lines",
         "type": "scatter",
         "x": [
          1615,
          1615,
          1625,
          1625
         ],
         "xaxis": "x",
         "y": [
          0,
          0.11778965144003446,
          0.11778965144003446,
          0
         ],
         "yaxis": "y"
        },
        {
         "hoverinfo": "text",
         "marker": {
          "color": "rgb(35,205,205)"
         },
         "mode": "lines",
         "type": "scatter",
         "x": [
          1592.5,
          1592.5,
          1620,
          1620
         ],
         "xaxis": "x",
         "y": [
          0.05606703125670122,
          0.17829624731161228,
          0.17829624731161228,
          0.11778965144003446
         ],
         "yaxis": "y"
        },
        {
         "hoverinfo": "text",
         "marker": {
          "color": "rgb(35,205,205)"
         },
         "mode": "lines",
         "type": "scatter",
         "x": [
          1575,
          1575,
          1606.25,
          1606.25
         ],
         "xaxis": "x",
         "y": [
          0,
          0.2081707424009233,
          0.2081707424009233,
          0.17829624731161228
         ],
         "yaxis": "y"
        },
        {
         "hoverinfo": "text",
         "marker": {
          "color": "rgb(35,205,205)"
         },
         "mode": "lines",
         "type": "scatter",
         "x": [
          1645,
          1645,
          1655,
          1655
         ],
         "xaxis": "x",
         "y": [
          0,
          0.04561438366685034,
          0.04561438366685034,
          0
         ],
         "yaxis": "y"
        },
        {
         "hoverinfo": "text",
         "marker": {
          "color": "rgb(35,205,205)"
         },
         "mode": "lines",
         "type": "scatter",
         "x": [
          1635,
          1635,
          1650,
          1650
         ],
         "xaxis": "x",
         "y": [
          0,
          0.1584497646527927,
          0.1584497646527927,
          0.04561438366685034
         ],
         "yaxis": "y"
        },
        {
         "hoverinfo": "text",
         "marker": {
          "color": "rgb(35,205,205)"
         },
         "mode": "lines",
         "type": "scatter",
         "x": [
          1665,
          1665,
          1675,
          1675
         ],
         "xaxis": "x",
         "y": [
          0,
          0.056117448261005745,
          0.056117448261005745,
          0
         ],
         "yaxis": "y"
        },
        {
         "hoverinfo": "text",
         "marker": {
          "color": "rgb(35,205,205)"
         },
         "mode": "lines",
         "type": "scatter",
         "x": [
          1695,
          1695,
          1705,
          1705
         ],
         "xaxis": "x",
         "y": [
          0,
          0.05885745477988661,
          0.05885745477988661,
          0
         ],
         "yaxis": "y"
        },
        {
         "hoverinfo": "text",
         "marker": {
          "color": "rgb(35,205,205)"
         },
         "mode": "lines",
         "type": "scatter",
         "x": [
          1685,
          1685,
          1700,
          1700
         ],
         "xaxis": "x",
         "y": [
          0,
          0.08488251881177696,
          0.08488251881177696,
          0.05885745477988661
         ],
         "yaxis": "y"
        },
        {
         "hoverinfo": "text",
         "marker": {
          "color": "rgb(35,205,205)"
         },
         "mode": "lines",
         "type": "scatter",
         "x": [
          1670,
          1670,
          1692.5,
          1692.5
         ],
         "xaxis": "x",
         "y": [
          0.056117448261005745,
          0.16051417361923398,
          0.16051417361923398,
          0.08488251881177696
         ],
         "yaxis": "y"
        },
        {
         "hoverinfo": "text",
         "marker": {
          "color": "rgb(35,205,205)"
         },
         "mode": "lines",
         "type": "scatter",
         "x": [
          1725,
          1725,
          1735,
          1735
         ],
         "xaxis": "x",
         "y": [
          0,
          0.04808500805164388,
          0.04808500805164388,
          0
         ],
         "yaxis": "y"
        },
        {
         "hoverinfo": "text",
         "marker": {
          "color": "rgb(35,205,205)"
         },
         "mode": "lines",
         "type": "scatter",
         "x": [
          1715,
          1715,
          1730,
          1730
         ],
         "xaxis": "x",
         "y": [
          0,
          0.09181556497430715,
          0.09181556497430715,
          0.04808500805164388
         ],
         "yaxis": "y"
        },
        {
         "hoverinfo": "text",
         "marker": {
          "color": "rgb(35,205,205)"
         },
         "mode": "lines",
         "type": "scatter",
         "x": [
          1755,
          1755,
          1765,
          1765
         ],
         "xaxis": "x",
         "y": [
          0,
          0.06505142572785395,
          0.06505142572785395,
          0
         ],
         "yaxis": "y"
        },
        {
         "hoverinfo": "text",
         "marker": {
          "color": "rgb(35,205,205)"
         },
         "mode": "lines",
         "type": "scatter",
         "x": [
          1745,
          1745,
          1760,
          1760
         ],
         "xaxis": "x",
         "y": [
          0,
          0.09848248541068408,
          0.09848248541068408,
          0.06505142572785395
         ],
         "yaxis": "y"
        },
        {
         "hoverinfo": "text",
         "marker": {
          "color": "rgb(35,205,205)"
         },
         "mode": "lines",
         "type": "scatter",
         "x": [
          1722.5,
          1722.5,
          1752.5,
          1752.5
         ],
         "xaxis": "x",
         "y": [
          0.09181556497430715,
          0.18948701253258862,
          0.18948701253258862,
          0.09848248541068408
         ],
         "yaxis": "y"
        },
        {
         "hoverinfo": "text",
         "marker": {
          "color": "rgb(35,205,205)"
         },
         "mode": "lines",
         "type": "scatter",
         "x": [
          1681.25,
          1681.25,
          1737.5,
          1737.5
         ],
         "xaxis": "x",
         "y": [
          0.16051417361923398,
          0.28505036655317306,
          0.28505036655317306,
          0.18948701253258862
         ],
         "yaxis": "y"
        },
        {
         "hoverinfo": "text",
         "marker": {
          "color": "rgb(35,205,205)"
         },
         "mode": "lines",
         "type": "scatter",
         "x": [
          1642.5,
          1642.5,
          1709.375,
          1709.375
         ],
         "xaxis": "x",
         "y": [
          0.1584497646527927,
          0.43947665140180797,
          0.43947665140180797,
          0.28505036655317306
         ],
         "yaxis": "y"
        },
        {
         "hoverinfo": "text",
         "marker": {
          "color": "rgb(35,205,205)"
         },
         "mode": "lines",
         "type": "scatter",
         "x": [
          1590.625,
          1590.625,
          1675.9375,
          1675.9375
         ],
         "xaxis": "x",
         "y": [
          0.2081707424009233,
          0.4963491027309676,
          0.4963491027309676,
          0.43947665140180797
         ],
         "yaxis": "y"
        },
        {
         "hoverinfo": "text",
         "marker": {
          "color": "rgb(35,205,205)"
         },
         "mode": "lines",
         "type": "scatter",
         "x": [
          1534.375,
          1534.375,
          1633.28125,
          1633.28125
         ],
         "xaxis": "x",
         "y": [
          0.28979820492742875,
          0.5762242548576074,
          0.5762242548576074,
          0.4963491027309676
         ],
         "yaxis": "y"
        },
        {
         "hoverinfo": "text",
         "marker": {
          "color": "rgb(35,205,205)"
         },
         "mode": "lines",
         "type": "scatter",
         "x": [
          1496.25,
          1496.25,
          1583.828125,
          1583.828125
         ],
         "xaxis": "x",
         "y": [
          0.41331860683374383,
          0.7854571606820632,
          0.7854571606820632,
          0.5762242548576074
         ],
         "yaxis": "y"
        },
        {
         "hoverinfo": "text",
         "marker": {
          "color": "rgb(133,20,75)"
         },
         "mode": "lines",
         "type": "scatter",
         "x": [
          1775,
          1775,
          1785,
          1785
         ],
         "xaxis": "x",
         "y": [
          0,
          0.16557210503888076,
          0.16557210503888076,
          0
         ],
         "yaxis": "y"
        },
        {
         "hoverinfo": "text",
         "marker": {
          "color": "rgb(133,20,75)"
         },
         "mode": "lines",
         "type": "scatter",
         "x": [
          1795,
          1795,
          1805,
          1805
         ],
         "xaxis": "x",
         "y": [
          0,
          0.06638560066580416,
          0.06638560066580416,
          0
         ],
         "yaxis": "y"
        },
        {
         "hoverinfo": "text",
         "marker": {
          "color": "rgb(133,20,75)"
         },
         "mode": "lines",
         "type": "scatter",
         "x": [
          1815,
          1815,
          1825,
          1825
         ],
         "xaxis": "x",
         "y": [
          0,
          0.08762515620143942,
          0.08762515620143942,
          0
         ],
         "yaxis": "y"
        },
        {
         "hoverinfo": "text",
         "marker": {
          "color": "rgb(133,20,75)"
         },
         "mode": "lines",
         "type": "scatter",
         "x": [
          1800,
          1800,
          1820,
          1820
         ],
         "xaxis": "x",
         "y": [
          0.06638560066580416,
          0.10355033557312417,
          0.10355033557312417,
          0.08762515620143942
         ],
         "yaxis": "y"
        },
        {
         "hoverinfo": "text",
         "marker": {
          "color": "rgb(133,20,75)"
         },
         "mode": "lines",
         "type": "scatter",
         "x": [
          1835,
          1835,
          1845,
          1845
         ],
         "xaxis": "x",
         "y": [
          0,
          0.09142679008616197,
          0.09142679008616197,
          0
         ],
         "yaxis": "y"
        },
        {
         "hoverinfo": "text",
         "marker": {
          "color": "rgb(133,20,75)"
         },
         "mode": "lines",
         "type": "scatter",
         "x": [
          1855,
          1855,
          1865,
          1865
         ],
         "xaxis": "x",
         "y": [
          0,
          0.0632459484535697,
          0.0632459484535697,
          0
         ],
         "yaxis": "y"
        },
        {
         "hoverinfo": "text",
         "marker": {
          "color": "rgb(133,20,75)"
         },
         "mode": "lines",
         "type": "scatter",
         "x": [
          1895,
          1895,
          1905,
          1905
         ],
         "xaxis": "x",
         "y": [
          0,
          0.040589555232102593,
          0.040589555232102593,
          0
         ],
         "yaxis": "y"
        },
        {
         "hoverinfo": "text",
         "marker": {
          "color": "rgb(133,20,75)"
         },
         "mode": "lines",
         "type": "scatter",
         "x": [
          1885,
          1885,
          1900,
          1900
         ],
         "xaxis": "x",
         "y": [
          0,
          0.061506763690112536,
          0.061506763690112536,
          0.040589555232102593
         ],
         "yaxis": "y"
        },
        {
         "hoverinfo": "text",
         "marker": {
          "color": "rgb(133,20,75)"
         },
         "mode": "lines",
         "type": "scatter",
         "x": [
          1875,
          1875,
          1892.5,
          1892.5
         ],
         "xaxis": "x",
         "y": [
          0,
          0.11137877700444622,
          0.11137877700444622,
          0.061506763690112536
         ],
         "yaxis": "y"
        },
        {
         "hoverinfo": "text",
         "marker": {
          "color": "rgb(133,20,75)"
         },
         "mode": "lines",
         "type": "scatter",
         "x": [
          1860,
          1860,
          1883.75,
          1883.75
         ],
         "xaxis": "x",
         "y": [
          0.0632459484535697,
          0.13829433053610496,
          0.13829433053610496,
          0.11137877700444622
         ],
         "yaxis": "y"
        },
        {
         "hoverinfo": "text",
         "marker": {
          "color": "rgb(133,20,75)"
         },
         "mode": "lines",
         "type": "scatter",
         "x": [
          1840,
          1840,
          1871.875,
          1871.875
         ],
         "xaxis": "x",
         "y": [
          0.09142679008616197,
          0.18086025484289397,
          0.18086025484289397,
          0.13829433053610496
         ],
         "yaxis": "y"
        },
        {
         "hoverinfo": "text",
         "marker": {
          "color": "rgb(133,20,75)"
         },
         "mode": "lines",
         "type": "scatter",
         "x": [
          1810,
          1810,
          1855.9375,
          1855.9375
         ],
         "xaxis": "x",
         "y": [
          0.10355033557312417,
          0.2734795202126835,
          0.2734795202126835,
          0.18086025484289397
         ],
         "yaxis": "y"
        },
        {
         "hoverinfo": "text",
         "marker": {
          "color": "rgb(133,20,75)"
         },
         "mode": "lines",
         "type": "scatter",
         "x": [
          1780,
          1780,
          1832.96875,
          1832.96875
         ],
         "xaxis": "x",
         "y": [
          0.16557210503888076,
          0.38402296727408164,
          0.38402296727408164,
          0.2734795202126835
         ],
         "yaxis": "y"
        },
        {
         "hoverinfo": "text",
         "marker": {
          "color": "rgb(133,20,75)"
         },
         "mode": "lines",
         "type": "scatter",
         "x": [
          1935,
          1935,
          1945,
          1945
         ],
         "xaxis": "x",
         "y": [
          0,
          0.09427644443740765,
          0.09427644443740765,
          0
         ],
         "yaxis": "y"
        },
        {
         "hoverinfo": "text",
         "marker": {
          "color": "rgb(133,20,75)"
         },
         "mode": "lines",
         "type": "scatter",
         "x": [
          1925,
          1925,
          1940,
          1940
         ],
         "xaxis": "x",
         "y": [
          0,
          0.12229636947336085,
          0.12229636947336085,
          0.09427644443740765
         ],
         "yaxis": "y"
        },
        {
         "hoverinfo": "text",
         "marker": {
          "color": "rgb(133,20,75)"
         },
         "mode": "lines",
         "type": "scatter",
         "x": [
          1915,
          1915,
          1932.5,
          1932.5
         ],
         "xaxis": "x",
         "y": [
          0,
          0.14141312526532546,
          0.14141312526532546,
          0.12229636947336085
         ],
         "yaxis": "y"
        },
        {
         "hoverinfo": "text",
         "marker": {
          "color": "rgb(133,20,75)"
         },
         "mode": "lines",
         "type": "scatter",
         "x": [
          1955,
          1955,
          1965,
          1965
         ],
         "xaxis": "x",
         "y": [
          0,
          0.012213435197627852,
          0.012213435197627852,
          0
         ],
         "yaxis": "y"
        },
        {
         "hoverinfo": "text",
         "marker": {
          "color": "rgb(133,20,75)"
         },
         "mode": "lines",
         "type": "scatter",
         "x": [
          1975,
          1975,
          1985,
          1985
         ],
         "xaxis": "x",
         "y": [
          0,
          0.016198086259956043,
          0.016198086259956043,
          0
         ],
         "yaxis": "y"
        },
        {
         "hoverinfo": "text",
         "marker": {
          "color": "rgb(133,20,75)"
         },
         "mode": "lines",
         "type": "scatter",
         "x": [
          1960,
          1960,
          1980,
          1980
         ],
         "xaxis": "x",
         "y": [
          0.012213435197627852,
          0.08007341604369071,
          0.08007341604369071,
          0.016198086259956043
         ],
         "yaxis": "y"
        },
        {
         "hoverinfo": "text",
         "marker": {
          "color": "rgb(133,20,75)"
         },
         "mode": "lines",
         "type": "scatter",
         "x": [
          2005,
          2005,
          2015,
          2015
         ],
         "xaxis": "x",
         "y": [
          0,
          0.01333161654982864,
          0.01333161654982864,
          0
         ],
         "yaxis": "y"
        },
        {
         "hoverinfo": "text",
         "marker": {
          "color": "rgb(133,20,75)"
         },
         "mode": "lines",
         "type": "scatter",
         "x": [
          1995,
          1995,
          2010,
          2010
         ],
         "xaxis": "x",
         "y": [
          0,
          0.028876149281138998,
          0.028876149281138998,
          0.01333161654982864
         ],
         "yaxis": "y"
        },
        {
         "hoverinfo": "text",
         "marker": {
          "color": "rgb(133,20,75)"
         },
         "mode": "lines",
         "type": "scatter",
         "x": [
          2025,
          2025,
          2035,
          2035
         ],
         "xaxis": "x",
         "y": [
          0,
          0.03527597978710027,
          0.03527597978710027,
          0
         ],
         "yaxis": "y"
        },
        {
         "hoverinfo": "text",
         "marker": {
          "color": "rgb(133,20,75)"
         },
         "mode": "lines",
         "type": "scatter",
         "x": [
          2002.5,
          2002.5,
          2030,
          2030
         ],
         "xaxis": "x",
         "y": [
          0.028876149281138998,
          0.04381834268695776,
          0.04381834268695776,
          0.03527597978710027
         ],
         "yaxis": "y"
        },
        {
         "hoverinfo": "text",
         "marker": {
          "color": "rgb(133,20,75)"
         },
         "mode": "lines",
         "type": "scatter",
         "x": [
          2065,
          2065,
          2075,
          2075
         ],
         "xaxis": "x",
         "y": [
          0,
          0.018989523422973623,
          0.018989523422973623,
          0
         ],
         "yaxis": "y"
        },
        {
         "hoverinfo": "text",
         "marker": {
          "color": "rgb(133,20,75)"
         },
         "mode": "lines",
         "type": "scatter",
         "x": [
          2055,
          2055,
          2070,
          2070
         ],
         "xaxis": "x",
         "y": [
          0,
          0.03937217290583104,
          0.03937217290583104,
          0.018989523422973623
         ],
         "yaxis": "y"
        },
        {
         "hoverinfo": "text",
         "marker": {
          "color": "rgb(133,20,75)"
         },
         "mode": "lines",
         "type": "scatter",
         "x": [
          2045,
          2045,
          2062.5,
          2062.5
         ],
         "xaxis": "x",
         "y": [
          0,
          0.0736081516081365,
          0.0736081516081365,
          0.03937217290583104
         ],
         "yaxis": "y"
        },
        {
         "hoverinfo": "text",
         "marker": {
          "color": "rgb(133,20,75)"
         },
         "mode": "lines",
         "type": "scatter",
         "x": [
          2016.25,
          2016.25,
          2053.75,
          2053.75
         ],
         "xaxis": "x",
         "y": [
          0.04381834268695776,
          0.10057006659653116,
          0.10057006659653116,
          0.0736081516081365
         ],
         "yaxis": "y"
        },
        {
         "hoverinfo": "text",
         "marker": {
          "color": "rgb(133,20,75)"
         },
         "mode": "lines",
         "type": "scatter",
         "x": [
          1970,
          1970,
          2035,
          2035
         ],
         "xaxis": "x",
         "y": [
          0.08007341604369071,
          0.14979856439495673,
          0.14979856439495673,
          0.10057006659653116
         ],
         "yaxis": "y"
        },
        {
         "hoverinfo": "text",
         "marker": {
          "color": "rgb(133,20,75)"
         },
         "mode": "lines",
         "type": "scatter",
         "x": [
          1923.75,
          1923.75,
          2002.5,
          2002.5
         ],
         "xaxis": "x",
         "y": [
          0.14141312526532546,
          0.29446914152916404,
          0.29446914152916404,
          0.14979856439495673
         ],
         "yaxis": "y"
        },
        {
         "hoverinfo": "text",
         "marker": {
          "color": "rgb(133,20,75)"
         },
         "mode": "lines",
         "type": "scatter",
         "x": [
          2095,
          2095,
          2105,
          2105
         ],
         "xaxis": "x",
         "y": [
          0,
          0.0470996602799317,
          0.0470996602799317,
          0
         ],
         "yaxis": "y"
        },
        {
         "hoverinfo": "text",
         "marker": {
          "color": "rgb(133,20,75)"
         },
         "mode": "lines",
         "type": "scatter",
         "x": [
          2085,
          2085,
          2100,
          2100
         ],
         "xaxis": "x",
         "y": [
          0,
          0.06392259359218157,
          0.06392259359218157,
          0.0470996602799317
         ],
         "yaxis": "y"
        },
        {
         "hoverinfo": "text",
         "marker": {
          "color": "rgb(133,20,75)"
         },
         "mode": "lines",
         "type": "scatter",
         "x": [
          2125,
          2125,
          2135,
          2135
         ],
         "xaxis": "x",
         "y": [
          0,
          0.005389062982714505,
          0.005389062982714505,
          0
         ],
         "yaxis": "y"
        },
        {
         "hoverinfo": "text",
         "marker": {
          "color": "rgb(133,20,75)"
         },
         "mode": "lines",
         "type": "scatter",
         "x": [
          2115,
          2115,
          2130,
          2130
         ],
         "xaxis": "x",
         "y": [
          0,
          0.08152330952428025,
          0.08152330952428025,
          0.005389062982714505
         ],
         "yaxis": "y"
        },
        {
         "hoverinfo": "text",
         "marker": {
          "color": "rgb(133,20,75)"
         },
         "mode": "lines",
         "type": "scatter",
         "x": [
          2092.5,
          2092.5,
          2122.5,
          2122.5
         ],
         "xaxis": "x",
         "y": [
          0.06392259359218157,
          0.1485969649479811,
          0.1485969649479811,
          0.08152330952428025
         ],
         "yaxis": "y"
        },
        {
         "hoverinfo": "text",
         "marker": {
          "color": "rgb(133,20,75)"
         },
         "mode": "lines",
         "type": "scatter",
         "x": [
          2155,
          2155,
          2165,
          2165
         ],
         "xaxis": "x",
         "y": [
          0,
          0.046361643482137074,
          0.046361643482137074,
          0
         ],
         "yaxis": "y"
        },
        {
         "hoverinfo": "text",
         "marker": {
          "color": "rgb(133,20,75)"
         },
         "mode": "lines",
         "type": "scatter",
         "x": [
          2145,
          2145,
          2160,
          2160
         ],
         "xaxis": "x",
         "y": [
          0,
          0.05974447243356312,
          0.05974447243356312,
          0.046361643482137074
         ],
         "yaxis": "y"
        },
        {
         "hoverinfo": "text",
         "marker": {
          "color": "rgb(133,20,75)"
         },
         "mode": "lines",
         "type": "scatter",
         "x": [
          2185,
          2185,
          2195,
          2195
         ],
         "xaxis": "x",
         "y": [
          0,
          0.01594923190893448,
          0.01594923190893448,
          0
         ],
         "yaxis": "y"
        },
        {
         "hoverinfo": "text",
         "marker": {
          "color": "rgb(133,20,75)"
         },
         "mode": "lines",
         "type": "scatter",
         "x": [
          2175,
          2175,
          2190,
          2190
         ],
         "xaxis": "x",
         "y": [
          0,
          0.03189846381786905,
          0.03189846381786905,
          0.01594923190893448
         ],
         "yaxis": "y"
        },
        {
         "hoverinfo": "text",
         "marker": {
          "color": "rgb(133,20,75)"
         },
         "mode": "lines",
         "type": "scatter",
         "x": [
          2225,
          2225,
          2235,
          2235
         ],
         "xaxis": "x",
         "y": [
          0,
          0.02758698968411856,
          0.02758698968411856,
          0
         ],
         "yaxis": "y"
        },
        {
         "hoverinfo": "text",
         "marker": {
          "color": "rgb(133,20,75)"
         },
         "mode": "lines",
         "type": "scatter",
         "x": [
          2215,
          2215,
          2230,
          2230
         ],
         "xaxis": "x",
         "y": [
          0,
          0.05168837383035472,
          0.05168837383035472,
          0.02758698968411856
         ],
         "yaxis": "y"
        },
        {
         "hoverinfo": "text",
         "marker": {
          "color": "rgb(133,20,75)"
         },
         "mode": "lines",
         "type": "scatter",
         "x": [
          2205,
          2205,
          2222.5,
          2222.5
         ],
         "xaxis": "x",
         "y": [
          0,
          0.07930559878397603,
          0.07930559878397603,
          0.05168837383035472
         ],
         "yaxis": "y"
        },
        {
         "hoverinfo": "text",
         "marker": {
          "color": "rgb(133,20,75)"
         },
         "mode": "lines",
         "type": "scatter",
         "x": [
          2182.5,
          2182.5,
          2213.75,
          2213.75
         ],
         "xaxis": "x",
         "y": [
          0.03189846381786905,
          0.10019705565596428,
          0.10019705565596428,
          0.07930559878397603
         ],
         "yaxis": "y"
        },
        {
         "hoverinfo": "text",
         "marker": {
          "color": "rgb(133,20,75)"
         },
         "mode": "lines",
         "type": "scatter",
         "x": [
          2152.5,
          2152.5,
          2198.125,
          2198.125
         ],
         "xaxis": "x",
         "y": [
          0.05974447243356312,
          0.15940853797595458,
          0.15940853797595458,
          0.10019705565596428
         ],
         "yaxis": "y"
        },
        {
         "hoverinfo": "text",
         "marker": {
          "color": "rgb(133,20,75)"
         },
         "mode": "lines",
         "type": "scatter",
         "x": [
          2107.5,
          2107.5,
          2175.3125,
          2175.3125
         ],
         "xaxis": "x",
         "y": [
          0.1485969649479811,
          0.20061091150952406,
          0.20061091150952406,
          0.15940853797595458
         ],
         "yaxis": "y"
        },
        {
         "hoverinfo": "text",
         "marker": {
          "color": "rgb(133,20,75)"
         },
         "mode": "lines",
         "type": "scatter",
         "x": [
          2245,
          2245,
          2255,
          2255
         ],
         "xaxis": "x",
         "y": [
          0,
          0.07636129893970904,
          0.07636129893970904,
          0
         ],
         "yaxis": "y"
        },
        {
         "hoverinfo": "text",
         "marker": {
          "color": "rgb(133,20,75)"
         },
         "mode": "lines",
         "type": "scatter",
         "x": [
          2285,
          2285,
          2295,
          2295
         ],
         "xaxis": "x",
         "y": [
          0,
          0.04571128956767581,
          0.04571128956767581,
          0
         ],
         "yaxis": "y"
        },
        {
         "hoverinfo": "text",
         "marker": {
          "color": "rgb(133,20,75)"
         },
         "mode": "lines",
         "type": "scatter",
         "x": [
          2275,
          2275,
          2290,
          2290
         ],
         "xaxis": "x",
         "y": [
          0,
          0.05081710340510343,
          0.05081710340510343,
          0.04571128956767581
         ],
         "yaxis": "y"
        },
        {
         "hoverinfo": "text",
         "marker": {
          "color": "rgb(133,20,75)"
         },
         "mode": "lines",
         "type": "scatter",
         "x": [
          2265,
          2265,
          2282.5,
          2282.5
         ],
         "xaxis": "x",
         "y": [
          0,
          0.09171909265199904,
          0.09171909265199904,
          0.05081710340510343
         ],
         "yaxis": "y"
        },
        {
         "hoverinfo": "text",
         "marker": {
          "color": "rgb(133,20,75)"
         },
         "mode": "lines",
         "type": "scatter",
         "x": [
          2250,
          2250,
          2273.75,
          2273.75
         ],
         "xaxis": "x",
         "y": [
          0.07636129893970904,
          0.14757604806378438,
          0.14757604806378438,
          0.09171909265199904
         ],
         "yaxis": "y"
        },
        {
         "hoverinfo": "text",
         "marker": {
          "color": "rgb(133,20,75)"
         },
         "mode": "lines",
         "type": "scatter",
         "x": [
          2305,
          2305,
          2315,
          2315
         ],
         "xaxis": "x",
         "y": [
          0,
          0.04010049869754238,
          0.04010049869754238,
          0
         ],
         "yaxis": "y"
        },
        {
         "hoverinfo": "text",
         "marker": {
          "color": "rgb(133,20,75)"
         },
         "mode": "lines",
         "type": "scatter",
         "x": [
          2325,
          2325,
          2335,
          2335
         ],
         "xaxis": "x",
         "y": [
          0,
          0.04654580533130678,
          0.04654580533130678,
          0
         ],
         "yaxis": "y"
        },
        {
         "hoverinfo": "text",
         "marker": {
          "color": "rgb(133,20,75)"
         },
         "mode": "lines",
         "type": "scatter",
         "x": [
          2310,
          2310,
          2330,
          2330
         ],
         "xaxis": "x",
         "y": [
          0.04010049869754238,
          0.06907568285673624,
          0.06907568285673624,
          0.04654580533130678
         ],
         "yaxis": "y"
        },
        {
         "hoverinfo": "text",
         "marker": {
          "color": "rgb(133,20,75)"
         },
         "mode": "lines",
         "type": "scatter",
         "x": [
          2345,
          2345,
          2355,
          2355
         ],
         "xaxis": "x",
         "y": [
          0,
          0.07390075773589815,
          0.07390075773589815,
          0
         ],
         "yaxis": "y"
        },
        {
         "hoverinfo": "text",
         "marker": {
          "color": "rgb(133,20,75)"
         },
         "mode": "lines",
         "type": "scatter",
         "x": [
          2320,
          2320,
          2350,
          2350
         ],
         "xaxis": "x",
         "y": [
          0.06907568285673624,
          0.09127402670722329,
          0.09127402670722329,
          0.07390075773589815
         ],
         "yaxis": "y"
        },
        {
         "hoverinfo": "text",
         "marker": {
          "color": "rgb(133,20,75)"
         },
         "mode": "lines",
         "type": "scatter",
         "x": [
          2365,
          2365,
          2375,
          2375
         ],
         "xaxis": "x",
         "y": [
          0,
          0.10941243978465771,
          0.10941243978465771,
          0
         ],
         "yaxis": "y"
        },
        {
         "hoverinfo": "text",
         "marker": {
          "color": "rgb(133,20,75)"
         },
         "mode": "lines",
         "type": "scatter",
         "x": [
          2335,
          2335,
          2370,
          2370
         ],
         "xaxis": "x",
         "y": [
          0.09127402670722329,
          0.2055116735753948,
          0.2055116735753948,
          0.10941243978465771
         ],
         "yaxis": "y"
        },
        {
         "hoverinfo": "text",
         "marker": {
          "color": "rgb(133,20,75)"
         },
         "mode": "lines",
         "type": "scatter",
         "x": [
          2261.875,
          2261.875,
          2352.5,
          2352.5
         ],
         "xaxis": "x",
         "y": [
          0.14757604806378438,
          0.25287413453836155,
          0.25287413453836155,
          0.2055116735753948
         ],
         "yaxis": "y"
        },
        {
         "hoverinfo": "text",
         "marker": {
          "color": "rgb(133,20,75)"
         },
         "mode": "lines",
         "type": "scatter",
         "x": [
          2141.40625,
          2141.40625,
          2307.1875,
          2307.1875
         ],
         "xaxis": "x",
         "y": [
          0.20061091150952406,
          0.3170385333737857,
          0.3170385333737857,
          0.25287413453836155
         ],
         "yaxis": "y"
        },
        {
         "hoverinfo": "text",
         "marker": {
          "color": "rgb(133,20,75)"
         },
         "mode": "lines",
         "type": "scatter",
         "x": [
          1963.125,
          1963.125,
          2224.296875,
          2224.296875
         ],
         "xaxis": "x",
         "y": [
          0.29446914152916404,
          0.4034157865531955,
          0.4034157865531955,
          0.3170385333737857
         ],
         "yaxis": "y"
        },
        {
         "hoverinfo": "text",
         "marker": {
          "color": "rgb(133,20,75)"
         },
         "mode": "lines",
         "type": "scatter",
         "x": [
          1806.484375,
          1806.484375,
          2093.7109375,
          2093.7109375
         ],
         "xaxis": "x",
         "y": [
          0.38402296727408164,
          0.53737233954726,
          0.53737233954726,
          0.4034157865531955
         ],
         "yaxis": "y"
        },
        {
         "hoverinfo": "text",
         "marker": {
          "color": "rgb(133,20,75)"
         },
         "mode": "lines",
         "type": "scatter",
         "x": [
          2395,
          2395,
          2405,
          2405
         ],
         "xaxis": "x",
         "y": [
          0,
          0.05954829972383762,
          0.05954829972383762,
          0
         ],
         "yaxis": "y"
        },
        {
         "hoverinfo": "text",
         "marker": {
          "color": "rgb(133,20,75)"
         },
         "mode": "lines",
         "type": "scatter",
         "x": [
          2415,
          2415,
          2425,
          2425
         ],
         "xaxis": "x",
         "y": [
          0,
          0.06030789334599296,
          0.06030789334599296,
          0
         ],
         "yaxis": "y"
        },
        {
         "hoverinfo": "text",
         "marker": {
          "color": "rgb(133,20,75)"
         },
         "mode": "lines",
         "type": "scatter",
         "x": [
          2445,
          2445,
          2455,
          2455
         ],
         "xaxis": "x",
         "y": [
          0,
          0.03640285702148467,
          0.03640285702148467,
          0
         ],
         "yaxis": "y"
        },
        {
         "hoverinfo": "text",
         "marker": {
          "color": "rgb(133,20,75)"
         },
         "mode": "lines",
         "type": "scatter",
         "x": [
          2435,
          2435,
          2450,
          2450
         ],
         "xaxis": "x",
         "y": [
          0,
          0.08248113694264224,
          0.08248113694264224,
          0.03640285702148467
         ],
         "yaxis": "y"
        },
        {
         "hoverinfo": "text",
         "marker": {
          "color": "rgb(133,20,75)"
         },
         "mode": "lines",
         "type": "scatter",
         "x": [
          2420,
          2420,
          2442.5,
          2442.5
         ],
         "xaxis": "x",
         "y": [
          0.06030789334599296,
          0.14021846494292492,
          0.14021846494292492,
          0.08248113694264224
         ],
         "yaxis": "y"
        },
        {
         "hoverinfo": "text",
         "marker": {
          "color": "rgb(133,20,75)"
         },
         "mode": "lines",
         "type": "scatter",
         "x": [
          2400,
          2400,
          2431.25,
          2431.25
         ],
         "xaxis": "x",
         "y": [
          0.05954829972383762,
          0.1630576580492238,
          0.1630576580492238,
          0.14021846494292492
         ],
         "yaxis": "y"
        },
        {
         "hoverinfo": "text",
         "marker": {
          "color": "rgb(133,20,75)"
         },
         "mode": "lines",
         "type": "scatter",
         "x": [
          2385,
          2385,
          2415.625,
          2415.625
         ],
         "xaxis": "x",
         "y": [
          0,
          0.21225222690851547,
          0.21225222690851547,
          0.1630576580492238
         ],
         "yaxis": "y"
        },
        {
         "hoverinfo": "text",
         "marker": {
          "color": "rgb(133,20,75)"
         },
         "mode": "lines",
         "type": "scatter",
         "x": [
          2475,
          2475,
          2485,
          2485
         ],
         "xaxis": "x",
         "y": [
          0,
          0.09468203625411999,
          0.09468203625411999,
          0
         ],
         "yaxis": "y"
        },
        {
         "hoverinfo": "text",
         "marker": {
          "color": "rgb(133,20,75)"
         },
         "mode": "lines",
         "type": "scatter",
         "x": [
          2465,
          2465,
          2480,
          2480
         ],
         "xaxis": "x",
         "y": [
          0,
          0.154254341872003,
          0.154254341872003,
          0.09468203625411999
         ],
         "yaxis": "y"
        },
        {
         "hoverinfo": "text",
         "marker": {
          "color": "rgb(133,20,75)"
         },
         "mode": "lines",
         "type": "scatter",
         "x": [
          2495,
          2495,
          2505,
          2505
         ],
         "xaxis": "x",
         "y": [
          0,
          0.047592625392507366,
          0.047592625392507366,
          0
         ],
         "yaxis": "y"
        },
        {
         "hoverinfo": "text",
         "marker": {
          "color": "rgb(133,20,75)"
         },
         "mode": "lines",
         "type": "scatter",
         "x": [
          2515,
          2515,
          2525,
          2525
         ],
         "xaxis": "x",
         "y": [
          0,
          0.07447179315525859,
          0.07447179315525859,
          0
         ],
         "yaxis": "y"
        },
        {
         "hoverinfo": "text",
         "marker": {
          "color": "rgb(133,20,75)"
         },
         "mode": "lines",
         "type": "scatter",
         "x": [
          2500,
          2500,
          2520,
          2520
         ],
         "xaxis": "x",
         "y": [
          0.047592625392507366,
          0.10985052549419554,
          0.10985052549419554,
          0.07447179315525859
         ],
         "yaxis": "y"
        },
        {
         "hoverinfo": "text",
         "marker": {
          "color": "rgb(133,20,75)"
         },
         "mode": "lines",
         "type": "scatter",
         "x": [
          2545,
          2545,
          2555,
          2555
         ],
         "xaxis": "x",
         "y": [
          0,
          0.06968542165870514,
          0.06968542165870514,
          0
         ],
         "yaxis": "y"
        },
        {
         "hoverinfo": "text",
         "marker": {
          "color": "rgb(133,20,75)"
         },
         "mode": "lines",
         "type": "scatter",
         "x": [
          2575,
          2575,
          2585,
          2585
         ],
         "xaxis": "x",
         "y": [
          0,
          0.03954956383231878,
          0.03954956383231878,
          0
         ],
         "yaxis": "y"
        },
        {
         "hoverinfo": "text",
         "marker": {
          "color": "rgb(133,20,75)"
         },
         "mode": "lines",
         "type": "scatter",
         "x": [
          2565,
          2565,
          2580,
          2580
         ],
         "xaxis": "x",
         "y": [
          0,
          0.09724226443142685,
          0.09724226443142685,
          0.03954956383231878
         ],
         "yaxis": "y"
        },
        {
         "hoverinfo": "text",
         "marker": {
          "color": "rgb(133,20,75)"
         },
         "mode": "lines",
         "type": "scatter",
         "x": [
          2550,
          2550,
          2572.5,
          2572.5
         ],
         "xaxis": "x",
         "y": [
          0.06968542165870514,
          0.14440745131031116,
          0.14440745131031116,
          0.09724226443142685
         ],
         "yaxis": "y"
        },
        {
         "hoverinfo": "text",
         "marker": {
          "color": "rgb(133,20,75)"
         },
         "mode": "lines",
         "type": "scatter",
         "x": [
          2535,
          2535,
          2561.25,
          2561.25
         ],
         "xaxis": "x",
         "y": [
          0,
          0.15203042424064342,
          0.15203042424064342,
          0.14440745131031116
         ],
         "yaxis": "y"
        },
        {
         "hoverinfo": "text",
         "marker": {
          "color": "rgb(133,20,75)"
         },
         "mode": "lines",
         "type": "scatter",
         "x": [
          2510,
          2510,
          2548.125,
          2548.125
         ],
         "xaxis": "x",
         "y": [
          0.10985052549419554,
          0.18383144453547662,
          0.18383144453547662,
          0.15203042424064342
         ],
         "yaxis": "y"
        },
        {
         "hoverinfo": "text",
         "marker": {
          "color": "rgb(133,20,75)"
         },
         "mode": "lines",
         "type": "scatter",
         "x": [
          2472.5,
          2472.5,
          2529.0625,
          2529.0625
         ],
         "xaxis": "x",
         "y": [
          0.154254341872003,
          0.3105047499325291,
          0.3105047499325291,
          0.18383144453547662
         ],
         "yaxis": "y"
        },
        {
         "hoverinfo": "text",
         "marker": {
          "color": "rgb(133,20,75)"
         },
         "mode": "lines",
         "type": "scatter",
         "x": [
          2400.3125,
          2400.3125,
          2500.78125,
          2500.78125
         ],
         "xaxis": "x",
         "y": [
          0.21225222690851547,
          0.3852468311997064,
          0.3852468311997064,
          0.3105047499325291
         ],
         "yaxis": "y"
        },
        {
         "hoverinfo": "text",
         "marker": {
          "color": "rgb(133,20,75)"
         },
         "mode": "lines",
         "type": "scatter",
         "x": [
          2605,
          2605,
          2615,
          2615
         ],
         "xaxis": "x",
         "y": [
          0,
          0.06125102439328258,
          0.06125102439328258,
          0
         ],
         "yaxis": "y"
        },
        {
         "hoverinfo": "text",
         "marker": {
          "color": "rgb(133,20,75)"
         },
         "mode": "lines",
         "type": "scatter",
         "x": [
          2595,
          2595,
          2610,
          2610
         ],
         "xaxis": "x",
         "y": [
          0,
          0.16467359195148706,
          0.16467359195148706,
          0.06125102439328258
         ],
         "yaxis": "y"
        },
        {
         "hoverinfo": "text",
         "marker": {
          "color": "rgb(133,20,75)"
         },
         "mode": "lines",
         "type": "scatter",
         "x": [
          2635,
          2635,
          2645,
          2645
         ],
         "xaxis": "x",
         "y": [
          0,
          0.02541983476198571,
          0.02541983476198571,
          0
         ],
         "yaxis": "y"
        },
        {
         "hoverinfo": "text",
         "marker": {
          "color": "rgb(133,20,75)"
         },
         "mode": "lines",
         "type": "scatter",
         "x": [
          2625,
          2625,
          2640,
          2640
         ],
         "xaxis": "x",
         "y": [
          0,
          0.07016061568957263,
          0.07016061568957263,
          0.02541983476198571
         ],
         "yaxis": "y"
        },
        {
         "hoverinfo": "text",
         "marker": {
          "color": "rgb(133,20,75)"
         },
         "mode": "lines",
         "type": "scatter",
         "x": [
          2675,
          2675,
          2685,
          2685
         ],
         "xaxis": "x",
         "y": [
          0,
          0.0546123794934803,
          0.0546123794934803,
          0
         ],
         "yaxis": "y"
        },
        {
         "hoverinfo": "text",
         "marker": {
          "color": "rgb(133,20,75)"
         },
         "mode": "lines",
         "type": "scatter",
         "x": [
          2665,
          2665,
          2680,
          2680
         ],
         "xaxis": "x",
         "y": [
          0,
          0.0819029790151202,
          0.0819029790151202,
          0.0546123794934803
         ],
         "yaxis": "y"
        },
        {
         "hoverinfo": "text",
         "marker": {
          "color": "rgb(133,20,75)"
         },
         "mode": "lines",
         "type": "scatter",
         "x": [
          2655,
          2655,
          2672.5,
          2672.5
         ],
         "xaxis": "x",
         "y": [
          0,
          0.1400131707705618,
          0.1400131707705618,
          0.0819029790151202
         ],
         "yaxis": "y"
        },
        {
         "hoverinfo": "text",
         "marker": {
          "color": "rgb(133,20,75)"
         },
         "mode": "lines",
         "type": "scatter",
         "x": [
          2632.5,
          2632.5,
          2663.75,
          2663.75
         ],
         "xaxis": "x",
         "y": [
          0.07016061568957263,
          0.17790193358013628,
          0.17790193358013628,
          0.1400131707705618
         ],
         "yaxis": "y"
        },
        {
         "hoverinfo": "text",
         "marker": {
          "color": "rgb(133,20,75)"
         },
         "mode": "lines",
         "type": "scatter",
         "x": [
          2602.5,
          2602.5,
          2648.125,
          2648.125
         ],
         "xaxis": "x",
         "y": [
          0.16467359195148706,
          0.3347940292177142,
          0.3347940292177142,
          0.17790193358013628
         ],
         "yaxis": "y"
        },
        {
         "hoverinfo": "text",
         "marker": {
          "color": "rgb(133,20,75)"
         },
         "mode": "lines",
         "type": "scatter",
         "x": [
          2695,
          2695,
          2705,
          2705
         ],
         "xaxis": "x",
         "y": [
          0,
          0.09119758768739442,
          0.09119758768739442,
          0
         ],
         "yaxis": "y"
        },
        {
         "hoverinfo": "text",
         "marker": {
          "color": "rgb(133,20,75)"
         },
         "mode": "lines",
         "type": "scatter",
         "x": [
          2735,
          2735,
          2745,
          2745
         ],
         "xaxis": "x",
         "y": [
          0,
          0.04434386088834587,
          0.04434386088834587,
          0
         ],
         "yaxis": "y"
        },
        {
         "hoverinfo": "text",
         "marker": {
          "color": "rgb(133,20,75)"
         },
         "mode": "lines",
         "type": "scatter",
         "x": [
          2725,
          2725,
          2740,
          2740
         ],
         "xaxis": "x",
         "y": [
          0,
          0.06353816153738796,
          0.06353816153738796,
          0.04434386088834587
         ],
         "yaxis": "y"
        },
        {
         "hoverinfo": "text",
         "marker": {
          "color": "rgb(133,20,75)"
         },
         "mode": "lines",
         "type": "scatter",
         "x": [
          2715,
          2715,
          2732.5,
          2732.5
         ],
         "xaxis": "x",
         "y": [
          0,
          0.09823466799349194,
          0.09823466799349194,
          0.06353816153738796
         ],
         "yaxis": "y"
        },
        {
         "hoverinfo": "text",
         "marker": {
          "color": "rgb(133,20,75)"
         },
         "mode": "lines",
         "type": "scatter",
         "x": [
          2700,
          2700,
          2723.75,
          2723.75
         ],
         "xaxis": "x",
         "y": [
          0.09119758768739442,
          0.14558530825475258,
          0.14558530825475258,
          0.09823466799349194
         ],
         "yaxis": "y"
        },
        {
         "hoverinfo": "text",
         "marker": {
          "color": "rgb(133,20,75)"
         },
         "mode": "lines",
         "type": "scatter",
         "x": [
          2755,
          2755,
          2765,
          2765
         ],
         "xaxis": "x",
         "y": [
          0,
          0.17082541338579987,
          0.17082541338579987,
          0
         ],
         "yaxis": "y"
        },
        {
         "hoverinfo": "text",
         "marker": {
          "color": "rgb(133,20,75)"
         },
         "mode": "lines",
         "type": "scatter",
         "x": [
          2711.875,
          2711.875,
          2760,
          2760
         ],
         "xaxis": "x",
         "y": [
          0.14558530825475258,
          0.2378827441895826,
          0.2378827441895826,
          0.17082541338579987
         ],
         "yaxis": "y"
        },
        {
         "hoverinfo": "text",
         "marker": {
          "color": "rgb(133,20,75)"
         },
         "mode": "lines",
         "type": "scatter",
         "x": [
          2775,
          2775,
          2785,
          2785
         ],
         "xaxis": "x",
         "y": [
          0,
          0.09533709634360965,
          0.09533709634360965,
          0
         ],
         "yaxis": "y"
        },
        {
         "hoverinfo": "text",
         "marker": {
          "color": "rgb(133,20,75)"
         },
         "mode": "lines",
         "type": "scatter",
         "x": [
          2795,
          2795,
          2805,
          2805
         ],
         "xaxis": "x",
         "y": [
          0,
          0.04462485852621799,
          0.04462485852621799,
          0
         ],
         "yaxis": "y"
        },
        {
         "hoverinfo": "text",
         "marker": {
          "color": "rgb(133,20,75)"
         },
         "mode": "lines",
         "type": "scatter",
         "x": [
          2815,
          2815,
          2825,
          2825
         ],
         "xaxis": "x",
         "y": [
          0,
          0.03876918874301609,
          0.03876918874301609,
          0
         ],
         "yaxis": "y"
        },
        {
         "hoverinfo": "text",
         "marker": {
          "color": "rgb(133,20,75)"
         },
         "mode": "lines",
         "type": "scatter",
         "x": [
          2835,
          2835,
          2845,
          2845
         ],
         "xaxis": "x",
         "y": [
          0,
          0.042973107744570874,
          0.042973107744570874,
          0
         ],
         "yaxis": "y"
        },
        {
         "hoverinfo": "text",
         "marker": {
          "color": "rgb(133,20,75)"
         },
         "mode": "lines",
         "type": "scatter",
         "x": [
          2820,
          2820,
          2840,
          2840
         ],
         "xaxis": "x",
         "y": [
          0.03876918874301609,
          0.08687374733347022,
          0.08687374733347022,
          0.042973107744570874
         ],
         "yaxis": "y"
        },
        {
         "hoverinfo": "text",
         "marker": {
          "color": "rgb(133,20,75)"
         },
         "mode": "lines",
         "type": "scatter",
         "x": [
          2800,
          2800,
          2830,
          2830
         ],
         "xaxis": "x",
         "y": [
          0.04462485852621799,
          0.13050076613615866,
          0.13050076613615866,
          0.08687374733347022
         ],
         "yaxis": "y"
        },
        {
         "hoverinfo": "text",
         "marker": {
          "color": "rgb(133,20,75)"
         },
         "mode": "lines",
         "type": "scatter",
         "x": [
          2780,
          2780,
          2815,
          2815
         ],
         "xaxis": "x",
         "y": [
          0.09533709634360965,
          0.19139991606065188,
          0.19139991606065188,
          0.13050076613615866
         ],
         "yaxis": "y"
        },
        {
         "hoverinfo": "text",
         "marker": {
          "color": "rgb(133,20,75)"
         },
         "mode": "lines",
         "type": "scatter",
         "x": [
          2855,
          2855,
          2865,
          2865
         ],
         "xaxis": "x",
         "y": [
          0,
          0.07704576559287084,
          0.07704576559287084,
          0
         ],
         "yaxis": "y"
        },
        {
         "hoverinfo": "text",
         "marker": {
          "color": "rgb(133,20,75)"
         },
         "mode": "lines",
         "type": "scatter",
         "x": [
          2885,
          2885,
          2895,
          2895
         ],
         "xaxis": "x",
         "y": [
          0,
          0.00624835977130517,
          0.00624835977130517,
          0
         ],
         "yaxis": "y"
        },
        {
         "hoverinfo": "text",
         "marker": {
          "color": "rgb(133,20,75)"
         },
         "mode": "lines",
         "type": "scatter",
         "x": [
          2875,
          2875,
          2890,
          2890
         ],
         "xaxis": "x",
         "y": [
          0,
          0.11234786157213522,
          0.11234786157213522,
          0.00624835977130517
         ],
         "yaxis": "y"
        },
        {
         "hoverinfo": "text",
         "marker": {
          "color": "rgb(133,20,75)"
         },
         "mode": "lines",
         "type": "scatter",
         "x": [
          2860,
          2860,
          2882.5,
          2882.5
         ],
         "xaxis": "x",
         "y": [
          0.07704576559287084,
          0.17883814464378495,
          0.17883814464378495,
          0.11234786157213522
         ],
         "yaxis": "y"
        },
        {
         "hoverinfo": "text",
         "marker": {
          "color": "rgb(133,20,75)"
         },
         "mode": "lines",
         "type": "scatter",
         "x": [
          2905,
          2905,
          2915,
          2915
         ],
         "xaxis": "x",
         "y": [
          0,
          0.06103587468436065,
          0.06103587468436065,
          0
         ],
         "yaxis": "y"
        },
        {
         "hoverinfo": "text",
         "marker": {
          "color": "rgb(133,20,75)"
         },
         "mode": "lines",
         "type": "scatter",
         "x": [
          2935,
          2935,
          2945,
          2945
         ],
         "xaxis": "x",
         "y": [
          0,
          0.06597120571254099,
          0.06597120571254099,
          0
         ],
         "yaxis": "y"
        },
        {
         "hoverinfo": "text",
         "marker": {
          "color": "rgb(133,20,75)"
         },
         "mode": "lines",
         "type": "scatter",
         "x": [
          2925,
          2925,
          2940,
          2940
         ],
         "xaxis": "x",
         "y": [
          0,
          0.11141439763031823,
          0.11141439763031823,
          0.06597120571254099
         ],
         "yaxis": "y"
        },
        {
         "hoverinfo": "text",
         "marker": {
          "color": "rgb(133,20,75)"
         },
         "mode": "lines",
         "type": "scatter",
         "x": [
          2910,
          2910,
          2932.5,
          2932.5
         ],
         "xaxis": "x",
         "y": [
          0.06103587468436065,
          0.2213112920508723,
          0.2213112920508723,
          0.11141439763031823
         ],
         "yaxis": "y"
        },
        {
         "hoverinfo": "text",
         "marker": {
          "color": "rgb(133,20,75)"
         },
         "mode": "lines",
         "type": "scatter",
         "x": [
          2871.25,
          2871.25,
          2921.25,
          2921.25
         ],
         "xaxis": "x",
         "y": [
          0.17883814464378495,
          0.23996916465072418,
          0.23996916465072418,
          0.2213112920508723
         ],
         "yaxis": "y"
        },
        {
         "hoverinfo": "text",
         "marker": {
          "color": "rgb(133,20,75)"
         },
         "mode": "lines",
         "type": "scatter",
         "x": [
          2797.5,
          2797.5,
          2896.25,
          2896.25
         ],
         "xaxis": "x",
         "y": [
          0.19139991606065188,
          0.36385155113964873,
          0.36385155113964873,
          0.23996916465072418
         ],
         "yaxis": "y"
        },
        {
         "hoverinfo": "text",
         "marker": {
          "color": "rgb(133,20,75)"
         },
         "mode": "lines",
         "type": "scatter",
         "x": [
          2735.9375,
          2735.9375,
          2846.875,
          2846.875
         ],
         "xaxis": "x",
         "y": [
          0.2378827441895826,
          0.404878489213358,
          0.404878489213358,
          0.36385155113964873
         ],
         "yaxis": "y"
        },
        {
         "hoverinfo": "text",
         "marker": {
          "color": "rgb(133,20,75)"
         },
         "mode": "lines",
         "type": "scatter",
         "x": [
          2625.3125,
          2625.3125,
          2791.40625,
          2791.40625
         ],
         "xaxis": "x",
         "y": [
          0.3347940292177142,
          0.4687659883197623,
          0.4687659883197623,
          0.404878489213358
         ],
         "yaxis": "y"
        },
        {
         "hoverinfo": "text",
         "marker": {
          "color": "rgb(133,20,75)"
         },
         "mode": "lines",
         "type": "scatter",
         "x": [
          2450.546875,
          2450.546875,
          2708.359375,
          2708.359375
         ],
         "xaxis": "x",
         "y": [
          0.3852468311997064,
          0.7017557252859082,
          0.7017557252859082,
          0.4687659883197623
         ],
         "yaxis": "y"
        },
        {
         "hoverinfo": "text",
         "marker": {
          "color": "rgb(133,20,75)"
         },
         "mode": "lines",
         "type": "scatter",
         "x": [
          1950.09765625,
          1950.09765625,
          2579.453125,
          2579.453125
         ],
         "xaxis": "x",
         "y": [
          0.53737233954726,
          0.8709568169558901,
          0.8709568169558901,
          0.7017557252859082
         ],
         "yaxis": "y"
        },
        {
         "hoverinfo": "text",
         "marker": {
          "color": "rgb(0,116,217)"
         },
         "mode": "lines",
         "type": "scatter",
         "x": [
          1540.0390625,
          1540.0390625,
          2264.775390625,
          2264.775390625
         ],
         "xaxis": "x",
         "y": [
          0.7854571606820632,
          0.986073596620126,
          0.986073596620126,
          0.8709568169558901
         ],
         "yaxis": "y"
        },
        {
         "hoverinfo": "text",
         "marker": {
          "color": "rgb(0,116,217)"
         },
         "mode": "lines",
         "type": "scatter",
         "x": [
          1111.943359375,
          1111.943359375,
          1902.4072265625,
          1902.4072265625
         ],
         "xaxis": "x",
         "y": [
          0.8735428875654169,
          1.192106801843667,
          1.192106801843667,
          0.986073596620126
         ],
         "yaxis": "y"
        },
        {
         "hoverinfo": "text",
         "marker": {
          "color": "rgb(0,116,217)"
         },
         "mode": "lines",
         "type": "scatter",
         "x": [
          402.4609375,
          402.4609375,
          1507.17529296875,
          1507.17529296875
         ],
         "xaxis": "x",
         "y": [
          0.6377804389573578,
          1.3862637315294706,
          1.3862637315294706,
          1.192106801843667
         ],
         "yaxis": "y"
        }
       ],
       "layout": {
        "autosize": false,
        "height": 400,
        "hovermode": "closest",
        "showlegend": false,
        "template": {
         "data": {
          "bar": [
           {
            "error_x": {
             "color": "#2a3f5f"
            },
            "error_y": {
             "color": "#2a3f5f"
            },
            "marker": {
             "line": {
              "color": "#E5ECF6",
              "width": 0.5
             },
             "pattern": {
              "fillmode": "overlay",
              "size": 10,
              "solidity": 0.2
             }
            },
            "type": "bar"
           }
          ],
          "barpolar": [
           {
            "marker": {
             "line": {
              "color": "#E5ECF6",
              "width": 0.5
             },
             "pattern": {
              "fillmode": "overlay",
              "size": 10,
              "solidity": 0.2
             }
            },
            "type": "barpolar"
           }
          ],
          "carpet": [
           {
            "aaxis": {
             "endlinecolor": "#2a3f5f",
             "gridcolor": "white",
             "linecolor": "white",
             "minorgridcolor": "white",
             "startlinecolor": "#2a3f5f"
            },
            "baxis": {
             "endlinecolor": "#2a3f5f",
             "gridcolor": "white",
             "linecolor": "white",
             "minorgridcolor": "white",
             "startlinecolor": "#2a3f5f"
            },
            "type": "carpet"
           }
          ],
          "choropleth": [
           {
            "colorbar": {
             "outlinewidth": 0,
             "ticks": ""
            },
            "type": "choropleth"
           }
          ],
          "contour": [
           {
            "colorbar": {
             "outlinewidth": 0,
             "ticks": ""
            },
            "colorscale": [
             [
              0,
              "#0d0887"
             ],
             [
              0.1111111111111111,
              "#46039f"
             ],
             [
              0.2222222222222222,
              "#7201a8"
             ],
             [
              0.3333333333333333,
              "#9c179e"
             ],
             [
              0.4444444444444444,
              "#bd3786"
             ],
             [
              0.5555555555555556,
              "#d8576b"
             ],
             [
              0.6666666666666666,
              "#ed7953"
             ],
             [
              0.7777777777777778,
              "#fb9f3a"
             ],
             [
              0.8888888888888888,
              "#fdca26"
             ],
             [
              1,
              "#f0f921"
             ]
            ],
            "type": "contour"
           }
          ],
          "contourcarpet": [
           {
            "colorbar": {
             "outlinewidth": 0,
             "ticks": ""
            },
            "type": "contourcarpet"
           }
          ],
          "heatmap": [
           {
            "colorbar": {
             "outlinewidth": 0,
             "ticks": ""
            },
            "colorscale": [
             [
              0,
              "#0d0887"
             ],
             [
              0.1111111111111111,
              "#46039f"
             ],
             [
              0.2222222222222222,
              "#7201a8"
             ],
             [
              0.3333333333333333,
              "#9c179e"
             ],
             [
              0.4444444444444444,
              "#bd3786"
             ],
             [
              0.5555555555555556,
              "#d8576b"
             ],
             [
              0.6666666666666666,
              "#ed7953"
             ],
             [
              0.7777777777777778,
              "#fb9f3a"
             ],
             [
              0.8888888888888888,
              "#fdca26"
             ],
             [
              1,
              "#f0f921"
             ]
            ],
            "type": "heatmap"
           }
          ],
          "heatmapgl": [
           {
            "colorbar": {
             "outlinewidth": 0,
             "ticks": ""
            },
            "colorscale": [
             [
              0,
              "#0d0887"
             ],
             [
              0.1111111111111111,
              "#46039f"
             ],
             [
              0.2222222222222222,
              "#7201a8"
             ],
             [
              0.3333333333333333,
              "#9c179e"
             ],
             [
              0.4444444444444444,
              "#bd3786"
             ],
             [
              0.5555555555555556,
              "#d8576b"
             ],
             [
              0.6666666666666666,
              "#ed7953"
             ],
             [
              0.7777777777777778,
              "#fb9f3a"
             ],
             [
              0.8888888888888888,
              "#fdca26"
             ],
             [
              1,
              "#f0f921"
             ]
            ],
            "type": "heatmapgl"
           }
          ],
          "histogram": [
           {
            "marker": {
             "pattern": {
              "fillmode": "overlay",
              "size": 10,
              "solidity": 0.2
             }
            },
            "type": "histogram"
           }
          ],
          "histogram2d": [
           {
            "colorbar": {
             "outlinewidth": 0,
             "ticks": ""
            },
            "colorscale": [
             [
              0,
              "#0d0887"
             ],
             [
              0.1111111111111111,
              "#46039f"
             ],
             [
              0.2222222222222222,
              "#7201a8"
             ],
             [
              0.3333333333333333,
              "#9c179e"
             ],
             [
              0.4444444444444444,
              "#bd3786"
             ],
             [
              0.5555555555555556,
              "#d8576b"
             ],
             [
              0.6666666666666666,
              "#ed7953"
             ],
             [
              0.7777777777777778,
              "#fb9f3a"
             ],
             [
              0.8888888888888888,
              "#fdca26"
             ],
             [
              1,
              "#f0f921"
             ]
            ],
            "type": "histogram2d"
           }
          ],
          "histogram2dcontour": [
           {
            "colorbar": {
             "outlinewidth": 0,
             "ticks": ""
            },
            "colorscale": [
             [
              0,
              "#0d0887"
             ],
             [
              0.1111111111111111,
              "#46039f"
             ],
             [
              0.2222222222222222,
              "#7201a8"
             ],
             [
              0.3333333333333333,
              "#9c179e"
             ],
             [
              0.4444444444444444,
              "#bd3786"
             ],
             [
              0.5555555555555556,
              "#d8576b"
             ],
             [
              0.6666666666666666,
              "#ed7953"
             ],
             [
              0.7777777777777778,
              "#fb9f3a"
             ],
             [
              0.8888888888888888,
              "#fdca26"
             ],
             [
              1,
              "#f0f921"
             ]
            ],
            "type": "histogram2dcontour"
           }
          ],
          "mesh3d": [
           {
            "colorbar": {
             "outlinewidth": 0,
             "ticks": ""
            },
            "type": "mesh3d"
           }
          ],
          "parcoords": [
           {
            "line": {
             "colorbar": {
              "outlinewidth": 0,
              "ticks": ""
             }
            },
            "type": "parcoords"
           }
          ],
          "pie": [
           {
            "automargin": true,
            "type": "pie"
           }
          ],
          "scatter": [
           {
            "marker": {
             "colorbar": {
              "outlinewidth": 0,
              "ticks": ""
             }
            },
            "type": "scatter"
           }
          ],
          "scatter3d": [
           {
            "line": {
             "colorbar": {
              "outlinewidth": 0,
              "ticks": ""
             }
            },
            "marker": {
             "colorbar": {
              "outlinewidth": 0,
              "ticks": ""
             }
            },
            "type": "scatter3d"
           }
          ],
          "scattercarpet": [
           {
            "marker": {
             "colorbar": {
              "outlinewidth": 0,
              "ticks": ""
             }
            },
            "type": "scattercarpet"
           }
          ],
          "scattergeo": [
           {
            "marker": {
             "colorbar": {
              "outlinewidth": 0,
              "ticks": ""
             }
            },
            "type": "scattergeo"
           }
          ],
          "scattergl": [
           {
            "marker": {
             "colorbar": {
              "outlinewidth": 0,
              "ticks": ""
             }
            },
            "type": "scattergl"
           }
          ],
          "scattermapbox": [
           {
            "marker": {
             "colorbar": {
              "outlinewidth": 0,
              "ticks": ""
             }
            },
            "type": "scattermapbox"
           }
          ],
          "scatterpolar": [
           {
            "marker": {
             "colorbar": {
              "outlinewidth": 0,
              "ticks": ""
             }
            },
            "type": "scatterpolar"
           }
          ],
          "scatterpolargl": [
           {
            "marker": {
             "colorbar": {
              "outlinewidth": 0,
              "ticks": ""
             }
            },
            "type": "scatterpolargl"
           }
          ],
          "scatterternary": [
           {
            "marker": {
             "colorbar": {
              "outlinewidth": 0,
              "ticks": ""
             }
            },
            "type": "scatterternary"
           }
          ],
          "surface": [
           {
            "colorbar": {
             "outlinewidth": 0,
             "ticks": ""
            },
            "colorscale": [
             [
              0,
              "#0d0887"
             ],
             [
              0.1111111111111111,
              "#46039f"
             ],
             [
              0.2222222222222222,
              "#7201a8"
             ],
             [
              0.3333333333333333,
              "#9c179e"
             ],
             [
              0.4444444444444444,
              "#bd3786"
             ],
             [
              0.5555555555555556,
              "#d8576b"
             ],
             [
              0.6666666666666666,
              "#ed7953"
             ],
             [
              0.7777777777777778,
              "#fb9f3a"
             ],
             [
              0.8888888888888888,
              "#fdca26"
             ],
             [
              1,
              "#f0f921"
             ]
            ],
            "type": "surface"
           }
          ],
          "table": [
           {
            "cells": {
             "fill": {
              "color": "#EBF0F8"
             },
             "line": {
              "color": "white"
             }
            },
            "header": {
             "fill": {
              "color": "#C8D4E3"
             },
             "line": {
              "color": "white"
             }
            },
            "type": "table"
           }
          ]
         },
         "layout": {
          "annotationdefaults": {
           "arrowcolor": "#2a3f5f",
           "arrowhead": 0,
           "arrowwidth": 1
          },
          "autotypenumbers": "strict",
          "coloraxis": {
           "colorbar": {
            "outlinewidth": 0,
            "ticks": ""
           }
          },
          "colorscale": {
           "diverging": [
            [
             0,
             "#8e0152"
            ],
            [
             0.1,
             "#c51b7d"
            ],
            [
             0.2,
             "#de77ae"
            ],
            [
             0.3,
             "#f1b6da"
            ],
            [
             0.4,
             "#fde0ef"
            ],
            [
             0.5,
             "#f7f7f7"
            ],
            [
             0.6,
             "#e6f5d0"
            ],
            [
             0.7,
             "#b8e186"
            ],
            [
             0.8,
             "#7fbc41"
            ],
            [
             0.9,
             "#4d9221"
            ],
            [
             1,
             "#276419"
            ]
           ],
           "sequential": [
            [
             0,
             "#0d0887"
            ],
            [
             0.1111111111111111,
             "#46039f"
            ],
            [
             0.2222222222222222,
             "#7201a8"
            ],
            [
             0.3333333333333333,
             "#9c179e"
            ],
            [
             0.4444444444444444,
             "#bd3786"
            ],
            [
             0.5555555555555556,
             "#d8576b"
            ],
            [
             0.6666666666666666,
             "#ed7953"
            ],
            [
             0.7777777777777778,
             "#fb9f3a"
            ],
            [
             0.8888888888888888,
             "#fdca26"
            ],
            [
             1,
             "#f0f921"
            ]
           ],
           "sequentialminus": [
            [
             0,
             "#0d0887"
            ],
            [
             0.1111111111111111,
             "#46039f"
            ],
            [
             0.2222222222222222,
             "#7201a8"
            ],
            [
             0.3333333333333333,
             "#9c179e"
            ],
            [
             0.4444444444444444,
             "#bd3786"
            ],
            [
             0.5555555555555556,
             "#d8576b"
            ],
            [
             0.6666666666666666,
             "#ed7953"
            ],
            [
             0.7777777777777778,
             "#fb9f3a"
            ],
            [
             0.8888888888888888,
             "#fdca26"
            ],
            [
             1,
             "#f0f921"
            ]
           ]
          },
          "colorway": [
           "#636efa",
           "#EF553B",
           "#00cc96",
           "#ab63fa",
           "#FFA15A",
           "#19d3f3",
           "#FF6692",
           "#B6E880",
           "#FF97FF",
           "#FECB52"
          ],
          "font": {
           "color": "#2a3f5f"
          },
          "geo": {
           "bgcolor": "white",
           "lakecolor": "white",
           "landcolor": "#E5ECF6",
           "showlakes": true,
           "showland": true,
           "subunitcolor": "white"
          },
          "hoverlabel": {
           "align": "left"
          },
          "hovermode": "closest",
          "mapbox": {
           "style": "light"
          },
          "paper_bgcolor": "white",
          "plot_bgcolor": "#E5ECF6",
          "polar": {
           "angularaxis": {
            "gridcolor": "white",
            "linecolor": "white",
            "ticks": ""
           },
           "bgcolor": "#E5ECF6",
           "radialaxis": {
            "gridcolor": "white",
            "linecolor": "white",
            "ticks": ""
           }
          },
          "scene": {
           "xaxis": {
            "backgroundcolor": "#E5ECF6",
            "gridcolor": "white",
            "gridwidth": 2,
            "linecolor": "white",
            "showbackground": true,
            "ticks": "",
            "zerolinecolor": "white"
           },
           "yaxis": {
            "backgroundcolor": "#E5ECF6",
            "gridcolor": "white",
            "gridwidth": 2,
            "linecolor": "white",
            "showbackground": true,
            "ticks": "",
            "zerolinecolor": "white"
           },
           "zaxis": {
            "backgroundcolor": "#E5ECF6",
            "gridcolor": "white",
            "gridwidth": 2,
            "linecolor": "white",
            "showbackground": true,
            "ticks": "",
            "zerolinecolor": "white"
           }
          },
          "shapedefaults": {
           "line": {
            "color": "#2a3f5f"
           }
          },
          "ternary": {
           "aaxis": {
            "gridcolor": "white",
            "linecolor": "white",
            "ticks": ""
           },
           "baxis": {
            "gridcolor": "white",
            "linecolor": "white",
            "ticks": ""
           },
           "bgcolor": "#E5ECF6",
           "caxis": {
            "gridcolor": "white",
            "linecolor": "white",
            "ticks": ""
           }
          },
          "title": {
           "x": 0.05
          },
          "xaxis": {
           "automargin": true,
           "gridcolor": "white",
           "linecolor": "white",
           "ticks": "",
           "title": {
            "standoff": 15
           },
           "zerolinecolor": "white",
           "zerolinewidth": 2
          },
          "yaxis": {
           "automargin": true,
           "gridcolor": "white",
           "linecolor": "white",
           "ticks": "",
           "title": {
            "standoff": 15
           },
           "zerolinecolor": "white",
           "zerolinewidth": 2
          }
         }
        },
        "width": 600,
        "xaxis": {
         "mirror": "allticks",
         "rangemode": "tozero",
         "showgrid": false,
         "showline": true,
         "showticklabels": true,
         "tickmode": "array",
         "ticks": "outside",
         "ticktext": [
          "Emotional Risk Assessment",
          "Late Calms",
          "Peak Pressure",
          "Oak",
          "Passing Hills and Still Windmills",
          "Ice Deserts over Ross Island",
          "First Light",
          "Ledger",
          "#10",
          "Orionne",
          "Cherry Souls Awakening",
          "Swarms of Orange",
          "#2",
          "Home Is In The Mountains",
          "We Were Blond First",
          "#7",
          "Missed Language",
          "Taking Measures Toward Morning",
          "“To Be Holy, Be Wholly Your Own”",
          "Petrified Forest",
          "5:59 AM",
          "Blind Darsan",
          "Voiceless Devilfish",
          "Mass Clouds",
          "Fathom This Young Life",
          "It Goes over Me",
          "Aerial Interlude",
          "Concept 8",
          "Cloud Surface",
          "Susan Maybe",
          "Amaranta",
          "Your Name Is My Infinite",
          "TBW17",
          "Saxenburgh / Pepys / Aurora",
          "Pain Relief",
          "Los Jardines",
          "Swirral Edge",
          "Balayage",
          "#21",
          "Hold Gem Cut",
          "Tayos Caves, Ecuador i",
          "Ascending, Dawn Sky",
          "Marri",
          "Earth Love",
          "Arriving",
          "Amb",
          "If",
          "Sardinia",
          "Sit Around The Fire",
          "Hyperopia",
          "Right to Left",
          "Metal Master",
          "Open",
          "Bubble",
          "Nefertiti",
          "Till the Clouds Roll By",
          "Endnote",
          "Scarfs, Blisters and Night Lights",
          "Seeing; That Side of Teaching",
          "Waxwing Air",
          "Songbirds",
          "Creative Lizard",
          "First Image",
          "Gravel",
          "Revin",
          "Road to Toco",
          "Oyl",
          "On Deck",
          "Eh-Poh-Ne",
          "Mutualism",
          "From The Seams",
          "Gloamer",
          "Cegetel",
          "Yell0W_Tail",
          "A Clean Heart",
          "Concept 3",
          "Diving Birds",
          "What Otters",
          "Your Own Power",
          "Burn",
          "Critter",
          "Sensation",
          "Vetiver",
          "Color Me",
          "Spira Mirabilis",
          "Quadraluv",
          "Over",
          "Concept 11",
          "Stutter",
          "Yes.DJ",
          "Whispers",
          "Ani Ma",
          "Witness",
          "Brushes",
          "Walworth Waltz",
          "Blanket Dub",
          "Dreams Of A Digital Sublime",
          "Parallel Space",
          "Igam-Ogam",
          "All Wild Things Are Shy",
          "Rounded",
          "Cephas",
          "K1",
          "Starlite Xpress",
          "Snake Dance",
          "Concept 16",
          "Ender",
          "#15",
          "Citizen // Nowhere",
          "Diminuendo",
          "Grace",
          "Seeker",
          "The Ritual",
          "K2",
          "iii's Front",
          "4see",
          "Lerzin",
          "The Reason",
          "About Breathing - Remix",
          "Come Close",
          "Gathering",
          "Wetlands",
          "Intro",
          "Ekphrasis",
          "Hy Brasil",
          "Two For C",
          "Concept 15",
          "Projector",
          "Slow Fade",
          "Pteridium",
          "The Village",
          "Trace palmaire",
          "Drift",
          "Taprobana",
          "Foraging Music",
          "Parallel Space - Conforce Remix",
          "Quick Eternity",
          "Clear",
          "Clairvoyant",
          "Whole Wide Worlds",
          "Winged",
          "Steps to Breath",
          "2-9-1",
          "Tayos Caves, Ecuador iii",
          "Scramble",
          "Tilt",
          "Outro",
          "Pond In Moonlight",
          "#1",
          "#11",
          "#8",
          "#9",
          "Sky Host",
          "2see",
          "Yarrow",
          "Every Weather",
          "Anemone",
          "Creation Dub",
          "Enter Venus",
          "About Breathing",
          "Sema",
          "Pluck",
          "Tongue",
          "#18",
          "Sistine (Plucks)",
          "Mayo Slide",
          "Hiding in Plain Sight",
          "Farts",
          "6thematic",
          "Iso Stream",
          "Yl She's Away",
          "Breathe In",
          "April",
          "Concept 10",
          "Low D",
          "Marble Net",
          "Blush",
          "#23",
          "Days From Now",
          "Tapping on a Hollow Body",
          "Contra",
          "Life Love Impulse",
          "Kalma 2mg",
          "Galerie",
          "Concept 13",
          "Thought Painting",
          "Water Memory",
          "Concept 9",
          "Tuanahe",
          "Pluck II",
          "#13",
          "Mod 3",
          "Thalassocratie",
          "Pénombre",
          "Pippin (Version)",
          "Swift and Ersatz Cough to Morning",
          "Grounds",
          "Sluggish in the Morning",
          "#22",
          "Scratch the Chest of Your Voices",
          "Mi",
          "Ends Meet",
          "A Minor Echolocation",
          "Apricot Sunrise",
          "#14",
          "#3",
          "Rain Machines",
          "#20",
          "Sablage",
          "Raccordement",
          "The Tower",
          "Deep In The Glowing Heart",
          "Mimosa",
          "Cry Winds or Flames",
          "Hotel Nota",
          "Myrtus",
          "#24",
          "80,000 Feet",
          "Welcome",
          "Tayos Caves, Ecuador ii",
          "A Clearing (In Empty Space)",
          "#4",
          "Description of Rain (Over Frisland)",
          "Love Flows Over Us In Prismatic Waves",
          "Mansana",
          "Low Bridge (Lights)",
          "#6",
          "The Divine is not Invisible",
          "Artificial Colours",
          "Echelons",
          "Campana",
          "Polly",
          "Edie",
          "The Stars are only Smears",
          "#5",
          "On Demons and Diamonds",
          "#17",
          "Luna",
          "#16",
          "Sunshower at Sandy Island",
          "Du rocher",
          "Tiles & Glass",
          "Thicket",
          "Whale",
          "Opal",
          "Embers",
          "Full Cavity",
          "Planetarium",
          "Stereo L",
          "Feb Patch",
          "Pure",
          "Longe-côte",
          "How to Disappear in a Kiss",
          "Diphenhydramine",
          "Fonseca Winds (Lament)",
          "Homebody",
          "Petal Patch",
          "I'll See It When I Believe It",
          "Striding Edge",
          "Pippin",
          "On A Nimbus",
          "Short Leg",
          "Under",
          "Le bématiste",
          "Bellamore",
          "Coraline",
          "#12",
          "Plant Memory",
          "Interlude",
          "Concept 1",
          "Gypsum",
          "Seven Hour Flight to Nowhere",
          "Verge",
          "Photosynthesis",
          "Not All It's Cracked up to Be",
          "Looking Inside to See How it Works",
          "#19",
          "Borage",
          "Verso",
          "Liminal",
          "Calypso",
          "Shkrub",
          "Afterburn",
          "Rosa",
          "Tech Ne",
          "Passerby",
          "True Gleam",
          "Approximate Bermeja",
          "The Water Sibyl",
          "Glitter",
          "Ssky",
          "w Dad",
          "Onaseuse / Crespo / Rica de Oro",
          "Wake Up Now",
          "Khalifa Golf Club"
         ],
         "tickvals": [
          5,
          15,
          25,
          35,
          45,
          55,
          65,
          75,
          85,
          95,
          105,
          115,
          125,
          135,
          145,
          155,
          165,
          175,
          185,
          195,
          205,
          215,
          225,
          235,
          245,
          255,
          265,
          275,
          285,
          295,
          305,
          315,
          325,
          335,
          345,
          355,
          365,
          375,
          385,
          395,
          405,
          415,
          425,
          435,
          445,
          455,
          465,
          475,
          485,
          495,
          505,
          515,
          525,
          535,
          545,
          555,
          565,
          575,
          585,
          595,
          605,
          615,
          625,
          635,
          645,
          655,
          665,
          675,
          685,
          695,
          705,
          715,
          725,
          735,
          745,
          755,
          765,
          775,
          785,
          795,
          805,
          815,
          825,
          835,
          845,
          855,
          865,
          875,
          885,
          895,
          905,
          915,
          925,
          935,
          945,
          955,
          965,
          975,
          985,
          995,
          1005,
          1015,
          1025,
          1035,
          1045,
          1055,
          1065,
          1075,
          1085,
          1095,
          1105,
          1115,
          1125,
          1135,
          1145,
          1155,
          1165,
          1175,
          1185,
          1195,
          1205,
          1215,
          1225,
          1235,
          1245,
          1255,
          1265,
          1275,
          1285,
          1295,
          1305,
          1315,
          1325,
          1335,
          1345,
          1355,
          1365,
          1375,
          1385,
          1395,
          1405,
          1415,
          1425,
          1435,
          1445,
          1455,
          1465,
          1475,
          1485,
          1495,
          1505,
          1515,
          1525,
          1535,
          1545,
          1555,
          1565,
          1575,
          1585,
          1595,
          1605,
          1615,
          1625,
          1635,
          1645,
          1655,
          1665,
          1675,
          1685,
          1695,
          1705,
          1715,
          1725,
          1735,
          1745,
          1755,
          1765,
          1775,
          1785,
          1795,
          1805,
          1815,
          1825,
          1835,
          1845,
          1855,
          1865,
          1875,
          1885,
          1895,
          1905,
          1915,
          1925,
          1935,
          1945,
          1955,
          1965,
          1975,
          1985,
          1995,
          2005,
          2015,
          2025,
          2035,
          2045,
          2055,
          2065,
          2075,
          2085,
          2095,
          2105,
          2115,
          2125,
          2135,
          2145,
          2155,
          2165,
          2175,
          2185,
          2195,
          2205,
          2215,
          2225,
          2235,
          2245,
          2255,
          2265,
          2275,
          2285,
          2295,
          2305,
          2315,
          2325,
          2335,
          2345,
          2355,
          2365,
          2375,
          2385,
          2395,
          2405,
          2415,
          2425,
          2435,
          2445,
          2455,
          2465,
          2475,
          2485,
          2495,
          2505,
          2515,
          2525,
          2535,
          2545,
          2555,
          2565,
          2575,
          2585,
          2595,
          2605,
          2615,
          2625,
          2635,
          2645,
          2655,
          2665,
          2675,
          2685,
          2695,
          2705,
          2715,
          2725,
          2735,
          2745,
          2755,
          2765,
          2775,
          2785,
          2795,
          2805,
          2815,
          2825,
          2835,
          2845,
          2855,
          2865,
          2875,
          2885,
          2895,
          2905,
          2915,
          2925,
          2935,
          2945
         ],
         "type": "linear",
         "zeroline": false
        },
        "yaxis": {
         "mirror": "allticks",
         "rangemode": "tozero",
         "showgrid": false,
         "showline": true,
         "showticklabels": true,
         "ticks": "outside",
         "type": "linear",
         "zeroline": false
        }
       }
      },
      "text/html": [
       "<div>                            <div id=\"6ca453a8-0e8f-4c2f-9c9b-47d6d388be0b\" class=\"plotly-graph-div\" style=\"height:400px; width:600px;\"></div>            <script type=\"text/javascript\">                require([\"plotly\"], function(Plotly) {                    window.PLOTLYENV=window.PLOTLYENV || {};                                    if (document.getElementById(\"6ca453a8-0e8f-4c2f-9c9b-47d6d388be0b\")) {                    Plotly.newPlot(                        \"6ca453a8-0e8f-4c2f-9c9b-47d6d388be0b\",                        [{\"hoverinfo\":\"text\",\"marker\":{\"color\":\"rgb(61,153,112)\"},\"mode\":\"lines\",\"x\":[5.0,5.0,15.0,15.0],\"xaxis\":\"x\",\"y\":[0.0,0.07584917910927724,0.07584917910927724,0.0],\"yaxis\":\"y\",\"type\":\"scatter\"},{\"hoverinfo\":\"text\",\"marker\":{\"color\":\"rgb(61,153,112)\"},\"mode\":\"lines\",\"x\":[35.0,35.0,45.0,45.0],\"xaxis\":\"x\",\"y\":[0.0,0.02759139166370381,0.02759139166370381,0.0],\"yaxis\":\"y\",\"type\":\"scatter\"},{\"hoverinfo\":\"text\",\"marker\":{\"color\":\"rgb(61,153,112)\"},\"mode\":\"lines\",\"x\":[25.0,25.0,40.0,40.0],\"xaxis\":\"x\",\"y\":[0.0,0.06261241793471442,0.06261241793471442,0.02759139166370381],\"yaxis\":\"y\",\"type\":\"scatter\"},{\"hoverinfo\":\"text\",\"marker\":{\"color\":\"rgb(61,153,112)\"},\"mode\":\"lines\",\"x\":[55.0,55.0,65.0,65.0],\"xaxis\":\"x\",\"y\":[0.0,0.056092441504537,0.056092441504537,0.0],\"yaxis\":\"y\",\"type\":\"scatter\"},{\"hoverinfo\":\"text\",\"marker\":{\"color\":\"rgb(61,153,112)\"},\"mode\":\"lines\",\"x\":[75.0,75.0,85.0,85.0],\"xaxis\":\"x\",\"y\":[0.0,0.033386703849585156,0.033386703849585156,0.0],\"yaxis\":\"y\",\"type\":\"scatter\"},{\"hoverinfo\":\"text\",\"marker\":{\"color\":\"rgb(61,153,112)\"},\"mode\":\"lines\",\"x\":[105.0,105.0,115.0,115.0],\"xaxis\":\"x\",\"y\":[0.0,0.035338122471796136,0.035338122471796136,0.0],\"yaxis\":\"y\",\"type\":\"scatter\"},{\"hoverinfo\":\"text\",\"marker\":{\"color\":\"rgb(61,153,112)\"},\"mode\":\"lines\",\"x\":[95.0,95.0,110.0,110.0],\"xaxis\":\"x\",\"y\":[0.0,0.048703268773527875,0.048703268773527875,0.035338122471796136],\"yaxis\":\"y\",\"type\":\"scatter\"},{\"hoverinfo\":\"text\",\"marker\":{\"color\":\"rgb(61,153,112)\"},\"mode\":\"lines\",\"x\":[80.0,80.0,102.5,102.5],\"xaxis\":\"x\",\"y\":[0.033386703849585156,0.06397896522882762,0.06397896522882762,0.048703268773527875],\"yaxis\":\"y\",\"type\":\"scatter\"},{\"hoverinfo\":\"text\",\"marker\":{\"color\":\"rgb(61,153,112)\"},\"mode\":\"lines\",\"x\":[60.0,60.0,91.25,91.25],\"xaxis\":\"x\",\"y\":[0.056092441504537,0.10430136368718361,0.10430136368718361,0.06397896522882762],\"yaxis\":\"y\",\"type\":\"scatter\"},{\"hoverinfo\":\"text\",\"marker\":{\"color\":\"rgb(61,153,112)\"},\"mode\":\"lines\",\"x\":[32.5,32.5,75.625,75.625],\"xaxis\":\"x\",\"y\":[0.06261241793471442,0.1329683417012862,0.1329683417012862,0.10430136368718361],\"yaxis\":\"y\",\"type\":\"scatter\"},{\"hoverinfo\":\"text\",\"marker\":{\"color\":\"rgb(61,153,112)\"},\"mode\":\"lines\",\"x\":[10.0,10.0,54.0625,54.0625],\"xaxis\":\"x\",\"y\":[0.07584917910927724,0.18538791160576795,0.18538791160576795,0.1329683417012862],\"yaxis\":\"y\",\"type\":\"scatter\"},{\"hoverinfo\":\"text\",\"marker\":{\"color\":\"rgb(61,153,112)\"},\"mode\":\"lines\",\"x\":[135.0,135.0,145.0,145.0],\"xaxis\":\"x\",\"y\":[0.0,0.06737270945740077,0.06737270945740077,0.0],\"yaxis\":\"y\",\"type\":\"scatter\"},{\"hoverinfo\":\"text\",\"marker\":{\"color\":\"rgb(61,153,112)\"},\"mode\":\"lines\",\"x\":[125.0,125.0,140.0,140.0],\"xaxis\":\"x\",\"y\":[0.0,0.12015193704539104,0.12015193704539104,0.06737270945740077],\"yaxis\":\"y\",\"type\":\"scatter\"},{\"hoverinfo\":\"text\",\"marker\":{\"color\":\"rgb(61,153,112)\"},\"mode\":\"lines\",\"x\":[175.0,175.0,185.0,185.0],\"xaxis\":\"x\",\"y\":[0.0,0.017622088369003697,0.017622088369003697,0.0],\"yaxis\":\"y\",\"type\":\"scatter\"},{\"hoverinfo\":\"text\",\"marker\":{\"color\":\"rgb(61,153,112)\"},\"mode\":\"lines\",\"x\":[165.0,165.0,180.0,180.0],\"xaxis\":\"x\",\"y\":[0.0,0.04756290667896081,0.04756290667896081,0.017622088369003697],\"yaxis\":\"y\",\"type\":\"scatter\"},{\"hoverinfo\":\"text\",\"marker\":{\"color\":\"rgb(61,153,112)\"},\"mode\":\"lines\",\"x\":[155.0,155.0,172.5,172.5],\"xaxis\":\"x\",\"y\":[0.0,0.06618369889807964,0.06618369889807964,0.04756290667896081],\"yaxis\":\"y\",\"type\":\"scatter\"},{\"hoverinfo\":\"text\",\"marker\":{\"color\":\"rgb(61,153,112)\"},\"mode\":\"lines\",\"x\":[195.0,195.0,205.0,205.0],\"xaxis\":\"x\",\"y\":[0.0,0.012237646832622668,0.012237646832622668,0.0],\"yaxis\":\"y\",\"type\":\"scatter\"},{\"hoverinfo\":\"text\",\"marker\":{\"color\":\"rgb(61,153,112)\"},\"mode\":\"lines\",\"x\":[225.0,225.0,235.0,235.0],\"xaxis\":\"x\",\"y\":[0.0,0.01826871912546075,0.01826871912546075,0.0],\"yaxis\":\"y\",\"type\":\"scatter\"},{\"hoverinfo\":\"text\",\"marker\":{\"color\":\"rgb(61,153,112)\"},\"mode\":\"lines\",\"x\":[215.0,215.0,230.0,230.0],\"xaxis\":\"x\",\"y\":[0.0,0.02991471202922735,0.02991471202922735,0.01826871912546075],\"yaxis\":\"y\",\"type\":\"scatter\"},{\"hoverinfo\":\"text\",\"marker\":{\"color\":\"rgb(61,153,112)\"},\"mode\":\"lines\",\"x\":[200.0,200.0,222.5,222.5],\"xaxis\":\"x\",\"y\":[0.012237646832622668,0.0480891057911415,0.0480891057911415,0.02991471202922735],\"yaxis\":\"y\",\"type\":\"scatter\"},{\"hoverinfo\":\"text\",\"marker\":{\"color\":\"rgb(61,153,112)\"},\"mode\":\"lines\",\"x\":[255.0,255.0,265.0,265.0],\"xaxis\":\"x\",\"y\":[0.0,0.023426523426058415,0.023426523426058415,0.0],\"yaxis\":\"y\",\"type\":\"scatter\"},{\"hoverinfo\":\"text\",\"marker\":{\"color\":\"rgb(61,153,112)\"},\"mode\":\"lines\",\"x\":[245.0,245.0,260.0,260.0],\"xaxis\":\"x\",\"y\":[0.0,0.06205068876136362,0.06205068876136362,0.023426523426058415],\"yaxis\":\"y\",\"type\":\"scatter\"},{\"hoverinfo\":\"text\",\"marker\":{\"color\":\"rgb(61,153,112)\"},\"mode\":\"lines\",\"x\":[211.25,211.25,252.5,252.5],\"xaxis\":\"x\",\"y\":[0.0480891057911415,0.0875592376469018,0.0875592376469018,0.06205068876136362],\"yaxis\":\"y\",\"type\":\"scatter\"},{\"hoverinfo\":\"text\",\"marker\":{\"color\":\"rgb(61,153,112)\"},\"mode\":\"lines\",\"x\":[163.75,163.75,231.875,231.875],\"xaxis\":\"x\",\"y\":[0.06618369889807964,0.12350162746443784,0.12350162746443784,0.0875592376469018],\"yaxis\":\"y\",\"type\":\"scatter\"},{\"hoverinfo\":\"text\",\"marker\":{\"color\":\"rgb(61,153,112)\"},\"mode\":\"lines\",\"x\":[132.5,132.5,197.8125,197.8125],\"xaxis\":\"x\",\"y\":[0.12015193704539104,0.1946928298005851,0.1946928298005851,0.12350162746443784],\"yaxis\":\"y\",\"type\":\"scatter\"},{\"hoverinfo\":\"text\",\"marker\":{\"color\":\"rgb(61,153,112)\"},\"mode\":\"lines\",\"x\":[32.03125,32.03125,165.15625,165.15625],\"xaxis\":\"x\",\"y\":[0.18538791160576795,0.3043752091602582,0.3043752091602582,0.1946928298005851],\"yaxis\":\"y\",\"type\":\"scatter\"},{\"hoverinfo\":\"text\",\"marker\":{\"color\":\"rgb(61,153,112)\"},\"mode\":\"lines\",\"x\":[275.0,275.0,285.0,285.0],\"xaxis\":\"x\",\"y\":[0.0,0.12139707531398773,0.12139707531398773,0.0],\"yaxis\":\"y\",\"type\":\"scatter\"},{\"hoverinfo\":\"text\",\"marker\":{\"color\":\"rgb(61,153,112)\"},\"mode\":\"lines\",\"x\":[295.0,295.0,305.0,305.0],\"xaxis\":\"x\",\"y\":[0.0,0.031411335490657236,0.031411335490657236,0.0],\"yaxis\":\"y\",\"type\":\"scatter\"},{\"hoverinfo\":\"text\",\"marker\":{\"color\":\"rgb(61,153,112)\"},\"mode\":\"lines\",\"x\":[315.0,315.0,325.0,325.0],\"xaxis\":\"x\",\"y\":[0.0,0.03820586328335608,0.03820586328335608,0.0],\"yaxis\":\"y\",\"type\":\"scatter\"},{\"hoverinfo\":\"text\",\"marker\":{\"color\":\"rgb(61,153,112)\"},\"mode\":\"lines\",\"x\":[300.0,300.0,320.0,320.0],\"xaxis\":\"x\",\"y\":[0.031411335490657236,0.07536164806109918,0.07536164806109918,0.03820586328335608],\"yaxis\":\"y\",\"type\":\"scatter\"},{\"hoverinfo\":\"text\",\"marker\":{\"color\":\"rgb(61,153,112)\"},\"mode\":\"lines\",\"x\":[345.0,345.0,355.0,355.0],\"xaxis\":\"x\",\"y\":[0.0,0.025000000000000022,0.025000000000000022,0.0],\"yaxis\":\"y\",\"type\":\"scatter\"},{\"hoverinfo\":\"text\",\"marker\":{\"color\":\"rgb(61,153,112)\"},\"mode\":\"lines\",\"x\":[335.0,335.0,350.0,350.0],\"xaxis\":\"x\",\"y\":[0.0,0.053987702278450685,0.053987702278450685,0.025000000000000022],\"yaxis\":\"y\",\"type\":\"scatter\"},{\"hoverinfo\":\"text\",\"marker\":{\"color\":\"rgb(61,153,112)\"},\"mode\":\"lines\",\"x\":[365.0,365.0,375.0,375.0],\"xaxis\":\"x\",\"y\":[0.0,0.05840095887317801,0.05840095887317801,0.0],\"yaxis\":\"y\",\"type\":\"scatter\"},{\"hoverinfo\":\"text\",\"marker\":{\"color\":\"rgb(61,153,112)\"},\"mode\":\"lines\",\"x\":[342.5,342.5,370.0,370.0],\"xaxis\":\"x\",\"y\":[0.053987702278450685,0.11328371455406293,0.11328371455406293,0.05840095887317801],\"yaxis\":\"y\",\"type\":\"scatter\"},{\"hoverinfo\":\"text\",\"marker\":{\"color\":\"rgb(61,153,112)\"},\"mode\":\"lines\",\"x\":[310.0,310.0,356.25,356.25],\"xaxis\":\"x\",\"y\":[0.07536164806109918,0.12395886387292199,0.12395886387292199,0.11328371455406293],\"yaxis\":\"y\",\"type\":\"scatter\"},{\"hoverinfo\":\"text\",\"marker\":{\"color\":\"rgb(61,153,112)\"},\"mode\":\"lines\",\"x\":[280.0,280.0,333.125,333.125],\"xaxis\":\"x\",\"y\":[0.12139707531398773,0.2018066596225818,0.2018066596225818,0.12395886387292199],\"yaxis\":\"y\",\"type\":\"scatter\"},{\"hoverinfo\":\"text\",\"marker\":{\"color\":\"rgb(61,153,112)\"},\"mode\":\"lines\",\"x\":[395.0,395.0,405.0,405.0],\"xaxis\":\"x\",\"y\":[0.0,0.022069028067218173,0.022069028067218173,0.0],\"yaxis\":\"y\",\"type\":\"scatter\"},{\"hoverinfo\":\"text\",\"marker\":{\"color\":\"rgb(61,153,112)\"},\"mode\":\"lines\",\"x\":[385.0,385.0,400.0,400.0],\"xaxis\":\"x\",\"y\":[0.0,0.044168336920975215,0.044168336920975215,0.022069028067218173],\"yaxis\":\"y\",\"type\":\"scatter\"},{\"hoverinfo\":\"text\",\"marker\":{\"color\":\"rgb(61,153,112)\"},\"mode\":\"lines\",\"x\":[425.0,425.0,435.0,435.0],\"xaxis\":\"x\",\"y\":[0.0,0.02581429833415922,0.02581429833415922,0.0],\"yaxis\":\"y\",\"type\":\"scatter\"},{\"hoverinfo\":\"text\",\"marker\":{\"color\":\"rgb(61,153,112)\"},\"mode\":\"lines\",\"x\":[415.0,415.0,430.0,430.0],\"xaxis\":\"x\",\"y\":[0.0,0.07005740491315962,0.07005740491315962,0.02581429833415922],\"yaxis\":\"y\",\"type\":\"scatter\"},{\"hoverinfo\":\"text\",\"marker\":{\"color\":\"rgb(61,153,112)\"},\"mode\":\"lines\",\"x\":[455.0,455.0,465.0,465.0],\"xaxis\":\"x\",\"y\":[0.0,0.012289914557541257,0.012289914557541257,0.0],\"yaxis\":\"y\",\"type\":\"scatter\"},{\"hoverinfo\":\"text\",\"marker\":{\"color\":\"rgb(61,153,112)\"},\"mode\":\"lines\",\"x\":[445.0,445.0,460.0,460.0],\"xaxis\":\"x\",\"y\":[0.0,0.07528699754825972,0.07528699754825972,0.012289914557541257],\"yaxis\":\"y\",\"type\":\"scatter\"},{\"hoverinfo\":\"text\",\"marker\":{\"color\":\"rgb(61,153,112)\"},\"mode\":\"lines\",\"x\":[422.5,422.5,452.5,452.5],\"xaxis\":\"x\",\"y\":[0.07005740491315962,0.11591560702231125,0.11591560702231125,0.07528699754825972],\"yaxis\":\"y\",\"type\":\"scatter\"},{\"hoverinfo\":\"text\",\"marker\":{\"color\":\"rgb(61,153,112)\"},\"mode\":\"lines\",\"x\":[392.5,392.5,437.5,437.5],\"xaxis\":\"x\",\"y\":[0.044168336920975215,0.16651296606578292,0.16651296606578292,0.11591560702231125],\"yaxis\":\"y\",\"type\":\"scatter\"},{\"hoverinfo\":\"text\",\"marker\":{\"color\":\"rgb(61,153,112)\"},\"mode\":\"lines\",\"x\":[495.0,495.0,505.0,505.0],\"xaxis\":\"x\",\"y\":[0.0,0.028795277378880307,0.028795277378880307,0.0],\"yaxis\":\"y\",\"type\":\"scatter\"},{\"hoverinfo\":\"text\",\"marker\":{\"color\":\"rgb(61,153,112)\"},\"mode\":\"lines\",\"x\":[485.0,485.0,500.0,500.0],\"xaxis\":\"x\",\"y\":[0.0,0.050749502400909356,0.050749502400909356,0.028795277378880307],\"yaxis\":\"y\",\"type\":\"scatter\"},{\"hoverinfo\":\"text\",\"marker\":{\"color\":\"rgb(61,153,112)\"},\"mode\":\"lines\",\"x\":[475.0,475.0,492.5,492.5],\"xaxis\":\"x\",\"y\":[0.0,0.07941064157776086,0.07941064157776086,0.050749502400909356],\"yaxis\":\"y\",\"type\":\"scatter\"},{\"hoverinfo\":\"text\",\"marker\":{\"color\":\"rgb(61,153,112)\"},\"mode\":\"lines\",\"x\":[515.0,515.0,525.0,525.0],\"xaxis\":\"x\",\"y\":[0.0,0.04554534003040238,0.04554534003040238,0.0],\"yaxis\":\"y\",\"type\":\"scatter\"},{\"hoverinfo\":\"text\",\"marker\":{\"color\":\"rgb(61,153,112)\"},\"mode\":\"lines\",\"x\":[535.0,535.0,545.0,545.0],\"xaxis\":\"x\",\"y\":[0.0,0.04836279561811952,0.04836279561811952,0.0],\"yaxis\":\"y\",\"type\":\"scatter\"},{\"hoverinfo\":\"text\",\"marker\":{\"color\":\"rgb(61,153,112)\"},\"mode\":\"lines\",\"x\":[520.0,520.0,540.0,540.0],\"xaxis\":\"x\",\"y\":[0.04554534003040238,0.12572910552358038,0.12572910552358038,0.04836279561811952],\"yaxis\":\"y\",\"type\":\"scatter\"},{\"hoverinfo\":\"text\",\"marker\":{\"color\":\"rgb(61,153,112)\"},\"mode\":\"lines\",\"x\":[483.75,483.75,530.0,530.0],\"xaxis\":\"x\",\"y\":[0.07941064157776086,0.195393531104043,0.195393531104043,0.12572910552358038],\"yaxis\":\"y\",\"type\":\"scatter\"},{\"hoverinfo\":\"text\",\"marker\":{\"color\":\"rgb(61,153,112)\"},\"mode\":\"lines\",\"x\":[415.0,415.0,506.875,506.875],\"xaxis\":\"x\",\"y\":[0.16651296606578292,0.2359085795619783,0.2359085795619783,0.195393531104043],\"yaxis\":\"y\",\"type\":\"scatter\"},{\"hoverinfo\":\"text\",\"marker\":{\"color\":\"rgb(61,153,112)\"},\"mode\":\"lines\",\"x\":[306.5625,306.5625,460.9375,460.9375],\"xaxis\":\"x\",\"y\":[0.2018066596225818,0.3805355303973467,0.3805355303973467,0.2359085795619783],\"yaxis\":\"y\",\"type\":\"scatter\"},{\"hoverinfo\":\"text\",\"marker\":{\"color\":\"rgb(61,153,112)\"},\"mode\":\"lines\",\"x\":[98.59375,98.59375,383.75,383.75],\"xaxis\":\"x\",\"y\":[0.3043752091602582,0.41892494301161287,0.41892494301161287,0.3805355303973467],\"yaxis\":\"y\",\"type\":\"scatter\"},{\"hoverinfo\":\"text\",\"marker\":{\"color\":\"rgb(61,153,112)\"},\"mode\":\"lines\",\"x\":[575.0,575.0,585.0,585.0],\"xaxis\":\"x\",\"y\":[0.0,0.0001817,0.0001817,0.0],\"yaxis\":\"y\",\"type\":\"scatter\"},{\"hoverinfo\":\"text\",\"marker\":{\"color\":\"rgb(61,153,112)\"},\"mode\":\"lines\",\"x\":[565.0,565.0,580.0,580.0],\"xaxis\":\"x\",\"y\":[0.0,0.0263417,0.0263417,0.0001817],\"yaxis\":\"y\",\"type\":\"scatter\"},{\"hoverinfo\":\"text\",\"marker\":{\"color\":\"rgb(61,153,112)\"},\"mode\":\"lines\",\"x\":[555.0,555.0,572.5,572.5],\"xaxis\":\"x\",\"y\":[0.0,0.4379417,0.4379417,0.0263417],\"yaxis\":\"y\",\"type\":\"scatter\"},{\"hoverinfo\":\"text\",\"marker\":{\"color\":\"rgb(61,153,112)\"},\"mode\":\"lines\",\"x\":[241.171875,241.171875,563.75,563.75],\"xaxis\":\"x\",\"y\":[0.41892494301161287,0.6377804389573578,0.6377804389573578,0.4379417],\"yaxis\":\"y\",\"type\":\"scatter\"},{\"hoverinfo\":\"text\",\"marker\":{\"color\":\"rgb(255,65,54)\"},\"mode\":\"lines\",\"x\":[615.0,615.0,625.0,625.0],\"xaxis\":\"x\",\"y\":[0.0,0.021400934559032716,0.021400934559032716,0.0],\"yaxis\":\"y\",\"type\":\"scatter\"},{\"hoverinfo\":\"text\",\"marker\":{\"color\":\"rgb(255,65,54)\"},\"mode\":\"lines\",\"x\":[605.0,605.0,620.0,620.0],\"xaxis\":\"x\",\"y\":[0.0,0.05119265561803273,0.05119265561803273,0.021400934559032716],\"yaxis\":\"y\",\"type\":\"scatter\"},{\"hoverinfo\":\"text\",\"marker\":{\"color\":\"rgb(255,65,54)\"},\"mode\":\"lines\",\"x\":[655.0,655.0,665.0,665.0],\"xaxis\":\"x\",\"y\":[0.0,0.01758317375580004,0.01758317375580004,0.0],\"yaxis\":\"y\",\"type\":\"scatter\"},{\"hoverinfo\":\"text\",\"marker\":{\"color\":\"rgb(255,65,54)\"},\"mode\":\"lines\",\"x\":[645.0,645.0,660.0,660.0],\"xaxis\":\"x\",\"y\":[0.0,0.039421440813237674,0.039421440813237674,0.01758317375580004],\"yaxis\":\"y\",\"type\":\"scatter\"},{\"hoverinfo\":\"text\",\"marker\":{\"color\":\"rgb(255,65,54)\"},\"mode\":\"lines\",\"x\":[635.0,635.0,652.5,652.5],\"xaxis\":\"x\",\"y\":[0.0,0.05398497937838801,0.05398497937838801,0.039421440813237674],\"yaxis\":\"y\",\"type\":\"scatter\"},{\"hoverinfo\":\"text\",\"marker\":{\"color\":\"rgb(255,65,54)\"},\"mode\":\"lines\",\"x\":[612.5,612.5,643.75,643.75],\"xaxis\":\"x\",\"y\":[0.05119265561803273,0.09896040591686513,0.09896040591686513,0.05398497937838801],\"yaxis\":\"y\",\"type\":\"scatter\"},{\"hoverinfo\":\"text\",\"marker\":{\"color\":\"rgb(255,65,54)\"},\"mode\":\"lines\",\"x\":[595.0,595.0,628.125,628.125],\"xaxis\":\"x\",\"y\":[0.0,0.1041447932032654,0.1041447932032654,0.09896040591686513],\"yaxis\":\"y\",\"type\":\"scatter\"},{\"hoverinfo\":\"text\",\"marker\":{\"color\":\"rgb(255,65,54)\"},\"mode\":\"lines\",\"x\":[675.0,675.0,685.0,685.0],\"xaxis\":\"x\",\"y\":[0.0,0.04765553478654501,0.04765553478654501,0.0],\"yaxis\":\"y\",\"type\":\"scatter\"},{\"hoverinfo\":\"text\",\"marker\":{\"color\":\"rgb(255,65,54)\"},\"mode\":\"lines\",\"x\":[695.0,695.0,705.0,705.0],\"xaxis\":\"x\",\"y\":[0.0,0.06125102439328253,0.06125102439328253,0.0],\"yaxis\":\"y\",\"type\":\"scatter\"},{\"hoverinfo\":\"text\",\"marker\":{\"color\":\"rgb(255,65,54)\"},\"mode\":\"lines\",\"x\":[680.0,680.0,700.0,700.0],\"xaxis\":\"x\",\"y\":[0.04765553478654501,0.09267254168936126,0.09267254168936126,0.06125102439328253],\"yaxis\":\"y\",\"type\":\"scatter\"},{\"hoverinfo\":\"text\",\"marker\":{\"color\":\"rgb(255,65,54)\"},\"mode\":\"lines\",\"x\":[735.0,735.0,745.0,745.0],\"xaxis\":\"x\",\"y\":[0.0,0.032336852000567795,0.032336852000567795,0.0],\"yaxis\":\"y\",\"type\":\"scatter\"},{\"hoverinfo\":\"text\",\"marker\":{\"color\":\"rgb(255,65,54)\"},\"mode\":\"lines\",\"x\":[725.0,725.0,740.0,740.0],\"xaxis\":\"x\",\"y\":[0.0,0.06952969148849278,0.06952969148849278,0.032336852000567795],\"yaxis\":\"y\",\"type\":\"scatter\"},{\"hoverinfo\":\"text\",\"marker\":{\"color\":\"rgb(255,65,54)\"},\"mode\":\"lines\",\"x\":[715.0,715.0,732.5,732.5],\"xaxis\":\"x\",\"y\":[0.0,0.09491697407211294,0.09491697407211294,0.06952969148849278],\"yaxis\":\"y\",\"type\":\"scatter\"},{\"hoverinfo\":\"text\",\"marker\":{\"color\":\"rgb(255,65,54)\"},\"mode\":\"lines\",\"x\":[690.0,690.0,723.75,723.75],\"xaxis\":\"x\",\"y\":[0.09267254168936126,0.1551002835959729,0.1551002835959729,0.09491697407211294],\"yaxis\":\"y\",\"type\":\"scatter\"},{\"hoverinfo\":\"text\",\"marker\":{\"color\":\"rgb(255,65,54)\"},\"mode\":\"lines\",\"x\":[611.5625,611.5625,706.875,706.875],\"xaxis\":\"x\",\"y\":[0.1041447932032654,0.2109724579144989,0.2109724579144989,0.1551002835959729],\"yaxis\":\"y\",\"type\":\"scatter\"},{\"hoverinfo\":\"text\",\"marker\":{\"color\":\"rgb(255,65,54)\"},\"mode\":\"lines\",\"x\":[765.0,765.0,775.0,775.0],\"xaxis\":\"x\",\"y\":[0.0,0.08901151608523243,0.08901151608523243,0.0],\"yaxis\":\"y\",\"type\":\"scatter\"},{\"hoverinfo\":\"text\",\"marker\":{\"color\":\"rgb(255,65,54)\"},\"mode\":\"lines\",\"x\":[755.0,755.0,770.0,770.0],\"xaxis\":\"x\",\"y\":[0.0,0.19892006410374613,0.19892006410374613,0.08901151608523243],\"yaxis\":\"y\",\"type\":\"scatter\"},{\"hoverinfo\":\"text\",\"marker\":{\"color\":\"rgb(255,65,54)\"},\"mode\":\"lines\",\"x\":[785.0,785.0,795.0,795.0],\"xaxis\":\"x\",\"y\":[0.0,0.015557699053255405,0.015557699053255405,0.0],\"yaxis\":\"y\",\"type\":\"scatter\"},{\"hoverinfo\":\"text\",\"marker\":{\"color\":\"rgb(255,65,54)\"},\"mode\":\"lines\",\"x\":[805.0,805.0,815.0,815.0],\"xaxis\":\"x\",\"y\":[0.0,0.026363800860111183,0.026363800860111183,0.0],\"yaxis\":\"y\",\"type\":\"scatter\"},{\"hoverinfo\":\"text\",\"marker\":{\"color\":\"rgb(255,65,54)\"},\"mode\":\"lines\",\"x\":[790.0,790.0,810.0,810.0],\"xaxis\":\"x\",\"y\":[0.015557699053255405,0.05020159343254351,0.05020159343254351,0.026363800860111183],\"yaxis\":\"y\",\"type\":\"scatter\"},{\"hoverinfo\":\"text\",\"marker\":{\"color\":\"rgb(255,65,54)\"},\"mode\":\"lines\",\"x\":[825.0,825.0,835.0,835.0],\"xaxis\":\"x\",\"y\":[0.0,0.0461993289830596,0.0461993289830596,0.0],\"yaxis\":\"y\",\"type\":\"scatter\"},{\"hoverinfo\":\"text\",\"marker\":{\"color\":\"rgb(255,65,54)\"},\"mode\":\"lines\",\"x\":[855.0,855.0,865.0,865.0],\"xaxis\":\"x\",\"y\":[0.0,0.0354265719458101,0.0354265719458101,0.0],\"yaxis\":\"y\",\"type\":\"scatter\"},{\"hoverinfo\":\"text\",\"marker\":{\"color\":\"rgb(255,65,54)\"},\"mode\":\"lines\",\"x\":[845.0,845.0,860.0,860.0],\"xaxis\":\"x\",\"y\":[0.0,0.0646814346565264,0.0646814346565264,0.0354265719458101],\"yaxis\":\"y\",\"type\":\"scatter\"},{\"hoverinfo\":\"text\",\"marker\":{\"color\":\"rgb(255,65,54)\"},\"mode\":\"lines\",\"x\":[830.0,830.0,852.5,852.5],\"xaxis\":\"x\",\"y\":[0.0461993289830596,0.08778382538941898,0.08778382538941898,0.0646814346565264],\"yaxis\":\"y\",\"type\":\"scatter\"},{\"hoverinfo\":\"text\",\"marker\":{\"color\":\"rgb(255,65,54)\"},\"mode\":\"lines\",\"x\":[800.0,800.0,841.25,841.25],\"xaxis\":\"x\",\"y\":[0.05020159343254351,0.11046756075713508,0.11046756075713508,0.08778382538941898],\"yaxis\":\"y\",\"type\":\"scatter\"},{\"hoverinfo\":\"text\",\"marker\":{\"color\":\"rgb(255,65,54)\"},\"mode\":\"lines\",\"x\":[885.0,885.0,895.0,895.0],\"xaxis\":\"x\",\"y\":[0.0,0.03552002248460185,0.03552002248460185,0.0],\"yaxis\":\"y\",\"type\":\"scatter\"},{\"hoverinfo\":\"text\",\"marker\":{\"color\":\"rgb(255,65,54)\"},\"mode\":\"lines\",\"x\":[875.0,875.0,890.0,890.0],\"xaxis\":\"x\",\"y\":[0.0,0.06140032573203501,0.06140032573203501,0.03552002248460185],\"yaxis\":\"y\",\"type\":\"scatter\"},{\"hoverinfo\":\"text\",\"marker\":{\"color\":\"rgb(255,65,54)\"},\"mode\":\"lines\",\"x\":[915.0,915.0,925.0,925.0],\"xaxis\":\"x\",\"y\":[0.0,0.026347068135309824,0.026347068135309824,0.0],\"yaxis\":\"y\",\"type\":\"scatter\"},{\"hoverinfo\":\"text\",\"marker\":{\"color\":\"rgb(255,65,54)\"},\"mode\":\"lines\",\"x\":[905.0,905.0,920.0,920.0],\"xaxis\":\"x\",\"y\":[0.0,0.06562043888783183,0.06562043888783183,0.026347068135309824],\"yaxis\":\"y\",\"type\":\"scatter\"},{\"hoverinfo\":\"text\",\"marker\":{\"color\":\"rgb(255,65,54)\"},\"mode\":\"lines\",\"x\":[882.5,882.5,912.5,912.5],\"xaxis\":\"x\",\"y\":[0.06140032573203501,0.12375181612380447,0.12375181612380447,0.06562043888783183],\"yaxis\":\"y\",\"type\":\"scatter\"},{\"hoverinfo\":\"text\",\"marker\":{\"color\":\"rgb(255,65,54)\"},\"mode\":\"lines\",\"x\":[820.625,820.625,897.5,897.5],\"xaxis\":\"x\",\"y\":[0.11046756075713508,0.17085695177999408,0.17085695177999408,0.12375181612380447],\"yaxis\":\"y\",\"type\":\"scatter\"},{\"hoverinfo\":\"text\",\"marker\":{\"color\":\"rgb(255,65,54)\"},\"mode\":\"lines\",\"x\":[935.0,935.0,945.0,945.0],\"xaxis\":\"x\",\"y\":[0.0,0.02681510760358047,0.02681510760358047,0.0],\"yaxis\":\"y\",\"type\":\"scatter\"},{\"hoverinfo\":\"text\",\"marker\":{\"color\":\"rgb(255,65,54)\"},\"mode\":\"lines\",\"x\":[965.0,965.0,975.0,975.0],\"xaxis\":\"x\",\"y\":[0.0,0.01483805914958743,0.01483805914958743,0.0],\"yaxis\":\"y\",\"type\":\"scatter\"},{\"hoverinfo\":\"text\",\"marker\":{\"color\":\"rgb(255,65,54)\"},\"mode\":\"lines\",\"x\":[955.0,955.0,970.0,970.0],\"xaxis\":\"x\",\"y\":[0.0,0.052198543937800504,0.052198543937800504,0.01483805914958743],\"yaxis\":\"y\",\"type\":\"scatter\"},{\"hoverinfo\":\"text\",\"marker\":{\"color\":\"rgb(255,65,54)\"},\"mode\":\"lines\",\"x\":[940.0,940.0,962.5,962.5],\"xaxis\":\"x\",\"y\":[0.02681510760358047,0.08559013960326632,0.08559013960326632,0.052198543937800504],\"yaxis\":\"y\",\"type\":\"scatter\"},{\"hoverinfo\":\"text\",\"marker\":{\"color\":\"rgb(255,65,54)\"},\"mode\":\"lines\",\"x\":[995.0,995.0,1005.0,1005.0],\"xaxis\":\"x\",\"y\":[0.0,0.05447487488686785,0.05447487488686785,0.0],\"yaxis\":\"y\",\"type\":\"scatter\"},{\"hoverinfo\":\"text\",\"marker\":{\"color\":\"rgb(255,65,54)\"},\"mode\":\"lines\",\"x\":[985.0,985.0,1000.0,1000.0],\"xaxis\":\"x\",\"y\":[0.0,0.0555161956167713,0.0555161956167713,0.05447487488686785],\"yaxis\":\"y\",\"type\":\"scatter\"},{\"hoverinfo\":\"text\",\"marker\":{\"color\":\"rgb(255,65,54)\"},\"mode\":\"lines\",\"x\":[1025.0,1025.0,1035.0,1035.0],\"xaxis\":\"x\",\"y\":[0.0,0.04184545375344456,0.04184545375344456,0.0],\"yaxis\":\"y\",\"type\":\"scatter\"},{\"hoverinfo\":\"text\",\"marker\":{\"color\":\"rgb(255,65,54)\"},\"mode\":\"lines\",\"x\":[1015.0,1015.0,1030.0,1030.0],\"xaxis\":\"x\",\"y\":[0.0,0.06072890580275596,0.06072890580275596,0.04184545375344456],\"yaxis\":\"y\",\"type\":\"scatter\"},{\"hoverinfo\":\"text\",\"marker\":{\"color\":\"rgb(255,65,54)\"},\"mode\":\"lines\",\"x\":[992.5,992.5,1022.5,1022.5],\"xaxis\":\"x\",\"y\":[0.0555161956167713,0.12205601991424532,0.12205601991424532,0.06072890580275596],\"yaxis\":\"y\",\"type\":\"scatter\"},{\"hoverinfo\":\"text\",\"marker\":{\"color\":\"rgb(255,65,54)\"},\"mode\":\"lines\",\"x\":[951.25,951.25,1007.5,1007.5],\"xaxis\":\"x\",\"y\":[0.08559013960326632,0.18002135425895033,0.18002135425895033,0.12205601991424532],\"yaxis\":\"y\",\"type\":\"scatter\"},{\"hoverinfo\":\"text\",\"marker\":{\"color\":\"rgb(255,65,54)\"},\"mode\":\"lines\",\"x\":[859.0625,859.0625,979.375,979.375],\"xaxis\":\"x\",\"y\":[0.17085695177999408,0.24169657003566722,0.24169657003566722,0.18002135425895033],\"yaxis\":\"y\",\"type\":\"scatter\"},{\"hoverinfo\":\"text\",\"marker\":{\"color\":\"rgb(255,65,54)\"},\"mode\":\"lines\",\"x\":[762.5,762.5,919.21875,919.21875],\"xaxis\":\"x\",\"y\":[0.19892006410374613,0.31932352245636375,0.31932352245636375,0.24169657003566722],\"yaxis\":\"y\",\"type\":\"scatter\"},{\"hoverinfo\":\"text\",\"marker\":{\"color\":\"rgb(255,65,54)\"},\"mode\":\"lines\",\"x\":[659.21875,659.21875,840.859375,840.859375],\"xaxis\":\"x\",\"y\":[0.2109724579144989,0.33998900265415033,0.33998900265415033,0.31932352245636375],\"yaxis\":\"y\",\"type\":\"scatter\"},{\"hoverinfo\":\"text\",\"marker\":{\"color\":\"rgb(255,65,54)\"},\"mode\":\"lines\",\"x\":[1055.0,1055.0,1065.0,1065.0],\"xaxis\":\"x\",\"y\":[0.0,0.05701797958356299,0.05701797958356299,0.0],\"yaxis\":\"y\",\"type\":\"scatter\"},{\"hoverinfo\":\"text\",\"marker\":{\"color\":\"rgb(255,65,54)\"},\"mode\":\"lines\",\"x\":[1045.0,1045.0,1060.0,1060.0],\"xaxis\":\"x\",\"y\":[0.0,0.11582767370448048,0.11582767370448048,0.05701797958356299],\"yaxis\":\"y\",\"type\":\"scatter\"},{\"hoverinfo\":\"text\",\"marker\":{\"color\":\"rgb(255,65,54)\"},\"mode\":\"lines\",\"x\":[1095.0,1095.0,1105.0,1105.0],\"xaxis\":\"x\",\"y\":[0.0,0.0583984417470618,0.0583984417470618,0.0],\"yaxis\":\"y\",\"type\":\"scatter\"},{\"hoverinfo\":\"text\",\"marker\":{\"color\":\"rgb(255,65,54)\"},\"mode\":\"lines\",\"x\":[1085.0,1085.0,1100.0,1100.0],\"xaxis\":\"x\",\"y\":[0.0,0.09209564563788637,0.09209564563788637,0.0583984417470618],\"yaxis\":\"y\",\"type\":\"scatter\"},{\"hoverinfo\":\"text\",\"marker\":{\"color\":\"rgb(255,65,54)\"},\"mode\":\"lines\",\"x\":[1075.0,1075.0,1092.5,1092.5],\"xaxis\":\"x\",\"y\":[0.0,0.20293037677164577,0.20293037677164577,0.09209564563788637],\"yaxis\":\"y\",\"type\":\"scatter\"},{\"hoverinfo\":\"text\",\"marker\":{\"color\":\"rgb(255,65,54)\"},\"mode\":\"lines\",\"x\":[1052.5,1052.5,1083.75,1083.75],\"xaxis\":\"x\",\"y\":[0.11582767370448048,0.2502149315966973,0.2502149315966973,0.20293037677164577],\"yaxis\":\"y\",\"type\":\"scatter\"},{\"hoverinfo\":\"text\",\"marker\":{\"color\":\"rgb(255,65,54)\"},\"mode\":\"lines\",\"x\":[1135.0,1135.0,1145.0,1145.0],\"xaxis\":\"x\",\"y\":[0.0,0.02963744250918048,0.02963744250918048,0.0],\"yaxis\":\"y\",\"type\":\"scatter\"},{\"hoverinfo\":\"text\",\"marker\":{\"color\":\"rgb(255,65,54)\"},\"mode\":\"lines\",\"x\":[1125.0,1125.0,1140.0,1140.0],\"xaxis\":\"x\",\"y\":[0.0,0.036034871915131154,0.036034871915131154,0.02963744250918048],\"yaxis\":\"y\",\"type\":\"scatter\"},{\"hoverinfo\":\"text\",\"marker\":{\"color\":\"rgb(255,65,54)\"},\"mode\":\"lines\",\"x\":[1155.0,1155.0,1165.0,1165.0],\"xaxis\":\"x\",\"y\":[0.0,0.04451294178511214,0.04451294178511214,0.0],\"yaxis\":\"y\",\"type\":\"scatter\"},{\"hoverinfo\":\"text\",\"marker\":{\"color\":\"rgb(255,65,54)\"},\"mode\":\"lines\",\"x\":[1132.5,1132.5,1160.0,1160.0],\"xaxis\":\"x\",\"y\":[0.036034871915131154,0.06905112592674753,0.06905112592674753,0.04451294178511214],\"yaxis\":\"y\",\"type\":\"scatter\"},{\"hoverinfo\":\"text\",\"marker\":{\"color\":\"rgb(255,65,54)\"},\"mode\":\"lines\",\"x\":[1115.0,1115.0,1146.25,1146.25],\"xaxis\":\"x\",\"y\":[0.0,0.12087700316764144,0.12087700316764144,0.06905112592674753],\"yaxis\":\"y\",\"type\":\"scatter\"},{\"hoverinfo\":\"text\",\"marker\":{\"color\":\"rgb(255,65,54)\"},\"mode\":\"lines\",\"x\":[1185.0,1185.0,1195.0,1195.0],\"xaxis\":\"x\",\"y\":[0.0,0.06252333963670417,0.06252333963670417,0.0],\"yaxis\":\"y\",\"type\":\"scatter\"},{\"hoverinfo\":\"text\",\"marker\":{\"color\":\"rgb(255,65,54)\"},\"mode\":\"lines\",\"x\":[1175.0,1175.0,1190.0,1190.0],\"xaxis\":\"x\",\"y\":[0.0,0.12357612225568307,0.12357612225568307,0.06252333963670417],\"yaxis\":\"y\",\"type\":\"scatter\"},{\"hoverinfo\":\"text\",\"marker\":{\"color\":\"rgb(255,65,54)\"},\"mode\":\"lines\",\"x\":[1205.0,1205.0,1215.0,1215.0],\"xaxis\":\"x\",\"y\":[0.0,0.12449228055797426,0.12449228055797426,0.0],\"yaxis\":\"y\",\"type\":\"scatter\"},{\"hoverinfo\":\"text\",\"marker\":{\"color\":\"rgb(255,65,54)\"},\"mode\":\"lines\",\"x\":[1182.5,1182.5,1210.0,1210.0],\"xaxis\":\"x\",\"y\":[0.12357612225568307,0.17887928848387558,0.17887928848387558,0.12449228055797426],\"yaxis\":\"y\",\"type\":\"scatter\"},{\"hoverinfo\":\"text\",\"marker\":{\"color\":\"rgb(255,65,54)\"},\"mode\":\"lines\",\"x\":[1130.625,1130.625,1196.25,1196.25],\"xaxis\":\"x\",\"y\":[0.12087700316764144,0.3011630782992205,0.3011630782992205,0.17887928848387558],\"yaxis\":\"y\",\"type\":\"scatter\"},{\"hoverinfo\":\"text\",\"marker\":{\"color\":\"rgb(255,65,54)\"},\"mode\":\"lines\",\"x\":[1068.125,1068.125,1163.4375,1163.4375],\"xaxis\":\"x\",\"y\":[0.2502149315966973,0.4615817599856154,0.4615817599856154,0.3011630782992205],\"yaxis\":\"y\",\"type\":\"scatter\"},{\"hoverinfo\":\"text\",\"marker\":{\"color\":\"rgb(255,65,54)\"},\"mode\":\"lines\",\"x\":[750.0390625,750.0390625,1115.78125,1115.78125],\"xaxis\":\"x\",\"y\":[0.33998900265415033,0.4864518802326049,0.4864518802326049,0.4615817599856154],\"yaxis\":\"y\",\"type\":\"scatter\"},{\"hoverinfo\":\"text\",\"marker\":{\"color\":\"rgb(255,65,54)\"},\"mode\":\"lines\",\"x\":[1245.0,1245.0,1255.0,1255.0],\"xaxis\":\"x\",\"y\":[0.0,0.0746437404557576,0.0746437404557576,0.0],\"yaxis\":\"y\",\"type\":\"scatter\"},{\"hoverinfo\":\"text\",\"marker\":{\"color\":\"rgb(255,65,54)\"},\"mode\":\"lines\",\"x\":[1235.0,1235.0,1250.0,1250.0],\"xaxis\":\"x\",\"y\":[0.0,0.16230049227833038,0.16230049227833038,0.0746437404557576],\"yaxis\":\"y\",\"type\":\"scatter\"},{\"hoverinfo\":\"text\",\"marker\":{\"color\":\"rgb(255,65,54)\"},\"mode\":\"lines\",\"x\":[1225.0,1225.0,1242.5,1242.5],\"xaxis\":\"x\",\"y\":[0.0,0.4067173588416978,0.4067173588416978,0.16230049227833038],\"yaxis\":\"y\",\"type\":\"scatter\"},{\"hoverinfo\":\"text\",\"marker\":{\"color\":\"rgb(255,65,54)\"},\"mode\":\"lines\",\"x\":[1265.0,1265.0,1275.0,1275.0],\"xaxis\":\"x\",\"y\":[0.0,0.13883267624712817,0.13883267624712817,0.0],\"yaxis\":\"y\",\"type\":\"scatter\"},{\"hoverinfo\":\"text\",\"marker\":{\"color\":\"rgb(255,65,54)\"},\"mode\":\"lines\",\"x\":[1295.0,1295.0,1305.0,1305.0],\"xaxis\":\"x\",\"y\":[0.0,0.06644078565523573,0.06644078565523573,0.0],\"yaxis\":\"y\",\"type\":\"scatter\"},{\"hoverinfo\":\"text\",\"marker\":{\"color\":\"rgb(255,65,54)\"},\"mode\":\"lines\",\"x\":[1285.0,1285.0,1300.0,1300.0],\"xaxis\":\"x\",\"y\":[0.0,0.09483354884409208,0.09483354884409208,0.06644078565523573],\"yaxis\":\"y\",\"type\":\"scatter\"},{\"hoverinfo\":\"text\",\"marker\":{\"color\":\"rgb(255,65,54)\"},\"mode\":\"lines\",\"x\":[1315.0,1315.0,1325.0,1325.0],\"xaxis\":\"x\",\"y\":[0.0,0.0524726404756324,0.0524726404756324,0.0],\"yaxis\":\"y\",\"type\":\"scatter\"},{\"hoverinfo\":\"text\",\"marker\":{\"color\":\"rgb(255,65,54)\"},\"mode\":\"lines\",\"x\":[1355.0,1355.0,1365.0,1365.0],\"xaxis\":\"x\",\"y\":[0.0,0.03400085280918021,0.03400085280918021,0.0],\"yaxis\":\"y\",\"type\":\"scatter\"},{\"hoverinfo\":\"text\",\"marker\":{\"color\":\"rgb(255,65,54)\"},\"mode\":\"lines\",\"x\":[1345.0,1345.0,1360.0,1360.0],\"xaxis\":\"x\",\"y\":[0.0,0.0731452798682605,0.0731452798682605,0.03400085280918021],\"yaxis\":\"y\",\"type\":\"scatter\"},{\"hoverinfo\":\"text\",\"marker\":{\"color\":\"rgb(255,65,54)\"},\"mode\":\"lines\",\"x\":[1335.0,1335.0,1352.5,1352.5],\"xaxis\":\"x\",\"y\":[0.0,0.09878518104422292,0.09878518104422292,0.0731452798682605],\"yaxis\":\"y\",\"type\":\"scatter\"},{\"hoverinfo\":\"text\",\"marker\":{\"color\":\"rgb(255,65,54)\"},\"mode\":\"lines\",\"x\":[1320.0,1320.0,1343.75,1343.75],\"xaxis\":\"x\",\"y\":[0.0524726404756324,0.16333108093633517,0.16333108093633517,0.09878518104422292],\"yaxis\":\"y\",\"type\":\"scatter\"},{\"hoverinfo\":\"text\",\"marker\":{\"color\":\"rgb(255,65,54)\"},\"mode\":\"lines\",\"x\":[1292.5,1292.5,1331.875,1331.875],\"xaxis\":\"x\",\"y\":[0.09483354884409208,0.1965482122296268,0.1965482122296268,0.16333108093633517],\"yaxis\":\"y\",\"type\":\"scatter\"},{\"hoverinfo\":\"text\",\"marker\":{\"color\":\"rgb(255,65,54)\"},\"mode\":\"lines\",\"x\":[1270.0,1270.0,1312.1875,1312.1875],\"xaxis\":\"x\",\"y\":[0.13883267624712817,0.32297761105739164,0.32297761105739164,0.1965482122296268],\"yaxis\":\"y\",\"type\":\"scatter\"},{\"hoverinfo\":\"text\",\"marker\":{\"color\":\"rgb(255,65,54)\"},\"mode\":\"lines\",\"x\":[1385.0,1385.0,1395.0,1395.0],\"xaxis\":\"x\",\"y\":[0.0,0.08386894538504697,0.08386894538504697,0.0],\"yaxis\":\"y\",\"type\":\"scatter\"},{\"hoverinfo\":\"text\",\"marker\":{\"color\":\"rgb(255,65,54)\"},\"mode\":\"lines\",\"x\":[1375.0,1375.0,1390.0,1390.0],\"xaxis\":\"x\",\"y\":[0.0,0.15265336549120556,0.15265336549120556,0.08386894538504697],\"yaxis\":\"y\",\"type\":\"scatter\"},{\"hoverinfo\":\"text\",\"marker\":{\"color\":\"rgb(255,65,54)\"},\"mode\":\"lines\",\"x\":[1415.0,1415.0,1425.0,1425.0],\"xaxis\":\"x\",\"y\":[0.0,0.039901979892314234,0.039901979892314234,0.0],\"yaxis\":\"y\",\"type\":\"scatter\"},{\"hoverinfo\":\"text\",\"marker\":{\"color\":\"rgb(255,65,54)\"},\"mode\":\"lines\",\"x\":[1405.0,1405.0,1420.0,1420.0],\"xaxis\":\"x\",\"y\":[0.0,0.10084345286812017,0.10084345286812017,0.039901979892314234],\"yaxis\":\"y\",\"type\":\"scatter\"},{\"hoverinfo\":\"text\",\"marker\":{\"color\":\"rgb(255,65,54)\"},\"mode\":\"lines\",\"x\":[1455.0,1455.0,1465.0,1465.0],\"xaxis\":\"x\",\"y\":[0.0,0.057402456391966866,0.057402456391966866,0.0],\"yaxis\":\"y\",\"type\":\"scatter\"},{\"hoverinfo\":\"text\",\"marker\":{\"color\":\"rgb(255,65,54)\"},\"mode\":\"lines\",\"x\":[1445.0,1445.0,1460.0,1460.0],\"xaxis\":\"x\",\"y\":[0.0,0.12356932466629802,0.12356932466629802,0.057402456391966866],\"yaxis\":\"y\",\"type\":\"scatter\"},{\"hoverinfo\":\"text\",\"marker\":{\"color\":\"rgb(255,65,54)\"},\"mode\":\"lines\",\"x\":[1435.0,1435.0,1452.5,1452.5],\"xaxis\":\"x\",\"y\":[0.0,0.14132417318266485,0.14132417318266485,0.12356932466629802],\"yaxis\":\"y\",\"type\":\"scatter\"},{\"hoverinfo\":\"text\",\"marker\":{\"color\":\"rgb(255,65,54)\"},\"mode\":\"lines\",\"x\":[1412.5,1412.5,1443.75,1443.75],\"xaxis\":\"x\",\"y\":[0.10084345286812017,0.256945787961879,0.256945787961879,0.14132417318266485],\"yaxis\":\"y\",\"type\":\"scatter\"},{\"hoverinfo\":\"text\",\"marker\":{\"color\":\"rgb(255,65,54)\"},\"mode\":\"lines\",\"x\":[1382.5,1382.5,1428.125,1428.125],\"xaxis\":\"x\",\"y\":[0.15265336549120556,0.3293154596998243,0.3293154596998243,0.256945787961879],\"yaxis\":\"y\",\"type\":\"scatter\"},{\"hoverinfo\":\"text\",\"marker\":{\"color\":\"rgb(255,65,54)\"},\"mode\":\"lines\",\"x\":[1291.09375,1291.09375,1405.3125,1405.3125],\"xaxis\":\"x\",\"y\":[0.32297761105739164,0.45376488134806053,0.45376488134806053,0.3293154596998243],\"yaxis\":\"y\",\"type\":\"scatter\"},{\"hoverinfo\":\"text\",\"marker\":{\"color\":\"rgb(255,65,54)\"},\"mode\":\"lines\",\"x\":[1233.75,1233.75,1348.203125,1348.203125],\"xaxis\":\"x\",\"y\":[0.4067173588416978,0.6255102884440951,0.6255102884440951,0.45376488134806053],\"yaxis\":\"y\",\"type\":\"scatter\"},{\"hoverinfo\":\"text\",\"marker\":{\"color\":\"rgb(255,65,54)\"},\"mode\":\"lines\",\"x\":[932.91015625,932.91015625,1290.9765625,1290.9765625],\"xaxis\":\"x\",\"y\":[0.4864518802326049,0.8735428875654169,0.8735428875654169,0.6255102884440951],\"yaxis\":\"y\",\"type\":\"scatter\"},{\"hoverinfo\":\"text\",\"marker\":{\"color\":\"rgb(35,205,205)\"},\"mode\":\"lines\",\"x\":[1485.0,1485.0,1495.0,1495.0],\"xaxis\":\"x\",\"y\":[0.0,0.09003750305792571,0.09003750305792571,0.0],\"yaxis\":\"y\",\"type\":\"scatter\"},{\"hoverinfo\":\"text\",\"marker\":{\"color\":\"rgb(35,205,205)\"},\"mode\":\"lines\",\"x\":[1475.0,1475.0,1490.0,1490.0],\"xaxis\":\"x\",\"y\":[0.0,0.1966686852144004,0.1966686852144004,0.09003750305792571],\"yaxis\":\"y\",\"type\":\"scatter\"},{\"hoverinfo\":\"text\",\"marker\":{\"color\":\"rgb(35,205,205)\"},\"mode\":\"lines\",\"x\":[1505.0,1505.0,1515.0,1515.0],\"xaxis\":\"x\",\"y\":[0.0,0.2843417266725799,0.2843417266725799,0.0],\"yaxis\":\"y\",\"type\":\"scatter\"},{\"hoverinfo\":\"text\",\"marker\":{\"color\":\"rgb(35,205,205)\"},\"mode\":\"lines\",\"x\":[1482.5,1482.5,1510.0,1510.0],\"xaxis\":\"x\",\"y\":[0.1966686852144004,0.41331860683374383,0.41331860683374383,0.2843417266725799],\"yaxis\":\"y\",\"type\":\"scatter\"},{\"hoverinfo\":\"text\",\"marker\":{\"color\":\"rgb(35,205,205)\"},\"mode\":\"lines\",\"x\":[1555.0,1555.0,1565.0,1565.0],\"xaxis\":\"x\",\"y\":[0.0,0.10527605604200616,0.10527605604200616,0.0],\"yaxis\":\"y\",\"type\":\"scatter\"},{\"hoverinfo\":\"text\",\"marker\":{\"color\":\"rgb(35,205,205)\"},\"mode\":\"lines\",\"x\":[1545.0,1545.0,1560.0,1560.0],\"xaxis\":\"x\",\"y\":[0.0,0.17317526381474527,0.17317526381474527,0.10527605604200616],\"yaxis\":\"y\",\"type\":\"scatter\"},{\"hoverinfo\":\"text\",\"marker\":{\"color\":\"rgb(35,205,205)\"},\"mode\":\"lines\",\"x\":[1535.0,1535.0,1552.5,1552.5],\"xaxis\":\"x\",\"y\":[0.0,0.23938394264717636,0.23938394264717636,0.17317526381474527],\"yaxis\":\"y\",\"type\":\"scatter\"},{\"hoverinfo\":\"text\",\"marker\":{\"color\":\"rgb(35,205,205)\"},\"mode\":\"lines\",\"x\":[1525.0,1525.0,1543.75,1543.75],\"xaxis\":\"x\",\"y\":[0.0,0.28979820492742875,0.28979820492742875,0.23938394264717636],\"yaxis\":\"y\",\"type\":\"scatter\"},{\"hoverinfo\":\"text\",\"marker\":{\"color\":\"rgb(35,205,205)\"},\"mode\":\"lines\",\"x\":[1595.0,1595.0,1605.0,1605.0],\"xaxis\":\"x\",\"y\":[0.0,0.04178576307537773,0.04178576307537773,0.0],\"yaxis\":\"y\",\"type\":\"scatter\"},{\"hoverinfo\":\"text\",\"marker\":{\"color\":\"rgb(35,205,205)\"},\"mode\":\"lines\",\"x\":[1585.0,1585.0,1600.0,1600.0],\"xaxis\":\"x\",\"y\":[0.0,0.05606703125670122,0.05606703125670122,0.04178576307537773],\"yaxis\":\"y\",\"type\":\"scatter\"},{\"hoverinfo\":\"text\",\"marker\":{\"color\":\"rgb(35,205,205)\"},\"mode\":\"lines\",\"x\":[1615.0,1615.0,1625.0,1625.0],\"xaxis\":\"x\",\"y\":[0.0,0.11778965144003446,0.11778965144003446,0.0],\"yaxis\":\"y\",\"type\":\"scatter\"},{\"hoverinfo\":\"text\",\"marker\":{\"color\":\"rgb(35,205,205)\"},\"mode\":\"lines\",\"x\":[1592.5,1592.5,1620.0,1620.0],\"xaxis\":\"x\",\"y\":[0.05606703125670122,0.17829624731161228,0.17829624731161228,0.11778965144003446],\"yaxis\":\"y\",\"type\":\"scatter\"},{\"hoverinfo\":\"text\",\"marker\":{\"color\":\"rgb(35,205,205)\"},\"mode\":\"lines\",\"x\":[1575.0,1575.0,1606.25,1606.25],\"xaxis\":\"x\",\"y\":[0.0,0.2081707424009233,0.2081707424009233,0.17829624731161228],\"yaxis\":\"y\",\"type\":\"scatter\"},{\"hoverinfo\":\"text\",\"marker\":{\"color\":\"rgb(35,205,205)\"},\"mode\":\"lines\",\"x\":[1645.0,1645.0,1655.0,1655.0],\"xaxis\":\"x\",\"y\":[0.0,0.04561438366685034,0.04561438366685034,0.0],\"yaxis\":\"y\",\"type\":\"scatter\"},{\"hoverinfo\":\"text\",\"marker\":{\"color\":\"rgb(35,205,205)\"},\"mode\":\"lines\",\"x\":[1635.0,1635.0,1650.0,1650.0],\"xaxis\":\"x\",\"y\":[0.0,0.1584497646527927,0.1584497646527927,0.04561438366685034],\"yaxis\":\"y\",\"type\":\"scatter\"},{\"hoverinfo\":\"text\",\"marker\":{\"color\":\"rgb(35,205,205)\"},\"mode\":\"lines\",\"x\":[1665.0,1665.0,1675.0,1675.0],\"xaxis\":\"x\",\"y\":[0.0,0.056117448261005745,0.056117448261005745,0.0],\"yaxis\":\"y\",\"type\":\"scatter\"},{\"hoverinfo\":\"text\",\"marker\":{\"color\":\"rgb(35,205,205)\"},\"mode\":\"lines\",\"x\":[1695.0,1695.0,1705.0,1705.0],\"xaxis\":\"x\",\"y\":[0.0,0.05885745477988661,0.05885745477988661,0.0],\"yaxis\":\"y\",\"type\":\"scatter\"},{\"hoverinfo\":\"text\",\"marker\":{\"color\":\"rgb(35,205,205)\"},\"mode\":\"lines\",\"x\":[1685.0,1685.0,1700.0,1700.0],\"xaxis\":\"x\",\"y\":[0.0,0.08488251881177696,0.08488251881177696,0.05885745477988661],\"yaxis\":\"y\",\"type\":\"scatter\"},{\"hoverinfo\":\"text\",\"marker\":{\"color\":\"rgb(35,205,205)\"},\"mode\":\"lines\",\"x\":[1670.0,1670.0,1692.5,1692.5],\"xaxis\":\"x\",\"y\":[0.056117448261005745,0.16051417361923398,0.16051417361923398,0.08488251881177696],\"yaxis\":\"y\",\"type\":\"scatter\"},{\"hoverinfo\":\"text\",\"marker\":{\"color\":\"rgb(35,205,205)\"},\"mode\":\"lines\",\"x\":[1725.0,1725.0,1735.0,1735.0],\"xaxis\":\"x\",\"y\":[0.0,0.04808500805164388,0.04808500805164388,0.0],\"yaxis\":\"y\",\"type\":\"scatter\"},{\"hoverinfo\":\"text\",\"marker\":{\"color\":\"rgb(35,205,205)\"},\"mode\":\"lines\",\"x\":[1715.0,1715.0,1730.0,1730.0],\"xaxis\":\"x\",\"y\":[0.0,0.09181556497430715,0.09181556497430715,0.04808500805164388],\"yaxis\":\"y\",\"type\":\"scatter\"},{\"hoverinfo\":\"text\",\"marker\":{\"color\":\"rgb(35,205,205)\"},\"mode\":\"lines\",\"x\":[1755.0,1755.0,1765.0,1765.0],\"xaxis\":\"x\",\"y\":[0.0,0.06505142572785395,0.06505142572785395,0.0],\"yaxis\":\"y\",\"type\":\"scatter\"},{\"hoverinfo\":\"text\",\"marker\":{\"color\":\"rgb(35,205,205)\"},\"mode\":\"lines\",\"x\":[1745.0,1745.0,1760.0,1760.0],\"xaxis\":\"x\",\"y\":[0.0,0.09848248541068408,0.09848248541068408,0.06505142572785395],\"yaxis\":\"y\",\"type\":\"scatter\"},{\"hoverinfo\":\"text\",\"marker\":{\"color\":\"rgb(35,205,205)\"},\"mode\":\"lines\",\"x\":[1722.5,1722.5,1752.5,1752.5],\"xaxis\":\"x\",\"y\":[0.09181556497430715,0.18948701253258862,0.18948701253258862,0.09848248541068408],\"yaxis\":\"y\",\"type\":\"scatter\"},{\"hoverinfo\":\"text\",\"marker\":{\"color\":\"rgb(35,205,205)\"},\"mode\":\"lines\",\"x\":[1681.25,1681.25,1737.5,1737.5],\"xaxis\":\"x\",\"y\":[0.16051417361923398,0.28505036655317306,0.28505036655317306,0.18948701253258862],\"yaxis\":\"y\",\"type\":\"scatter\"},{\"hoverinfo\":\"text\",\"marker\":{\"color\":\"rgb(35,205,205)\"},\"mode\":\"lines\",\"x\":[1642.5,1642.5,1709.375,1709.375],\"xaxis\":\"x\",\"y\":[0.1584497646527927,0.43947665140180797,0.43947665140180797,0.28505036655317306],\"yaxis\":\"y\",\"type\":\"scatter\"},{\"hoverinfo\":\"text\",\"marker\":{\"color\":\"rgb(35,205,205)\"},\"mode\":\"lines\",\"x\":[1590.625,1590.625,1675.9375,1675.9375],\"xaxis\":\"x\",\"y\":[0.2081707424009233,0.4963491027309676,0.4963491027309676,0.43947665140180797],\"yaxis\":\"y\",\"type\":\"scatter\"},{\"hoverinfo\":\"text\",\"marker\":{\"color\":\"rgb(35,205,205)\"},\"mode\":\"lines\",\"x\":[1534.375,1534.375,1633.28125,1633.28125],\"xaxis\":\"x\",\"y\":[0.28979820492742875,0.5762242548576074,0.5762242548576074,0.4963491027309676],\"yaxis\":\"y\",\"type\":\"scatter\"},{\"hoverinfo\":\"text\",\"marker\":{\"color\":\"rgb(35,205,205)\"},\"mode\":\"lines\",\"x\":[1496.25,1496.25,1583.828125,1583.828125],\"xaxis\":\"x\",\"y\":[0.41331860683374383,0.7854571606820632,0.7854571606820632,0.5762242548576074],\"yaxis\":\"y\",\"type\":\"scatter\"},{\"hoverinfo\":\"text\",\"marker\":{\"color\":\"rgb(133,20,75)\"},\"mode\":\"lines\",\"x\":[1775.0,1775.0,1785.0,1785.0],\"xaxis\":\"x\",\"y\":[0.0,0.16557210503888076,0.16557210503888076,0.0],\"yaxis\":\"y\",\"type\":\"scatter\"},{\"hoverinfo\":\"text\",\"marker\":{\"color\":\"rgb(133,20,75)\"},\"mode\":\"lines\",\"x\":[1795.0,1795.0,1805.0,1805.0],\"xaxis\":\"x\",\"y\":[0.0,0.06638560066580416,0.06638560066580416,0.0],\"yaxis\":\"y\",\"type\":\"scatter\"},{\"hoverinfo\":\"text\",\"marker\":{\"color\":\"rgb(133,20,75)\"},\"mode\":\"lines\",\"x\":[1815.0,1815.0,1825.0,1825.0],\"xaxis\":\"x\",\"y\":[0.0,0.08762515620143942,0.08762515620143942,0.0],\"yaxis\":\"y\",\"type\":\"scatter\"},{\"hoverinfo\":\"text\",\"marker\":{\"color\":\"rgb(133,20,75)\"},\"mode\":\"lines\",\"x\":[1800.0,1800.0,1820.0,1820.0],\"xaxis\":\"x\",\"y\":[0.06638560066580416,0.10355033557312417,0.10355033557312417,0.08762515620143942],\"yaxis\":\"y\",\"type\":\"scatter\"},{\"hoverinfo\":\"text\",\"marker\":{\"color\":\"rgb(133,20,75)\"},\"mode\":\"lines\",\"x\":[1835.0,1835.0,1845.0,1845.0],\"xaxis\":\"x\",\"y\":[0.0,0.09142679008616197,0.09142679008616197,0.0],\"yaxis\":\"y\",\"type\":\"scatter\"},{\"hoverinfo\":\"text\",\"marker\":{\"color\":\"rgb(133,20,75)\"},\"mode\":\"lines\",\"x\":[1855.0,1855.0,1865.0,1865.0],\"xaxis\":\"x\",\"y\":[0.0,0.0632459484535697,0.0632459484535697,0.0],\"yaxis\":\"y\",\"type\":\"scatter\"},{\"hoverinfo\":\"text\",\"marker\":{\"color\":\"rgb(133,20,75)\"},\"mode\":\"lines\",\"x\":[1895.0,1895.0,1905.0,1905.0],\"xaxis\":\"x\",\"y\":[0.0,0.040589555232102593,0.040589555232102593,0.0],\"yaxis\":\"y\",\"type\":\"scatter\"},{\"hoverinfo\":\"text\",\"marker\":{\"color\":\"rgb(133,20,75)\"},\"mode\":\"lines\",\"x\":[1885.0,1885.0,1900.0,1900.0],\"xaxis\":\"x\",\"y\":[0.0,0.061506763690112536,0.061506763690112536,0.040589555232102593],\"yaxis\":\"y\",\"type\":\"scatter\"},{\"hoverinfo\":\"text\",\"marker\":{\"color\":\"rgb(133,20,75)\"},\"mode\":\"lines\",\"x\":[1875.0,1875.0,1892.5,1892.5],\"xaxis\":\"x\",\"y\":[0.0,0.11137877700444622,0.11137877700444622,0.061506763690112536],\"yaxis\":\"y\",\"type\":\"scatter\"},{\"hoverinfo\":\"text\",\"marker\":{\"color\":\"rgb(133,20,75)\"},\"mode\":\"lines\",\"x\":[1860.0,1860.0,1883.75,1883.75],\"xaxis\":\"x\",\"y\":[0.0632459484535697,0.13829433053610496,0.13829433053610496,0.11137877700444622],\"yaxis\":\"y\",\"type\":\"scatter\"},{\"hoverinfo\":\"text\",\"marker\":{\"color\":\"rgb(133,20,75)\"},\"mode\":\"lines\",\"x\":[1840.0,1840.0,1871.875,1871.875],\"xaxis\":\"x\",\"y\":[0.09142679008616197,0.18086025484289397,0.18086025484289397,0.13829433053610496],\"yaxis\":\"y\",\"type\":\"scatter\"},{\"hoverinfo\":\"text\",\"marker\":{\"color\":\"rgb(133,20,75)\"},\"mode\":\"lines\",\"x\":[1810.0,1810.0,1855.9375,1855.9375],\"xaxis\":\"x\",\"y\":[0.10355033557312417,0.2734795202126835,0.2734795202126835,0.18086025484289397],\"yaxis\":\"y\",\"type\":\"scatter\"},{\"hoverinfo\":\"text\",\"marker\":{\"color\":\"rgb(133,20,75)\"},\"mode\":\"lines\",\"x\":[1780.0,1780.0,1832.96875,1832.96875],\"xaxis\":\"x\",\"y\":[0.16557210503888076,0.38402296727408164,0.38402296727408164,0.2734795202126835],\"yaxis\":\"y\",\"type\":\"scatter\"},{\"hoverinfo\":\"text\",\"marker\":{\"color\":\"rgb(133,20,75)\"},\"mode\":\"lines\",\"x\":[1935.0,1935.0,1945.0,1945.0],\"xaxis\":\"x\",\"y\":[0.0,0.09427644443740765,0.09427644443740765,0.0],\"yaxis\":\"y\",\"type\":\"scatter\"},{\"hoverinfo\":\"text\",\"marker\":{\"color\":\"rgb(133,20,75)\"},\"mode\":\"lines\",\"x\":[1925.0,1925.0,1940.0,1940.0],\"xaxis\":\"x\",\"y\":[0.0,0.12229636947336085,0.12229636947336085,0.09427644443740765],\"yaxis\":\"y\",\"type\":\"scatter\"},{\"hoverinfo\":\"text\",\"marker\":{\"color\":\"rgb(133,20,75)\"},\"mode\":\"lines\",\"x\":[1915.0,1915.0,1932.5,1932.5],\"xaxis\":\"x\",\"y\":[0.0,0.14141312526532546,0.14141312526532546,0.12229636947336085],\"yaxis\":\"y\",\"type\":\"scatter\"},{\"hoverinfo\":\"text\",\"marker\":{\"color\":\"rgb(133,20,75)\"},\"mode\":\"lines\",\"x\":[1955.0,1955.0,1965.0,1965.0],\"xaxis\":\"x\",\"y\":[0.0,0.012213435197627852,0.012213435197627852,0.0],\"yaxis\":\"y\",\"type\":\"scatter\"},{\"hoverinfo\":\"text\",\"marker\":{\"color\":\"rgb(133,20,75)\"},\"mode\":\"lines\",\"x\":[1975.0,1975.0,1985.0,1985.0],\"xaxis\":\"x\",\"y\":[0.0,0.016198086259956043,0.016198086259956043,0.0],\"yaxis\":\"y\",\"type\":\"scatter\"},{\"hoverinfo\":\"text\",\"marker\":{\"color\":\"rgb(133,20,75)\"},\"mode\":\"lines\",\"x\":[1960.0,1960.0,1980.0,1980.0],\"xaxis\":\"x\",\"y\":[0.012213435197627852,0.08007341604369071,0.08007341604369071,0.016198086259956043],\"yaxis\":\"y\",\"type\":\"scatter\"},{\"hoverinfo\":\"text\",\"marker\":{\"color\":\"rgb(133,20,75)\"},\"mode\":\"lines\",\"x\":[2005.0,2005.0,2015.0,2015.0],\"xaxis\":\"x\",\"y\":[0.0,0.01333161654982864,0.01333161654982864,0.0],\"yaxis\":\"y\",\"type\":\"scatter\"},{\"hoverinfo\":\"text\",\"marker\":{\"color\":\"rgb(133,20,75)\"},\"mode\":\"lines\",\"x\":[1995.0,1995.0,2010.0,2010.0],\"xaxis\":\"x\",\"y\":[0.0,0.028876149281138998,0.028876149281138998,0.01333161654982864],\"yaxis\":\"y\",\"type\":\"scatter\"},{\"hoverinfo\":\"text\",\"marker\":{\"color\":\"rgb(133,20,75)\"},\"mode\":\"lines\",\"x\":[2025.0,2025.0,2035.0,2035.0],\"xaxis\":\"x\",\"y\":[0.0,0.03527597978710027,0.03527597978710027,0.0],\"yaxis\":\"y\",\"type\":\"scatter\"},{\"hoverinfo\":\"text\",\"marker\":{\"color\":\"rgb(133,20,75)\"},\"mode\":\"lines\",\"x\":[2002.5,2002.5,2030.0,2030.0],\"xaxis\":\"x\",\"y\":[0.028876149281138998,0.04381834268695776,0.04381834268695776,0.03527597978710027],\"yaxis\":\"y\",\"type\":\"scatter\"},{\"hoverinfo\":\"text\",\"marker\":{\"color\":\"rgb(133,20,75)\"},\"mode\":\"lines\",\"x\":[2065.0,2065.0,2075.0,2075.0],\"xaxis\":\"x\",\"y\":[0.0,0.018989523422973623,0.018989523422973623,0.0],\"yaxis\":\"y\",\"type\":\"scatter\"},{\"hoverinfo\":\"text\",\"marker\":{\"color\":\"rgb(133,20,75)\"},\"mode\":\"lines\",\"x\":[2055.0,2055.0,2070.0,2070.0],\"xaxis\":\"x\",\"y\":[0.0,0.03937217290583104,0.03937217290583104,0.018989523422973623],\"yaxis\":\"y\",\"type\":\"scatter\"},{\"hoverinfo\":\"text\",\"marker\":{\"color\":\"rgb(133,20,75)\"},\"mode\":\"lines\",\"x\":[2045.0,2045.0,2062.5,2062.5],\"xaxis\":\"x\",\"y\":[0.0,0.0736081516081365,0.0736081516081365,0.03937217290583104],\"yaxis\":\"y\",\"type\":\"scatter\"},{\"hoverinfo\":\"text\",\"marker\":{\"color\":\"rgb(133,20,75)\"},\"mode\":\"lines\",\"x\":[2016.25,2016.25,2053.75,2053.75],\"xaxis\":\"x\",\"y\":[0.04381834268695776,0.10057006659653116,0.10057006659653116,0.0736081516081365],\"yaxis\":\"y\",\"type\":\"scatter\"},{\"hoverinfo\":\"text\",\"marker\":{\"color\":\"rgb(133,20,75)\"},\"mode\":\"lines\",\"x\":[1970.0,1970.0,2035.0,2035.0],\"xaxis\":\"x\",\"y\":[0.08007341604369071,0.14979856439495673,0.14979856439495673,0.10057006659653116],\"yaxis\":\"y\",\"type\":\"scatter\"},{\"hoverinfo\":\"text\",\"marker\":{\"color\":\"rgb(133,20,75)\"},\"mode\":\"lines\",\"x\":[1923.75,1923.75,2002.5,2002.5],\"xaxis\":\"x\",\"y\":[0.14141312526532546,0.29446914152916404,0.29446914152916404,0.14979856439495673],\"yaxis\":\"y\",\"type\":\"scatter\"},{\"hoverinfo\":\"text\",\"marker\":{\"color\":\"rgb(133,20,75)\"},\"mode\":\"lines\",\"x\":[2095.0,2095.0,2105.0,2105.0],\"xaxis\":\"x\",\"y\":[0.0,0.0470996602799317,0.0470996602799317,0.0],\"yaxis\":\"y\",\"type\":\"scatter\"},{\"hoverinfo\":\"text\",\"marker\":{\"color\":\"rgb(133,20,75)\"},\"mode\":\"lines\",\"x\":[2085.0,2085.0,2100.0,2100.0],\"xaxis\":\"x\",\"y\":[0.0,0.06392259359218157,0.06392259359218157,0.0470996602799317],\"yaxis\":\"y\",\"type\":\"scatter\"},{\"hoverinfo\":\"text\",\"marker\":{\"color\":\"rgb(133,20,75)\"},\"mode\":\"lines\",\"x\":[2125.0,2125.0,2135.0,2135.0],\"xaxis\":\"x\",\"y\":[0.0,0.005389062982714505,0.005389062982714505,0.0],\"yaxis\":\"y\",\"type\":\"scatter\"},{\"hoverinfo\":\"text\",\"marker\":{\"color\":\"rgb(133,20,75)\"},\"mode\":\"lines\",\"x\":[2115.0,2115.0,2130.0,2130.0],\"xaxis\":\"x\",\"y\":[0.0,0.08152330952428025,0.08152330952428025,0.005389062982714505],\"yaxis\":\"y\",\"type\":\"scatter\"},{\"hoverinfo\":\"text\",\"marker\":{\"color\":\"rgb(133,20,75)\"},\"mode\":\"lines\",\"x\":[2092.5,2092.5,2122.5,2122.5],\"xaxis\":\"x\",\"y\":[0.06392259359218157,0.1485969649479811,0.1485969649479811,0.08152330952428025],\"yaxis\":\"y\",\"type\":\"scatter\"},{\"hoverinfo\":\"text\",\"marker\":{\"color\":\"rgb(133,20,75)\"},\"mode\":\"lines\",\"x\":[2155.0,2155.0,2165.0,2165.0],\"xaxis\":\"x\",\"y\":[0.0,0.046361643482137074,0.046361643482137074,0.0],\"yaxis\":\"y\",\"type\":\"scatter\"},{\"hoverinfo\":\"text\",\"marker\":{\"color\":\"rgb(133,20,75)\"},\"mode\":\"lines\",\"x\":[2145.0,2145.0,2160.0,2160.0],\"xaxis\":\"x\",\"y\":[0.0,0.05974447243356312,0.05974447243356312,0.046361643482137074],\"yaxis\":\"y\",\"type\":\"scatter\"},{\"hoverinfo\":\"text\",\"marker\":{\"color\":\"rgb(133,20,75)\"},\"mode\":\"lines\",\"x\":[2185.0,2185.0,2195.0,2195.0],\"xaxis\":\"x\",\"y\":[0.0,0.01594923190893448,0.01594923190893448,0.0],\"yaxis\":\"y\",\"type\":\"scatter\"},{\"hoverinfo\":\"text\",\"marker\":{\"color\":\"rgb(133,20,75)\"},\"mode\":\"lines\",\"x\":[2175.0,2175.0,2190.0,2190.0],\"xaxis\":\"x\",\"y\":[0.0,0.03189846381786905,0.03189846381786905,0.01594923190893448],\"yaxis\":\"y\",\"type\":\"scatter\"},{\"hoverinfo\":\"text\",\"marker\":{\"color\":\"rgb(133,20,75)\"},\"mode\":\"lines\",\"x\":[2225.0,2225.0,2235.0,2235.0],\"xaxis\":\"x\",\"y\":[0.0,0.02758698968411856,0.02758698968411856,0.0],\"yaxis\":\"y\",\"type\":\"scatter\"},{\"hoverinfo\":\"text\",\"marker\":{\"color\":\"rgb(133,20,75)\"},\"mode\":\"lines\",\"x\":[2215.0,2215.0,2230.0,2230.0],\"xaxis\":\"x\",\"y\":[0.0,0.05168837383035472,0.05168837383035472,0.02758698968411856],\"yaxis\":\"y\",\"type\":\"scatter\"},{\"hoverinfo\":\"text\",\"marker\":{\"color\":\"rgb(133,20,75)\"},\"mode\":\"lines\",\"x\":[2205.0,2205.0,2222.5,2222.5],\"xaxis\":\"x\",\"y\":[0.0,0.07930559878397603,0.07930559878397603,0.05168837383035472],\"yaxis\":\"y\",\"type\":\"scatter\"},{\"hoverinfo\":\"text\",\"marker\":{\"color\":\"rgb(133,20,75)\"},\"mode\":\"lines\",\"x\":[2182.5,2182.5,2213.75,2213.75],\"xaxis\":\"x\",\"y\":[0.03189846381786905,0.10019705565596428,0.10019705565596428,0.07930559878397603],\"yaxis\":\"y\",\"type\":\"scatter\"},{\"hoverinfo\":\"text\",\"marker\":{\"color\":\"rgb(133,20,75)\"},\"mode\":\"lines\",\"x\":[2152.5,2152.5,2198.125,2198.125],\"xaxis\":\"x\",\"y\":[0.05974447243356312,0.15940853797595458,0.15940853797595458,0.10019705565596428],\"yaxis\":\"y\",\"type\":\"scatter\"},{\"hoverinfo\":\"text\",\"marker\":{\"color\":\"rgb(133,20,75)\"},\"mode\":\"lines\",\"x\":[2107.5,2107.5,2175.3125,2175.3125],\"xaxis\":\"x\",\"y\":[0.1485969649479811,0.20061091150952406,0.20061091150952406,0.15940853797595458],\"yaxis\":\"y\",\"type\":\"scatter\"},{\"hoverinfo\":\"text\",\"marker\":{\"color\":\"rgb(133,20,75)\"},\"mode\":\"lines\",\"x\":[2245.0,2245.0,2255.0,2255.0],\"xaxis\":\"x\",\"y\":[0.0,0.07636129893970904,0.07636129893970904,0.0],\"yaxis\":\"y\",\"type\":\"scatter\"},{\"hoverinfo\":\"text\",\"marker\":{\"color\":\"rgb(133,20,75)\"},\"mode\":\"lines\",\"x\":[2285.0,2285.0,2295.0,2295.0],\"xaxis\":\"x\",\"y\":[0.0,0.04571128956767581,0.04571128956767581,0.0],\"yaxis\":\"y\",\"type\":\"scatter\"},{\"hoverinfo\":\"text\",\"marker\":{\"color\":\"rgb(133,20,75)\"},\"mode\":\"lines\",\"x\":[2275.0,2275.0,2290.0,2290.0],\"xaxis\":\"x\",\"y\":[0.0,0.05081710340510343,0.05081710340510343,0.04571128956767581],\"yaxis\":\"y\",\"type\":\"scatter\"},{\"hoverinfo\":\"text\",\"marker\":{\"color\":\"rgb(133,20,75)\"},\"mode\":\"lines\",\"x\":[2265.0,2265.0,2282.5,2282.5],\"xaxis\":\"x\",\"y\":[0.0,0.09171909265199904,0.09171909265199904,0.05081710340510343],\"yaxis\":\"y\",\"type\":\"scatter\"},{\"hoverinfo\":\"text\",\"marker\":{\"color\":\"rgb(133,20,75)\"},\"mode\":\"lines\",\"x\":[2250.0,2250.0,2273.75,2273.75],\"xaxis\":\"x\",\"y\":[0.07636129893970904,0.14757604806378438,0.14757604806378438,0.09171909265199904],\"yaxis\":\"y\",\"type\":\"scatter\"},{\"hoverinfo\":\"text\",\"marker\":{\"color\":\"rgb(133,20,75)\"},\"mode\":\"lines\",\"x\":[2305.0,2305.0,2315.0,2315.0],\"xaxis\":\"x\",\"y\":[0.0,0.04010049869754238,0.04010049869754238,0.0],\"yaxis\":\"y\",\"type\":\"scatter\"},{\"hoverinfo\":\"text\",\"marker\":{\"color\":\"rgb(133,20,75)\"},\"mode\":\"lines\",\"x\":[2325.0,2325.0,2335.0,2335.0],\"xaxis\":\"x\",\"y\":[0.0,0.04654580533130678,0.04654580533130678,0.0],\"yaxis\":\"y\",\"type\":\"scatter\"},{\"hoverinfo\":\"text\",\"marker\":{\"color\":\"rgb(133,20,75)\"},\"mode\":\"lines\",\"x\":[2310.0,2310.0,2330.0,2330.0],\"xaxis\":\"x\",\"y\":[0.04010049869754238,0.06907568285673624,0.06907568285673624,0.04654580533130678],\"yaxis\":\"y\",\"type\":\"scatter\"},{\"hoverinfo\":\"text\",\"marker\":{\"color\":\"rgb(133,20,75)\"},\"mode\":\"lines\",\"x\":[2345.0,2345.0,2355.0,2355.0],\"xaxis\":\"x\",\"y\":[0.0,0.07390075773589815,0.07390075773589815,0.0],\"yaxis\":\"y\",\"type\":\"scatter\"},{\"hoverinfo\":\"text\",\"marker\":{\"color\":\"rgb(133,20,75)\"},\"mode\":\"lines\",\"x\":[2320.0,2320.0,2350.0,2350.0],\"xaxis\":\"x\",\"y\":[0.06907568285673624,0.09127402670722329,0.09127402670722329,0.07390075773589815],\"yaxis\":\"y\",\"type\":\"scatter\"},{\"hoverinfo\":\"text\",\"marker\":{\"color\":\"rgb(133,20,75)\"},\"mode\":\"lines\",\"x\":[2365.0,2365.0,2375.0,2375.0],\"xaxis\":\"x\",\"y\":[0.0,0.10941243978465771,0.10941243978465771,0.0],\"yaxis\":\"y\",\"type\":\"scatter\"},{\"hoverinfo\":\"text\",\"marker\":{\"color\":\"rgb(133,20,75)\"},\"mode\":\"lines\",\"x\":[2335.0,2335.0,2370.0,2370.0],\"xaxis\":\"x\",\"y\":[0.09127402670722329,0.2055116735753948,0.2055116735753948,0.10941243978465771],\"yaxis\":\"y\",\"type\":\"scatter\"},{\"hoverinfo\":\"text\",\"marker\":{\"color\":\"rgb(133,20,75)\"},\"mode\":\"lines\",\"x\":[2261.875,2261.875,2352.5,2352.5],\"xaxis\":\"x\",\"y\":[0.14757604806378438,0.25287413453836155,0.25287413453836155,0.2055116735753948],\"yaxis\":\"y\",\"type\":\"scatter\"},{\"hoverinfo\":\"text\",\"marker\":{\"color\":\"rgb(133,20,75)\"},\"mode\":\"lines\",\"x\":[2141.40625,2141.40625,2307.1875,2307.1875],\"xaxis\":\"x\",\"y\":[0.20061091150952406,0.3170385333737857,0.3170385333737857,0.25287413453836155],\"yaxis\":\"y\",\"type\":\"scatter\"},{\"hoverinfo\":\"text\",\"marker\":{\"color\":\"rgb(133,20,75)\"},\"mode\":\"lines\",\"x\":[1963.125,1963.125,2224.296875,2224.296875],\"xaxis\":\"x\",\"y\":[0.29446914152916404,0.4034157865531955,0.4034157865531955,0.3170385333737857],\"yaxis\":\"y\",\"type\":\"scatter\"},{\"hoverinfo\":\"text\",\"marker\":{\"color\":\"rgb(133,20,75)\"},\"mode\":\"lines\",\"x\":[1806.484375,1806.484375,2093.7109375,2093.7109375],\"xaxis\":\"x\",\"y\":[0.38402296727408164,0.53737233954726,0.53737233954726,0.4034157865531955],\"yaxis\":\"y\",\"type\":\"scatter\"},{\"hoverinfo\":\"text\",\"marker\":{\"color\":\"rgb(133,20,75)\"},\"mode\":\"lines\",\"x\":[2395.0,2395.0,2405.0,2405.0],\"xaxis\":\"x\",\"y\":[0.0,0.05954829972383762,0.05954829972383762,0.0],\"yaxis\":\"y\",\"type\":\"scatter\"},{\"hoverinfo\":\"text\",\"marker\":{\"color\":\"rgb(133,20,75)\"},\"mode\":\"lines\",\"x\":[2415.0,2415.0,2425.0,2425.0],\"xaxis\":\"x\",\"y\":[0.0,0.06030789334599296,0.06030789334599296,0.0],\"yaxis\":\"y\",\"type\":\"scatter\"},{\"hoverinfo\":\"text\",\"marker\":{\"color\":\"rgb(133,20,75)\"},\"mode\":\"lines\",\"x\":[2445.0,2445.0,2455.0,2455.0],\"xaxis\":\"x\",\"y\":[0.0,0.03640285702148467,0.03640285702148467,0.0],\"yaxis\":\"y\",\"type\":\"scatter\"},{\"hoverinfo\":\"text\",\"marker\":{\"color\":\"rgb(133,20,75)\"},\"mode\":\"lines\",\"x\":[2435.0,2435.0,2450.0,2450.0],\"xaxis\":\"x\",\"y\":[0.0,0.08248113694264224,0.08248113694264224,0.03640285702148467],\"yaxis\":\"y\",\"type\":\"scatter\"},{\"hoverinfo\":\"text\",\"marker\":{\"color\":\"rgb(133,20,75)\"},\"mode\":\"lines\",\"x\":[2420.0,2420.0,2442.5,2442.5],\"xaxis\":\"x\",\"y\":[0.06030789334599296,0.14021846494292492,0.14021846494292492,0.08248113694264224],\"yaxis\":\"y\",\"type\":\"scatter\"},{\"hoverinfo\":\"text\",\"marker\":{\"color\":\"rgb(133,20,75)\"},\"mode\":\"lines\",\"x\":[2400.0,2400.0,2431.25,2431.25],\"xaxis\":\"x\",\"y\":[0.05954829972383762,0.1630576580492238,0.1630576580492238,0.14021846494292492],\"yaxis\":\"y\",\"type\":\"scatter\"},{\"hoverinfo\":\"text\",\"marker\":{\"color\":\"rgb(133,20,75)\"},\"mode\":\"lines\",\"x\":[2385.0,2385.0,2415.625,2415.625],\"xaxis\":\"x\",\"y\":[0.0,0.21225222690851547,0.21225222690851547,0.1630576580492238],\"yaxis\":\"y\",\"type\":\"scatter\"},{\"hoverinfo\":\"text\",\"marker\":{\"color\":\"rgb(133,20,75)\"},\"mode\":\"lines\",\"x\":[2475.0,2475.0,2485.0,2485.0],\"xaxis\":\"x\",\"y\":[0.0,0.09468203625411999,0.09468203625411999,0.0],\"yaxis\":\"y\",\"type\":\"scatter\"},{\"hoverinfo\":\"text\",\"marker\":{\"color\":\"rgb(133,20,75)\"},\"mode\":\"lines\",\"x\":[2465.0,2465.0,2480.0,2480.0],\"xaxis\":\"x\",\"y\":[0.0,0.154254341872003,0.154254341872003,0.09468203625411999],\"yaxis\":\"y\",\"type\":\"scatter\"},{\"hoverinfo\":\"text\",\"marker\":{\"color\":\"rgb(133,20,75)\"},\"mode\":\"lines\",\"x\":[2495.0,2495.0,2505.0,2505.0],\"xaxis\":\"x\",\"y\":[0.0,0.047592625392507366,0.047592625392507366,0.0],\"yaxis\":\"y\",\"type\":\"scatter\"},{\"hoverinfo\":\"text\",\"marker\":{\"color\":\"rgb(133,20,75)\"},\"mode\":\"lines\",\"x\":[2515.0,2515.0,2525.0,2525.0],\"xaxis\":\"x\",\"y\":[0.0,0.07447179315525859,0.07447179315525859,0.0],\"yaxis\":\"y\",\"type\":\"scatter\"},{\"hoverinfo\":\"text\",\"marker\":{\"color\":\"rgb(133,20,75)\"},\"mode\":\"lines\",\"x\":[2500.0,2500.0,2520.0,2520.0],\"xaxis\":\"x\",\"y\":[0.047592625392507366,0.10985052549419554,0.10985052549419554,0.07447179315525859],\"yaxis\":\"y\",\"type\":\"scatter\"},{\"hoverinfo\":\"text\",\"marker\":{\"color\":\"rgb(133,20,75)\"},\"mode\":\"lines\",\"x\":[2545.0,2545.0,2555.0,2555.0],\"xaxis\":\"x\",\"y\":[0.0,0.06968542165870514,0.06968542165870514,0.0],\"yaxis\":\"y\",\"type\":\"scatter\"},{\"hoverinfo\":\"text\",\"marker\":{\"color\":\"rgb(133,20,75)\"},\"mode\":\"lines\",\"x\":[2575.0,2575.0,2585.0,2585.0],\"xaxis\":\"x\",\"y\":[0.0,0.03954956383231878,0.03954956383231878,0.0],\"yaxis\":\"y\",\"type\":\"scatter\"},{\"hoverinfo\":\"text\",\"marker\":{\"color\":\"rgb(133,20,75)\"},\"mode\":\"lines\",\"x\":[2565.0,2565.0,2580.0,2580.0],\"xaxis\":\"x\",\"y\":[0.0,0.09724226443142685,0.09724226443142685,0.03954956383231878],\"yaxis\":\"y\",\"type\":\"scatter\"},{\"hoverinfo\":\"text\",\"marker\":{\"color\":\"rgb(133,20,75)\"},\"mode\":\"lines\",\"x\":[2550.0,2550.0,2572.5,2572.5],\"xaxis\":\"x\",\"y\":[0.06968542165870514,0.14440745131031116,0.14440745131031116,0.09724226443142685],\"yaxis\":\"y\",\"type\":\"scatter\"},{\"hoverinfo\":\"text\",\"marker\":{\"color\":\"rgb(133,20,75)\"},\"mode\":\"lines\",\"x\":[2535.0,2535.0,2561.25,2561.25],\"xaxis\":\"x\",\"y\":[0.0,0.15203042424064342,0.15203042424064342,0.14440745131031116],\"yaxis\":\"y\",\"type\":\"scatter\"},{\"hoverinfo\":\"text\",\"marker\":{\"color\":\"rgb(133,20,75)\"},\"mode\":\"lines\",\"x\":[2510.0,2510.0,2548.125,2548.125],\"xaxis\":\"x\",\"y\":[0.10985052549419554,0.18383144453547662,0.18383144453547662,0.15203042424064342],\"yaxis\":\"y\",\"type\":\"scatter\"},{\"hoverinfo\":\"text\",\"marker\":{\"color\":\"rgb(133,20,75)\"},\"mode\":\"lines\",\"x\":[2472.5,2472.5,2529.0625,2529.0625],\"xaxis\":\"x\",\"y\":[0.154254341872003,0.3105047499325291,0.3105047499325291,0.18383144453547662],\"yaxis\":\"y\",\"type\":\"scatter\"},{\"hoverinfo\":\"text\",\"marker\":{\"color\":\"rgb(133,20,75)\"},\"mode\":\"lines\",\"x\":[2400.3125,2400.3125,2500.78125,2500.78125],\"xaxis\":\"x\",\"y\":[0.21225222690851547,0.3852468311997064,0.3852468311997064,0.3105047499325291],\"yaxis\":\"y\",\"type\":\"scatter\"},{\"hoverinfo\":\"text\",\"marker\":{\"color\":\"rgb(133,20,75)\"},\"mode\":\"lines\",\"x\":[2605.0,2605.0,2615.0,2615.0],\"xaxis\":\"x\",\"y\":[0.0,0.06125102439328258,0.06125102439328258,0.0],\"yaxis\":\"y\",\"type\":\"scatter\"},{\"hoverinfo\":\"text\",\"marker\":{\"color\":\"rgb(133,20,75)\"},\"mode\":\"lines\",\"x\":[2595.0,2595.0,2610.0,2610.0],\"xaxis\":\"x\",\"y\":[0.0,0.16467359195148706,0.16467359195148706,0.06125102439328258],\"yaxis\":\"y\",\"type\":\"scatter\"},{\"hoverinfo\":\"text\",\"marker\":{\"color\":\"rgb(133,20,75)\"},\"mode\":\"lines\",\"x\":[2635.0,2635.0,2645.0,2645.0],\"xaxis\":\"x\",\"y\":[0.0,0.02541983476198571,0.02541983476198571,0.0],\"yaxis\":\"y\",\"type\":\"scatter\"},{\"hoverinfo\":\"text\",\"marker\":{\"color\":\"rgb(133,20,75)\"},\"mode\":\"lines\",\"x\":[2625.0,2625.0,2640.0,2640.0],\"xaxis\":\"x\",\"y\":[0.0,0.07016061568957263,0.07016061568957263,0.02541983476198571],\"yaxis\":\"y\",\"type\":\"scatter\"},{\"hoverinfo\":\"text\",\"marker\":{\"color\":\"rgb(133,20,75)\"},\"mode\":\"lines\",\"x\":[2675.0,2675.0,2685.0,2685.0],\"xaxis\":\"x\",\"y\":[0.0,0.0546123794934803,0.0546123794934803,0.0],\"yaxis\":\"y\",\"type\":\"scatter\"},{\"hoverinfo\":\"text\",\"marker\":{\"color\":\"rgb(133,20,75)\"},\"mode\":\"lines\",\"x\":[2665.0,2665.0,2680.0,2680.0],\"xaxis\":\"x\",\"y\":[0.0,0.0819029790151202,0.0819029790151202,0.0546123794934803],\"yaxis\":\"y\",\"type\":\"scatter\"},{\"hoverinfo\":\"text\",\"marker\":{\"color\":\"rgb(133,20,75)\"},\"mode\":\"lines\",\"x\":[2655.0,2655.0,2672.5,2672.5],\"xaxis\":\"x\",\"y\":[0.0,0.1400131707705618,0.1400131707705618,0.0819029790151202],\"yaxis\":\"y\",\"type\":\"scatter\"},{\"hoverinfo\":\"text\",\"marker\":{\"color\":\"rgb(133,20,75)\"},\"mode\":\"lines\",\"x\":[2632.5,2632.5,2663.75,2663.75],\"xaxis\":\"x\",\"y\":[0.07016061568957263,0.17790193358013628,0.17790193358013628,0.1400131707705618],\"yaxis\":\"y\",\"type\":\"scatter\"},{\"hoverinfo\":\"text\",\"marker\":{\"color\":\"rgb(133,20,75)\"},\"mode\":\"lines\",\"x\":[2602.5,2602.5,2648.125,2648.125],\"xaxis\":\"x\",\"y\":[0.16467359195148706,0.3347940292177142,0.3347940292177142,0.17790193358013628],\"yaxis\":\"y\",\"type\":\"scatter\"},{\"hoverinfo\":\"text\",\"marker\":{\"color\":\"rgb(133,20,75)\"},\"mode\":\"lines\",\"x\":[2695.0,2695.0,2705.0,2705.0],\"xaxis\":\"x\",\"y\":[0.0,0.09119758768739442,0.09119758768739442,0.0],\"yaxis\":\"y\",\"type\":\"scatter\"},{\"hoverinfo\":\"text\",\"marker\":{\"color\":\"rgb(133,20,75)\"},\"mode\":\"lines\",\"x\":[2735.0,2735.0,2745.0,2745.0],\"xaxis\":\"x\",\"y\":[0.0,0.04434386088834587,0.04434386088834587,0.0],\"yaxis\":\"y\",\"type\":\"scatter\"},{\"hoverinfo\":\"text\",\"marker\":{\"color\":\"rgb(133,20,75)\"},\"mode\":\"lines\",\"x\":[2725.0,2725.0,2740.0,2740.0],\"xaxis\":\"x\",\"y\":[0.0,0.06353816153738796,0.06353816153738796,0.04434386088834587],\"yaxis\":\"y\",\"type\":\"scatter\"},{\"hoverinfo\":\"text\",\"marker\":{\"color\":\"rgb(133,20,75)\"},\"mode\":\"lines\",\"x\":[2715.0,2715.0,2732.5,2732.5],\"xaxis\":\"x\",\"y\":[0.0,0.09823466799349194,0.09823466799349194,0.06353816153738796],\"yaxis\":\"y\",\"type\":\"scatter\"},{\"hoverinfo\":\"text\",\"marker\":{\"color\":\"rgb(133,20,75)\"},\"mode\":\"lines\",\"x\":[2700.0,2700.0,2723.75,2723.75],\"xaxis\":\"x\",\"y\":[0.09119758768739442,0.14558530825475258,0.14558530825475258,0.09823466799349194],\"yaxis\":\"y\",\"type\":\"scatter\"},{\"hoverinfo\":\"text\",\"marker\":{\"color\":\"rgb(133,20,75)\"},\"mode\":\"lines\",\"x\":[2755.0,2755.0,2765.0,2765.0],\"xaxis\":\"x\",\"y\":[0.0,0.17082541338579987,0.17082541338579987,0.0],\"yaxis\":\"y\",\"type\":\"scatter\"},{\"hoverinfo\":\"text\",\"marker\":{\"color\":\"rgb(133,20,75)\"},\"mode\":\"lines\",\"x\":[2711.875,2711.875,2760.0,2760.0],\"xaxis\":\"x\",\"y\":[0.14558530825475258,0.2378827441895826,0.2378827441895826,0.17082541338579987],\"yaxis\":\"y\",\"type\":\"scatter\"},{\"hoverinfo\":\"text\",\"marker\":{\"color\":\"rgb(133,20,75)\"},\"mode\":\"lines\",\"x\":[2775.0,2775.0,2785.0,2785.0],\"xaxis\":\"x\",\"y\":[0.0,0.09533709634360965,0.09533709634360965,0.0],\"yaxis\":\"y\",\"type\":\"scatter\"},{\"hoverinfo\":\"text\",\"marker\":{\"color\":\"rgb(133,20,75)\"},\"mode\":\"lines\",\"x\":[2795.0,2795.0,2805.0,2805.0],\"xaxis\":\"x\",\"y\":[0.0,0.04462485852621799,0.04462485852621799,0.0],\"yaxis\":\"y\",\"type\":\"scatter\"},{\"hoverinfo\":\"text\",\"marker\":{\"color\":\"rgb(133,20,75)\"},\"mode\":\"lines\",\"x\":[2815.0,2815.0,2825.0,2825.0],\"xaxis\":\"x\",\"y\":[0.0,0.03876918874301609,0.03876918874301609,0.0],\"yaxis\":\"y\",\"type\":\"scatter\"},{\"hoverinfo\":\"text\",\"marker\":{\"color\":\"rgb(133,20,75)\"},\"mode\":\"lines\",\"x\":[2835.0,2835.0,2845.0,2845.0],\"xaxis\":\"x\",\"y\":[0.0,0.042973107744570874,0.042973107744570874,0.0],\"yaxis\":\"y\",\"type\":\"scatter\"},{\"hoverinfo\":\"text\",\"marker\":{\"color\":\"rgb(133,20,75)\"},\"mode\":\"lines\",\"x\":[2820.0,2820.0,2840.0,2840.0],\"xaxis\":\"x\",\"y\":[0.03876918874301609,0.08687374733347022,0.08687374733347022,0.042973107744570874],\"yaxis\":\"y\",\"type\":\"scatter\"},{\"hoverinfo\":\"text\",\"marker\":{\"color\":\"rgb(133,20,75)\"},\"mode\":\"lines\",\"x\":[2800.0,2800.0,2830.0,2830.0],\"xaxis\":\"x\",\"y\":[0.04462485852621799,0.13050076613615866,0.13050076613615866,0.08687374733347022],\"yaxis\":\"y\",\"type\":\"scatter\"},{\"hoverinfo\":\"text\",\"marker\":{\"color\":\"rgb(133,20,75)\"},\"mode\":\"lines\",\"x\":[2780.0,2780.0,2815.0,2815.0],\"xaxis\":\"x\",\"y\":[0.09533709634360965,0.19139991606065188,0.19139991606065188,0.13050076613615866],\"yaxis\":\"y\",\"type\":\"scatter\"},{\"hoverinfo\":\"text\",\"marker\":{\"color\":\"rgb(133,20,75)\"},\"mode\":\"lines\",\"x\":[2855.0,2855.0,2865.0,2865.0],\"xaxis\":\"x\",\"y\":[0.0,0.07704576559287084,0.07704576559287084,0.0],\"yaxis\":\"y\",\"type\":\"scatter\"},{\"hoverinfo\":\"text\",\"marker\":{\"color\":\"rgb(133,20,75)\"},\"mode\":\"lines\",\"x\":[2885.0,2885.0,2895.0,2895.0],\"xaxis\":\"x\",\"y\":[0.0,0.00624835977130517,0.00624835977130517,0.0],\"yaxis\":\"y\",\"type\":\"scatter\"},{\"hoverinfo\":\"text\",\"marker\":{\"color\":\"rgb(133,20,75)\"},\"mode\":\"lines\",\"x\":[2875.0,2875.0,2890.0,2890.0],\"xaxis\":\"x\",\"y\":[0.0,0.11234786157213522,0.11234786157213522,0.00624835977130517],\"yaxis\":\"y\",\"type\":\"scatter\"},{\"hoverinfo\":\"text\",\"marker\":{\"color\":\"rgb(133,20,75)\"},\"mode\":\"lines\",\"x\":[2860.0,2860.0,2882.5,2882.5],\"xaxis\":\"x\",\"y\":[0.07704576559287084,0.17883814464378495,0.17883814464378495,0.11234786157213522],\"yaxis\":\"y\",\"type\":\"scatter\"},{\"hoverinfo\":\"text\",\"marker\":{\"color\":\"rgb(133,20,75)\"},\"mode\":\"lines\",\"x\":[2905.0,2905.0,2915.0,2915.0],\"xaxis\":\"x\",\"y\":[0.0,0.06103587468436065,0.06103587468436065,0.0],\"yaxis\":\"y\",\"type\":\"scatter\"},{\"hoverinfo\":\"text\",\"marker\":{\"color\":\"rgb(133,20,75)\"},\"mode\":\"lines\",\"x\":[2935.0,2935.0,2945.0,2945.0],\"xaxis\":\"x\",\"y\":[0.0,0.06597120571254099,0.06597120571254099,0.0],\"yaxis\":\"y\",\"type\":\"scatter\"},{\"hoverinfo\":\"text\",\"marker\":{\"color\":\"rgb(133,20,75)\"},\"mode\":\"lines\",\"x\":[2925.0,2925.0,2940.0,2940.0],\"xaxis\":\"x\",\"y\":[0.0,0.11141439763031823,0.11141439763031823,0.06597120571254099],\"yaxis\":\"y\",\"type\":\"scatter\"},{\"hoverinfo\":\"text\",\"marker\":{\"color\":\"rgb(133,20,75)\"},\"mode\":\"lines\",\"x\":[2910.0,2910.0,2932.5,2932.5],\"xaxis\":\"x\",\"y\":[0.06103587468436065,0.2213112920508723,0.2213112920508723,0.11141439763031823],\"yaxis\":\"y\",\"type\":\"scatter\"},{\"hoverinfo\":\"text\",\"marker\":{\"color\":\"rgb(133,20,75)\"},\"mode\":\"lines\",\"x\":[2871.25,2871.25,2921.25,2921.25],\"xaxis\":\"x\",\"y\":[0.17883814464378495,0.23996916465072418,0.23996916465072418,0.2213112920508723],\"yaxis\":\"y\",\"type\":\"scatter\"},{\"hoverinfo\":\"text\",\"marker\":{\"color\":\"rgb(133,20,75)\"},\"mode\":\"lines\",\"x\":[2797.5,2797.5,2896.25,2896.25],\"xaxis\":\"x\",\"y\":[0.19139991606065188,0.36385155113964873,0.36385155113964873,0.23996916465072418],\"yaxis\":\"y\",\"type\":\"scatter\"},{\"hoverinfo\":\"text\",\"marker\":{\"color\":\"rgb(133,20,75)\"},\"mode\":\"lines\",\"x\":[2735.9375,2735.9375,2846.875,2846.875],\"xaxis\":\"x\",\"y\":[0.2378827441895826,0.404878489213358,0.404878489213358,0.36385155113964873],\"yaxis\":\"y\",\"type\":\"scatter\"},{\"hoverinfo\":\"text\",\"marker\":{\"color\":\"rgb(133,20,75)\"},\"mode\":\"lines\",\"x\":[2625.3125,2625.3125,2791.40625,2791.40625],\"xaxis\":\"x\",\"y\":[0.3347940292177142,0.4687659883197623,0.4687659883197623,0.404878489213358],\"yaxis\":\"y\",\"type\":\"scatter\"},{\"hoverinfo\":\"text\",\"marker\":{\"color\":\"rgb(133,20,75)\"},\"mode\":\"lines\",\"x\":[2450.546875,2450.546875,2708.359375,2708.359375],\"xaxis\":\"x\",\"y\":[0.3852468311997064,0.7017557252859082,0.7017557252859082,0.4687659883197623],\"yaxis\":\"y\",\"type\":\"scatter\"},{\"hoverinfo\":\"text\",\"marker\":{\"color\":\"rgb(133,20,75)\"},\"mode\":\"lines\",\"x\":[1950.09765625,1950.09765625,2579.453125,2579.453125],\"xaxis\":\"x\",\"y\":[0.53737233954726,0.8709568169558901,0.8709568169558901,0.7017557252859082],\"yaxis\":\"y\",\"type\":\"scatter\"},{\"hoverinfo\":\"text\",\"marker\":{\"color\":\"rgb(0,116,217)\"},\"mode\":\"lines\",\"x\":[1540.0390625,1540.0390625,2264.775390625,2264.775390625],\"xaxis\":\"x\",\"y\":[0.7854571606820632,0.986073596620126,0.986073596620126,0.8709568169558901],\"yaxis\":\"y\",\"type\":\"scatter\"},{\"hoverinfo\":\"text\",\"marker\":{\"color\":\"rgb(0,116,217)\"},\"mode\":\"lines\",\"x\":[1111.943359375,1111.943359375,1902.4072265625,1902.4072265625],\"xaxis\":\"x\",\"y\":[0.8735428875654169,1.192106801843667,1.192106801843667,0.986073596620126],\"yaxis\":\"y\",\"type\":\"scatter\"},{\"hoverinfo\":\"text\",\"marker\":{\"color\":\"rgb(0,116,217)\"},\"mode\":\"lines\",\"x\":[402.4609375,402.4609375,1507.17529296875,1507.17529296875],\"xaxis\":\"x\",\"y\":[0.6377804389573578,1.3862637315294706,1.3862637315294706,1.192106801843667],\"yaxis\":\"y\",\"type\":\"scatter\"}],                        {\"autosize\":false,\"height\":400,\"hovermode\":\"closest\",\"showlegend\":false,\"width\":600,\"xaxis\":{\"mirror\":\"allticks\",\"rangemode\":\"tozero\",\"showgrid\":false,\"showline\":true,\"showticklabels\":true,\"tickmode\":\"array\",\"ticks\":\"outside\",\"ticktext\":[\"Emotional Risk Assessment\",\"Late Calms\",\"Peak Pressure\",\"Oak\",\"Passing Hills and Still Windmills\",\"Ice Deserts over Ross Island\",\"First Light\",\"Ledger\",\"#10\",\"Orionne\",\"Cherry Souls Awakening\",\"Swarms of Orange\",\"#2\",\"Home Is In The Mountains\",\"We Were Blond First\",\"#7\",\"Missed Language\",\"Taking Measures Toward Morning\",\"\\u201cTo Be Holy, Be Wholly Your Own\\u201d\",\"Petrified Forest\",\"5:59 AM\",\"Blind Darsan\",\"Voiceless Devilfish\",\"Mass Clouds\",\"Fathom This Young Life\",\"It Goes over Me\",\"Aerial Interlude\",\"Concept 8\",\"Cloud Surface\",\"Susan Maybe\",\"Amaranta\",\"Your Name Is My Infinite\",\"TBW17\",\"Saxenburgh / Pepys / Aurora\",\"Pain Relief\",\"Los Jardines\",\"Swirral Edge\",\"Balayage\",\"#21\",\"Hold Gem Cut\",\"Tayos Caves, Ecuador i\",\"Ascending, Dawn Sky\",\"Marri\",\"Earth Love\",\"Arriving\",\"Amb\",\"If\",\"Sardinia\",\"Sit Around The Fire\",\"Hyperopia\",\"Right to Left\",\"Metal Master\",\"Open\",\"Bubble\",\"Nefertiti\",\"Till the Clouds Roll By\",\"Endnote\",\"Scarfs, Blisters and Night Lights\",\"Seeing; That Side of Teaching\",\"Waxwing Air\",\"Songbirds\",\"Creative Lizard\",\"First Image\",\"Gravel\",\"Revin\",\"Road to Toco\",\"Oyl\",\"On Deck\",\"Eh-Poh-Ne\",\"Mutualism\",\"From The Seams\",\"Gloamer\",\"Cegetel\",\"Yell0W_Tail\",\"A Clean Heart\",\"Concept 3\",\"Diving Birds\",\"What Otters\",\"Your Own Power\",\"Burn\",\"Critter\",\"Sensation\",\"Vetiver\",\"Color Me\",\"Spira Mirabilis\",\"Quadraluv\",\"Over\",\"Concept 11\",\"Stutter\",\"Yes.DJ\",\"Whispers\",\"Ani Ma\",\"Witness\",\"Brushes\",\"Walworth Waltz\",\"Blanket Dub\",\"Dreams Of A Digital Sublime\",\"Parallel Space\",\"Igam-Ogam\",\"All Wild Things Are Shy\",\"Rounded\",\"Cephas\",\"K1\",\"Starlite Xpress\",\"Snake Dance\",\"Concept 16\",\"Ender\",\"#15\",\"Citizen // Nowhere\",\"Diminuendo\",\"Grace\",\"Seeker\",\"The Ritual\",\"K2\",\"iii's Front\",\"4see\",\"Lerzin\",\"The Reason\",\"About Breathing - Remix\",\"Come Close\",\"Gathering\",\"Wetlands\",\"Intro\",\"Ekphrasis\",\"Hy Brasil\",\"Two For C\",\"Concept 15\",\"Projector\",\"Slow Fade\",\"Pteridium\",\"The Village\",\"Trace palmaire\",\"Drift\",\"Taprobana\",\"Foraging Music\",\"Parallel Space - Conforce Remix\",\"Quick Eternity\",\"Clear\",\"Clairvoyant\",\"Whole Wide Worlds\",\"Winged\",\"Steps to Breath\",\"2-9-1\",\"Tayos Caves, Ecuador iii\",\"Scramble\",\"Tilt\",\"Outro\",\"Pond In Moonlight\",\"#1\",\"#11\",\"#8\",\"#9\",\"Sky Host\",\"2see\",\"Yarrow\",\"Every Weather\",\"Anemone\",\"Creation Dub\",\"Enter Venus\",\"About Breathing\",\"Sema\",\"Pluck\",\"Tongue\",\"#18\",\"Sistine (Plucks)\",\"Mayo Slide\",\"Hiding in Plain Sight\",\"Farts\",\"6thematic\",\"Iso Stream\",\"Yl She's Away\",\"Breathe In\",\"April\",\"Concept 10\",\"Low D\",\"Marble Net\",\"Blush\",\"#23\",\"Days From Now\",\"Tapping on a Hollow Body\",\"Contra\",\"Life Love Impulse\",\"Kalma 2mg\",\"Galerie\",\"Concept 13\",\"Thought Painting\",\"Water Memory\",\"Concept 9\",\"Tuanahe\",\"Pluck II\",\"#13\",\"Mod 3\",\"Thalassocratie\",\"Pe\\u0301nombre\",\"Pippin (Version)\",\"Swift and Ersatz Cough to Morning\",\"Grounds\",\"Sluggish in the Morning\",\"#22\",\"Scratch the Chest of Your Voices\",\"Mi\",\"Ends Meet\",\"A Minor Echolocation\",\"Apricot Sunrise\",\"#14\",\"#3\",\"Rain Machines\",\"#20\",\"Sablage\",\"Raccordement\",\"The Tower\",\"Deep In The Glowing Heart\",\"Mimosa\",\"Cry Winds or Flames\",\"Hotel Nota\",\"Myrtus\",\"#24\",\"80,000 Feet\",\"Welcome\",\"Tayos Caves, Ecuador ii\",\"A Clearing (In Empty Space)\",\"#4\",\"Description of Rain (Over Frisland)\",\"Love Flows Over Us In Prismatic Waves\",\"Mansana\",\"Low Bridge (Lights)\",\"#6\",\"The Divine is not Invisible\",\"Artificial Colours\",\"Echelons\",\"Campana\",\"Polly\",\"Edie\",\"The Stars are only Smears\",\"#5\",\"On Demons and Diamonds\",\"#17\",\"Luna\",\"#16\",\"Sunshower at Sandy Island\",\"Du rocher\",\"Tiles & Glass\",\"Thicket\",\"Whale\",\"Opal\",\"Embers\",\"Full Cavity\",\"Planetarium\",\"Stereo L\",\"Feb Patch\",\"Pure\",\"Longe-co\\u0302te\",\"How to Disappear in a Kiss\",\"Diphenhydramine\",\"Fonseca Winds (Lament)\",\"Homebody\",\"Petal Patch\",\"I'll See It When I Believe It\",\"Striding Edge\",\"Pippin\",\"On A Nimbus\",\"Short Leg\",\"Under\",\"Le be\\u0301matiste\",\"Bellamore\",\"Coraline\",\"#12\",\"Plant Memory\",\"Interlude\",\"Concept 1\",\"Gypsum\",\"Seven Hour Flight to Nowhere\",\"Verge\",\"Photosynthesis\",\"Not All It's Cracked up to Be\",\"Looking Inside to See How it Works\",\"#19\",\"Borage\",\"Verso\",\"Liminal\",\"Calypso\",\"Shkrub\",\"Afterburn\",\"Rosa\",\"Tech Ne\",\"Passerby\",\"True Gleam\",\"Approximate Bermeja\",\"The Water Sibyl\",\"Glitter\",\"Ssky\",\"w Dad\",\"Onaseuse / Crespo / Rica de Oro\",\"Wake Up Now\",\"Khalifa Golf Club\"],\"tickvals\":[5.0,15.0,25.0,35.0,45.0,55.0,65.0,75.0,85.0,95.0,105.0,115.0,125.0,135.0,145.0,155.0,165.0,175.0,185.0,195.0,205.0,215.0,225.0,235.0,245.0,255.0,265.0,275.0,285.0,295.0,305.0,315.0,325.0,335.0,345.0,355.0,365.0,375.0,385.0,395.0,405.0,415.0,425.0,435.0,445.0,455.0,465.0,475.0,485.0,495.0,505.0,515.0,525.0,535.0,545.0,555.0,565.0,575.0,585.0,595.0,605.0,615.0,625.0,635.0,645.0,655.0,665.0,675.0,685.0,695.0,705.0,715.0,725.0,735.0,745.0,755.0,765.0,775.0,785.0,795.0,805.0,815.0,825.0,835.0,845.0,855.0,865.0,875.0,885.0,895.0,905.0,915.0,925.0,935.0,945.0,955.0,965.0,975.0,985.0,995.0,1005.0,1015.0,1025.0,1035.0,1045.0,1055.0,1065.0,1075.0,1085.0,1095.0,1105.0,1115.0,1125.0,1135.0,1145.0,1155.0,1165.0,1175.0,1185.0,1195.0,1205.0,1215.0,1225.0,1235.0,1245.0,1255.0,1265.0,1275.0,1285.0,1295.0,1305.0,1315.0,1325.0,1335.0,1345.0,1355.0,1365.0,1375.0,1385.0,1395.0,1405.0,1415.0,1425.0,1435.0,1445.0,1455.0,1465.0,1475.0,1485.0,1495.0,1505.0,1515.0,1525.0,1535.0,1545.0,1555.0,1565.0,1575.0,1585.0,1595.0,1605.0,1615.0,1625.0,1635.0,1645.0,1655.0,1665.0,1675.0,1685.0,1695.0,1705.0,1715.0,1725.0,1735.0,1745.0,1755.0,1765.0,1775.0,1785.0,1795.0,1805.0,1815.0,1825.0,1835.0,1845.0,1855.0,1865.0,1875.0,1885.0,1895.0,1905.0,1915.0,1925.0,1935.0,1945.0,1955.0,1965.0,1975.0,1985.0,1995.0,2005.0,2015.0,2025.0,2035.0,2045.0,2055.0,2065.0,2075.0,2085.0,2095.0,2105.0,2115.0,2125.0,2135.0,2145.0,2155.0,2165.0,2175.0,2185.0,2195.0,2205.0,2215.0,2225.0,2235.0,2245.0,2255.0,2265.0,2275.0,2285.0,2295.0,2305.0,2315.0,2325.0,2335.0,2345.0,2355.0,2365.0,2375.0,2385.0,2395.0,2405.0,2415.0,2425.0,2435.0,2445.0,2455.0,2465.0,2475.0,2485.0,2495.0,2505.0,2515.0,2525.0,2535.0,2545.0,2555.0,2565.0,2575.0,2585.0,2595.0,2605.0,2615.0,2625.0,2635.0,2645.0,2655.0,2665.0,2675.0,2685.0,2695.0,2705.0,2715.0,2725.0,2735.0,2745.0,2755.0,2765.0,2775.0,2785.0,2795.0,2805.0,2815.0,2825.0,2835.0,2845.0,2855.0,2865.0,2875.0,2885.0,2895.0,2905.0,2915.0,2925.0,2935.0,2945.0],\"type\":\"linear\",\"zeroline\":false},\"yaxis\":{\"mirror\":\"allticks\",\"rangemode\":\"tozero\",\"showgrid\":false,\"showline\":true,\"showticklabels\":true,\"ticks\":\"outside\",\"type\":\"linear\",\"zeroline\":false},\"template\":{\"data\":{\"bar\":[{\"error_x\":{\"color\":\"#2a3f5f\"},\"error_y\":{\"color\":\"#2a3f5f\"},\"marker\":{\"line\":{\"color\":\"#E5ECF6\",\"width\":0.5},\"pattern\":{\"fillmode\":\"overlay\",\"size\":10,\"solidity\":0.2}},\"type\":\"bar\"}],\"barpolar\":[{\"marker\":{\"line\":{\"color\":\"#E5ECF6\",\"width\":0.5},\"pattern\":{\"fillmode\":\"overlay\",\"size\":10,\"solidity\":0.2}},\"type\":\"barpolar\"}],\"carpet\":[{\"aaxis\":{\"endlinecolor\":\"#2a3f5f\",\"gridcolor\":\"white\",\"linecolor\":\"white\",\"minorgridcolor\":\"white\",\"startlinecolor\":\"#2a3f5f\"},\"baxis\":{\"endlinecolor\":\"#2a3f5f\",\"gridcolor\":\"white\",\"linecolor\":\"white\",\"minorgridcolor\":\"white\",\"startlinecolor\":\"#2a3f5f\"},\"type\":\"carpet\"}],\"choropleth\":[{\"colorbar\":{\"outlinewidth\":0,\"ticks\":\"\"},\"type\":\"choropleth\"}],\"contour\":[{\"colorbar\":{\"outlinewidth\":0,\"ticks\":\"\"},\"colorscale\":[[0.0,\"#0d0887\"],[0.1111111111111111,\"#46039f\"],[0.2222222222222222,\"#7201a8\"],[0.3333333333333333,\"#9c179e\"],[0.4444444444444444,\"#bd3786\"],[0.5555555555555556,\"#d8576b\"],[0.6666666666666666,\"#ed7953\"],[0.7777777777777778,\"#fb9f3a\"],[0.8888888888888888,\"#fdca26\"],[1.0,\"#f0f921\"]],\"type\":\"contour\"}],\"contourcarpet\":[{\"colorbar\":{\"outlinewidth\":0,\"ticks\":\"\"},\"type\":\"contourcarpet\"}],\"heatmap\":[{\"colorbar\":{\"outlinewidth\":0,\"ticks\":\"\"},\"colorscale\":[[0.0,\"#0d0887\"],[0.1111111111111111,\"#46039f\"],[0.2222222222222222,\"#7201a8\"],[0.3333333333333333,\"#9c179e\"],[0.4444444444444444,\"#bd3786\"],[0.5555555555555556,\"#d8576b\"],[0.6666666666666666,\"#ed7953\"],[0.7777777777777778,\"#fb9f3a\"],[0.8888888888888888,\"#fdca26\"],[1.0,\"#f0f921\"]],\"type\":\"heatmap\"}],\"heatmapgl\":[{\"colorbar\":{\"outlinewidth\":0,\"ticks\":\"\"},\"colorscale\":[[0.0,\"#0d0887\"],[0.1111111111111111,\"#46039f\"],[0.2222222222222222,\"#7201a8\"],[0.3333333333333333,\"#9c179e\"],[0.4444444444444444,\"#bd3786\"],[0.5555555555555556,\"#d8576b\"],[0.6666666666666666,\"#ed7953\"],[0.7777777777777778,\"#fb9f3a\"],[0.8888888888888888,\"#fdca26\"],[1.0,\"#f0f921\"]],\"type\":\"heatmapgl\"}],\"histogram\":[{\"marker\":{\"pattern\":{\"fillmode\":\"overlay\",\"size\":10,\"solidity\":0.2}},\"type\":\"histogram\"}],\"histogram2d\":[{\"colorbar\":{\"outlinewidth\":0,\"ticks\":\"\"},\"colorscale\":[[0.0,\"#0d0887\"],[0.1111111111111111,\"#46039f\"],[0.2222222222222222,\"#7201a8\"],[0.3333333333333333,\"#9c179e\"],[0.4444444444444444,\"#bd3786\"],[0.5555555555555556,\"#d8576b\"],[0.6666666666666666,\"#ed7953\"],[0.7777777777777778,\"#fb9f3a\"],[0.8888888888888888,\"#fdca26\"],[1.0,\"#f0f921\"]],\"type\":\"histogram2d\"}],\"histogram2dcontour\":[{\"colorbar\":{\"outlinewidth\":0,\"ticks\":\"\"},\"colorscale\":[[0.0,\"#0d0887\"],[0.1111111111111111,\"#46039f\"],[0.2222222222222222,\"#7201a8\"],[0.3333333333333333,\"#9c179e\"],[0.4444444444444444,\"#bd3786\"],[0.5555555555555556,\"#d8576b\"],[0.6666666666666666,\"#ed7953\"],[0.7777777777777778,\"#fb9f3a\"],[0.8888888888888888,\"#fdca26\"],[1.0,\"#f0f921\"]],\"type\":\"histogram2dcontour\"}],\"mesh3d\":[{\"colorbar\":{\"outlinewidth\":0,\"ticks\":\"\"},\"type\":\"mesh3d\"}],\"parcoords\":[{\"line\":{\"colorbar\":{\"outlinewidth\":0,\"ticks\":\"\"}},\"type\":\"parcoords\"}],\"pie\":[{\"automargin\":true,\"type\":\"pie\"}],\"scatter\":[{\"marker\":{\"colorbar\":{\"outlinewidth\":0,\"ticks\":\"\"}},\"type\":\"scatter\"}],\"scatter3d\":[{\"line\":{\"colorbar\":{\"outlinewidth\":0,\"ticks\":\"\"}},\"marker\":{\"colorbar\":{\"outlinewidth\":0,\"ticks\":\"\"}},\"type\":\"scatter3d\"}],\"scattercarpet\":[{\"marker\":{\"colorbar\":{\"outlinewidth\":0,\"ticks\":\"\"}},\"type\":\"scattercarpet\"}],\"scattergeo\":[{\"marker\":{\"colorbar\":{\"outlinewidth\":0,\"ticks\":\"\"}},\"type\":\"scattergeo\"}],\"scattergl\":[{\"marker\":{\"colorbar\":{\"outlinewidth\":0,\"ticks\":\"\"}},\"type\":\"scattergl\"}],\"scattermapbox\":[{\"marker\":{\"colorbar\":{\"outlinewidth\":0,\"ticks\":\"\"}},\"type\":\"scattermapbox\"}],\"scatterpolar\":[{\"marker\":{\"colorbar\":{\"outlinewidth\":0,\"ticks\":\"\"}},\"type\":\"scatterpolar\"}],\"scatterpolargl\":[{\"marker\":{\"colorbar\":{\"outlinewidth\":0,\"ticks\":\"\"}},\"type\":\"scatterpolargl\"}],\"scatterternary\":[{\"marker\":{\"colorbar\":{\"outlinewidth\":0,\"ticks\":\"\"}},\"type\":\"scatterternary\"}],\"surface\":[{\"colorbar\":{\"outlinewidth\":0,\"ticks\":\"\"},\"colorscale\":[[0.0,\"#0d0887\"],[0.1111111111111111,\"#46039f\"],[0.2222222222222222,\"#7201a8\"],[0.3333333333333333,\"#9c179e\"],[0.4444444444444444,\"#bd3786\"],[0.5555555555555556,\"#d8576b\"],[0.6666666666666666,\"#ed7953\"],[0.7777777777777778,\"#fb9f3a\"],[0.8888888888888888,\"#fdca26\"],[1.0,\"#f0f921\"]],\"type\":\"surface\"}],\"table\":[{\"cells\":{\"fill\":{\"color\":\"#EBF0F8\"},\"line\":{\"color\":\"white\"}},\"header\":{\"fill\":{\"color\":\"#C8D4E3\"},\"line\":{\"color\":\"white\"}},\"type\":\"table\"}]},\"layout\":{\"annotationdefaults\":{\"arrowcolor\":\"#2a3f5f\",\"arrowhead\":0,\"arrowwidth\":1},\"autotypenumbers\":\"strict\",\"coloraxis\":{\"colorbar\":{\"outlinewidth\":0,\"ticks\":\"\"}},\"colorscale\":{\"diverging\":[[0,\"#8e0152\"],[0.1,\"#c51b7d\"],[0.2,\"#de77ae\"],[0.3,\"#f1b6da\"],[0.4,\"#fde0ef\"],[0.5,\"#f7f7f7\"],[0.6,\"#e6f5d0\"],[0.7,\"#b8e186\"],[0.8,\"#7fbc41\"],[0.9,\"#4d9221\"],[1,\"#276419\"]],\"sequential\":[[0.0,\"#0d0887\"],[0.1111111111111111,\"#46039f\"],[0.2222222222222222,\"#7201a8\"],[0.3333333333333333,\"#9c179e\"],[0.4444444444444444,\"#bd3786\"],[0.5555555555555556,\"#d8576b\"],[0.6666666666666666,\"#ed7953\"],[0.7777777777777778,\"#fb9f3a\"],[0.8888888888888888,\"#fdca26\"],[1.0,\"#f0f921\"]],\"sequentialminus\":[[0.0,\"#0d0887\"],[0.1111111111111111,\"#46039f\"],[0.2222222222222222,\"#7201a8\"],[0.3333333333333333,\"#9c179e\"],[0.4444444444444444,\"#bd3786\"],[0.5555555555555556,\"#d8576b\"],[0.6666666666666666,\"#ed7953\"],[0.7777777777777778,\"#fb9f3a\"],[0.8888888888888888,\"#fdca26\"],[1.0,\"#f0f921\"]]},\"colorway\":[\"#636efa\",\"#EF553B\",\"#00cc96\",\"#ab63fa\",\"#FFA15A\",\"#19d3f3\",\"#FF6692\",\"#B6E880\",\"#FF97FF\",\"#FECB52\"],\"font\":{\"color\":\"#2a3f5f\"},\"geo\":{\"bgcolor\":\"white\",\"lakecolor\":\"white\",\"landcolor\":\"#E5ECF6\",\"showlakes\":true,\"showland\":true,\"subunitcolor\":\"white\"},\"hoverlabel\":{\"align\":\"left\"},\"hovermode\":\"closest\",\"mapbox\":{\"style\":\"light\"},\"paper_bgcolor\":\"white\",\"plot_bgcolor\":\"#E5ECF6\",\"polar\":{\"angularaxis\":{\"gridcolor\":\"white\",\"linecolor\":\"white\",\"ticks\":\"\"},\"bgcolor\":\"#E5ECF6\",\"radialaxis\":{\"gridcolor\":\"white\",\"linecolor\":\"white\",\"ticks\":\"\"}},\"scene\":{\"xaxis\":{\"backgroundcolor\":\"#E5ECF6\",\"gridcolor\":\"white\",\"gridwidth\":2,\"linecolor\":\"white\",\"showbackground\":true,\"ticks\":\"\",\"zerolinecolor\":\"white\"},\"yaxis\":{\"backgroundcolor\":\"#E5ECF6\",\"gridcolor\":\"white\",\"gridwidth\":2,\"linecolor\":\"white\",\"showbackground\":true,\"ticks\":\"\",\"zerolinecolor\":\"white\"},\"zaxis\":{\"backgroundcolor\":\"#E5ECF6\",\"gridcolor\":\"white\",\"gridwidth\":2,\"linecolor\":\"white\",\"showbackground\":true,\"ticks\":\"\",\"zerolinecolor\":\"white\"}},\"shapedefaults\":{\"line\":{\"color\":\"#2a3f5f\"}},\"ternary\":{\"aaxis\":{\"gridcolor\":\"white\",\"linecolor\":\"white\",\"ticks\":\"\"},\"baxis\":{\"gridcolor\":\"white\",\"linecolor\":\"white\",\"ticks\":\"\"},\"bgcolor\":\"#E5ECF6\",\"caxis\":{\"gridcolor\":\"white\",\"linecolor\":\"white\",\"ticks\":\"\"}},\"title\":{\"x\":0.05},\"xaxis\":{\"automargin\":true,\"gridcolor\":\"white\",\"linecolor\":\"white\",\"ticks\":\"\",\"title\":{\"standoff\":15},\"zerolinecolor\":\"white\",\"zerolinewidth\":2},\"yaxis\":{\"automargin\":true,\"gridcolor\":\"white\",\"linecolor\":\"white\",\"ticks\":\"\",\"title\":{\"standoff\":15},\"zerolinecolor\":\"white\",\"zerolinewidth\":2}}}},                        {\"responsive\": true}                    ).then(function(){\n",
       "                            \n",
       "var gd = document.getElementById('6ca453a8-0e8f-4c2f-9c9b-47d6d388be0b');\n",
       "var x = new MutationObserver(function (mutations, observer) {{\n",
       "        var display = window.getComputedStyle(gd).display;\n",
       "        if (!display || display === 'none') {{\n",
       "            console.log([gd, 'removed!']);\n",
       "            Plotly.purge(gd);\n",
       "            observer.disconnect();\n",
       "        }}\n",
       "}});\n",
       "\n",
       "// Listen for the removal of the full notebook cells\n",
       "var notebookContainer = gd.closest('#notebook-container');\n",
       "if (notebookContainer) {{\n",
       "    x.observe(notebookContainer, {childList: true});\n",
       "}}\n",
       "\n",
       "// Listen for the clearing of the current output cell\n",
       "var outputEl = gd.closest('.output');\n",
       "if (outputEl) {{\n",
       "    x.observe(outputEl, {childList: true});\n",
       "}}\n",
       "\n",
       "                        })                };                });            </script>        </div>"
      ]
     },
     "metadata": {},
     "output_type": "display_data"
    }
   ],
   "source": [
    "fig = ff.create_dendrogram(df_modelo.drop(['cluster'], axis=1), labels=df_modelo.index)\n",
    "fig.update_layout(width=600, height=400)\n",
    "fig.write_image(\"/Users/santiago/Desktop/C.png\")\n",
    "fig.show()"
   ]
  },
  {
   "cell_type": "code",
   "execution_count": 58,
   "id": "a4697213",
   "metadata": {},
   "outputs": [
    {
     "data": {
      "text/html": [
       "<div>\n",
       "<style scoped>\n",
       "    .dataframe tbody tr th:only-of-type {\n",
       "        vertical-align: middle;\n",
       "    }\n",
       "\n",
       "    .dataframe tbody tr th {\n",
       "        vertical-align: top;\n",
       "    }\n",
       "\n",
       "    .dataframe thead th {\n",
       "        text-align: right;\n",
       "    }\n",
       "</style>\n",
       "<table border=\"1\" class=\"dataframe\">\n",
       "  <thead>\n",
       "    <tr style=\"text-align: right;\">\n",
       "      <th></th>\n",
       "      <th>track_id</th>\n",
       "      <th>artist</th>\n",
       "      <th>track</th>\n",
       "      <th>album</th>\n",
       "      <th>duration</th>\n",
       "      <th>tempo</th>\n",
       "      <th>energy</th>\n",
       "      <th>danceability</th>\n",
       "      <th>valence</th>\n",
       "      <th>key</th>\n",
       "      <th>time_signature</th>\n",
       "      <th>acousticness</th>\n",
       "      <th>instrumentalness</th>\n",
       "      <th>mode</th>\n",
       "      <th>styles</th>\n",
       "      <th>cluster</th>\n",
       "    </tr>\n",
       "  </thead>\n",
       "  <tbody>\n",
       "    <tr>\n",
       "      <th>294</th>\n",
       "      <td>7v5rkoVS3eRh4qEH72mjo3</td>\n",
       "      <td>Perko</td>\n",
       "      <td>Water Memory</td>\n",
       "      <td>NV Auto</td>\n",
       "      <td>3.8</td>\n",
       "      <td>115</td>\n",
       "      <td>0.195</td>\n",
       "      <td>0.524</td>\n",
       "      <td>0.382</td>\n",
       "      <td>C#</td>\n",
       "      <td>4</td>\n",
       "      <td>0.989</td>\n",
       "      <td>0.925</td>\n",
       "      <td>0</td>\n",
       "      <td>['Ambient', 'Breakbeat', 'Techno']</td>\n",
       "      <td>-1</td>\n",
       "    </tr>\n",
       "  </tbody>\n",
       "</table>\n",
       "</div>"
      ],
      "text/plain": [
       "                   track_id artist         track    album  duration  tempo  \\\n",
       "294  7v5rkoVS3eRh4qEH72mjo3  Perko  Water Memory  NV Auto       3.8    115   \n",
       "\n",
       "     energy  danceability  valence key  time_signature  acousticness  \\\n",
       "294   0.195         0.524    0.382  C#               4         0.989   \n",
       "\n",
       "     instrumentalness  mode                              styles  cluster  \n",
       "294             0.925     0  ['Ambient', 'Breakbeat', 'Techno']       -1  "
      ]
     },
     "execution_count": 58,
     "metadata": {},
     "output_type": "execute_result"
    }
   ],
   "source": [
    "df[df.track=='Water Memory']"
   ]
  },
  {
   "cell_type": "code",
   "execution_count": 97,
   "id": "56b13d23",
   "metadata": {
    "scrolled": true
   },
   "outputs": [
    {
     "data": {
      "text/plain": [
       "energy               0.29\n",
       "danceability        0.105\n",
       "valence             0.276\n",
       "track           Nefertiti\n",
       "Name: 232, dtype: object"
      ]
     },
     "execution_count": 97,
     "metadata": {},
     "output_type": "execute_result"
    }
   ],
   "source": [
    "df_modelo.iloc[232]"
   ]
  },
  {
   "cell_type": "markdown",
   "id": "3ca8366b",
   "metadata": {},
   "source": [
    "## Generos vs clusters"
   ]
  },
  {
   "cell_type": "code",
   "execution_count": 439,
   "id": "624be024",
   "metadata": {
    "scrolled": false
   },
   "outputs": [
    {
     "data": {
      "text/plain": [
       "{\"['Abstract']\",\n",
       " \"['Acid', 'Acid House', 'Tech House', 'Ambient']\",\n",
       " \"['Ambient', 'Breakbeat', 'Techno']\",\n",
       " \"['Ambient', 'Deep House']\",\n",
       " \"['Ambient', 'Experimental']\",\n",
       " \"['Ambient', 'House']\",\n",
       " \"['Ambient', 'IDM', 'New Age', 'Techno']\",\n",
       " \"['Ambient', 'Minimal', 'Downtempo']\",\n",
       " \"['Ambient']\",\n",
       " \"['Avantgarde']\",\n",
       " \"['Calypso']\",\n",
       " \"['Dance-pop', 'Synth-pop', 'House', 'Trap', 'Minimal', 'Pop Rap']\",\n",
       " \"['Drum n Bass', 'IDM', 'Leftfield']\",\n",
       " \"['Drum n Bass']\",\n",
       " \"['Dub Techno']\",\n",
       " \"['Experimental', 'Dubstep', 'Electro', 'Drum n Bass', 'Breaks']\",\n",
       " \"['House', 'Bass Music', 'UK Garage', 'Downtempo']\",\n",
       " \"['House', 'Deep House']\",\n",
       " \"['IDM', 'Techno', 'House', 'Jungle', 'Ambient']\",\n",
       " \"['Pop Punk', 'Emo']\",\n",
       " \"['Techno', 'Downtempo', 'Ambient']\",\n",
       " \"['Techno', 'Drum n Bass']\",\n",
       " \"['Techno', 'Electro', 'Breaks', 'Dubstep']\",\n",
       " \"['Techno', 'UK Garage', 'Dub']\",\n",
       " \"['Techno']\",\n",
       " nan}"
      ]
     },
     "execution_count": 439,
     "metadata": {},
     "output_type": "execute_result"
    }
   ],
   "source": [
    "set(df.styles.unique())"
   ]
  },
  {
   "cell_type": "code",
   "execution_count": 295,
   "id": "e065aeed",
   "metadata": {},
   "outputs": [
    {
     "data": {
      "text/plain": [
       "[\"'Drum n Bass', 'IDM', 'Leftfield'\"]"
      ]
     },
     "execution_count": 295,
     "metadata": {},
     "output_type": "execute_result"
    }
   ],
   "source": [
    "[df.styles[0][1:-1]]"
   ]
  },
  {
   "cell_type": "code",
   "execution_count": 296,
   "id": "873990e9",
   "metadata": {},
   "outputs": [],
   "source": [
    "import ast"
   ]
  },
  {
   "cell_type": "code",
   "execution_count": 297,
   "id": "c417cf4a",
   "metadata": {},
   "outputs": [
    {
     "data": {
      "text/plain": [
       "'rápidas'"
      ]
     },
     "execution_count": 297,
     "metadata": {},
     "output_type": "execute_result"
    }
   ],
   "source": [
    "df.cluster[0]"
   ]
  },
  {
   "cell_type": "code",
   "execution_count": 234,
   "id": "1716f7c7",
   "metadata": {
    "scrolled": true
   },
   "outputs": [
    {
     "ename": "ValueError",
     "evalue": "DataFrame constructor not properly called!",
     "output_type": "error",
     "traceback": [
      "\u001b[0;31m---------------------------------------------------------------------------\u001b[0m",
      "\u001b[0;31mValueError\u001b[0m                                Traceback (most recent call last)",
      "\u001b[0;32m<ipython-input-234-1b3fc8b04ca6>\u001b[0m in \u001b[0;36m<module>\u001b[0;34m\u001b[0m\n\u001b[0;32m----> 1\u001b[0;31m \u001b[0mpd\u001b[0m\u001b[0;34m.\u001b[0m\u001b[0mDataFrame\u001b[0m\u001b[0;34m(\u001b[0m\u001b[0mdf\u001b[0m\u001b[0;34m.\u001b[0m\u001b[0mcluster\u001b[0m\u001b[0;34m[\u001b[0m\u001b[0;36m0\u001b[0m\u001b[0;34m]\u001b[0m\u001b[0;34m)\u001b[0m\u001b[0;34m\u001b[0m\u001b[0;34m\u001b[0m\u001b[0m\n\u001b[0m",
      "\u001b[0;32m/opt/anaconda3/lib/python3.8/site-packages/pandas/core/frame.py\u001b[0m in \u001b[0;36m__init__\u001b[0;34m(self, data, index, columns, dtype, copy)\u001b[0m\n\u001b[1;32m    588\u001b[0m         \u001b[0;32melse\u001b[0m\u001b[0;34m:\u001b[0m\u001b[0;34m\u001b[0m\u001b[0;34m\u001b[0m\u001b[0m\n\u001b[1;32m    589\u001b[0m             \u001b[0;32mif\u001b[0m \u001b[0mindex\u001b[0m \u001b[0;32mis\u001b[0m \u001b[0;32mNone\u001b[0m \u001b[0;32mor\u001b[0m \u001b[0mcolumns\u001b[0m \u001b[0;32mis\u001b[0m \u001b[0;32mNone\u001b[0m\u001b[0;34m:\u001b[0m\u001b[0;34m\u001b[0m\u001b[0;34m\u001b[0m\u001b[0m\n\u001b[0;32m--> 590\u001b[0;31m                 \u001b[0;32mraise\u001b[0m \u001b[0mValueError\u001b[0m\u001b[0;34m(\u001b[0m\u001b[0;34m\"DataFrame constructor not properly called!\"\u001b[0m\u001b[0;34m)\u001b[0m\u001b[0;34m\u001b[0m\u001b[0;34m\u001b[0m\u001b[0m\n\u001b[0m\u001b[1;32m    591\u001b[0m \u001b[0;34m\u001b[0m\u001b[0m\n\u001b[1;32m    592\u001b[0m             \u001b[0;32mif\u001b[0m \u001b[0;32mnot\u001b[0m \u001b[0mdtype\u001b[0m\u001b[0;34m:\u001b[0m\u001b[0;34m\u001b[0m\u001b[0;34m\u001b[0m\u001b[0m\n",
      "\u001b[0;31mValueError\u001b[0m: DataFrame constructor not properly called!"
     ]
    }
   ],
   "source": [
    "pd.DataFrame(df.cluster[0])"
   ]
  },
  {
   "cell_type": "code",
   "execution_count": 298,
   "id": "65aef6f4",
   "metadata": {
    "scrolled": true
   },
   "outputs": [],
   "source": [
    "df_d=pd.get_dummies(ast.literal_eval(df.styles[0]))"
   ]
  },
  {
   "cell_type": "code",
   "execution_count": 299,
   "id": "d14a2287",
   "metadata": {},
   "outputs": [],
   "source": [
    "df_d['cluster']=df.cluster[0]"
   ]
  },
  {
   "cell_type": "code",
   "execution_count": 300,
   "id": "829ee0f8",
   "metadata": {
    "scrolled": false
   },
   "outputs": [
    {
     "data": {
      "text/html": [
       "<div>\n",
       "<style scoped>\n",
       "    .dataframe tbody tr th:only-of-type {\n",
       "        vertical-align: middle;\n",
       "    }\n",
       "\n",
       "    .dataframe tbody tr th {\n",
       "        vertical-align: top;\n",
       "    }\n",
       "\n",
       "    .dataframe thead th {\n",
       "        text-align: right;\n",
       "    }\n",
       "</style>\n",
       "<table border=\"1\" class=\"dataframe\">\n",
       "  <thead>\n",
       "    <tr style=\"text-align: right;\">\n",
       "      <th></th>\n",
       "      <th>Drum n Bass</th>\n",
       "      <th>IDM</th>\n",
       "      <th>Leftfield</th>\n",
       "      <th>cluster</th>\n",
       "    </tr>\n",
       "  </thead>\n",
       "  <tbody>\n",
       "    <tr>\n",
       "      <th>0</th>\n",
       "      <td>1</td>\n",
       "      <td>0</td>\n",
       "      <td>0</td>\n",
       "      <td>rápidas</td>\n",
       "    </tr>\n",
       "    <tr>\n",
       "      <th>1</th>\n",
       "      <td>0</td>\n",
       "      <td>1</td>\n",
       "      <td>0</td>\n",
       "      <td>rápidas</td>\n",
       "    </tr>\n",
       "    <tr>\n",
       "      <th>2</th>\n",
       "      <td>0</td>\n",
       "      <td>0</td>\n",
       "      <td>1</td>\n",
       "      <td>rápidas</td>\n",
       "    </tr>\n",
       "  </tbody>\n",
       "</table>\n",
       "</div>"
      ],
      "text/plain": [
       "   Drum n Bass  IDM  Leftfield  cluster\n",
       "0            1    0          0  rápidas\n",
       "1            0    1          0  rápidas\n",
       "2            0    0          1  rápidas"
      ]
     },
     "execution_count": 300,
     "metadata": {},
     "output_type": "execute_result"
    }
   ],
   "source": [
    "df_d"
   ]
  },
  {
   "cell_type": "code",
   "execution_count": 356,
   "id": "bea4f622",
   "metadata": {},
   "outputs": [],
   "source": [
    "df_na=df.dropna().reset_index()"
   ]
  },
  {
   "cell_type": "code",
   "execution_count": 359,
   "id": "e21b0e5b",
   "metadata": {},
   "outputs": [],
   "source": [
    "df_final = df_d.iloc[0:0, :]"
   ]
  },
  {
   "cell_type": "code",
   "execution_count": 360,
   "id": "abe9f0ca",
   "metadata": {},
   "outputs": [
    {
     "data": {
      "text/html": [
       "<div>\n",
       "<style scoped>\n",
       "    .dataframe tbody tr th:only-of-type {\n",
       "        vertical-align: middle;\n",
       "    }\n",
       "\n",
       "    .dataframe tbody tr th {\n",
       "        vertical-align: top;\n",
       "    }\n",
       "\n",
       "    .dataframe thead th {\n",
       "        text-align: right;\n",
       "    }\n",
       "</style>\n",
       "<table border=\"1\" class=\"dataframe\">\n",
       "  <thead>\n",
       "    <tr style=\"text-align: right;\">\n",
       "      <th></th>\n",
       "      <th>Drum n Bass</th>\n",
       "      <th>IDM</th>\n",
       "      <th>Leftfield</th>\n",
       "      <th>cluster</th>\n",
       "    </tr>\n",
       "  </thead>\n",
       "  <tbody>\n",
       "  </tbody>\n",
       "</table>\n",
       "</div>"
      ],
      "text/plain": [
       "Empty DataFrame\n",
       "Columns: [Drum n Bass, IDM, Leftfield, cluster]\n",
       "Index: []"
      ]
     },
     "execution_count": 360,
     "metadata": {},
     "output_type": "execute_result"
    }
   ],
   "source": [
    "df_final"
   ]
  },
  {
   "cell_type": "code",
   "execution_count": 361,
   "id": "0ca4b607",
   "metadata": {},
   "outputs": [],
   "source": [
    "for i in range (1, len(df_na)):\n",
    "    df_dd = pd.get_dummies(ast.literal_eval(df_na.styles[i]))\n",
    "    df_dd['cluster']=df_na.cluster[i]\n",
    "    df_final = pd.concat([df_dd, df_final])"
   ]
  },
  {
   "cell_type": "code",
   "execution_count": 362,
   "id": "d579a7ce",
   "metadata": {},
   "outputs": [],
   "source": [
    "df_final=df_final.fillna(0)"
   ]
  },
  {
   "cell_type": "code",
   "execution_count": 363,
   "id": "525e6ddf",
   "metadata": {},
   "outputs": [],
   "source": [
    "df_final=df_final.groupby('cluster').sum().T.reset_index()"
   ]
  },
  {
   "cell_type": "code",
   "execution_count": 354,
   "id": "211af6f4",
   "metadata": {
    "scrolled": true
   },
   "outputs": [
    {
     "name": "stdout",
     "output_type": "stream",
     "text": [
      "['Ambient', 'Breakbeat', 'Techno', 'Acid', 'Acid House', 'Tech House', 'Bass Music', 'Downtempo', 'House', 'UK Garage', 'Dance-pop', 'Minimal', 'Pop Rap', 'Synth-pop', 'Trap', 'Dub', 'Drum n Bass', 'Calypso', 'Dub Techno', 'Breaks', 'Dubstep', 'Electro', 'Experimental', 'IDM', 'Jungle', 'Emo', 'Pop Punk', 'New Age', 'Avantgarde', 'Abstract', 'Deep House', 'Leftfield', 'lentas', 'medias', 'rápidas']\n"
     ]
    }
   ],
   "source": [
    "print(list(df_final['index']))"
   ]
  },
  {
   "cell_type": "code",
   "execution_count": 366,
   "id": "6d2388da",
   "metadata": {},
   "outputs": [],
   "source": [
    "df_final['intenisdad']=['bajo', 'medio', 'alto', 'alto', 'medio', 'medio', 'medio', 'bajo', 'medio', 'alto', 'medio', 'alto', 'medio', 'medio',\n",
    "'medio', 'medio', 'alto', 'medio', 'bajo', 'alto', 'alto', 'medio', 'bajo', 'medio', 'alto', 'medio', 'medio', 'bajo',\n",
    "'bajo', 'bajo', 'medio', 'medio']"
   ]
  },
  {
   "cell_type": "code",
   "execution_count": 403,
   "id": "7ca59d5d",
   "metadata": {
    "scrolled": true
   },
   "outputs": [
    {
     "data": {
      "text/plain": [
       "intenisdad\n",
       "alto     11.340206\n",
       "bajo     71.134021\n",
       "medio    17.525773\n",
       "Name: lentas, dtype: float64"
      ]
     },
     "execution_count": 403,
     "metadata": {},
     "output_type": "execute_result"
    }
   ],
   "source": [
    "df_final.groupby('intenisdad').sum()['lentas']/df_final.groupby('intenisdad').sum()['lentas'].sum()*100"
   ]
  },
  {
   "cell_type": "code",
   "execution_count": 406,
   "id": "6e330c62",
   "metadata": {
    "scrolled": true
   },
   "outputs": [],
   "source": [
    "tabla=df_final.groupby('intenisdad').mean()"
   ]
  },
  {
   "cell_type": "code",
   "execution_count": 421,
   "id": "181d80be",
   "metadata": {},
   "outputs": [],
   "source": [
    "tabla['lentas']=df_final.groupby('intenisdad').sum()['lentas']/df_final.groupby('intenisdad').sum()['lentas'].sum()*100\n",
    "tabla['medias']=df_final.groupby('intenisdad').sum()['medias']/df_final.groupby('intenisdad').sum()['medias'].sum()*100\n",
    "tabla['rápidas']=df_final.groupby('intenisdad').sum()['rápidas']/df_final.groupby('intenisdad').sum()['rápidas'].sum()*100"
   ]
  },
  {
   "cell_type": "code",
   "execution_count": 420,
   "id": "0723a054",
   "metadata": {},
   "outputs": [
    {
     "data": {
      "text/html": [
       "<div>\n",
       "<style scoped>\n",
       "    .dataframe tbody tr th:only-of-type {\n",
       "        vertical-align: middle;\n",
       "    }\n",
       "\n",
       "    .dataframe tbody tr th {\n",
       "        vertical-align: top;\n",
       "    }\n",
       "\n",
       "    .dataframe thead th {\n",
       "        text-align: right;\n",
       "    }\n",
       "</style>\n",
       "<table border=\"1\" class=\"dataframe\">\n",
       "  <thead>\n",
       "    <tr style=\"text-align: right;\">\n",
       "      <th>cluster</th>\n",
       "      <th>lentas</th>\n",
       "      <th>medias</th>\n",
       "      <th>rápidas</th>\n",
       "    </tr>\n",
       "  </thead>\n",
       "  <tbody>\n",
       "    <tr>\n",
       "      <th>bajo</th>\n",
       "      <td>71.134021</td>\n",
       "      <td>45.296167</td>\n",
       "      <td>21.904762</td>\n",
       "    </tr>\n",
       "    <tr>\n",
       "      <th>medio</th>\n",
       "      <td>17.525773</td>\n",
       "      <td>30.662021</td>\n",
       "      <td>46.190476</td>\n",
       "    </tr>\n",
       "    <tr>\n",
       "      <th>alto</th>\n",
       "      <td>11.340206</td>\n",
       "      <td>24.041812</td>\n",
       "      <td>31.904762</td>\n",
       "    </tr>\n",
       "  </tbody>\n",
       "</table>\n",
       "</div>"
      ],
      "text/plain": [
       "cluster     lentas     medias    rápidas\n",
       "bajo     71.134021  45.296167  21.904762\n",
       "medio    17.525773  30.662021  46.190476\n",
       "alto     11.340206  24.041812  31.904762"
      ]
     },
     "execution_count": 420,
     "metadata": {},
     "output_type": "execute_result"
    }
   ],
   "source": [
    "tabla"
   ]
  },
  {
   "cell_type": "code",
   "execution_count": 411,
   "id": "b28b5bb3",
   "metadata": {},
   "outputs": [],
   "source": [
    "tabla=pd.DataFrame(tabla,index=['bajo', 'medio', 'alto'])"
   ]
  },
  {
   "cell_type": "code",
   "execution_count": 412,
   "id": "9ee30069",
   "metadata": {},
   "outputs": [],
   "source": [
    "t=pd.io.formats.style.Styler(tabla,precision=2)"
   ]
  },
  {
   "cell_type": "code",
   "execution_count": 413,
   "id": "571be13f",
   "metadata": {
    "scrolled": true
   },
   "outputs": [
    {
     "data": {
      "text/html": [
       "<style  type=\"text/css\" >\n",
       "#T_290d8_row0_col0,#T_290d8_row1_col2,#T_290d8_row2_col2{\n",
       "            background-color:  #08306b;\n",
       "            color:  #f1f1f1;\n",
       "        }#T_290d8_row0_col1{\n",
       "            background-color:  #75b4d8;\n",
       "            color:  #000000;\n",
       "        }#T_290d8_row0_col2,#T_290d8_row1_col0,#T_290d8_row2_col0{\n",
       "            background-color:  #f7fbff;\n",
       "            color:  #000000;\n",
       "        }#T_290d8_row1_col1{\n",
       "            background-color:  #7cb7da;\n",
       "            color:  #000000;\n",
       "        }#T_290d8_row2_col1{\n",
       "            background-color:  #4493c7;\n",
       "            color:  #000000;\n",
       "        }</style><table id=\"T_290d8_\" ><thead>    <tr>        <th class=\"index_name level0\" >cluster</th>        <th class=\"col_heading level0 col0\" >lentas</th>        <th class=\"col_heading level0 col1\" >medias</th>        <th class=\"col_heading level0 col2\" >rápidas</th>    </tr></thead><tbody>\n",
       "                <tr>\n",
       "                        <th id=\"T_290d8_level0_row0\" class=\"row_heading level0 row0\" >bajo</th>\n",
       "                        <td id=\"T_290d8_row0_col0\" class=\"data row0 col0\" >71.13</td>\n",
       "                        <td id=\"T_290d8_row0_col1\" class=\"data row0 col1\" >45.30</td>\n",
       "                        <td id=\"T_290d8_row0_col2\" class=\"data row0 col2\" >21.90</td>\n",
       "            </tr>\n",
       "            <tr>\n",
       "                        <th id=\"T_290d8_level0_row1\" class=\"row_heading level0 row1\" >medio</th>\n",
       "                        <td id=\"T_290d8_row1_col0\" class=\"data row1 col0\" >17.53</td>\n",
       "                        <td id=\"T_290d8_row1_col1\" class=\"data row1 col1\" >30.66</td>\n",
       "                        <td id=\"T_290d8_row1_col2\" class=\"data row1 col2\" >46.19</td>\n",
       "            </tr>\n",
       "            <tr>\n",
       "                        <th id=\"T_290d8_level0_row2\" class=\"row_heading level0 row2\" >alto</th>\n",
       "                        <td id=\"T_290d8_row2_col0\" class=\"data row2 col0\" >11.34</td>\n",
       "                        <td id=\"T_290d8_row2_col1\" class=\"data row2 col1\" >24.04</td>\n",
       "                        <td id=\"T_290d8_row2_col2\" class=\"data row2 col2\" >31.90</td>\n",
       "            </tr>\n",
       "    </tbody></table>"
      ],
      "text/plain": [
       "<pandas.io.formats.style.Styler at 0x7fd508db3f70>"
      ]
     },
     "execution_count": 413,
     "metadata": {},
     "output_type": "execute_result"
    }
   ],
   "source": [
    "t.background_gradient(cmap='Blues', axis=1)"
   ]
  },
  {
   "cell_type": "code",
   "execution_count": 415,
   "id": "5938612b",
   "metadata": {},
   "outputs": [],
   "source": [
    "t.export_png(\"generos.png\")"
   ]
  },
  {
   "cell_type": "code",
   "execution_count": 398,
   "id": "dcd89baf",
   "metadata": {},
   "outputs": [],
   "source": [
    "c=pd.io.formats.style.Styler(pd.DataFrame(df_c.set_index('cluster'), index=['lentas', 'medias', 'rápidas']),precision=2)"
   ]
  },
  {
   "cell_type": "code",
   "execution_count": 399,
   "id": "760ef012",
   "metadata": {},
   "outputs": [],
   "source": [
    "c.export_png(\"clusters.png\")"
   ]
  },
  {
   "cell_type": "code",
   "execution_count": 428,
   "id": "b7b654cd",
   "metadata": {},
   "outputs": [
    {
     "data": {
      "text/html": [
       "<div>\n",
       "<style scoped>\n",
       "    .dataframe tbody tr th:only-of-type {\n",
       "        vertical-align: middle;\n",
       "    }\n",
       "\n",
       "    .dataframe tbody tr th {\n",
       "        vertical-align: top;\n",
       "    }\n",
       "\n",
       "    .dataframe thead th {\n",
       "        text-align: right;\n",
       "    }\n",
       "</style>\n",
       "<table border=\"1\" class=\"dataframe\">\n",
       "  <thead>\n",
       "    <tr style=\"text-align: right;\">\n",
       "      <th></th>\n",
       "      <th>cluster</th>\n",
       "    </tr>\n",
       "  </thead>\n",
       "  <tbody>\n",
       "    <tr>\n",
       "      <th>lentas</th>\n",
       "      <td>77</td>\n",
       "    </tr>\n",
       "    <tr>\n",
       "      <th>medias</th>\n",
       "      <td>151</td>\n",
       "    </tr>\n",
       "    <tr>\n",
       "      <th>rápidas</th>\n",
       "      <td>67</td>\n",
       "    </tr>\n",
       "  </tbody>\n",
       "</table>\n",
       "</div>"
      ],
      "text/plain": [
       "         cluster\n",
       "lentas        77\n",
       "medias       151\n",
       "rápidas       67"
      ]
     },
     "execution_count": 428,
     "metadata": {},
     "output_type": "execute_result"
    }
   ],
   "source": []
  },
  {
   "cell_type": "code",
   "execution_count": 433,
   "id": "0f3a1ef0",
   "metadata": {},
   "outputs": [],
   "source": [
    "counter=pd.DataFrame(df.cluster.value_counts(), index=['lentas', 'medias', 'rápidas'])"
   ]
  },
  {
   "cell_type": "code",
   "execution_count": 435,
   "id": "a8ba347f",
   "metadata": {},
   "outputs": [],
   "source": [
    "counter.columns=['total_cluster']"
   ]
  },
  {
   "cell_type": "code",
   "execution_count": 436,
   "id": "2f3d777e",
   "metadata": {},
   "outputs": [],
   "source": [
    "counter=pd.io.formats.style.Styler(counter)"
   ]
  },
  {
   "cell_type": "code",
   "execution_count": 437,
   "id": "d2450f73",
   "metadata": {},
   "outputs": [],
   "source": [
    "counter.export_png(\"counter.png\")"
   ]
  },
  {
   "cell_type": "code",
   "execution_count": 438,
   "id": "9da61cad",
   "metadata": {},
   "outputs": [
    {
     "data": {
      "text/plain": [
       "<Figure size 432x288 with 0 Axes>"
      ]
     },
     "execution_count": 438,
     "metadata": {},
     "output_type": "execute_result"
    },
    {
     "data": {
      "text/plain": [
       "<Figure size 432x288 with 0 Axes>"
      ]
     },
     "metadata": {},
     "output_type": "display_data"
    }
   ],
   "source": [
    "plt.gcf()"
   ]
  }
 ],
 "metadata": {
  "kernelspec": {
   "display_name": "Python 3",
   "language": "python",
   "name": "python3"
  },
  "language_info": {
   "codemirror_mode": {
    "name": "ipython",
    "version": 3
   },
   "file_extension": ".py",
   "mimetype": "text/x-python",
   "name": "python",
   "nbconvert_exporter": "python",
   "pygments_lexer": "ipython3",
   "version": "3.8.8"
  }
 },
 "nbformat": 4,
 "nbformat_minor": 5
}
