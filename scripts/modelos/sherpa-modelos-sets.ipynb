{
 "cells": [
  {
   "cell_type": "markdown",
   "id": "e3264cdd",
   "metadata": {},
   "source": [
    "# Setlist learning Categorization"
   ]
  },
  {
   "cell_type": "code",
   "execution_count": 1,
   "id": "cc99aace",
   "metadata": {},
   "outputs": [],
   "source": [
    "import pandas as pd\n",
    "import matplotlib.pyplot as plt"
   ]
  },
  {
   "cell_type": "code",
   "execution_count": 2,
   "id": "c756a363",
   "metadata": {},
   "outputs": [],
   "source": [
    "df_b = pd.read_csv(\"/Users/santiago/ih-bootcamp/proyectos/sherpa/out/spoty/bonobo_spoty.csv\", index_col=0)\n",
    "df_o = pd.read_csv(\"/Users/santiago/ih-bootcamp/proyectos/sherpa/out/spoty/objekt_spoty.csv\", index_col=0)\n",
    "df_d = pd.read_csv(\"/Users/santiago/ih-bootcamp/proyectos/sherpa/out/spoty/djrum_spoty.csv\", index_col=0)"
   ]
  },
  {
   "cell_type": "code",
   "execution_count": 40,
   "id": "8f3bedbd",
   "metadata": {
    "scrolled": true
   },
   "outputs": [
    {
     "data": {
      "text/plain": [
       "index              1.000000\n",
       "n_track            1.000000\n",
       "set_section             NaN\n",
       "duration           0.063503\n",
       "tempo             -0.661570\n",
       "energy            -0.199688\n",
       "danceability      -0.127862\n",
       "valence            0.390089\n",
       "key                0.050981\n",
       "time_signature    -0.303795\n",
       "acousticness       0.167551\n",
       "instruentalness   -0.202970\n",
       "mode               0.101078\n",
       "na                 0.369548\n",
       "Name: n_track, dtype: float64"
      ]
     },
     "execution_count": 40,
     "metadata": {},
     "output_type": "execute_result"
    }
   ],
   "source": [
    "df_d.corr()['n_track']"
   ]
  },
  {
   "cell_type": "code",
   "execution_count": 43,
   "id": "e46dca4c",
   "metadata": {},
   "outputs": [
    {
     "data": {
      "text/plain": [
       "<matplotlib.collections.PathCollection at 0x7fa719ab3eb0>"
      ]
     },
     "execution_count": 43,
     "metadata": {},
     "output_type": "execute_result"
    },
    {
     "data": {
      "image/png": "[encoded data removed]",
      "text/plain": [
       "<Figure size 432x288 with 1 Axes>"
      ]
     },
     "metadata": {
      "needs_background": "light"
     },
     "output_type": "display_data"
    }
   ],
   "source": [
    "plt.scatter(df_d.n_track, df_d.energy)"
   ]
  },
  {
   "cell_type": "code",
   "execution_count": 34,
   "id": "30cb186c",
   "metadata": {},
   "outputs": [],
   "source": [
    "df=pd.concat([df_b, df_o, df_d])"
   ]
  },
  {
   "cell_type": "code",
   "execution_count": 7,
   "id": "fc2e1263",
   "metadata": {},
   "outputs": [],
   "source": [
    "df=df_d"
   ]
  },
  {
   "cell_type": "code",
   "execution_count": 8,
   "id": "a92e4a07",
   "metadata": {},
   "outputs": [],
   "source": [
    "df.reset_index(inplace=True)"
   ]
  },
  {
   "cell_type": "code",
   "execution_count": 9,
   "id": "51e6e149",
   "metadata": {},
   "outputs": [],
   "source": [
    "df=df.iloc[:,1:]"
   ]
  },
  {
   "cell_type": "code",
   "execution_count": 10,
   "id": "42ae31dc",
   "metadata": {},
   "outputs": [
    {
     "data": {
      "text/plain": [
       "Index(['n_track', 'set_section', 'artist', 'track', 'set_name', 'song_id',\n",
       "       'album', 'duration', 'tempo', 'energy', 'danceability', 'valence',\n",
       "       'key', 'time_signature', 'acousticness', 'instruentalness', 'mode',\n",
       "       'na'],\n",
       "      dtype='object')"
      ]
     },
     "execution_count": 10,
     "metadata": {},
     "output_type": "execute_result"
    }
   ],
   "source": [
    "df.columns"
   ]
  },
  {
   "cell_type": "code",
   "execution_count": 14,
   "id": "432ec7a0",
   "metadata": {},
   "outputs": [],
   "source": [
    "df_copy=df.copy()"
   ]
  },
  {
   "cell_type": "code",
   "execution_count": 15,
   "id": "1b63ef92",
   "metadata": {},
   "outputs": [],
   "source": [
    "df_copy.drop(['set_section', 'artist', 'track', 'set_name','key', 'na', 'song_id', 'album'], axis=1, inplace=True)"
   ]
  },
  {
   "cell_type": "code",
   "execution_count": 27,
   "id": "4e6db6f4",
   "metadata": {},
   "outputs": [],
   "source": [
    "df_copy.dropna(inplace=True)"
   ]
  },
  {
   "cell_type": "code",
   "execution_count": 28,
   "id": "ec5b96e3",
   "metadata": {
    "scrolled": true
   },
   "outputs": [
    {
     "data": {
      "text/html": [
       "<div>\n",
       "<style scoped>\n",
       "    .dataframe tbody tr th:only-of-type {\n",
       "        vertical-align: middle;\n",
       "    }\n",
       "\n",
       "    .dataframe tbody tr th {\n",
       "        vertical-align: top;\n",
       "    }\n",
       "\n",
       "    .dataframe thead th {\n",
       "        text-align: right;\n",
       "    }\n",
       "</style>\n",
       "<table border=\"1\" class=\"dataframe\">\n",
       "  <thead>\n",
       "    <tr style=\"text-align: right;\">\n",
       "      <th></th>\n",
       "      <th>n_track</th>\n",
       "      <th>duration</th>\n",
       "      <th>tempo</th>\n",
       "      <th>energy</th>\n",
       "      <th>danceability</th>\n",
       "      <th>valence</th>\n",
       "      <th>time_signature</th>\n",
       "      <th>acousticness</th>\n",
       "      <th>instruentalness</th>\n",
       "      <th>mode</th>\n",
       "    </tr>\n",
       "  </thead>\n",
       "  <tbody>\n",
       "    <tr>\n",
       "      <th>0</th>\n",
       "      <td>1</td>\n",
       "      <td>3.181617</td>\n",
       "      <td>157.109</td>\n",
       "      <td>0.942</td>\n",
       "      <td>0.690</td>\n",
       "      <td>0.4960</td>\n",
       "      <td>5.0</td>\n",
       "      <td>0.174000</td>\n",
       "      <td>0.873</td>\n",
       "      <td>1.0</td>\n",
       "    </tr>\n",
       "    <tr>\n",
       "      <th>1</th>\n",
       "      <td>2</td>\n",
       "      <td>5.377000</td>\n",
       "      <td>171.952</td>\n",
       "      <td>0.637</td>\n",
       "      <td>0.747</td>\n",
       "      <td>0.0727</td>\n",
       "      <td>4.0</td>\n",
       "      <td>0.073300</td>\n",
       "      <td>0.902</td>\n",
       "      <td>0.0</td>\n",
       "    </tr>\n",
       "    <tr>\n",
       "      <th>2</th>\n",
       "      <td>3</td>\n",
       "      <td>10.589750</td>\n",
       "      <td>169.984</td>\n",
       "      <td>0.861</td>\n",
       "      <td>0.538</td>\n",
       "      <td>0.1670</td>\n",
       "      <td>4.0</td>\n",
       "      <td>0.077000</td>\n",
       "      <td>0.658</td>\n",
       "      <td>1.0</td>\n",
       "    </tr>\n",
       "    <tr>\n",
       "      <th>3</th>\n",
       "      <td>4</td>\n",
       "      <td>5.189383</td>\n",
       "      <td>165.000</td>\n",
       "      <td>0.798</td>\n",
       "      <td>0.577</td>\n",
       "      <td>0.2620</td>\n",
       "      <td>4.0</td>\n",
       "      <td>0.031100</td>\n",
       "      <td>0.866</td>\n",
       "      <td>1.0</td>\n",
       "    </tr>\n",
       "    <tr>\n",
       "      <th>4</th>\n",
       "      <td>5</td>\n",
       "      <td>4.500000</td>\n",
       "      <td>159.986</td>\n",
       "      <td>0.898</td>\n",
       "      <td>0.587</td>\n",
       "      <td>0.1310</td>\n",
       "      <td>4.0</td>\n",
       "      <td>0.000034</td>\n",
       "      <td>0.395</td>\n",
       "      <td>1.0</td>\n",
       "    </tr>\n",
       "  </tbody>\n",
       "</table>\n",
       "</div>"
      ],
      "text/plain": [
       "   n_track   duration    tempo  energy  danceability  valence  time_signature  \\\n",
       "0        1   3.181617  157.109   0.942         0.690   0.4960             5.0   \n",
       "1        2   5.377000  171.952   0.637         0.747   0.0727             4.0   \n",
       "2        3  10.589750  169.984   0.861         0.538   0.1670             4.0   \n",
       "3        4   5.189383  165.000   0.798         0.577   0.2620             4.0   \n",
       "4        5   4.500000  159.986   0.898         0.587   0.1310             4.0   \n",
       "\n",
       "   acousticness  instruentalness  mode  \n",
       "0      0.174000            0.873   1.0  \n",
       "1      0.073300            0.902   0.0  \n",
       "2      0.077000            0.658   1.0  \n",
       "3      0.031100            0.866   1.0  \n",
       "4      0.000034            0.395   1.0  "
      ]
     },
     "execution_count": 28,
     "metadata": {},
     "output_type": "execute_result"
    }
   ],
   "source": [
    "df_copy.head()"
   ]
  },
  {
   "cell_type": "code",
   "execution_count": 16,
   "id": "1cf500cc",
   "metadata": {},
   "outputs": [
    {
     "data": {
      "text/plain": [
       "2     12\n",
       "9     11\n",
       "5     11\n",
       "6     10\n",
       "1      9\n",
       "13     9\n",
       "12     9\n",
       "14     9\n",
       "8      9\n",
       "4      9\n",
       "7      8\n",
       "17     8\n",
       "10     8\n",
       "19     7\n",
       "3      7\n",
       "15     7\n",
       "16     7\n",
       "23     6\n",
       "18     6\n",
       "11     6\n",
       "20     5\n",
       "25     5\n",
       "21     4\n",
       "24     4\n",
       "22     3\n",
       "27     3\n",
       "26     2\n",
       "Name: n_track, dtype: int64"
      ]
     },
     "execution_count": 16,
     "metadata": {},
     "output_type": "execute_result"
    }
   ],
   "source": [
    "df.n_track.value_counts()"
   ]
  },
  {
   "cell_type": "code",
   "execution_count": 17,
   "id": "8b70ea6c",
   "metadata": {
    "scrolled": false
   },
   "outputs": [
    {
     "name": "stdout",
     "output_type": "stream",
     "text": [
      "<class 'pandas.core.frame.DataFrame'>\n",
      "RangeIndex: 194 entries, 0 to 193\n",
      "Data columns (total 9 columns):\n",
      " #   Column           Non-Null Count  Dtype  \n",
      "---  ------           --------------  -----  \n",
      " 0   n_track          194 non-null    int64  \n",
      " 1   duration         194 non-null    float64\n",
      " 2   tempo            194 non-null    float64\n",
      " 3   energy           194 non-null    float64\n",
      " 4   danceability     194 non-null    float64\n",
      " 5   valence          194 non-null    float64\n",
      " 6   acousticness     194 non-null    float64\n",
      " 7   instruentalness  194 non-null    float64\n",
      " 8   mode             194 non-null    float64\n",
      "dtypes: float64(8), int64(1)\n",
      "memory usage: 13.8 KB\n"
     ]
    }
   ],
   "source": [
    "df_copy.info()"
   ]
  },
  {
   "cell_type": "markdown",
   "id": "db465833",
   "metadata": {},
   "source": [
    "# Modelos"
   ]
  },
  {
   "cell_type": "code",
   "execution_count": null,
   "id": "3e772859",
   "metadata": {},
   "outputs": [],
   "source": [
    "# División de data"
   ]
  },
  {
   "cell_type": "code",
   "execution_count": 17,
   "id": "367a2572",
   "metadata": {},
   "outputs": [],
   "source": [
    "from sklearn.model_selection import train_test_split\n",
    "from imblearn.over_sampling import RandomOverSampler\n",
    "from sklearn.ensemble import RandomForestClassifier, ExtraTreesClassifier\n",
    "from sklearn.model_selection import GridSearchCV"
   ]
  },
  {
   "cell_type": "code",
   "execution_count": 29,
   "id": "f7c9c637",
   "metadata": {},
   "outputs": [],
   "source": [
    "y = df_copy['n_track']\n",
    "X = df_copy.drop(columns='n_track', axis=1)\n",
    "X_train, X_test, y_train, y_test = train_test_split(X, y, test_size=0.2, random_state = 20)"
   ]
  },
  {
   "cell_type": "code",
   "execution_count": 30,
   "id": "a63de68b",
   "metadata": {},
   "outputs": [],
   "source": [
    "oversample = RandomOverSampler(random_state=0)\n",
    "X_train_over, y_train_over = oversample.fit_resample(X_train, y_train)\n"
   ]
  },
  {
   "cell_type": "markdown",
   "id": "fab73528",
   "metadata": {},
   "source": [
    "## Random Forest"
   ]
  },
  {
   "cell_type": "code",
   "execution_count": 31,
   "id": "54936459",
   "metadata": {},
   "outputs": [],
   "source": [
    "\n",
    "rf = RandomForestClassifier()\n",
    "\n",
    "params = {'max_depth' : [10, 20, 30], 'n_estimators':[100, 500, 1000]}\n",
    "\n",
    "gsrf = GridSearchCV(rf, params)"
   ]
  },
  {
   "cell_type": "code",
   "execution_count": 32,
   "id": "4959ded1",
   "metadata": {
    "scrolled": true
   },
   "outputs": [
    {
     "ename": "ValueError",
     "evalue": "n_splits=5 cannot be greater than the number of members in each class.",
     "output_type": "error",
     "traceback": [
      "\u001b[0;31m---------------------------------------------------------------------------\u001b[0m",
      "\u001b[0;31mValueError\u001b[0m                                Traceback (most recent call last)",
      "\u001b[0;32m<ipython-input-32-094f68382db4>\u001b[0m in \u001b[0;36m<module>\u001b[0;34m\u001b[0m\n\u001b[0;32m----> 1\u001b[0;31m \u001b[0mgsrf\u001b[0m\u001b[0;34m.\u001b[0m\u001b[0mfit\u001b[0m\u001b[0;34m(\u001b[0m\u001b[0mX_train_over\u001b[0m\u001b[0;34m,\u001b[0m \u001b[0my_train_over\u001b[0m\u001b[0;34m)\u001b[0m\u001b[0;34m\u001b[0m\u001b[0;34m\u001b[0m\u001b[0m\n\u001b[0m",
      "\u001b[0;32m/opt/anaconda3/lib/python3.8/site-packages/sklearn/model_selection/_search.py\u001b[0m in \u001b[0;36mfit\u001b[0;34m(self, X, y, groups, **fit_params)\u001b[0m\n\u001b[1;32m    889\u001b[0m                 \u001b[0;32mreturn\u001b[0m \u001b[0mresults\u001b[0m\u001b[0;34m\u001b[0m\u001b[0;34m\u001b[0m\u001b[0m\n\u001b[1;32m    890\u001b[0m \u001b[0;34m\u001b[0m\u001b[0m\n\u001b[0;32m--> 891\u001b[0;31m             \u001b[0mself\u001b[0m\u001b[0;34m.\u001b[0m\u001b[0m_run_search\u001b[0m\u001b[0;34m(\u001b[0m\u001b[0mevaluate_candidates\u001b[0m\u001b[0;34m)\u001b[0m\u001b[0;34m\u001b[0m\u001b[0;34m\u001b[0m\u001b[0m\n\u001b[0m\u001b[1;32m    892\u001b[0m \u001b[0;34m\u001b[0m\u001b[0m\n\u001b[1;32m    893\u001b[0m             \u001b[0;31m# multimetric is determined here because in the case of a callable\u001b[0m\u001b[0;34m\u001b[0m\u001b[0;34m\u001b[0m\u001b[0;34m\u001b[0m\u001b[0m\n",
      "\u001b[0;32m/opt/anaconda3/lib/python3.8/site-packages/sklearn/model_selection/_search.py\u001b[0m in \u001b[0;36m_run_search\u001b[0;34m(self, evaluate_candidates)\u001b[0m\n\u001b[1;32m   1390\u001b[0m     \u001b[0;32mdef\u001b[0m \u001b[0m_run_search\u001b[0m\u001b[0;34m(\u001b[0m\u001b[0mself\u001b[0m\u001b[0;34m,\u001b[0m \u001b[0mevaluate_candidates\u001b[0m\u001b[0;34m)\u001b[0m\u001b[0;34m:\u001b[0m\u001b[0;34m\u001b[0m\u001b[0;34m\u001b[0m\u001b[0m\n\u001b[1;32m   1391\u001b[0m         \u001b[0;34m\"\"\"Search all candidates in param_grid\"\"\"\u001b[0m\u001b[0;34m\u001b[0m\u001b[0;34m\u001b[0m\u001b[0m\n\u001b[0;32m-> 1392\u001b[0;31m         \u001b[0mevaluate_candidates\u001b[0m\u001b[0;34m(\u001b[0m\u001b[0mParameterGrid\u001b[0m\u001b[0;34m(\u001b[0m\u001b[0mself\u001b[0m\u001b[0;34m.\u001b[0m\u001b[0mparam_grid\u001b[0m\u001b[0;34m)\u001b[0m\u001b[0;34m)\u001b[0m\u001b[0;34m\u001b[0m\u001b[0;34m\u001b[0m\u001b[0m\n\u001b[0m\u001b[1;32m   1393\u001b[0m \u001b[0;34m\u001b[0m\u001b[0m\n\u001b[1;32m   1394\u001b[0m \u001b[0;34m\u001b[0m\u001b[0m\n",
      "\u001b[0;32m/opt/anaconda3/lib/python3.8/site-packages/sklearn/model_selection/_search.py\u001b[0m in \u001b[0;36mevaluate_candidates\u001b[0;34m(candidate_params, cv, more_results)\u001b[0m\n\u001b[1;32m    848\u001b[0m                         \u001b[0;34m**\u001b[0m\u001b[0mfit_and_score_kwargs\u001b[0m\u001b[0;34m,\u001b[0m\u001b[0;34m\u001b[0m\u001b[0;34m\u001b[0m\u001b[0m\n\u001b[1;32m    849\u001b[0m                     )\n\u001b[0;32m--> 850\u001b[0;31m                     for (cand_idx, parameters), (split_idx, (train, test)) in product(\n\u001b[0m\u001b[1;32m    851\u001b[0m                         \u001b[0menumerate\u001b[0m\u001b[0;34m(\u001b[0m\u001b[0mcandidate_params\u001b[0m\u001b[0;34m)\u001b[0m\u001b[0;34m,\u001b[0m \u001b[0menumerate\u001b[0m\u001b[0;34m(\u001b[0m\u001b[0mcv\u001b[0m\u001b[0;34m.\u001b[0m\u001b[0msplit\u001b[0m\u001b[0;34m(\u001b[0m\u001b[0mX\u001b[0m\u001b[0;34m,\u001b[0m \u001b[0my\u001b[0m\u001b[0;34m,\u001b[0m \u001b[0mgroups\u001b[0m\u001b[0;34m)\u001b[0m\u001b[0;34m)\u001b[0m\u001b[0;34m\u001b[0m\u001b[0;34m\u001b[0m\u001b[0m\n\u001b[1;32m    852\u001b[0m                     )\n",
      "\u001b[0;32m/opt/anaconda3/lib/python3.8/site-packages/sklearn/model_selection/_split.py\u001b[0m in \u001b[0;36msplit\u001b[0;34m(self, X, y, groups)\u001b[0m\n\u001b[1;32m    338\u001b[0m             )\n\u001b[1;32m    339\u001b[0m \u001b[0;34m\u001b[0m\u001b[0m\n\u001b[0;32m--> 340\u001b[0;31m         \u001b[0;32mfor\u001b[0m \u001b[0mtrain\u001b[0m\u001b[0;34m,\u001b[0m \u001b[0mtest\u001b[0m \u001b[0;32min\u001b[0m \u001b[0msuper\u001b[0m\u001b[0;34m(\u001b[0m\u001b[0;34m)\u001b[0m\u001b[0;34m.\u001b[0m\u001b[0msplit\u001b[0m\u001b[0;34m(\u001b[0m\u001b[0mX\u001b[0m\u001b[0;34m,\u001b[0m \u001b[0my\u001b[0m\u001b[0;34m,\u001b[0m \u001b[0mgroups\u001b[0m\u001b[0;34m)\u001b[0m\u001b[0;34m:\u001b[0m\u001b[0;34m\u001b[0m\u001b[0;34m\u001b[0m\u001b[0m\n\u001b[0m\u001b[1;32m    341\u001b[0m             \u001b[0;32myield\u001b[0m \u001b[0mtrain\u001b[0m\u001b[0;34m,\u001b[0m \u001b[0mtest\u001b[0m\u001b[0;34m\u001b[0m\u001b[0;34m\u001b[0m\u001b[0m\n\u001b[1;32m    342\u001b[0m \u001b[0;34m\u001b[0m\u001b[0m\n",
      "\u001b[0;32m/opt/anaconda3/lib/python3.8/site-packages/sklearn/model_selection/_split.py\u001b[0m in \u001b[0;36msplit\u001b[0;34m(self, X, y, groups)\u001b[0m\n\u001b[1;32m     84\u001b[0m         \u001b[0mX\u001b[0m\u001b[0;34m,\u001b[0m \u001b[0my\u001b[0m\u001b[0;34m,\u001b[0m \u001b[0mgroups\u001b[0m \u001b[0;34m=\u001b[0m \u001b[0mindexable\u001b[0m\u001b[0;34m(\u001b[0m\u001b[0mX\u001b[0m\u001b[0;34m,\u001b[0m \u001b[0my\u001b[0m\u001b[0;34m,\u001b[0m \u001b[0mgroups\u001b[0m\u001b[0;34m)\u001b[0m\u001b[0;34m\u001b[0m\u001b[0;34m\u001b[0m\u001b[0m\n\u001b[1;32m     85\u001b[0m         \u001b[0mindices\u001b[0m \u001b[0;34m=\u001b[0m \u001b[0mnp\u001b[0m\u001b[0;34m.\u001b[0m\u001b[0marange\u001b[0m\u001b[0;34m(\u001b[0m\u001b[0m_num_samples\u001b[0m\u001b[0;34m(\u001b[0m\u001b[0mX\u001b[0m\u001b[0;34m)\u001b[0m\u001b[0;34m)\u001b[0m\u001b[0;34m\u001b[0m\u001b[0;34m\u001b[0m\u001b[0m\n\u001b[0;32m---> 86\u001b[0;31m         \u001b[0;32mfor\u001b[0m \u001b[0mtest_index\u001b[0m \u001b[0;32min\u001b[0m \u001b[0mself\u001b[0m\u001b[0;34m.\u001b[0m\u001b[0m_iter_test_masks\u001b[0m\u001b[0;34m(\u001b[0m\u001b[0mX\u001b[0m\u001b[0;34m,\u001b[0m \u001b[0my\u001b[0m\u001b[0;34m,\u001b[0m \u001b[0mgroups\u001b[0m\u001b[0;34m)\u001b[0m\u001b[0;34m:\u001b[0m\u001b[0;34m\u001b[0m\u001b[0;34m\u001b[0m\u001b[0m\n\u001b[0m\u001b[1;32m     87\u001b[0m             \u001b[0mtrain_index\u001b[0m \u001b[0;34m=\u001b[0m \u001b[0mindices\u001b[0m\u001b[0;34m[\u001b[0m\u001b[0mnp\u001b[0m\u001b[0;34m.\u001b[0m\u001b[0mlogical_not\u001b[0m\u001b[0;34m(\u001b[0m\u001b[0mtest_index\u001b[0m\u001b[0;34m)\u001b[0m\u001b[0;34m]\u001b[0m\u001b[0;34m\u001b[0m\u001b[0;34m\u001b[0m\u001b[0m\n\u001b[1;32m     88\u001b[0m             \u001b[0mtest_index\u001b[0m \u001b[0;34m=\u001b[0m \u001b[0mindices\u001b[0m\u001b[0;34m[\u001b[0m\u001b[0mtest_index\u001b[0m\u001b[0;34m]\u001b[0m\u001b[0;34m\u001b[0m\u001b[0;34m\u001b[0m\u001b[0m\n",
      "\u001b[0;32m/opt/anaconda3/lib/python3.8/site-packages/sklearn/model_selection/_split.py\u001b[0m in \u001b[0;36m_iter_test_masks\u001b[0;34m(self, X, y, groups)\u001b[0m\n\u001b[1;32m    707\u001b[0m \u001b[0;34m\u001b[0m\u001b[0m\n\u001b[1;32m    708\u001b[0m     \u001b[0;32mdef\u001b[0m \u001b[0m_iter_test_masks\u001b[0m\u001b[0;34m(\u001b[0m\u001b[0mself\u001b[0m\u001b[0;34m,\u001b[0m \u001b[0mX\u001b[0m\u001b[0;34m,\u001b[0m \u001b[0my\u001b[0m\u001b[0;34m=\u001b[0m\u001b[0;32mNone\u001b[0m\u001b[0;34m,\u001b[0m \u001b[0mgroups\u001b[0m\u001b[0;34m=\u001b[0m\u001b[0;32mNone\u001b[0m\u001b[0;34m)\u001b[0m\u001b[0;34m:\u001b[0m\u001b[0;34m\u001b[0m\u001b[0;34m\u001b[0m\u001b[0m\n\u001b[0;32m--> 709\u001b[0;31m         \u001b[0mtest_folds\u001b[0m \u001b[0;34m=\u001b[0m \u001b[0mself\u001b[0m\u001b[0;34m.\u001b[0m\u001b[0m_make_test_folds\u001b[0m\u001b[0;34m(\u001b[0m\u001b[0mX\u001b[0m\u001b[0;34m,\u001b[0m \u001b[0my\u001b[0m\u001b[0;34m)\u001b[0m\u001b[0;34m\u001b[0m\u001b[0;34m\u001b[0m\u001b[0m\n\u001b[0m\u001b[1;32m    710\u001b[0m         \u001b[0;32mfor\u001b[0m \u001b[0mi\u001b[0m \u001b[0;32min\u001b[0m \u001b[0mrange\u001b[0m\u001b[0;34m(\u001b[0m\u001b[0mself\u001b[0m\u001b[0;34m.\u001b[0m\u001b[0mn_splits\u001b[0m\u001b[0;34m)\u001b[0m\u001b[0;34m:\u001b[0m\u001b[0;34m\u001b[0m\u001b[0;34m\u001b[0m\u001b[0m\n\u001b[1;32m    711\u001b[0m             \u001b[0;32myield\u001b[0m \u001b[0mtest_folds\u001b[0m \u001b[0;34m==\u001b[0m \u001b[0mi\u001b[0m\u001b[0;34m\u001b[0m\u001b[0;34m\u001b[0m\u001b[0m\n",
      "\u001b[0;32m/opt/anaconda3/lib/python3.8/site-packages/sklearn/model_selection/_split.py\u001b[0m in \u001b[0;36m_make_test_folds\u001b[0;34m(self, X, y)\u001b[0m\n\u001b[1;32m    669\u001b[0m         \u001b[0mmin_groups\u001b[0m \u001b[0;34m=\u001b[0m \u001b[0mnp\u001b[0m\u001b[0;34m.\u001b[0m\u001b[0mmin\u001b[0m\u001b[0;34m(\u001b[0m\u001b[0my_counts\u001b[0m\u001b[0;34m)\u001b[0m\u001b[0;34m\u001b[0m\u001b[0;34m\u001b[0m\u001b[0m\n\u001b[1;32m    670\u001b[0m         \u001b[0;32mif\u001b[0m \u001b[0mnp\u001b[0m\u001b[0;34m.\u001b[0m\u001b[0mall\u001b[0m\u001b[0;34m(\u001b[0m\u001b[0mself\u001b[0m\u001b[0;34m.\u001b[0m\u001b[0mn_splits\u001b[0m \u001b[0;34m>\u001b[0m \u001b[0my_counts\u001b[0m\u001b[0;34m)\u001b[0m\u001b[0;34m:\u001b[0m\u001b[0;34m\u001b[0m\u001b[0;34m\u001b[0m\u001b[0m\n\u001b[0;32m--> 671\u001b[0;31m             raise ValueError(\n\u001b[0m\u001b[1;32m    672\u001b[0m                 \u001b[0;34m\"n_splits=%d cannot be greater than the\"\u001b[0m\u001b[0;34m\u001b[0m\u001b[0;34m\u001b[0m\u001b[0m\n\u001b[1;32m    673\u001b[0m                 \u001b[0;34m\" number of members in each class.\"\u001b[0m \u001b[0;34m%\u001b[0m \u001b[0;34m(\u001b[0m\u001b[0mself\u001b[0m\u001b[0;34m.\u001b[0m\u001b[0mn_splits\u001b[0m\u001b[0;34m)\u001b[0m\u001b[0;34m\u001b[0m\u001b[0;34m\u001b[0m\u001b[0m\n",
      "\u001b[0;31mValueError\u001b[0m: n_splits=5 cannot be greater than the number of members in each class."
     ]
    }
   ],
   "source": [
    "gsrf.fit(X_train_over, y_train_over)"
   ]
  },
  {
   "cell_type": "code",
   "execution_count": 33,
   "id": "7841bf39",
   "metadata": {
    "scrolled": false
   },
   "outputs": [
    {
     "ename": "AttributeError",
     "evalue": "'GridSearchCV' object has no attribute 'best_estimator_'",
     "output_type": "error",
     "traceback": [
      "\u001b[0;31m---------------------------------------------------------------------------\u001b[0m",
      "\u001b[0;31mAttributeError\u001b[0m                            Traceback (most recent call last)",
      "\u001b[0;32m<ipython-input-33-cf64d415299e>\u001b[0m in \u001b[0;36m<module>\u001b[0;34m\u001b[0m\n\u001b[0;32m----> 1\u001b[0;31m \u001b[0mgsrf\u001b[0m\u001b[0;34m.\u001b[0m\u001b[0mbest_estimator_\u001b[0m\u001b[0;34m\u001b[0m\u001b[0;34m\u001b[0m\u001b[0m\n\u001b[0m",
      "\u001b[0;31mAttributeError\u001b[0m: 'GridSearchCV' object has no attribute 'best_estimator_'"
     ]
    }
   ],
   "source": [
    "gsrf.best_estimator_"
   ]
  },
  {
   "cell_type": "code",
   "execution_count": 67,
   "id": "fa6260b3",
   "metadata": {},
   "outputs": [],
   "source": [
    "rfbe = RandomForestClassifier(max_depth=20,random_state=2)"
   ]
  },
  {
   "cell_type": "code",
   "execution_count": 68,
   "id": "5618b2e4",
   "metadata": {
    "scrolled": true
   },
   "outputs": [
    {
     "data": {
      "text/plain": [
       "RandomForestClassifier(max_depth=20, random_state=2)"
      ]
     },
     "execution_count": 68,
     "metadata": {},
     "output_type": "execute_result"
    }
   ],
   "source": [
    "rfbe.fit(X_train_over, y_train_over)"
   ]
  },
  {
   "cell_type": "code",
   "execution_count": 69,
   "id": "3327c226",
   "metadata": {},
   "outputs": [],
   "source": [
    "predic = rfbe.predict(X_test)"
   ]
  },
  {
   "cell_type": "code",
   "execution_count": 70,
   "id": "f0c7bb6b",
   "metadata": {},
   "outputs": [],
   "source": [
    "result= y_test == predic"
   ]
  },
  {
   "cell_type": "code",
   "execution_count": 71,
   "id": "e09fb8e8",
   "metadata": {},
   "outputs": [
    {
     "data": {
      "text/plain": [
       "10"
      ]
     },
     "execution_count": 71,
     "metadata": {},
     "output_type": "execute_result"
    }
   ],
   "source": [
    "predic[0]"
   ]
  },
  {
   "cell_type": "code",
   "execution_count": 72,
   "id": "19b89f0a",
   "metadata": {},
   "outputs": [],
   "source": [
    "cercanias = []\n",
    "for i in range(len(predic)):\n",
    "\n",
    "    cercanias.append(predic[i] in range(list(y_test)[i]-4, list(y_test)[i]+4))"
   ]
  },
  {
   "cell_type": "code",
   "execution_count": 73,
   "id": "3cffee6d",
   "metadata": {
    "scrolled": false
   },
   "outputs": [
    {
     "data": {
      "text/plain": [
       "array([10,  2, 38, 17,  8,  7,  2, 43, 56,  8,  5,  2, 35, 11,  4, 62, 43,\n",
       "       13,  8, 36, 11, 16, 15, 18, 51, 26, 26,  9,  2,  2, 30, 10, 12, 31,\n",
       "       15, 21,  9, 34, 15, 38, 34, 16, 18,  6, 10,  5,  2, 19, 20, 24,  5,\n",
       "       13, 10, 32, 33,  2, 17,  5,  4,  9, 18, 26,  5, 17,  4, 42,  2, 31,\n",
       "       59, 13, 25, 26, 11,  8,  9, 15, 15, 56, 15, 59,  9,  2, 41,  7, 13,\n",
       "        2,  8, 15, 19, 11, 11, 29,  4, 15, 16, 15, 12,  6, 21, 28, 19,  6,\n",
       "       18, 16, 20,  7,  8,  2, 21, 39, 17, 17, 26, 15, 18, 13, 15,  8, 17,\n",
       "       32, 25, 16, 31, 10, 38, 38, 16, 20, 31, 22, 18,  5, 10, 21, 10, 23,\n",
       "       26, 44,  4, 15, 32, 18])"
      ]
     },
     "execution_count": 73,
     "metadata": {},
     "output_type": "execute_result"
    }
   ],
   "source": [
    "predic"
   ]
  },
  {
   "cell_type": "code",
   "execution_count": 74,
   "id": "0eed61d8",
   "metadata": {
    "scrolled": false
   },
   "outputs": [
    {
     "name": "stdout",
     "output_type": "stream",
     "text": [
      "[10, 19, 28, 11, 14, 5, 4, 31, 1, 5, 1, 9, 44, 5, 11, 14, 10, 15, 12, 12, 9, 19, 8, 41, 58, 23, 18, 13, 17, 15, 42, 22, 27, 27, 5, 39, 2, 4, 25, 5, 40, 30, 31, 13, 4, 9, 22, 16, 5, 1, 8, 17, 13, 15, 8, 2, 14, 13, 44, 16, 13, 29, 14, 31, 30, 42, 24, 14, 38, 12, 12, 11, 25, 7, 25, 29, 10, 28, 18, 2, 26, 3, 2, 15, 4, 3, 53, 1, 15, 22, 2, 14, 8, 23, 34, 17, 3, 15, 27, 23, 35, 32, 19, 3, 5, 9, 3, 7, 8, 17, 8, 44, 2, 18, 7, 6, 35, 4, 17, 20, 3, 1, 40, 19, 32, 1, 20, 19, 4, 9, 7, 7, 13, 12, 1, 6, 24, 4, 5, 4, 18, 15]\n"
     ]
    }
   ],
   "source": [
    "print(list(y_test))"
   ]
  },
  {
   "cell_type": "code",
   "execution_count": 88,
   "id": "bf43df6c",
   "metadata": {},
   "outputs": [
    {
     "data": {
      "text/plain": [
       "26.056338028169012"
      ]
     },
     "execution_count": 88,
     "metadata": {},
     "output_type": "execute_result"
    }
   ],
   "source": [
    "sum(cercanias)/len(cercanias)*100"
   ]
  },
  {
   "cell_type": "markdown",
   "id": "68ee381b",
   "metadata": {},
   "source": [
    "## xgboost"
   ]
  },
  {
   "cell_type": "code",
   "execution_count": 1,
   "id": "c6af1fde",
   "metadata": {},
   "outputs": [],
   "source": [
    "import xgboost as xgb"
   ]
  },
  {
   "cell_type": "code",
   "execution_count": 44,
   "id": "269d438a",
   "metadata": {},
   "outputs": [],
   "source": [
    "dtrain = xgb.DMatrix(X_train_over, label=y_train_over)\n",
    "dtest = xgb.DMatrix(X_test, label=y_test)"
   ]
  },
  {
   "cell_type": "code",
   "execution_count": 46,
   "id": "3dddc4c1",
   "metadata": {},
   "outputs": [],
   "source": [
    "param = {}\n",
    "evallist = [(dtest, 'eval'), (dtrain, 'train')]"
   ]
  },
  {
   "cell_type": "code",
   "execution_count": 47,
   "id": "99940321",
   "metadata": {
    "scrolled": true
   },
   "outputs": [
    {
     "name": "stdout",
     "output_type": "stream",
     "text": [
      "[0]\teval-rmse:15.85676\ttrain-rmse:26.08367\n",
      "[1]\teval-rmse:13.66860\ttrain-rmse:20.24494\n",
      "[2]\teval-rmse:13.26365\ttrain-rmse:16.52276\n",
      "[3]\teval-rmse:13.38046\ttrain-rmse:14.12170\n",
      "[4]\teval-rmse:13.91196\ttrain-rmse:12.70999\n",
      "[5]\teval-rmse:14.32532\ttrain-rmse:11.86121\n",
      "[6]\teval-rmse:14.73740\ttrain-rmse:11.40289\n",
      "[7]\teval-rmse:15.04085\ttrain-rmse:11.11478\n",
      "[8]\teval-rmse:15.22750\ttrain-rmse:10.95937\n",
      "[9]\teval-rmse:15.42675\ttrain-rmse:10.86381\n"
     ]
    }
   ],
   "source": [
    "num_round = 10\n",
    "bst = xgb.train(param, dtrain, num_round, evallist)\n"
   ]
  },
  {
   "cell_type": "code",
   "execution_count": 51,
   "id": "b524220e",
   "metadata": {},
   "outputs": [
    {
     "data": {
      "text/plain": [
       "{'best_iteration': '9', 'best_ntree_limit': '10'}"
      ]
     },
     "execution_count": 51,
     "metadata": {},
     "output_type": "execute_result"
    }
   ],
   "source": [
    "bst.attributes()"
   ]
  },
  {
   "cell_type": "code",
   "execution_count": 48,
   "id": "d95c2e7d",
   "metadata": {
    "scrolled": true
   },
   "outputs": [
    {
     "data": {
      "text/plain": [
       "array([12.946168 , 13.782652 , 32.308712 , 32.308712 , 16.144972 ,\n",
       "       32.308712 , 32.308712 , 44.012386 , 15.211263 , 24.877266 ,\n",
       "       32.308712 , 13.645826 , 15.574531 , 32.308712 , 32.308712 ,\n",
       "        5.972682 , 32.308712 , 24.852932 , 13.017158 , 20.025665 ,\n",
       "       23.17537  , 14.85803  , 11.386264 , 32.308712 , 32.308712 ,\n",
       "        7.807006 , 32.308712 , 22.364054 , 14.656284 , 18.136948 ,\n",
       "       35.504513 ,  7.5792236,  9.922652 , 32.308712 , 14.734141 ,\n",
       "       32.308712 , 32.308712 , 15.574128 , 32.308712 , 32.308712 ,\n",
       "       25.833723 , 16.34092  , 16.802582 , 14.220719 , 32.308712 ,\n",
       "       17.039846 , 17.531242 , 21.530464 , 18.673244 , 31.755854 ,\n",
       "       13.30707  , 32.308712 , 18.848064 , 30.025972 , 26.704668 ,\n",
       "       45.44603  , 10.785038 ,  7.000137 , 16.840702 , 37.211273 ,\n",
       "       32.308712 , 10.013736 , 32.308712 , 32.308712 , 12.23055  ,\n",
       "       32.308712 , 32.308712 , 32.308712 , 11.743119 , 17.02114  ,\n",
       "       32.308712 , 18.8963   , 11.755283 , 22.886791 , 32.308712 ,\n",
       "        7.709414 , 13.63321  , 19.36972  , 19.532593 , 38.957035 ,\n",
       "       32.308712 , 18.510807 , 12.893428 , 15.082551 , 18.366356 ,\n",
       "       24.785645 , 13.456904 , 32.308712 , 16.025928 , 17.09593  ,\n",
       "       36.99758  , 32.308712 ,  9.7416935, 32.308712 , 32.308712 ,\n",
       "       20.60834  , 32.308712 ,  6.311389 , 35.144215 , 18.171833 ,\n",
       "       32.308712 , 32.308712 ,  8.472667 , 32.308712 , 26.307533 ,\n",
       "       16.345741 , 32.308712 , 13.614387 , 17.074623 , 32.308712 ,\n",
       "       18.56827  , 32.741474 , 32.308712 , 32.308712 , 10.296718 ,\n",
       "       11.970101 , 17.857237 , 18.587126 , 16.381927 , 12.607254 ,\n",
       "       11.314367 , 16.101706 , 15.975086 , 14.281735 , 17.753702 ,\n",
       "       32.308712 , 14.869196 , 18.33175  , 18.446386 , 32.17739  ,\n",
       "       13.287139 ,  8.482051 , 32.308712 , 10.482162 , 32.308712 ,\n",
       "       37.211273 , 32.308712 , 37.211273 , 32.308712 , 20.555431 ,\n",
       "       15.847758 , 32.308712 , 30.083874 , 11.444155 , 16.386747 ,\n",
       "        7.8840427, 32.308712 , 32.308712 , 12.285443 , 12.422196 ,\n",
       "       32.308712 , 32.308712 , 18.33175  , 18.790644 , 23.42363  ,\n",
       "       11.576806 , 32.308712 , 32.308712 , 32.308712 , 10.253737 ,\n",
       "       12.946168 , 32.308712 , 15.948281 , 13.32042  , 14.80118  ,\n",
       "       32.308712 , 16.703241 , 15.089463 , 13.03203  , 18.33175  ,\n",
       "       15.644649 , 32.308712 , 27.869587 , 13.299889 , 15.626073 ,\n",
       "        9.173999 , 32.308712 , 17.220457 , 32.308712 , 32.308712 ,\n",
       "       32.308712 , 19.099115 , 32.308712 , 32.308712 , 32.308712 ,\n",
       "       15.603919 , 23.049702 , 32.308712 , 18.288763 , 16.345741 ,\n",
       "       32.308712 , 20.218468 ,  7.929    , 14.419893 , 21.968498 ,\n",
       "       32.308712 , 32.308712 , 32.308712 ,  6.3347116, 18.561497 ,\n",
       "       32.308712 ], dtype=float32)"
      ]
     },
     "execution_count": 48,
     "metadata": {},
     "output_type": "execute_result"
    }
   ],
   "source": [
    "bst.predict(dtest)"
   ]
  },
  {
   "cell_type": "code",
   "execution_count": 49,
   "id": "bf6f0ab8",
   "metadata": {
    "scrolled": true
   },
   "outputs": [
    {
     "data": {
      "text/plain": [
       "864    29\n",
       "370    20\n",
       "147    18\n",
       "120    17\n",
       "333    18\n",
       "       ..\n",
       "292     6\n",
       "200    20\n",
       "721    17\n",
       "150    21\n",
       "211     4\n",
       "Name: n_track, Length: 201, dtype: int64"
      ]
     },
     "execution_count": 49,
     "metadata": {},
     "output_type": "execute_result"
    }
   ],
   "source": [
    "y_test"
   ]
  },
  {
   "cell_type": "code",
   "execution_count": 33,
   "id": "7b000a7a",
   "metadata": {
    "scrolled": false
   },
   "outputs": [
    {
     "data": {
      "text/html": [
       "<div>\n",
       "<style scoped>\n",
       "    .dataframe tbody tr th:only-of-type {\n",
       "        vertical-align: middle;\n",
       "    }\n",
       "\n",
       "    .dataframe tbody tr th {\n",
       "        vertical-align: top;\n",
       "    }\n",
       "\n",
       "    .dataframe thead th {\n",
       "        text-align: right;\n",
       "    }\n",
       "</style>\n",
       "<table border=\"1\" class=\"dataframe\">\n",
       "  <thead>\n",
       "    <tr style=\"text-align: right;\">\n",
       "      <th></th>\n",
       "      <th>n_track</th>\n",
       "      <th>set_section</th>\n",
       "      <th>artist</th>\n",
       "      <th>track</th>\n",
       "      <th>set_name</th>\n",
       "      <th>song_id</th>\n",
       "      <th>album</th>\n",
       "      <th>duration</th>\n",
       "      <th>tempo</th>\n",
       "      <th>energy</th>\n",
       "      <th>danceability</th>\n",
       "      <th>valence</th>\n",
       "      <th>key</th>\n",
       "      <th>time_signature</th>\n",
       "      <th>acousticness</th>\n",
       "      <th>instruentalness</th>\n",
       "      <th>mode</th>\n",
       "      <th>na</th>\n",
       "    </tr>\n",
       "  </thead>\n",
       "  <tbody>\n",
       "    <tr>\n",
       "      <th>0</th>\n",
       "      <td>1</td>\n",
       "      <td>1</td>\n",
       "      <td>Bonobo</td>\n",
       "      <td>Cirrus</td>\n",
       "      <td>2012-02-08 - Bonobo @ Boiler Room 77 - Ninja T...</td>\n",
       "      <td>2lJ4d8MCT6ZlDRHKJ1br14</td>\n",
       "      <td>The North Borders</td>\n",
       "      <td>5.870767</td>\n",
       "      <td>119.042</td>\n",
       "      <td>0.844</td>\n",
       "      <td>0.640</td>\n",
       "      <td>0.3640</td>\n",
       "      <td>2.0</td>\n",
       "      <td>4.0</td>\n",
       "      <td>0.39500</td>\n",
       "      <td>0.933</td>\n",
       "      <td>0.0</td>\n",
       "      <td>False</td>\n",
       "    </tr>\n",
       "    <tr>\n",
       "      <th>1</th>\n",
       "      <td>2</td>\n",
       "      <td>1</td>\n",
       "      <td>Eliphino</td>\n",
       "      <td>More Than Me</td>\n",
       "      <td>2012-02-08 - Bonobo @ Boiler Room 77 - Ninja T...</td>\n",
       "      <td>20ieXcjQBv4ePXkWxhvKPV</td>\n",
       "      <td>More Than Me</td>\n",
       "      <td>7.019933</td>\n",
       "      <td>117.994</td>\n",
       "      <td>0.714</td>\n",
       "      <td>0.851</td>\n",
       "      <td>0.4140</td>\n",
       "      <td>9.0</td>\n",
       "      <td>4.0</td>\n",
       "      <td>0.00383</td>\n",
       "      <td>0.380</td>\n",
       "      <td>0.0</td>\n",
       "      <td>False</td>\n",
       "    </tr>\n",
       "    <tr>\n",
       "      <th>2</th>\n",
       "      <td>3</td>\n",
       "      <td>1</td>\n",
       "      <td>FaltyDL</td>\n",
       "      <td>Straight And Arrow</td>\n",
       "      <td>2012-02-08 - Bonobo @ Boiler Room 77 - Ninja T...</td>\n",
       "      <td>7G2ws9VEzcZk51nnp4xuYu</td>\n",
       "      <td>Straight &amp; Arrow</td>\n",
       "      <td>3.464333</td>\n",
       "      <td>130.038</td>\n",
       "      <td>0.723</td>\n",
       "      <td>0.791</td>\n",
       "      <td>0.1320</td>\n",
       "      <td>8.0</td>\n",
       "      <td>4.0</td>\n",
       "      <td>0.00106</td>\n",
       "      <td>0.767</td>\n",
       "      <td>1.0</td>\n",
       "      <td>False</td>\n",
       "    </tr>\n",
       "    <tr>\n",
       "      <th>3</th>\n",
       "      <td>4</td>\n",
       "      <td>1</td>\n",
       "      <td>Rocketnumbernine</td>\n",
       "      <td>Matthew And Toby (Four Tet Remix)</td>\n",
       "      <td>2012-02-08 - Bonobo @ Boiler Room 77 - Ninja T...</td>\n",
       "      <td>6KuF6uqMIvaafrF1LCWcEg</td>\n",
       "      <td>Dubfire - A Transmission</td>\n",
       "      <td>9.784000</td>\n",
       "      <td>125.007</td>\n",
       "      <td>0.483</td>\n",
       "      <td>0.744</td>\n",
       "      <td>0.2810</td>\n",
       "      <td>7.0</td>\n",
       "      <td>4.0</td>\n",
       "      <td>0.57200</td>\n",
       "      <td>0.940</td>\n",
       "      <td>1.0</td>\n",
       "      <td>False</td>\n",
       "    </tr>\n",
       "    <tr>\n",
       "      <th>4</th>\n",
       "      <td>5</td>\n",
       "      <td>1</td>\n",
       "      <td>Bonobo</td>\n",
       "      <td>Sapphire</td>\n",
       "      <td>2012-02-08 - Bonobo @ Boiler Room 77 - Ninja T...</td>\n",
       "      <td>1d5hX0RYHcDM4aHJHSm5cr</td>\n",
       "      <td>The North Borders</td>\n",
       "      <td>4.795467</td>\n",
       "      <td>135.024</td>\n",
       "      <td>0.631</td>\n",
       "      <td>0.641</td>\n",
       "      <td>0.0549</td>\n",
       "      <td>0.0</td>\n",
       "      <td>4.0</td>\n",
       "      <td>0.04800</td>\n",
       "      <td>0.612</td>\n",
       "      <td>0.0</td>\n",
       "      <td>False</td>\n",
       "    </tr>\n",
       "    <tr>\n",
       "      <th>...</th>\n",
       "      <td>...</td>\n",
       "      <td>...</td>\n",
       "      <td>...</td>\n",
       "      <td>...</td>\n",
       "      <td>...</td>\n",
       "      <td>...</td>\n",
       "      <td>...</td>\n",
       "      <td>...</td>\n",
       "      <td>...</td>\n",
       "      <td>...</td>\n",
       "      <td>...</td>\n",
       "      <td>...</td>\n",
       "      <td>...</td>\n",
       "      <td>...</td>\n",
       "      <td>...</td>\n",
       "      <td>...</td>\n",
       "      <td>...</td>\n",
       "      <td>...</td>\n",
       "    </tr>\n",
       "    <tr>\n",
       "      <th>189</th>\n",
       "      <td>22</td>\n",
       "      <td>1</td>\n",
       "      <td>Djrum</td>\n",
       "      <td>Showreel Pt. 2</td>\n",
       "      <td>2017-11-20 - Bonobo - Outlier Radio, NTS Radio</td>\n",
       "      <td>4Tg0ra2NwFahHXiboKtfPW</td>\n",
       "      <td>Showreel, Pt. 2</td>\n",
       "      <td>9.023783</td>\n",
       "      <td>92.635</td>\n",
       "      <td>0.787</td>\n",
       "      <td>0.274</td>\n",
       "      <td>0.1430</td>\n",
       "      <td>8.0</td>\n",
       "      <td>3.0</td>\n",
       "      <td>0.06000</td>\n",
       "      <td>0.689</td>\n",
       "      <td>1.0</td>\n",
       "      <td>False</td>\n",
       "    </tr>\n",
       "    <tr>\n",
       "      <th>190</th>\n",
       "      <td>23</td>\n",
       "      <td>1</td>\n",
       "      <td>Appleblim</td>\n",
       "      <td>Sacred Rowan Grove</td>\n",
       "      <td>2017-11-20 - Bonobo - Outlier Radio, NTS Radio</td>\n",
       "      <td>34bMRysVmX1E2nBu9YjAsh</td>\n",
       "      <td>Displaced Soundtracks</td>\n",
       "      <td>5.373217</td>\n",
       "      <td>120.047</td>\n",
       "      <td>0.905</td>\n",
       "      <td>0.423</td>\n",
       "      <td>0.3520</td>\n",
       "      <td>8.0</td>\n",
       "      <td>4.0</td>\n",
       "      <td>0.08900</td>\n",
       "      <td>0.694</td>\n",
       "      <td>1.0</td>\n",
       "      <td>False</td>\n",
       "    </tr>\n",
       "    <tr>\n",
       "      <th>191</th>\n",
       "      <td>24</td>\n",
       "      <td>1</td>\n",
       "      <td>Agnes Obel</td>\n",
       "      <td>Stretch Your Eyes (Quiet Village Remix)</td>\n",
       "      <td>2017-11-20 - Bonobo - Outlier Radio, NTS Radio</td>\n",
       "      <td>06xHJ8x3p0Kaw1zYfevxSA</td>\n",
       "      <td>Stretch Your Eyes (Quiet Village Remix)</td>\n",
       "      <td>9.436550</td>\n",
       "      <td>120.004</td>\n",
       "      <td>0.413</td>\n",
       "      <td>0.579</td>\n",
       "      <td>0.0386</td>\n",
       "      <td>6.0</td>\n",
       "      <td>4.0</td>\n",
       "      <td>0.43600</td>\n",
       "      <td>0.899</td>\n",
       "      <td>0.0</td>\n",
       "      <td>False</td>\n",
       "    </tr>\n",
       "    <tr>\n",
       "      <th>192</th>\n",
       "      <td>25</td>\n",
       "      <td>1</td>\n",
       "      <td>Penya</td>\n",
       "      <td>Why So Angry</td>\n",
       "      <td>2017-11-20 - Bonobo - Outlier Radio, NTS Radio</td>\n",
       "      <td>7FLWpgPAF99CZvGcNBGwGU</td>\n",
       "      <td>Super Liminal</td>\n",
       "      <td>4.195517</td>\n",
       "      <td>125.019</td>\n",
       "      <td>0.726</td>\n",
       "      <td>0.700</td>\n",
       "      <td>0.2100</td>\n",
       "      <td>6.0</td>\n",
       "      <td>4.0</td>\n",
       "      <td>0.19500</td>\n",
       "      <td>0.693</td>\n",
       "      <td>0.0</td>\n",
       "      <td>False</td>\n",
       "    </tr>\n",
       "    <tr>\n",
       "      <th>193</th>\n",
       "      <td>26</td>\n",
       "      <td>1</td>\n",
       "      <td>Anenon</td>\n",
       "      <td>Verso</td>\n",
       "      <td>2017-11-20 - Bonobo - Outlier Radio, NTS Radio</td>\n",
       "      <td>1xvhO2IhKqdWjtUjOVRebg</td>\n",
       "      <td>Tongue</td>\n",
       "      <td>4.952067</td>\n",
       "      <td>136.542</td>\n",
       "      <td>0.450</td>\n",
       "      <td>0.488</td>\n",
       "      <td>0.1680</td>\n",
       "      <td>3.0</td>\n",
       "      <td>4.0</td>\n",
       "      <td>0.94700</td>\n",
       "      <td>0.953</td>\n",
       "      <td>1.0</td>\n",
       "      <td>False</td>\n",
       "    </tr>\n",
       "  </tbody>\n",
       "</table>\n",
       "<p>194 rows × 18 columns</p>\n",
       "</div>"
      ],
      "text/plain": [
       "     n_track  set_section            artist  \\\n",
       "0          1            1            Bonobo   \n",
       "1          2            1          Eliphino   \n",
       "2          3            1           FaltyDL   \n",
       "3          4            1  Rocketnumbernine   \n",
       "4          5            1            Bonobo   \n",
       "..       ...          ...               ...   \n",
       "189       22            1             Djrum   \n",
       "190       23            1         Appleblim   \n",
       "191       24            1        Agnes Obel   \n",
       "192       25            1             Penya   \n",
       "193       26            1            Anenon   \n",
       "\n",
       "                                       track  \\\n",
       "0                                     Cirrus   \n",
       "1                               More Than Me   \n",
       "2                         Straight And Arrow   \n",
       "3          Matthew And Toby (Four Tet Remix)   \n",
       "4                                   Sapphire   \n",
       "..                                       ...   \n",
       "189                           Showreel Pt. 2   \n",
       "190                       Sacred Rowan Grove   \n",
       "191  Stretch Your Eyes (Quiet Village Remix)   \n",
       "192                             Why So Angry   \n",
       "193                                    Verso   \n",
       "\n",
       "                                              set_name  \\\n",
       "0    2012-02-08 - Bonobo @ Boiler Room 77 - Ninja T...   \n",
       "1    2012-02-08 - Bonobo @ Boiler Room 77 - Ninja T...   \n",
       "2    2012-02-08 - Bonobo @ Boiler Room 77 - Ninja T...   \n",
       "3    2012-02-08 - Bonobo @ Boiler Room 77 - Ninja T...   \n",
       "4    2012-02-08 - Bonobo @ Boiler Room 77 - Ninja T...   \n",
       "..                                                 ...   \n",
       "189     2017-11-20 - Bonobo - Outlier Radio, NTS Radio   \n",
       "190     2017-11-20 - Bonobo - Outlier Radio, NTS Radio   \n",
       "191     2017-11-20 - Bonobo - Outlier Radio, NTS Radio   \n",
       "192     2017-11-20 - Bonobo - Outlier Radio, NTS Radio   \n",
       "193     2017-11-20 - Bonobo - Outlier Radio, NTS Radio   \n",
       "\n",
       "                    song_id                                    album  \\\n",
       "0    2lJ4d8MCT6ZlDRHKJ1br14                        The North Borders   \n",
       "1    20ieXcjQBv4ePXkWxhvKPV                             More Than Me   \n",
       "2    7G2ws9VEzcZk51nnp4xuYu                         Straight & Arrow   \n",
       "3    6KuF6uqMIvaafrF1LCWcEg                 Dubfire - A Transmission   \n",
       "4    1d5hX0RYHcDM4aHJHSm5cr                        The North Borders   \n",
       "..                      ...                                      ...   \n",
       "189  4Tg0ra2NwFahHXiboKtfPW                          Showreel, Pt. 2   \n",
       "190  34bMRysVmX1E2nBu9YjAsh                    Displaced Soundtracks   \n",
       "191  06xHJ8x3p0Kaw1zYfevxSA  Stretch Your Eyes (Quiet Village Remix)   \n",
       "192  7FLWpgPAF99CZvGcNBGwGU                            Super Liminal   \n",
       "193  1xvhO2IhKqdWjtUjOVRebg                                   Tongue   \n",
       "\n",
       "     duration    tempo  energy  danceability  valence  key  time_signature  \\\n",
       "0    5.870767  119.042   0.844         0.640   0.3640  2.0             4.0   \n",
       "1    7.019933  117.994   0.714         0.851   0.4140  9.0             4.0   \n",
       "2    3.464333  130.038   0.723         0.791   0.1320  8.0             4.0   \n",
       "3    9.784000  125.007   0.483         0.744   0.2810  7.0             4.0   \n",
       "4    4.795467  135.024   0.631         0.641   0.0549  0.0             4.0   \n",
       "..        ...      ...     ...           ...      ...  ...             ...   \n",
       "189  9.023783   92.635   0.787         0.274   0.1430  8.0             3.0   \n",
       "190  5.373217  120.047   0.905         0.423   0.3520  8.0             4.0   \n",
       "191  9.436550  120.004   0.413         0.579   0.0386  6.0             4.0   \n",
       "192  4.195517  125.019   0.726         0.700   0.2100  6.0             4.0   \n",
       "193  4.952067  136.542   0.450         0.488   0.1680  3.0             4.0   \n",
       "\n",
       "     acousticness  instruentalness  mode     na  \n",
       "0         0.39500            0.933   0.0  False  \n",
       "1         0.00383            0.380   0.0  False  \n",
       "2         0.00106            0.767   1.0  False  \n",
       "3         0.57200            0.940   1.0  False  \n",
       "4         0.04800            0.612   0.0  False  \n",
       "..            ...              ...   ...    ...  \n",
       "189       0.06000            0.689   1.0  False  \n",
       "190       0.08900            0.694   1.0  False  \n",
       "191       0.43600            0.899   0.0  False  \n",
       "192       0.19500            0.693   0.0  False  \n",
       "193       0.94700            0.953   1.0  False  \n",
       "\n",
       "[194 rows x 18 columns]"
      ]
     },
     "execution_count": 33,
     "metadata": {},
     "output_type": "execute_result"
    }
   ],
   "source": [
    "df"
   ]
  },
  {
   "cell_type": "markdown",
   "id": "4bb252ed",
   "metadata": {},
   "source": [
    "## Modelos distancias"
   ]
  },
  {
   "cell_type": "code",
   "execution_count": 12,
   "id": "4aad4a74",
   "metadata": {},
   "outputs": [],
   "source": [
    "df = pd.read_csv(\"/Users/santiago/ih-bootcamp/proyectos/sherpa/out/df_modelo_medias.csv\", index_col=0)"
   ]
  },
  {
   "cell_type": "code",
   "execution_count": 13,
   "id": "6111ed22",
   "metadata": {
    "scrolled": true
   },
   "outputs": [
    {
     "data": {
      "text/html": [
       "<div>\n",
       "<style scoped>\n",
       "    .dataframe tbody tr th:only-of-type {\n",
       "        vertical-align: middle;\n",
       "    }\n",
       "\n",
       "    .dataframe tbody tr th {\n",
       "        vertical-align: top;\n",
       "    }\n",
       "\n",
       "    .dataframe thead th {\n",
       "        text-align: right;\n",
       "    }\n",
       "</style>\n",
       "<table border=\"1\" class=\"dataframe\">\n",
       "  <thead>\n",
       "    <tr style=\"text-align: right;\">\n",
       "      <th></th>\n",
       "      <th>n_track</th>\n",
       "      <th>set_name</th>\n",
       "      <th>song_id</th>\n",
       "      <th>tempo</th>\n",
       "      <th>energy</th>\n",
       "      <th>danceability</th>\n",
       "      <th>dj</th>\n",
       "      <th>m_energy</th>\n",
       "      <th>m_danceability</th>\n",
       "      <th>m_tempo</th>\n",
       "      <th>d_energy</th>\n",
       "      <th>d_danceability</th>\n",
       "      <th>d_tempo</th>\n",
       "      <th>grupo_set</th>\n",
       "      <th>tempo_media_g</th>\n",
       "      <th>energy_media_g</th>\n",
       "      <th>danceability_media_g</th>\n",
       "      <th>d_energy_grupo</th>\n",
       "      <th>d_danceability_grupo</th>\n",
       "      <th>d_tempo_grupo</th>\n",
       "    </tr>\n",
       "  </thead>\n",
       "  <tbody>\n",
       "    <tr>\n",
       "      <th>0</th>\n",
       "      <td>1</td>\n",
       "      <td>2012-02-08 - Bonobo @ Boiler Room 77 - Ninja T...</td>\n",
       "      <td>2lJ4d8MCT6ZlDRHKJ1br14</td>\n",
       "      <td>0.459016</td>\n",
       "      <td>0.844</td>\n",
       "      <td>0.640</td>\n",
       "      <td>bonobo</td>\n",
       "      <td>0.676727</td>\n",
       "      <td>0.697273</td>\n",
       "      <td>0.479881</td>\n",
       "      <td>-0.167273</td>\n",
       "      <td>0.057273</td>\n",
       "      <td>0.020864</td>\n",
       "      <td>1</td>\n",
       "      <td>0.480874</td>\n",
       "      <td>0.691000</td>\n",
       "      <td>0.756500</td>\n",
       "      <td>-0.153000</td>\n",
       "      <td>0.116500</td>\n",
       "      <td>0.021858</td>\n",
       "    </tr>\n",
       "    <tr>\n",
       "      <th>1</th>\n",
       "      <td>2</td>\n",
       "      <td>2012-02-08 - Bonobo @ Boiler Room 77 - Ninja T...</td>\n",
       "      <td>20ieXcjQBv4ePXkWxhvKPV</td>\n",
       "      <td>0.453552</td>\n",
       "      <td>0.714</td>\n",
       "      <td>0.851</td>\n",
       "      <td>bonobo</td>\n",
       "      <td>0.676727</td>\n",
       "      <td>0.697273</td>\n",
       "      <td>0.479881</td>\n",
       "      <td>-0.037273</td>\n",
       "      <td>-0.153727</td>\n",
       "      <td>0.026329</td>\n",
       "      <td>1</td>\n",
       "      <td>0.480874</td>\n",
       "      <td>0.691000</td>\n",
       "      <td>0.756500</td>\n",
       "      <td>-0.023000</td>\n",
       "      <td>-0.094500</td>\n",
       "      <td>0.027322</td>\n",
       "    </tr>\n",
       "    <tr>\n",
       "      <th>2</th>\n",
       "      <td>3</td>\n",
       "      <td>2012-02-08 - Bonobo @ Boiler Room 77 - Ninja T...</td>\n",
       "      <td>7G2ws9VEzcZk51nnp4xuYu</td>\n",
       "      <td>0.519126</td>\n",
       "      <td>0.723</td>\n",
       "      <td>0.791</td>\n",
       "      <td>bonobo</td>\n",
       "      <td>0.676727</td>\n",
       "      <td>0.697273</td>\n",
       "      <td>0.479881</td>\n",
       "      <td>-0.046273</td>\n",
       "      <td>-0.093727</td>\n",
       "      <td>-0.039245</td>\n",
       "      <td>1</td>\n",
       "      <td>0.480874</td>\n",
       "      <td>0.691000</td>\n",
       "      <td>0.756500</td>\n",
       "      <td>-0.032000</td>\n",
       "      <td>-0.034500</td>\n",
       "      <td>-0.038251</td>\n",
       "    </tr>\n",
       "    <tr>\n",
       "      <th>3</th>\n",
       "      <td>4</td>\n",
       "      <td>2012-02-08 - Bonobo @ Boiler Room 77 - Ninja T...</td>\n",
       "      <td>6KuF6uqMIvaafrF1LCWcEg</td>\n",
       "      <td>0.491803</td>\n",
       "      <td>0.483</td>\n",
       "      <td>0.744</td>\n",
       "      <td>bonobo</td>\n",
       "      <td>0.676727</td>\n",
       "      <td>0.697273</td>\n",
       "      <td>0.479881</td>\n",
       "      <td>0.193727</td>\n",
       "      <td>-0.046727</td>\n",
       "      <td>-0.011923</td>\n",
       "      <td>1</td>\n",
       "      <td>0.480874</td>\n",
       "      <td>0.691000</td>\n",
       "      <td>0.756500</td>\n",
       "      <td>0.208000</td>\n",
       "      <td>0.012500</td>\n",
       "      <td>-0.010929</td>\n",
       "    </tr>\n",
       "    <tr>\n",
       "      <th>4</th>\n",
       "      <td>5</td>\n",
       "      <td>2012-02-08 - Bonobo @ Boiler Room 77 - Ninja T...</td>\n",
       "      <td>1d5hX0RYHcDM4aHJHSm5cr</td>\n",
       "      <td>0.546448</td>\n",
       "      <td>0.631</td>\n",
       "      <td>0.641</td>\n",
       "      <td>bonobo</td>\n",
       "      <td>0.676727</td>\n",
       "      <td>0.697273</td>\n",
       "      <td>0.479881</td>\n",
       "      <td>0.045727</td>\n",
       "      <td>0.056273</td>\n",
       "      <td>-0.066567</td>\n",
       "      <td>2</td>\n",
       "      <td>0.520947</td>\n",
       "      <td>0.730667</td>\n",
       "      <td>0.638667</td>\n",
       "      <td>0.099667</td>\n",
       "      <td>-0.002333</td>\n",
       "      <td>-0.025501</td>\n",
       "    </tr>\n",
       "    <tr>\n",
       "      <th>...</th>\n",
       "      <td>...</td>\n",
       "      <td>...</td>\n",
       "      <td>...</td>\n",
       "      <td>...</td>\n",
       "      <td>...</td>\n",
       "      <td>...</td>\n",
       "      <td>...</td>\n",
       "      <td>...</td>\n",
       "      <td>...</td>\n",
       "      <td>...</td>\n",
       "      <td>...</td>\n",
       "      <td>...</td>\n",
       "      <td>...</td>\n",
       "      <td>...</td>\n",
       "      <td>...</td>\n",
       "      <td>...</td>\n",
       "      <td>...</td>\n",
       "      <td>...</td>\n",
       "      <td>...</td>\n",
       "      <td>...</td>\n",
       "    </tr>\n",
       "    <tr>\n",
       "      <th>656</th>\n",
       "      <td>11</td>\n",
       "      <td>2020-09-30 - Skee Mask - Tsugi Podcast 602</td>\n",
       "      <td>0RPvcGxPrIm6jba1z9HWc9</td>\n",
       "      <td>0.382514</td>\n",
       "      <td>0.702</td>\n",
       "      <td>0.842</td>\n",
       "      <td>skee mask</td>\n",
       "      <td>0.846000</td>\n",
       "      <td>0.650778</td>\n",
       "      <td>0.564663</td>\n",
       "      <td>0.144000</td>\n",
       "      <td>-0.191222</td>\n",
       "      <td>0.182149</td>\n",
       "      <td>2</td>\n",
       "      <td>0.506375</td>\n",
       "      <td>0.825667</td>\n",
       "      <td>0.795667</td>\n",
       "      <td>0.123667</td>\n",
       "      <td>-0.046333</td>\n",
       "      <td>0.123862</td>\n",
       "    </tr>\n",
       "    <tr>\n",
       "      <th>657</th>\n",
       "      <td>12</td>\n",
       "      <td>2020-09-30 - Skee Mask - Tsugi Podcast 602</td>\n",
       "      <td>7IRbMtmzqH5pHhsZ6Qpx19</td>\n",
       "      <td>0.562842</td>\n",
       "      <td>0.783</td>\n",
       "      <td>0.800</td>\n",
       "      <td>skee mask</td>\n",
       "      <td>0.846000</td>\n",
       "      <td>0.650778</td>\n",
       "      <td>0.564663</td>\n",
       "      <td>0.063000</td>\n",
       "      <td>-0.149222</td>\n",
       "      <td>0.001821</td>\n",
       "      <td>2</td>\n",
       "      <td>0.506375</td>\n",
       "      <td>0.825667</td>\n",
       "      <td>0.795667</td>\n",
       "      <td>0.042667</td>\n",
       "      <td>-0.004333</td>\n",
       "      <td>-0.056466</td>\n",
       "    </tr>\n",
       "    <tr>\n",
       "      <th>658</th>\n",
       "      <td>16</td>\n",
       "      <td>2020-09-30 - Skee Mask - Tsugi Podcast 602</td>\n",
       "      <td>2K21TUAQbrD4AA1V4x4mUS</td>\n",
       "      <td>0.530055</td>\n",
       "      <td>0.995</td>\n",
       "      <td>0.612</td>\n",
       "      <td>skee mask</td>\n",
       "      <td>0.846000</td>\n",
       "      <td>0.650778</td>\n",
       "      <td>0.564663</td>\n",
       "      <td>-0.149000</td>\n",
       "      <td>0.038778</td>\n",
       "      <td>0.034608</td>\n",
       "      <td>3</td>\n",
       "      <td>0.637523</td>\n",
       "      <td>0.782667</td>\n",
       "      <td>0.440000</td>\n",
       "      <td>-0.212333</td>\n",
       "      <td>-0.172000</td>\n",
       "      <td>0.107468</td>\n",
       "    </tr>\n",
       "    <tr>\n",
       "      <th>659</th>\n",
       "      <td>23</td>\n",
       "      <td>2020-09-30 - Skee Mask - Tsugi Podcast 602</td>\n",
       "      <td>1wO8HOEDJxLtxe6XZo1PAD</td>\n",
       "      <td>0.562842</td>\n",
       "      <td>0.938</td>\n",
       "      <td>0.602</td>\n",
       "      <td>skee mask</td>\n",
       "      <td>0.846000</td>\n",
       "      <td>0.650778</td>\n",
       "      <td>0.564663</td>\n",
       "      <td>-0.092000</td>\n",
       "      <td>0.048778</td>\n",
       "      <td>0.001821</td>\n",
       "      <td>3</td>\n",
       "      <td>0.637523</td>\n",
       "      <td>0.782667</td>\n",
       "      <td>0.440000</td>\n",
       "      <td>-0.155333</td>\n",
       "      <td>-0.162000</td>\n",
       "      <td>0.074681</td>\n",
       "    </tr>\n",
       "    <tr>\n",
       "      <th>660</th>\n",
       "      <td>24</td>\n",
       "      <td>2020-09-30 - Skee Mask - Tsugi Podcast 602</td>\n",
       "      <td>0AGQCjLd0nCjI9Pbmd3Voo</td>\n",
       "      <td>0.819672</td>\n",
       "      <td>0.415</td>\n",
       "      <td>0.106</td>\n",
       "      <td>skee mask</td>\n",
       "      <td>0.846000</td>\n",
       "      <td>0.650778</td>\n",
       "      <td>0.564663</td>\n",
       "      <td>0.431000</td>\n",
       "      <td>0.544778</td>\n",
       "      <td>-0.255009</td>\n",
       "      <td>3</td>\n",
       "      <td>0.637523</td>\n",
       "      <td>0.782667</td>\n",
       "      <td>0.440000</td>\n",
       "      <td>0.367667</td>\n",
       "      <td>0.334000</td>\n",
       "      <td>-0.182149</td>\n",
       "    </tr>\n",
       "  </tbody>\n",
       "</table>\n",
       "<p>661 rows × 20 columns</p>\n",
       "</div>"
      ],
      "text/plain": [
       "     n_track                                           set_name  \\\n",
       "0          1  2012-02-08 - Bonobo @ Boiler Room 77 - Ninja T...   \n",
       "1          2  2012-02-08 - Bonobo @ Boiler Room 77 - Ninja T...   \n",
       "2          3  2012-02-08 - Bonobo @ Boiler Room 77 - Ninja T...   \n",
       "3          4  2012-02-08 - Bonobo @ Boiler Room 77 - Ninja T...   \n",
       "4          5  2012-02-08 - Bonobo @ Boiler Room 77 - Ninja T...   \n",
       "..       ...                                                ...   \n",
       "656       11         2020-09-30 - Skee Mask - Tsugi Podcast 602   \n",
       "657       12         2020-09-30 - Skee Mask - Tsugi Podcast 602   \n",
       "658       16         2020-09-30 - Skee Mask - Tsugi Podcast 602   \n",
       "659       23         2020-09-30 - Skee Mask - Tsugi Podcast 602   \n",
       "660       24         2020-09-30 - Skee Mask - Tsugi Podcast 602   \n",
       "\n",
       "                    song_id     tempo  energy  danceability         dj  \\\n",
       "0    2lJ4d8MCT6ZlDRHKJ1br14  0.459016   0.844         0.640     bonobo   \n",
       "1    20ieXcjQBv4ePXkWxhvKPV  0.453552   0.714         0.851     bonobo   \n",
       "2    7G2ws9VEzcZk51nnp4xuYu  0.519126   0.723         0.791     bonobo   \n",
       "3    6KuF6uqMIvaafrF1LCWcEg  0.491803   0.483         0.744     bonobo   \n",
       "4    1d5hX0RYHcDM4aHJHSm5cr  0.546448   0.631         0.641     bonobo   \n",
       "..                      ...       ...     ...           ...        ...   \n",
       "656  0RPvcGxPrIm6jba1z9HWc9  0.382514   0.702         0.842  skee mask   \n",
       "657  7IRbMtmzqH5pHhsZ6Qpx19  0.562842   0.783         0.800  skee mask   \n",
       "658  2K21TUAQbrD4AA1V4x4mUS  0.530055   0.995         0.612  skee mask   \n",
       "659  1wO8HOEDJxLtxe6XZo1PAD  0.562842   0.938         0.602  skee mask   \n",
       "660  0AGQCjLd0nCjI9Pbmd3Voo  0.819672   0.415         0.106  skee mask   \n",
       "\n",
       "     m_energy  m_danceability   m_tempo  d_energy  d_danceability   d_tempo  \\\n",
       "0    0.676727        0.697273  0.479881 -0.167273        0.057273  0.020864   \n",
       "1    0.676727        0.697273  0.479881 -0.037273       -0.153727  0.026329   \n",
       "2    0.676727        0.697273  0.479881 -0.046273       -0.093727 -0.039245   \n",
       "3    0.676727        0.697273  0.479881  0.193727       -0.046727 -0.011923   \n",
       "4    0.676727        0.697273  0.479881  0.045727        0.056273 -0.066567   \n",
       "..        ...             ...       ...       ...             ...       ...   \n",
       "656  0.846000        0.650778  0.564663  0.144000       -0.191222  0.182149   \n",
       "657  0.846000        0.650778  0.564663  0.063000       -0.149222  0.001821   \n",
       "658  0.846000        0.650778  0.564663 -0.149000        0.038778  0.034608   \n",
       "659  0.846000        0.650778  0.564663 -0.092000        0.048778  0.001821   \n",
       "660  0.846000        0.650778  0.564663  0.431000        0.544778 -0.255009   \n",
       "\n",
       "     grupo_set  tempo_media_g  energy_media_g  danceability_media_g  \\\n",
       "0            1       0.480874        0.691000              0.756500   \n",
       "1            1       0.480874        0.691000              0.756500   \n",
       "2            1       0.480874        0.691000              0.756500   \n",
       "3            1       0.480874        0.691000              0.756500   \n",
       "4            2       0.520947        0.730667              0.638667   \n",
       "..         ...            ...             ...                   ...   \n",
       "656          2       0.506375        0.825667              0.795667   \n",
       "657          2       0.506375        0.825667              0.795667   \n",
       "658          3       0.637523        0.782667              0.440000   \n",
       "659          3       0.637523        0.782667              0.440000   \n",
       "660          3       0.637523        0.782667              0.440000   \n",
       "\n",
       "     d_energy_grupo  d_danceability_grupo  d_tempo_grupo  \n",
       "0         -0.153000              0.116500       0.021858  \n",
       "1         -0.023000             -0.094500       0.027322  \n",
       "2         -0.032000             -0.034500      -0.038251  \n",
       "3          0.208000              0.012500      -0.010929  \n",
       "4          0.099667             -0.002333      -0.025501  \n",
       "..              ...                   ...            ...  \n",
       "656        0.123667             -0.046333       0.123862  \n",
       "657        0.042667             -0.004333      -0.056466  \n",
       "658       -0.212333             -0.172000       0.107468  \n",
       "659       -0.155333             -0.162000       0.074681  \n",
       "660        0.367667              0.334000      -0.182149  \n",
       "\n",
       "[661 rows x 20 columns]"
      ]
     },
     "execution_count": 13,
     "metadata": {},
     "output_type": "execute_result"
    }
   ],
   "source": [
    "df"
   ]
  },
  {
   "cell_type": "code",
   "execution_count": 14,
   "id": "91056520",
   "metadata": {},
   "outputs": [],
   "source": [
    "from sklearn.model_selection import train_test_split\n",
    "from imblearn.over_sampling import RandomOverSampler\n",
    "from sklearn.ensemble import RandomForestClassifier, ExtraTreesClassifier\n",
    "from sklearn.model_selection import GridSearchCV"
   ]
  },
  {
   "cell_type": "code",
   "execution_count": 17,
   "id": "2cde4931",
   "metadata": {},
   "outputs": [],
   "source": [
    "df_modelo = df[['n_track', 'set_name', 'd_energy', 'd_danceability', 'd_tempo', 'grupo_set', 'd_energy_grupo', 'd_danceability_grupo', 'd_tempo_grupo']]"
   ]
  },
  {
   "cell_type": "code",
   "execution_count": 20,
   "id": "34994601",
   "metadata": {},
   "outputs": [],
   "source": [
    "from feature_engine.encoding import OrdinalEncoder"
   ]
  },
  {
   "cell_type": "code",
   "execution_count": 24,
   "id": "56542df3",
   "metadata": {
    "scrolled": true
   },
   "outputs": [],
   "source": [
    "oe = OrdinalEncoder(encoding_method='ordered')"
   ]
  },
  {
   "cell_type": "code",
   "execution_count": 27,
   "id": "ec92b5ce",
   "metadata": {},
   "outputs": [
    {
     "ename": "ValueError",
     "evalue": "Please provide a target y for this encoding method",
     "output_type": "error",
     "traceback": [
      "\u001b[0;31m---------------------------------------------------------------------------\u001b[0m",
      "\u001b[0;31mValueError\u001b[0m                                Traceback (most recent call last)",
      "\u001b[0;32m<ipython-input-27-a282fc95f1f3>\u001b[0m in \u001b[0;36m<module>\u001b[0;34m\u001b[0m\n\u001b[0;32m----> 1\u001b[0;31m \u001b[0moe\u001b[0m\u001b[0;34m.\u001b[0m\u001b[0mfit_transform\u001b[0m\u001b[0;34m(\u001b[0m\u001b[0mpd\u001b[0m\u001b[0;34m.\u001b[0m\u001b[0mDataFrame\u001b[0m\u001b[0;34m(\u001b[0m\u001b[0mdf_modelo\u001b[0m\u001b[0;34m.\u001b[0m\u001b[0mset_name\u001b[0m\u001b[0;34m)\u001b[0m\u001b[0;34m)\u001b[0m\u001b[0;34m\u001b[0m\u001b[0;34m\u001b[0m\u001b[0m\n\u001b[0m",
      "\u001b[0;32m/opt/anaconda3/lib/python3.8/site-packages/sklearn/base.py\u001b[0m in \u001b[0;36mfit_transform\u001b[0;34m(self, X, y, **fit_params)\u001b[0m\n\u001b[1;32m    850\u001b[0m         \u001b[0;32mif\u001b[0m \u001b[0my\u001b[0m \u001b[0;32mis\u001b[0m \u001b[0;32mNone\u001b[0m\u001b[0;34m:\u001b[0m\u001b[0;34m\u001b[0m\u001b[0;34m\u001b[0m\u001b[0m\n\u001b[1;32m    851\u001b[0m             \u001b[0;31m# fit method of arity 1 (unsupervised transformation)\u001b[0m\u001b[0;34m\u001b[0m\u001b[0;34m\u001b[0m\u001b[0;34m\u001b[0m\u001b[0m\n\u001b[0;32m--> 852\u001b[0;31m             \u001b[0;32mreturn\u001b[0m \u001b[0mself\u001b[0m\u001b[0;34m.\u001b[0m\u001b[0mfit\u001b[0m\u001b[0;34m(\u001b[0m\u001b[0mX\u001b[0m\u001b[0;34m,\u001b[0m \u001b[0;34m**\u001b[0m\u001b[0mfit_params\u001b[0m\u001b[0;34m)\u001b[0m\u001b[0;34m.\u001b[0m\u001b[0mtransform\u001b[0m\u001b[0;34m(\u001b[0m\u001b[0mX\u001b[0m\u001b[0;34m)\u001b[0m\u001b[0;34m\u001b[0m\u001b[0;34m\u001b[0m\u001b[0m\n\u001b[0m\u001b[1;32m    853\u001b[0m         \u001b[0;32melse\u001b[0m\u001b[0;34m:\u001b[0m\u001b[0;34m\u001b[0m\u001b[0;34m\u001b[0m\u001b[0m\n\u001b[1;32m    854\u001b[0m             \u001b[0;31m# fit method of arity 2 (supervised transformation)\u001b[0m\u001b[0;34m\u001b[0m\u001b[0;34m\u001b[0m\u001b[0;34m\u001b[0m\u001b[0m\n",
      "\u001b[0;32m/opt/anaconda3/lib/python3.8/site-packages/feature_engine/encoding/ordinal.py\u001b[0m in \u001b[0;36mfit\u001b[0;34m(self, X, y)\u001b[0m\n\u001b[1;32m    140\u001b[0m         \u001b[0;32mif\u001b[0m \u001b[0mself\u001b[0m\u001b[0;34m.\u001b[0m\u001b[0mencoding_method\u001b[0m \u001b[0;34m==\u001b[0m \u001b[0;34m\"ordered\"\u001b[0m\u001b[0;34m:\u001b[0m\u001b[0;34m\u001b[0m\u001b[0;34m\u001b[0m\u001b[0m\n\u001b[1;32m    141\u001b[0m             \u001b[0;32mif\u001b[0m \u001b[0my\u001b[0m \u001b[0;32mis\u001b[0m \u001b[0;32mNone\u001b[0m\u001b[0;34m:\u001b[0m\u001b[0;34m\u001b[0m\u001b[0;34m\u001b[0m\u001b[0m\n\u001b[0;32m--> 142\u001b[0;31m                 \u001b[0;32mraise\u001b[0m \u001b[0mValueError\u001b[0m\u001b[0;34m(\u001b[0m\u001b[0;34m\"Please provide a target y for this encoding method\"\u001b[0m\u001b[0;34m)\u001b[0m\u001b[0;34m\u001b[0m\u001b[0;34m\u001b[0m\u001b[0m\n\u001b[0m\u001b[1;32m    143\u001b[0m \u001b[0;34m\u001b[0m\u001b[0m\n\u001b[1;32m    144\u001b[0m             \u001b[0;32mif\u001b[0m \u001b[0;32mnot\u001b[0m \u001b[0misinstance\u001b[0m\u001b[0;34m(\u001b[0m\u001b[0my\u001b[0m\u001b[0;34m,\u001b[0m \u001b[0mpd\u001b[0m\u001b[0;34m.\u001b[0m\u001b[0mSeries\u001b[0m\u001b[0;34m)\u001b[0m\u001b[0;34m:\u001b[0m\u001b[0;34m\u001b[0m\u001b[0;34m\u001b[0m\u001b[0m\n",
      "\u001b[0;31mValueError\u001b[0m: Please provide a target y for this encoding method"
     ]
    }
   ],
   "source": [
    "oe.fit_transform(pd.DataFrame(df_modelo.set_name))"
   ]
  },
  {
   "cell_type": "code",
   "execution_count": 28,
   "id": "77dcb93d",
   "metadata": {},
   "outputs": [],
   "source": [
    "from sklearn import preprocessing"
   ]
  },
  {
   "cell_type": "code",
   "execution_count": 31,
   "id": "0f346c4d",
   "metadata": {},
   "outputs": [],
   "source": [
    "cate=df_modelo.set_name.unique()"
   ]
  },
  {
   "cell_type": "code",
   "execution_count": 33,
   "id": "bd8f17bc",
   "metadata": {},
   "outputs": [],
   "source": [
    "oe=preprocessing.OrdinalEncoder(categories = cate)"
   ]
  },
  {
   "cell_type": "code",
   "execution_count": 30,
   "id": "9269c1bb",
   "metadata": {
    "scrolled": true
   },
   "outputs": [
    {
     "data": {
      "text/html": [
       "<div>\n",
       "<style scoped>\n",
       "    .dataframe tbody tr th:only-of-type {\n",
       "        vertical-align: middle;\n",
       "    }\n",
       "\n",
       "    .dataframe tbody tr th {\n",
       "        vertical-align: top;\n",
       "    }\n",
       "\n",
       "    .dataframe thead th {\n",
       "        text-align: right;\n",
       "    }\n",
       "</style>\n",
       "<table border=\"1\" class=\"dataframe\">\n",
       "  <thead>\n",
       "    <tr style=\"text-align: right;\">\n",
       "      <th></th>\n",
       "      <th>n_track</th>\n",
       "      <th>set_name</th>\n",
       "      <th>d_energy</th>\n",
       "      <th>d_danceability</th>\n",
       "      <th>d_tempo</th>\n",
       "      <th>grupo_set</th>\n",
       "      <th>d_energy_grupo</th>\n",
       "      <th>d_danceability_grupo</th>\n",
       "      <th>d_tempo_grupo</th>\n",
       "    </tr>\n",
       "  </thead>\n",
       "  <tbody>\n",
       "    <tr>\n",
       "      <th>0</th>\n",
       "      <td>1</td>\n",
       "      <td>2012-02-08 - Bonobo @ Boiler Room 77 - Ninja T...</td>\n",
       "      <td>-0.167273</td>\n",
       "      <td>0.057273</td>\n",
       "      <td>0.020864</td>\n",
       "      <td>1</td>\n",
       "      <td>-0.153000</td>\n",
       "      <td>0.116500</td>\n",
       "      <td>0.021858</td>\n",
       "    </tr>\n",
       "    <tr>\n",
       "      <th>1</th>\n",
       "      <td>2</td>\n",
       "      <td>2012-02-08 - Bonobo @ Boiler Room 77 - Ninja T...</td>\n",
       "      <td>-0.037273</td>\n",
       "      <td>-0.153727</td>\n",
       "      <td>0.026329</td>\n",
       "      <td>1</td>\n",
       "      <td>-0.023000</td>\n",
       "      <td>-0.094500</td>\n",
       "      <td>0.027322</td>\n",
       "    </tr>\n",
       "    <tr>\n",
       "      <th>2</th>\n",
       "      <td>3</td>\n",
       "      <td>2012-02-08 - Bonobo @ Boiler Room 77 - Ninja T...</td>\n",
       "      <td>-0.046273</td>\n",
       "      <td>-0.093727</td>\n",
       "      <td>-0.039245</td>\n",
       "      <td>1</td>\n",
       "      <td>-0.032000</td>\n",
       "      <td>-0.034500</td>\n",
       "      <td>-0.038251</td>\n",
       "    </tr>\n",
       "    <tr>\n",
       "      <th>3</th>\n",
       "      <td>4</td>\n",
       "      <td>2012-02-08 - Bonobo @ Boiler Room 77 - Ninja T...</td>\n",
       "      <td>0.193727</td>\n",
       "      <td>-0.046727</td>\n",
       "      <td>-0.011923</td>\n",
       "      <td>1</td>\n",
       "      <td>0.208000</td>\n",
       "      <td>0.012500</td>\n",
       "      <td>-0.010929</td>\n",
       "    </tr>\n",
       "    <tr>\n",
       "      <th>4</th>\n",
       "      <td>5</td>\n",
       "      <td>2012-02-08 - Bonobo @ Boiler Room 77 - Ninja T...</td>\n",
       "      <td>0.045727</td>\n",
       "      <td>0.056273</td>\n",
       "      <td>-0.066567</td>\n",
       "      <td>2</td>\n",
       "      <td>0.099667</td>\n",
       "      <td>-0.002333</td>\n",
       "      <td>-0.025501</td>\n",
       "    </tr>\n",
       "  </tbody>\n",
       "</table>\n",
       "</div>"
      ],
      "text/plain": [
       "   n_track                                           set_name  d_energy  \\\n",
       "0        1  2012-02-08 - Bonobo @ Boiler Room 77 - Ninja T... -0.167273   \n",
       "1        2  2012-02-08 - Bonobo @ Boiler Room 77 - Ninja T... -0.037273   \n",
       "2        3  2012-02-08 - Bonobo @ Boiler Room 77 - Ninja T... -0.046273   \n",
       "3        4  2012-02-08 - Bonobo @ Boiler Room 77 - Ninja T...  0.193727   \n",
       "4        5  2012-02-08 - Bonobo @ Boiler Room 77 - Ninja T...  0.045727   \n",
       "\n",
       "   d_danceability   d_tempo  grupo_set  d_energy_grupo  d_danceability_grupo  \\\n",
       "0        0.057273  0.020864          1       -0.153000              0.116500   \n",
       "1       -0.153727  0.026329          1       -0.023000             -0.094500   \n",
       "2       -0.093727 -0.039245          1       -0.032000             -0.034500   \n",
       "3       -0.046727 -0.011923          1        0.208000              0.012500   \n",
       "4        0.056273 -0.066567          2        0.099667             -0.002333   \n",
       "\n",
       "   d_tempo_grupo  \n",
       "0       0.021858  \n",
       "1       0.027322  \n",
       "2      -0.038251  \n",
       "3      -0.010929  \n",
       "4      -0.025501  "
      ]
     },
     "execution_count": 30,
     "metadata": {},
     "output_type": "execute_result"
    }
   ],
   "source": [
    "df_modelo.head()"
   ]
  },
  {
   "cell_type": "code",
   "execution_count": 41,
   "id": "3f1f1032",
   "metadata": {},
   "outputs": [],
   "source": [
    "df_modelo_grupo = df_modelo.iloc[:,2:6]"
   ]
  },
  {
   "cell_type": "code",
   "execution_count": 44,
   "id": "1aca775e",
   "metadata": {},
   "outputs": [],
   "source": [
    "df_copy = df_modelo_grupo"
   ]
  },
  {
   "cell_type": "code",
   "execution_count": 45,
   "id": "a60a1a34",
   "metadata": {},
   "outputs": [
    {
     "data": {
      "text/html": [
       "<div>\n",
       "<style scoped>\n",
       "    .dataframe tbody tr th:only-of-type {\n",
       "        vertical-align: middle;\n",
       "    }\n",
       "\n",
       "    .dataframe tbody tr th {\n",
       "        vertical-align: top;\n",
       "    }\n",
       "\n",
       "    .dataframe thead th {\n",
       "        text-align: right;\n",
       "    }\n",
       "</style>\n",
       "<table border=\"1\" class=\"dataframe\">\n",
       "  <thead>\n",
       "    <tr style=\"text-align: right;\">\n",
       "      <th></th>\n",
       "      <th>d_energy</th>\n",
       "      <th>d_danceability</th>\n",
       "      <th>d_tempo</th>\n",
       "      <th>grupo_set</th>\n",
       "    </tr>\n",
       "  </thead>\n",
       "  <tbody>\n",
       "    <tr>\n",
       "      <th>0</th>\n",
       "      <td>-0.167273</td>\n",
       "      <td>0.057273</td>\n",
       "      <td>0.020864</td>\n",
       "      <td>1</td>\n",
       "    </tr>\n",
       "    <tr>\n",
       "      <th>1</th>\n",
       "      <td>-0.037273</td>\n",
       "      <td>-0.153727</td>\n",
       "      <td>0.026329</td>\n",
       "      <td>1</td>\n",
       "    </tr>\n",
       "    <tr>\n",
       "      <th>2</th>\n",
       "      <td>-0.046273</td>\n",
       "      <td>-0.093727</td>\n",
       "      <td>-0.039245</td>\n",
       "      <td>1</td>\n",
       "    </tr>\n",
       "    <tr>\n",
       "      <th>3</th>\n",
       "      <td>0.193727</td>\n",
       "      <td>-0.046727</td>\n",
       "      <td>-0.011923</td>\n",
       "      <td>1</td>\n",
       "    </tr>\n",
       "    <tr>\n",
       "      <th>4</th>\n",
       "      <td>0.045727</td>\n",
       "      <td>0.056273</td>\n",
       "      <td>-0.066567</td>\n",
       "      <td>2</td>\n",
       "    </tr>\n",
       "  </tbody>\n",
       "</table>\n",
       "</div>"
      ],
      "text/plain": [
       "   d_energy  d_danceability   d_tempo  grupo_set\n",
       "0 -0.167273        0.057273  0.020864          1\n",
       "1 -0.037273       -0.153727  0.026329          1\n",
       "2 -0.046273       -0.093727 -0.039245          1\n",
       "3  0.193727       -0.046727 -0.011923          1\n",
       "4  0.045727        0.056273 -0.066567          2"
      ]
     },
     "execution_count": 45,
     "metadata": {},
     "output_type": "execute_result"
    }
   ],
   "source": [
    "df_copy.head()"
   ]
  },
  {
   "cell_type": "code",
   "execution_count": 47,
   "id": "6e8d2293",
   "metadata": {},
   "outputs": [
    {
     "data": {
      "text/plain": [
       "3    249\n",
       "1    230\n",
       "2    182\n",
       "Name: grupo_set, dtype: int64"
      ]
     },
     "execution_count": 47,
     "metadata": {},
     "output_type": "execute_result"
    }
   ],
   "source": [
    "df_copy.grupo_set.value_counts()"
   ]
  },
  {
   "cell_type": "code",
   "execution_count": 46,
   "id": "02a8c2e2",
   "metadata": {},
   "outputs": [],
   "source": [
    "y = df_copy['grupo_set']\n",
    "X = df_copy.drop(columns='grupo_set', axis=1)\n",
    "X_train, X_test, y_train, y_test = train_test_split(X, y, test_size=0.2, random_state = 20)\n",
    "\n",
    "oversample = RandomOverSampler(random_state=0)\n",
    "X_train_over, y_train_over = oversample.fit_resample(X_train, y_train)"
   ]
  },
  {
   "cell_type": "code",
   "execution_count": 48,
   "id": "3ee178bf",
   "metadata": {},
   "outputs": [
    {
     "data": {
      "text/plain": [
       "RandomForestClassifier(max_depth=30, n_estimators=1000)"
      ]
     },
     "execution_count": 48,
     "metadata": {},
     "output_type": "execute_result"
    }
   ],
   "source": [
    "\n",
    "rf = RandomForestClassifier()\n",
    "\n",
    "params = {'max_depth' : [10, 20, 30], 'n_estimators':[100, 500, 1000]}\n",
    "\n",
    "gsrf = GridSearchCV(rf, params)\n",
    "\n",
    "gsrf.fit(X_train_over, y_train_over)\n",
    "\n",
    "gsrf.best_estimator_"
   ]
  },
  {
   "cell_type": "code",
   "execution_count": 49,
   "id": "1f1381ed",
   "metadata": {},
   "outputs": [],
   "source": [
    "rfbe = RandomForestClassifier(max_depth=30,random_state=1000)"
   ]
  },
  {
   "cell_type": "code",
   "execution_count": 50,
   "id": "1702b9cc",
   "metadata": {},
   "outputs": [],
   "source": [
    "rfbe.fit(X_train_over, y_train_over)\n",
    "predic = rfbe.predict(X_test)"
   ]
  },
  {
   "cell_type": "code",
   "execution_count": 52,
   "id": "45a3c485",
   "metadata": {
    "scrolled": false
   },
   "outputs": [],
   "source": [
    "from sklearn.metrics import plot_confusion_matrix"
   ]
  },
  {
   "cell_type": "code",
   "execution_count": 53,
   "id": "1231170d",
   "metadata": {
    "scrolled": true
   },
   "outputs": [
    {
     "name": "stderr",
     "output_type": "stream",
     "text": [
      "/opt/anaconda3/lib/python3.8/site-packages/sklearn/utils/deprecation.py:87: FutureWarning: Function plot_confusion_matrix is deprecated; Function `plot_confusion_matrix` is deprecated in 1.0 and will be removed in 1.2. Use one of the class methods: ConfusionMatrixDisplay.from_predictions or ConfusionMatrixDisplay.from_estimator.\n",
      "  warnings.warn(msg, category=FutureWarning)\n"
     ]
    },
    {
     "data": {
      "text/plain": [
       "<sklearn.metrics._plot.confusion_matrix.ConfusionMatrixDisplay at 0x7ffe3911d100>"
      ]
     },
     "execution_count": 53,
     "metadata": {},
     "output_type": "execute_result"
    },
    {
     "data": {
      "image/png": "[encoded data removed]",
      "text/plain": [
       "<Figure size 432x288 with 2 Axes>"
      ]
     },
     "metadata": {
      "needs_background": "light"
     },
     "output_type": "display_data"
    }
   ],
   "source": [
    "plot_confusion_matrix(rfbe, X_test, y_test)"
   ]
  },
  {
   "cell_type": "code",
   "execution_count": 60,
   "id": "cc85f80f",
   "metadata": {},
   "outputs": [],
   "source": [
    "df_5 = pd.read_csv(\"/Users/santiago/ih-bootcamp/proyectos/sherpa/out/df_modelo_medias_q50.csv\", index_col=0)"
   ]
  },
  {
   "cell_type": "code",
   "execution_count": 64,
   "id": "3db751fb",
   "metadata": {},
   "outputs": [],
   "source": [
    "df_5 = df_5[['n_track', 'set_name', 'd_energy', 'd_danceability', 'd_tempo', 'grupo_set', 'd_energy_grupo', 'd_danceability_grupo', 'd_tempo_grupo']]"
   ]
  },
  {
   "cell_type": "code",
   "execution_count": 67,
   "id": "df0e4bf5",
   "metadata": {},
   "outputs": [
    {
     "data": {
      "text/html": [
       "<div>\n",
       "<style scoped>\n",
       "    .dataframe tbody tr th:only-of-type {\n",
       "        vertical-align: middle;\n",
       "    }\n",
       "\n",
       "    .dataframe tbody tr th {\n",
       "        vertical-align: top;\n",
       "    }\n",
       "\n",
       "    .dataframe thead th {\n",
       "        text-align: right;\n",
       "    }\n",
       "</style>\n",
       "<table border=\"1\" class=\"dataframe\">\n",
       "  <thead>\n",
       "    <tr style=\"text-align: right;\">\n",
       "      <th></th>\n",
       "      <th>d_energy</th>\n",
       "      <th>d_danceability</th>\n",
       "      <th>d_tempo</th>\n",
       "      <th>grupo_set</th>\n",
       "    </tr>\n",
       "  </thead>\n",
       "  <tbody>\n",
       "    <tr>\n",
       "      <th>0</th>\n",
       "      <td>-0.167273</td>\n",
       "      <td>0.057273</td>\n",
       "      <td>0.020864</td>\n",
       "      <td>1</td>\n",
       "    </tr>\n",
       "    <tr>\n",
       "      <th>1</th>\n",
       "      <td>-0.037273</td>\n",
       "      <td>-0.153727</td>\n",
       "      <td>0.026329</td>\n",
       "      <td>1</td>\n",
       "    </tr>\n",
       "    <tr>\n",
       "      <th>2</th>\n",
       "      <td>-0.046273</td>\n",
       "      <td>-0.093727</td>\n",
       "      <td>-0.039245</td>\n",
       "      <td>1</td>\n",
       "    </tr>\n",
       "    <tr>\n",
       "      <th>3</th>\n",
       "      <td>0.193727</td>\n",
       "      <td>-0.046727</td>\n",
       "      <td>-0.011923</td>\n",
       "      <td>1</td>\n",
       "    </tr>\n",
       "    <tr>\n",
       "      <th>4</th>\n",
       "      <td>0.045727</td>\n",
       "      <td>0.056273</td>\n",
       "      <td>-0.066567</td>\n",
       "      <td>1</td>\n",
       "    </tr>\n",
       "    <tr>\n",
       "      <th>...</th>\n",
       "      <td>...</td>\n",
       "      <td>...</td>\n",
       "      <td>...</td>\n",
       "      <td>...</td>\n",
       "    </tr>\n",
       "    <tr>\n",
       "      <th>656</th>\n",
       "      <td>0.144000</td>\n",
       "      <td>-0.191222</td>\n",
       "      <td>0.182149</td>\n",
       "      <td>1</td>\n",
       "    </tr>\n",
       "    <tr>\n",
       "      <th>657</th>\n",
       "      <td>0.063000</td>\n",
       "      <td>-0.149222</td>\n",
       "      <td>0.001821</td>\n",
       "      <td>2</td>\n",
       "    </tr>\n",
       "    <tr>\n",
       "      <th>658</th>\n",
       "      <td>-0.149000</td>\n",
       "      <td>0.038778</td>\n",
       "      <td>0.034608</td>\n",
       "      <td>2</td>\n",
       "    </tr>\n",
       "    <tr>\n",
       "      <th>659</th>\n",
       "      <td>-0.092000</td>\n",
       "      <td>0.048778</td>\n",
       "      <td>0.001821</td>\n",
       "      <td>2</td>\n",
       "    </tr>\n",
       "    <tr>\n",
       "      <th>660</th>\n",
       "      <td>0.431000</td>\n",
       "      <td>0.544778</td>\n",
       "      <td>-0.255009</td>\n",
       "      <td>2</td>\n",
       "    </tr>\n",
       "  </tbody>\n",
       "</table>\n",
       "<p>661 rows × 4 columns</p>\n",
       "</div>"
      ],
      "text/plain": [
       "     d_energy  d_danceability   d_tempo  grupo_set\n",
       "0   -0.167273        0.057273  0.020864          1\n",
       "1   -0.037273       -0.153727  0.026329          1\n",
       "2   -0.046273       -0.093727 -0.039245          1\n",
       "3    0.193727       -0.046727 -0.011923          1\n",
       "4    0.045727        0.056273 -0.066567          1\n",
       "..        ...             ...       ...        ...\n",
       "656  0.144000       -0.191222  0.182149          1\n",
       "657  0.063000       -0.149222  0.001821          2\n",
       "658 -0.149000        0.038778  0.034608          2\n",
       "659 -0.092000        0.048778  0.001821          2\n",
       "660  0.431000        0.544778 -0.255009          2\n",
       "\n",
       "[661 rows x 4 columns]"
      ]
     },
     "execution_count": 67,
     "metadata": {},
     "output_type": "execute_result"
    }
   ],
   "source": [
    "df_5.iloc[:,2:6]"
   ]
  },
  {
   "cell_type": "code",
   "execution_count": 68,
   "id": "b34bfa29",
   "metadata": {},
   "outputs": [],
   "source": [
    "df_copy = df_5.iloc[:,2:6]\n",
    "df_copy.head()\n",
    "\n",
    "df_copy.grupo_set.value_counts()\n",
    "\n",
    "y = df_copy['grupo_set']\n",
    "X = df_copy.drop(columns='grupo_set', axis=1)\n",
    "X_train, X_test, y_train, y_test = train_test_split(X, y, test_size=0.2, random_state = 20)\n",
    "\n",
    "oversample = RandomOverSampler(random_state=0)\n",
    "X_train_over, y_train_over = oversample.fit_resample(X_train, y_train)"
   ]
  },
  {
   "cell_type": "code",
   "execution_count": 70,
   "id": "87baeeb8",
   "metadata": {},
   "outputs": [
    {
     "data": {
      "text/plain": [
       "RandomForestClassifier(max_depth=20)"
      ]
     },
     "execution_count": 70,
     "metadata": {},
     "output_type": "execute_result"
    }
   ],
   "source": [
    "rf = RandomForestClassifier()\n",
    "\n",
    "params = {'max_depth' : [10, 20, 30], 'n_estimators':[100, 500, 1000]}\n",
    "\n",
    "gsrf = GridSearchCV(rf, params)\n",
    "\n",
    "gsrf.fit(X_train_over, y_train_over)\n",
    "\n",
    "gsrf.best_estimator_"
   ]
  },
  {
   "cell_type": "code",
   "execution_count": 71,
   "id": "ef80d9cc",
   "metadata": {},
   "outputs": [
    {
     "name": "stderr",
     "output_type": "stream",
     "text": [
      "/opt/anaconda3/lib/python3.8/site-packages/sklearn/utils/deprecation.py:87: FutureWarning: Function plot_confusion_matrix is deprecated; Function `plot_confusion_matrix` is deprecated in 1.0 and will be removed in 1.2. Use one of the class methods: ConfusionMatrixDisplay.from_predictions or ConfusionMatrixDisplay.from_estimator.\n",
      "  warnings.warn(msg, category=FutureWarning)\n"
     ]
    },
    {
     "data": {
      "text/plain": [
       "<sklearn.metrics._plot.confusion_matrix.ConfusionMatrixDisplay at 0x7ffe3a6f1370>"
      ]
     },
     "execution_count": 71,
     "metadata": {},
     "output_type": "execute_result"
    },
    {
     "data": {
      "image/png": "[encoded data removed]",
      "text/plain": [
       "<Figure size 432x288 with 2 Axes>"
      ]
     },
     "metadata": {
      "needs_background": "light"
     },
     "output_type": "display_data"
    }
   ],
   "source": [
    "rfbe = RandomForestClassifier(max_depth=20)\n",
    "\n",
    "rfbe.fit(X_train_over, y_train_over)\n",
    "predic = rfbe.predict(X_test)\n",
    "\n",
    "from sklearn.metrics import plot_confusion_matrix\n",
    "\n",
    "plot_confusion_matrix(rfbe, X_test, y_test)"
   ]
  }
 ],
 "metadata": {
  "kernelspec": {
   "display_name": "Python 3",
   "language": "python",
   "name": "python3"
  },
  "language_info": {
   "codemirror_mode": {
    "name": "ipython",
    "version": 3
   },
   "file_extension": ".py",
   "mimetype": "text/x-python",
   "name": "python",
   "nbconvert_exporter": "python",
   "pygments_lexer": "ipython3",
   "version": "3.8.8"
  }
 },
 "nbformat": 4,
 "nbformat_minor": 5
}
