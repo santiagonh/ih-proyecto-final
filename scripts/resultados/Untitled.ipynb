{
 "cells": [
  {
   "cell_type": "markdown",
   "id": "0404dfa2",
   "metadata": {},
   "source": [
    "# Playlists a partir de clusters"
   ]
  },
  {
   "cell_type": "code",
   "execution_count": 1,
   "id": "f7e4fdba",
   "metadata": {},
   "outputs": [],
   "source": [
    "import pandas as pd\n",
    "import os\n",
    "import base64\n",
    "import requests"
   ]
  },
  {
   "cell_type": "code",
   "execution_count": 2,
   "id": "9c44654b",
   "metadata": {},
   "outputs": [],
   "source": [
    "df = pd.read_csv(\"/Users/santiago/ih-bootcamp/proyectos/sherpa/out/df_clusterizada.csv\")"
   ]
  },
  {
   "cell_type": "code",
   "execution_count": 94,
   "id": "2c165270",
   "metadata": {},
   "outputs": [
    {
     "data": {
      "text/plain": [
       "{'access_token': 'BQCOf2ZkvfjlSO-P74ccYpPPzMXnD1L3zGUDuUt_C1f7CLTgxexbtPCvTzYfuE1fJQexuzl4x4h10WM-Br8',\n",
       " 'token_type': 'Bearer',\n",
       " 'expires_in': 3600}"
      ]
     },
     "execution_count": 94,
     "metadata": {},
     "output_type": "execute_result"
    }
   ],
   "source": [
    "# autorización api spotify\n",
    "client_id = os.environ['spotify_client_id']\n",
    "client_secret = os.environ['spotify_client_secret']\n",
    "\n",
    "# función de autenticación de spotify\n",
    "\n",
    "def spoty_aut (client_id, client_secret):\n",
    "    url = 'https://accounts.spotify.com/api/token'\n",
    "    credenciales = client_id + ':' + client_secret\n",
    "    authorization = \"Basic \" + base64.b64encode(credenciales.encode()).decode()\n",
    "    grant_type= 'client_credentials'\n",
    "    scope=\"user-read-private\"\n",
    "    auth = requests.post(url, data={'grant_type':grant_type},\n",
    "              headers={'Authorization':authorization, 'Content-Type':'application/x-www-form-urlencoded'})\n",
    "    return auth.json()\n",
    "\n",
    "auth=spoty_aut(client_id, client_secret)\n",
    "\n",
    "auth"
   ]
  },
  {
   "cell_type": "code",
   "execution_count": 5,
   "id": "dc537016",
   "metadata": {},
   "outputs": [],
   "source": [
    "# haciendo playlists nuevas a partir de la clusterización"
   ]
  },
  {
   "cell_type": "code",
   "execution_count": 70,
   "id": "90314f91",
   "metadata": {},
   "outputs": [],
   "source": [
    "user_id=\"1285094997\"\n",
    "base = \"https://api.spotify.com/v1/\""
   ]
  },
  {
   "cell_type": "code",
   "execution_count": 90,
   "id": "9ba86951",
   "metadata": {},
   "outputs": [],
   "source": [
    "playlist = requests.post(base+f\"users/{user_id}/playlists\",\n",
    "                    headers = {'Authorization':f'''Bearer {auth['access_token']}''',\n",
    "                               'Content-Type': 'application/json'},\n",
    "                         data = {\"name\": \"New Playlist\"})\n",
    "    "
   ]
  },
  {
   "cell_type": "code",
   "execution_count": 95,
   "id": "c4b0a4d2",
   "metadata": {},
   "outputs": [],
   "source": [
    "user = requests.get(base+f\"me\",\n",
    "                    headers = {'Authorization':f'''Bearer {auth['access_token']}''',\n",
    "                               'Content-Type': 'application/json'})"
   ]
  },
  {
   "cell_type": "code",
   "execution_count": 108,
   "id": "7e75c849",
   "metadata": {},
   "outputs": [],
   "source": [
    "playlists_names = [\"playlist_\" + str(cluster) for cluster in df.cluster.unique()]"
   ]
  },
  {
   "cell_type": "code",
   "execution_count": 124,
   "id": "27bce402",
   "metadata": {
    "scrolled": true
   },
   "outputs": [],
   "source": [
    "tracks = [\"spotify:track:\"+ track for track in df.track_id[df.cluster==-1]]"
   ]
  },
  {
   "cell_type": "code",
   "execution_count": 109,
   "id": "5b369388",
   "metadata": {},
   "outputs": [],
   "source": [
    "# loop para crear playlists a partir de clusterización\n",
    "\n",
    "for cluster in df.cluster.unique():\n",
    "    nombre = \"playlist_\" + str(cluster)\n",
    "    tracks = [\"spotify:track:\"+ track for track in cluster]\n",
    "    \n",
    "    playlist = requests.post(base+f\"users/{user_id}/playlists\",\n",
    "                    headers = {'Authorization':f'''Bearer {auth['access_token']}''',\n",
    "                               'Content-Type': 'application/json'},\n",
    "                         data = {\"name\": nombre})\n",
    "    \n",
    "    add_tracks = requests.post(base+f\"playlists/{playlist_id}/tracks\",\n",
    "                    headers = {'Authorization':f'''Bearer {auth['access_token']}''',\n",
    "                               'Content-Type': 'application/json'},\n",
    "                         data = {\"uris\": tracks})\n",
    "    \n",
    "    \n",
    "    "
   ]
  },
  {
   "cell_type": "code",
   "execution_count": 130,
   "id": "dd39949d",
   "metadata": {},
   "outputs": [],
   "source": [
    "##código agregar nueva playlist\n",
    "#playlist = requests.post(base+f\"users/{user_id}/playlists\",\n",
    "#                    headers = {'Authorization':f'''Bearer {auth['access_token']}''',\n",
    "#                               'Content-Type': 'application/json'},\n",
    "#                         data = {\"name\": \"New Playlist\"})\n",
    "#\n",
    "## código agregar canciones a playlist\n",
    "#add_tracks = requests.post(base+f\"playlists/{playlist_id}/tracks\",\n",
    "#                    headers = {'Authorization':f'''Bearer {auth['access_token']}''',\n",
    "#                               'Content-Type': 'application/json'},\n",
    "#                         data = {\"uris\": ['spotify:track:6EnNR8NnMTznFVowHfWPk8',\n",
    "# 'spotify:track:7lZsH3cKcwOFWDIZe03Xo1',\n",
    "# 'spotify:track:0I6WVW9P5fjiR5tpGAVrJw']})\n",
    "#    \n",
    "#    "
   ]
  }
 ],
 "metadata": {
  "kernelspec": {
   "display_name": "Python 3",
   "language": "python",
   "name": "python3"
  },
  "language_info": {
   "codemirror_mode": {
    "name": "ipython",
    "version": 3
   },
   "file_extension": ".py",
   "mimetype": "text/x-python",
   "name": "python",
   "nbconvert_exporter": "python",
   "pygments_lexer": "ipython3",
   "version": "3.8.8"
  }
 },
 "nbformat": 4,
 "nbformat_minor": 5
}
