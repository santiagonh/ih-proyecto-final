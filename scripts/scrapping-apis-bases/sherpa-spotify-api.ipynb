{
 "cells": [
  {
   "cell_type": "markdown",
   "id": "1fcc6dc1",
   "metadata": {},
   "source": [
    "# Obteniendo datos de la API de Spotify"
   ]
  },
  {
   "cell_type": "code",
   "execution_count": 1,
   "id": "be257f65",
   "metadata": {},
   "outputs": [],
   "source": [
    "import base64\n",
    "import requests\n",
    "import pandas as pd\n",
    "import os\n",
    "import discogs_client\n",
    "import time"
   ]
  },
  {
   "cell_type": "markdown",
   "id": "2d2d67c1",
   "metadata": {},
   "source": [
    "## Autorización"
   ]
  },
  {
   "cell_type": "code",
   "execution_count": 2,
   "id": "71c36978",
   "metadata": {},
   "outputs": [],
   "source": [
    "client_id = os.environ['spotify_client_id']\n",
    "client_secret = os.environ['spotify_client_secret']"
   ]
  },
  {
   "cell_type": "code",
   "execution_count": 3,
   "id": "49d8f0ca",
   "metadata": {},
   "outputs": [],
   "source": [
    "# función de autenticación de spotify\n",
    "\n",
    "def spoty_aut (client_id, client_secret):\n",
    "    url = 'https://accounts.spotify.com/api/token'\n",
    "    credenciales = client_id + ':' + client_secret\n",
    "    authorization = \"Basic \" + base64.b64encode(credenciales.encode()).decode()\n",
    "    grant_type= 'client_credentials'\n",
    "    auth = requests.post(url, data={'grant_type':grant_type},\n",
    "              headers={'Authorization':authorization, 'Content-Type':'application/x-www-form-urlencoded'})\n",
    "    return auth.json()"
   ]
  },
  {
   "cell_type": "code",
   "execution_count": 4,
   "id": "6d32bef0",
   "metadata": {},
   "outputs": [],
   "source": [
    "auth=spoty_aut(client_id, client_secret)"
   ]
  },
  {
   "cell_type": "code",
   "execution_count": 5,
   "id": "8bf8b34a",
   "metadata": {},
   "outputs": [
    {
     "data": {
      "text/plain": [
       "{'access_token': 'BQAAO3pzZwKqlwsjuzQEK3UAOj7k1a50HdSThtBPT6weFHtpwZezra9q5JIdaUC94RpiCkaTEMBdQYXPfLc',\n",
       " 'token_type': 'Bearer',\n",
       " 'expires_in': 3600}"
      ]
     },
     "execution_count": 5,
     "metadata": {},
     "output_type": "execute_result"
    }
   ],
   "source": [
    "auth"
   ]
  },
  {
   "cell_type": "code",
   "execution_count": 6,
   "id": "ea9c5691",
   "metadata": {},
   "outputs": [],
   "source": [
    "# autorización de la API de discogs\n",
    "d = discogs_client.Client('ExampleApplication/0.1', user_token=\"TetTWkQitrxfTKxUfBUaGidepABvNfmADZwDYRfm\")"
   ]
  },
  {
   "cell_type": "markdown",
   "id": "3aabb115",
   "metadata": {},
   "source": [
    "## Obteniendo playlist"
   ]
  },
  {
   "cell_type": "code",
   "execution_count": 7,
   "id": "86b57986",
   "metadata": {},
   "outputs": [],
   "source": [
    "playlist_id=\"5xzPwmpI3aCPfNk4YnuQyG\""
   ]
  },
  {
   "cell_type": "code",
   "execution_count": 8,
   "id": "97d66e53",
   "metadata": {},
   "outputs": [],
   "source": [
    "#offset\n",
    "base = \"https://api.spotify.com/v1/\"\n",
    "playlist = requests.get(base+f\"playlists/{playlist_id}/tracks?offset=0\",\n",
    "                    headers = {'Authorization':f'''Bearer {auth['access_token']}''', 'Content-Type': 'application/json'})\n",
    "    "
   ]
  },
  {
   "cell_type": "code",
   "execution_count": 198,
   "id": "64e874bc",
   "metadata": {},
   "outputs": [
    {
     "data": {
      "text/plain": [
       "True"
      ]
     },
     "execution_count": 198,
     "metadata": {},
     "output_type": "execute_result"
    }
   ],
   "source": [
    "#playlist.json()['next']==None"
   ]
  },
  {
   "cell_type": "code",
   "execution_count": 23,
   "id": "72783394",
   "metadata": {},
   "outputs": [],
   "source": [
    "#función que crea df con variables necesarias para sherpa a partir de playlist_id\n",
    "\n",
    "def df_sherpa(playlist_id):\n",
    "    base = \"https://api.spotify.com/v1/\"\n",
    "    playlist = requests.get(base+f\"playlists/{playlist_id}/tracks?offset=200\",\n",
    "                      headers = {'Authorization':f'''Bearer {auth['access_token']}''', 'Content-Type': 'application/json'})\n",
    "    \n",
    "    n_canciones=len(playlist.json()['items'])\n",
    "    \n",
    "    lista_df_tracks=[]\n",
    "    \n",
    "    for i in range(0,n_canciones):\n",
    "        \n",
    "        #obteniendo autor, nombre de canción y sus IDs de las canciones en la playlist\n",
    "        artist_track=playlist.json()['items'][i]\n",
    "        \n",
    "        artist_id= artist_track['track']['artists'][0]['id']\n",
    "        artist = artist_track['track']['artists'][0]['name']\n",
    "        track = artist_track['track']['name']\n",
    "        track_id = artist_track['track']['id']\n",
    "        album = artist_track['track']['album']['name']\n",
    "        duration=artist_track['track']['duration_ms']/60_000\n",
    "        \n",
    "        #obteniendo características de canciones de playlist\n",
    "        audio_features = requests.get(base+f\"audio-features/{track_id}\",\n",
    "                          headers = {'Authorization':f'''Bearer {auth['access_token']}''', 'Content-Type': 'application/json'})\n",
    "        tempo = audio_features.json()['tempo']\n",
    "        energy = audio_features.json()['energy']\n",
    "        danceability = audio_features.json()['danceability']\n",
    "        valence = audio_features.json()['valence']\n",
    "        key = audio_features.json()['key']\n",
    "        time_signature = audio_features.json()['time_signature']\n",
    "        acousticness = audio_features.json()['acousticness']\n",
    "        instrumentalness = audio_features.json()['instrumentalness']\n",
    "        mode = audio_features.json()['mode']\n",
    "    \n",
    "        lista_track = [track_id, artist, track, album, duration, tempo, energy, danceability, \n",
    "                 valence, key, time_signature, acousticness, instrumentalness, mode]\n",
    "        lista_df_tracks.append(lista_track)\n",
    "    \n",
    "    df_sherpa=pd.DataFrame(lista_df_tracks, columns=[\"track_id\", \"artist\", \"track\", \"album\", \"duration\",  \"tempo\", \"energy\", \"danceability\", \n",
    "             \"valence\", \"key\", \"time_signature\", \"acousticness\", \"instrumentalness\", \"mode\"])\n",
    "    return df_sherpa\n",
    "    \n",
    "    "
   ]
  },
  {
   "cell_type": "code",
   "execution_count": 24,
   "id": "f54b694a",
   "metadata": {
    "scrolled": true
   },
   "outputs": [],
   "source": [
    "#Aplicando la función para obtener variables de estudio de canciones de una playlist\n",
    "df_test=df_sherpa(playlist_id)"
   ]
  },
  {
   "cell_type": "code",
   "execution_count": 15,
   "id": "47ba08b1",
   "metadata": {},
   "outputs": [],
   "source": [
    "#df_test_full=df_test"
   ]
  },
  {
   "cell_type": "code",
   "execution_count": 25,
   "id": "b491a632",
   "metadata": {},
   "outputs": [],
   "source": [
    "df_test_full = pd.concat([df_test_full, df_test])"
   ]
  },
  {
   "cell_type": "code",
   "execution_count": 37,
   "id": "2ec68bfe",
   "metadata": {},
   "outputs": [],
   "source": [
    "df_test_full.to_csv(\"/Users/santiago/ih-bootcamp/proyectos/sherpa/out/ambient_set.csv\")"
   ]
  },
  {
   "cell_type": "code",
   "execution_count": 38,
   "id": "4c736b6a",
   "metadata": {},
   "outputs": [],
   "source": [
    "df_test = pd.read_csv(\"/Users/santiago/ih-bootcamp/proyectos/sherpa/out/ambient_set.csv\")"
   ]
  },
  {
   "cell_type": "markdown",
   "id": "62efc9fa",
   "metadata": {},
   "source": [
    "## Discogs database"
   ]
  },
  {
   "cell_type": "code",
   "execution_count": 39,
   "id": "241acd22",
   "metadata": {},
   "outputs": [],
   "source": [
    "\n",
    "styles=[]\n",
    "\n",
    "for track_id in df_test['track_id']:\n",
    "    base = \"https://api.spotify.com/v1/\"\n",
    "    song = requests.get(base+f\"tracks/{track_id}\",\n",
    "                      headers = {'Authorization':f'''Bearer {auth['access_token']}''', 'Content-Type': 'application/json'})\n",
    "    \n",
    "    album=song.json()['album']['name']\n",
    "    \n",
    "     \n",
    "    results = d.search(f'{album}')\n",
    "    if len(results)==0:\n",
    "        styles.append(['Not data', album])\n",
    "    else:    \n",
    "        if str(results[0]).startswith('<Label') :\n",
    "            if str(results[1]).startswith('<Release') :\n",
    "                release=results[1].id\n",
    "                styles.append([d.release(release).styles, album])\n",
    "            elif str(results[1]).startswith('<Master'):\n",
    "                release=results[1].id\n",
    "                styles.append([d.master(release).styles, album])\n",
    "        else:\n",
    "            if str(results[0]).startswith('<Release') :\n",
    "                release=results[0].id\n",
    "                styles.append([d.release(release).styles, album])\n",
    "            elif str(results[0]).startswith('<Master'):\n",
    "                release=results[0].id\n",
    "                styles.append([d.master(release).styles, album])    "
   ]
  },
  {
   "cell_type": "code",
   "execution_count": 40,
   "id": "447bcea6",
   "metadata": {},
   "outputs": [],
   "source": [
    "styles=pd.DataFrame(styles, columns=['styles', 'album'])"
   ]
  },
  {
   "cell_type": "code",
   "execution_count": 41,
   "id": "dec6b0f7",
   "metadata": {
    "scrolled": false
   },
   "outputs": [],
   "source": [
    "df_test=pd.merge(df_test, styles, on='album', how='left')"
   ]
  },
  {
   "cell_type": "code",
   "execution_count": 42,
   "id": "aa3eb4ef",
   "metadata": {},
   "outputs": [],
   "source": [
    "dic={0:\"C\", 1:\"C#\", 2:\"D\", 3:\"D#\", 4:\"E\", 5:\"F\", 6:\"F#\", 7:\"G\", 8:\"G#\", 9:\"A\", 10:\"A#\", 11:\"B\"}\n",
    "df_test=df_test.replace({\"key\":dic})"
   ]
  },
  {
   "cell_type": "code",
   "execution_count": 43,
   "id": "f35183d2",
   "metadata": {},
   "outputs": [],
   "source": [
    "df_test=df_test.loc[df_test.astype(str).drop_duplicates().index].reset_index()"
   ]
  },
  {
   "cell_type": "code",
   "execution_count": 44,
   "id": "8cd74120",
   "metadata": {},
   "outputs": [],
   "source": [
    "df_test.to_csv(\"/Users/santiago/ih-bootcamp/proyectos/sherpa/out/ambient_set.csv\")"
   ]
  }
 ],
 "metadata": {
  "kernelspec": {
   "display_name": "Python 3",
   "language": "python",
   "name": "python3"
  },
  "language_info": {
   "codemirror_mode": {
    "name": "ipython",
    "version": 3
   },
   "file_extension": ".py",
   "mimetype": "text/x-python",
   "name": "python",
   "nbconvert_exporter": "python",
   "pygments_lexer": "ipython3",
   "version": "3.8.8"
  }
 },
 "nbformat": 4,
 "nbformat_minor": 5
}
