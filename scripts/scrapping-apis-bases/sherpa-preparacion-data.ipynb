{
 "cells": [
  {
   "cell_type": "markdown",
   "id": "3c8a97db",
   "metadata": {},
   "source": [
    "# Método Z Sánchez"
   ]
  },
  {
   "cell_type": "code",
   "execution_count": 267,
   "id": "7513f9ff",
   "metadata": {},
   "outputs": [],
   "source": [
    "import pandas as pd\n",
    "import numpy as np"
   ]
  },
  {
   "cell_type": "code",
   "execution_count": 268,
   "id": "60fbe49e",
   "metadata": {},
   "outputs": [],
   "source": [
    "df_b = pd.read_csv(\"/Users/santiago/ih-bootcamp/proyectos/sherpa/out/spoty/bonobo_spoty.csv\", index_col=0)\n",
    "df_o = pd.read_csv(\"/Users/santiago/ih-bootcamp/proyectos/sherpa/out/spoty/objekt_spoty.csv\", index_col=0)\n",
    "df_d = pd.read_csv(\"/Users/santiago/ih-bootcamp/proyectos/sherpa/out/spoty/djrum_spoty.csv\", index_col=0)\n",
    "df_m = pd.read_csv(\"/Users/santiago/ih-bootcamp/proyectos/sherpa/out/spoty/skee_mask_spoty.csv\", index_col=0)"
   ]
  },
  {
   "cell_type": "code",
   "execution_count": 269,
   "id": "e20e87ad",
   "metadata": {},
   "outputs": [],
   "source": [
    "df_b['dj'] = 'bonobo'\n",
    "df_o['dj'] = 'objekt'\n",
    "df_d['dj'] = 'djrum'\n",
    "df_m['dj'] = 'skee mask'"
   ]
  },
  {
   "cell_type": "code",
   "execution_count": 270,
   "id": "8e0829b7",
   "metadata": {},
   "outputs": [],
   "source": [
    "df=pd.concat([df_b, df_o, df_d, df_m])"
   ]
  },
  {
   "cell_type": "code",
   "execution_count": 271,
   "id": "080e747a",
   "metadata": {
    "scrolled": true
   },
   "outputs": [
    {
     "data": {
      "text/plain": [
       "900"
      ]
     },
     "execution_count": 271,
     "metadata": {},
     "output_type": "execute_result"
    }
   ],
   "source": [
    "len(df)"
   ]
  },
  {
   "cell_type": "code",
   "execution_count": 272,
   "id": "66724ca4",
   "metadata": {},
   "outputs": [],
   "source": [
    "df=df.drop_duplicates()"
   ]
  },
  {
   "cell_type": "code",
   "execution_count": 273,
   "id": "8e7a19ff",
   "metadata": {},
   "outputs": [],
   "source": [
    "df.drop(['na'], axis=1, inplace=True)"
   ]
  },
  {
   "cell_type": "code",
   "execution_count": 274,
   "id": "4a9d2339",
   "metadata": {},
   "outputs": [],
   "source": [
    "df=df.reset_index().dropna()\n",
    "df.drop(['index'], axis=1, inplace=True)"
   ]
  },
  {
   "cell_type": "code",
   "execution_count": 275,
   "id": "7770ee18",
   "metadata": {
    "scrolled": true
   },
   "outputs": [
    {
     "data": {
      "text/html": [
       "<div>\n",
       "<style scoped>\n",
       "    .dataframe tbody tr th:only-of-type {\n",
       "        vertical-align: middle;\n",
       "    }\n",
       "\n",
       "    .dataframe tbody tr th {\n",
       "        vertical-align: top;\n",
       "    }\n",
       "\n",
       "    .dataframe thead th {\n",
       "        text-align: right;\n",
       "    }\n",
       "</style>\n",
       "<table border=\"1\" class=\"dataframe\">\n",
       "  <thead>\n",
       "    <tr style=\"text-align: right;\">\n",
       "      <th></th>\n",
       "      <th>n_track</th>\n",
       "      <th>set_section</th>\n",
       "      <th>artist</th>\n",
       "      <th>track</th>\n",
       "      <th>set_name</th>\n",
       "      <th>song_id</th>\n",
       "      <th>album</th>\n",
       "      <th>duration</th>\n",
       "      <th>tempo</th>\n",
       "      <th>energy</th>\n",
       "      <th>danceability</th>\n",
       "      <th>valence</th>\n",
       "      <th>key</th>\n",
       "      <th>time_signature</th>\n",
       "      <th>acousticness</th>\n",
       "      <th>instruentalness</th>\n",
       "      <th>mode</th>\n",
       "      <th>dj</th>\n",
       "    </tr>\n",
       "  </thead>\n",
       "  <tbody>\n",
       "    <tr>\n",
       "      <th>0</th>\n",
       "      <td>1</td>\n",
       "      <td>1</td>\n",
       "      <td>Bonobo</td>\n",
       "      <td>Cirrus</td>\n",
       "      <td>2012-02-08 - Bonobo @ Boiler Room 77 - Ninja T...</td>\n",
       "      <td>2lJ4d8MCT6ZlDRHKJ1br14</td>\n",
       "      <td>The North Borders</td>\n",
       "      <td>5.870767</td>\n",
       "      <td>119.042</td>\n",
       "      <td>0.844</td>\n",
       "      <td>0.640</td>\n",
       "      <td>0.3640</td>\n",
       "      <td>2.0</td>\n",
       "      <td>4.0</td>\n",
       "      <td>0.39500</td>\n",
       "      <td>0.933</td>\n",
       "      <td>0.0</td>\n",
       "      <td>bonobo</td>\n",
       "    </tr>\n",
       "    <tr>\n",
       "      <th>1</th>\n",
       "      <td>2</td>\n",
       "      <td>1</td>\n",
       "      <td>Eliphino</td>\n",
       "      <td>More Than Me</td>\n",
       "      <td>2012-02-08 - Bonobo @ Boiler Room 77 - Ninja T...</td>\n",
       "      <td>20ieXcjQBv4ePXkWxhvKPV</td>\n",
       "      <td>More Than Me</td>\n",
       "      <td>7.019933</td>\n",
       "      <td>117.994</td>\n",
       "      <td>0.714</td>\n",
       "      <td>0.851</td>\n",
       "      <td>0.4140</td>\n",
       "      <td>9.0</td>\n",
       "      <td>4.0</td>\n",
       "      <td>0.00383</td>\n",
       "      <td>0.380</td>\n",
       "      <td>0.0</td>\n",
       "      <td>bonobo</td>\n",
       "    </tr>\n",
       "    <tr>\n",
       "      <th>2</th>\n",
       "      <td>3</td>\n",
       "      <td>1</td>\n",
       "      <td>FaltyDL</td>\n",
       "      <td>Straight And Arrow</td>\n",
       "      <td>2012-02-08 - Bonobo @ Boiler Room 77 - Ninja T...</td>\n",
       "      <td>7G2ws9VEzcZk51nnp4xuYu</td>\n",
       "      <td>Straight &amp; Arrow</td>\n",
       "      <td>3.464333</td>\n",
       "      <td>130.038</td>\n",
       "      <td>0.723</td>\n",
       "      <td>0.791</td>\n",
       "      <td>0.1320</td>\n",
       "      <td>8.0</td>\n",
       "      <td>4.0</td>\n",
       "      <td>0.00106</td>\n",
       "      <td>0.767</td>\n",
       "      <td>1.0</td>\n",
       "      <td>bonobo</td>\n",
       "    </tr>\n",
       "    <tr>\n",
       "      <th>3</th>\n",
       "      <td>4</td>\n",
       "      <td>1</td>\n",
       "      <td>Rocketnumbernine</td>\n",
       "      <td>Matthew And Toby (Four Tet Remix)</td>\n",
       "      <td>2012-02-08 - Bonobo @ Boiler Room 77 - Ninja T...</td>\n",
       "      <td>6KuF6uqMIvaafrF1LCWcEg</td>\n",
       "      <td>Dubfire - A Transmission</td>\n",
       "      <td>9.784000</td>\n",
       "      <td>125.007</td>\n",
       "      <td>0.483</td>\n",
       "      <td>0.744</td>\n",
       "      <td>0.2810</td>\n",
       "      <td>7.0</td>\n",
       "      <td>4.0</td>\n",
       "      <td>0.57200</td>\n",
       "      <td>0.940</td>\n",
       "      <td>1.0</td>\n",
       "      <td>bonobo</td>\n",
       "    </tr>\n",
       "    <tr>\n",
       "      <th>4</th>\n",
       "      <td>5</td>\n",
       "      <td>1</td>\n",
       "      <td>Bonobo</td>\n",
       "      <td>Sapphire</td>\n",
       "      <td>2012-02-08 - Bonobo @ Boiler Room 77 - Ninja T...</td>\n",
       "      <td>1d5hX0RYHcDM4aHJHSm5cr</td>\n",
       "      <td>The North Borders</td>\n",
       "      <td>4.795467</td>\n",
       "      <td>135.024</td>\n",
       "      <td>0.631</td>\n",
       "      <td>0.641</td>\n",
       "      <td>0.0549</td>\n",
       "      <td>0.0</td>\n",
       "      <td>4.0</td>\n",
       "      <td>0.04800</td>\n",
       "      <td>0.612</td>\n",
       "      <td>0.0</td>\n",
       "      <td>bonobo</td>\n",
       "    </tr>\n",
       "  </tbody>\n",
       "</table>\n",
       "</div>"
      ],
      "text/plain": [
       "   n_track  set_section            artist                              track  \\\n",
       "0        1            1            Bonobo                             Cirrus   \n",
       "1        2            1          Eliphino                       More Than Me   \n",
       "2        3            1           FaltyDL                 Straight And Arrow   \n",
       "3        4            1  Rocketnumbernine  Matthew And Toby (Four Tet Remix)   \n",
       "4        5            1            Bonobo                           Sapphire   \n",
       "\n",
       "                                            set_name                 song_id  \\\n",
       "0  2012-02-08 - Bonobo @ Boiler Room 77 - Ninja T...  2lJ4d8MCT6ZlDRHKJ1br14   \n",
       "1  2012-02-08 - Bonobo @ Boiler Room 77 - Ninja T...  20ieXcjQBv4ePXkWxhvKPV   \n",
       "2  2012-02-08 - Bonobo @ Boiler Room 77 - Ninja T...  7G2ws9VEzcZk51nnp4xuYu   \n",
       "3  2012-02-08 - Bonobo @ Boiler Room 77 - Ninja T...  6KuF6uqMIvaafrF1LCWcEg   \n",
       "4  2012-02-08 - Bonobo @ Boiler Room 77 - Ninja T...  1d5hX0RYHcDM4aHJHSm5cr   \n",
       "\n",
       "                      album  duration    tempo  energy  danceability  valence  \\\n",
       "0         The North Borders  5.870767  119.042   0.844         0.640   0.3640   \n",
       "1              More Than Me  7.019933  117.994   0.714         0.851   0.4140   \n",
       "2          Straight & Arrow  3.464333  130.038   0.723         0.791   0.1320   \n",
       "3  Dubfire - A Transmission  9.784000  125.007   0.483         0.744   0.2810   \n",
       "4         The North Borders  4.795467  135.024   0.631         0.641   0.0549   \n",
       "\n",
       "   key  time_signature  acousticness  instruentalness  mode      dj  \n",
       "0  2.0             4.0       0.39500            0.933   0.0  bonobo  \n",
       "1  9.0             4.0       0.00383            0.380   0.0  bonobo  \n",
       "2  8.0             4.0       0.00106            0.767   1.0  bonobo  \n",
       "3  7.0             4.0       0.57200            0.940   1.0  bonobo  \n",
       "4  0.0             4.0       0.04800            0.612   0.0  bonobo  "
      ]
     },
     "execution_count": 275,
     "metadata": {},
     "output_type": "execute_result"
    }
   ],
   "source": [
    "df.head()"
   ]
  },
  {
   "cell_type": "code",
   "execution_count": 276,
   "id": "8dc36071",
   "metadata": {},
   "outputs": [],
   "source": [
    "df.tempo=df.tempo.round(decimals=0)"
   ]
  },
  {
   "cell_type": "code",
   "execution_count": 277,
   "id": "e6ccb9d5",
   "metadata": {
    "scrolled": true
   },
   "outputs": [],
   "source": [
    "df.tempo=[(valor - df.tempo.min()) / (df.tempo.max() - df.tempo.min()) for valor in df.tempo]"
   ]
  },
  {
   "cell_type": "code",
   "execution_count": 278,
   "id": "f29d45a0",
   "metadata": {},
   "outputs": [],
   "source": [
    "medias_set=df.groupby('set_name').mean()[['energy', 'danceability', 'tempo']].reset_index()\n",
    "medias_set.columns=['set_name','m_energy', 'm_danceability', 'm_tempo']"
   ]
  },
  {
   "cell_type": "code",
   "execution_count": 279,
   "id": "e8f61381",
   "metadata": {},
   "outputs": [],
   "source": [
    "df_modelo=df.merge(medias_set, on='set_name')"
   ]
  },
  {
   "cell_type": "code",
   "execution_count": 280,
   "id": "4d9615f7",
   "metadata": {
    "scrolled": true
   },
   "outputs": [
    {
     "data": {
      "text/plain": [
       "Index(['n_track', 'set_section', 'artist', 'track', 'set_name', 'song_id',\n",
       "       'album', 'duration', 'tempo', 'energy', 'danceability', 'valence',\n",
       "       'key', 'time_signature', 'acousticness', 'instruentalness', 'mode',\n",
       "       'dj', 'm_energy', 'm_danceability', 'm_tempo'],\n",
       "      dtype='object')"
      ]
     },
     "execution_count": 280,
     "metadata": {},
     "output_type": "execute_result"
    }
   ],
   "source": [
    "df_modelo.columns"
   ]
  },
  {
   "cell_type": "code",
   "execution_count": 281,
   "id": "c662e75d",
   "metadata": {},
   "outputs": [],
   "source": [
    "df_modelo.drop(['set_section', 'artist', 'track', 'album', 'duration', \n",
    "                'valence', 'key', 'time_signature', 'acousticness', 'instruentalness', 'mode'], axis=1, inplace=True)"
   ]
  },
  {
   "cell_type": "code",
   "execution_count": 282,
   "id": "4bc3ab41",
   "metadata": {
    "scrolled": true
   },
   "outputs": [
    {
     "data": {
      "text/html": [
       "<div>\n",
       "<style scoped>\n",
       "    .dataframe tbody tr th:only-of-type {\n",
       "        vertical-align: middle;\n",
       "    }\n",
       "\n",
       "    .dataframe tbody tr th {\n",
       "        vertical-align: top;\n",
       "    }\n",
       "\n",
       "    .dataframe thead th {\n",
       "        text-align: right;\n",
       "    }\n",
       "</style>\n",
       "<table border=\"1\" class=\"dataframe\">\n",
       "  <thead>\n",
       "    <tr style=\"text-align: right;\">\n",
       "      <th></th>\n",
       "      <th>n_track</th>\n",
       "      <th>set_name</th>\n",
       "      <th>song_id</th>\n",
       "      <th>tempo</th>\n",
       "      <th>energy</th>\n",
       "      <th>danceability</th>\n",
       "      <th>dj</th>\n",
       "      <th>m_energy</th>\n",
       "      <th>m_danceability</th>\n",
       "      <th>m_tempo</th>\n",
       "    </tr>\n",
       "  </thead>\n",
       "  <tbody>\n",
       "    <tr>\n",
       "      <th>0</th>\n",
       "      <td>1</td>\n",
       "      <td>2012-02-08 - Bonobo @ Boiler Room 77 - Ninja T...</td>\n",
       "      <td>2lJ4d8MCT6ZlDRHKJ1br14</td>\n",
       "      <td>0.459016</td>\n",
       "      <td>0.844</td>\n",
       "      <td>0.640</td>\n",
       "      <td>bonobo</td>\n",
       "      <td>0.676727</td>\n",
       "      <td>0.697273</td>\n",
       "      <td>0.479881</td>\n",
       "    </tr>\n",
       "    <tr>\n",
       "      <th>1</th>\n",
       "      <td>2</td>\n",
       "      <td>2012-02-08 - Bonobo @ Boiler Room 77 - Ninja T...</td>\n",
       "      <td>20ieXcjQBv4ePXkWxhvKPV</td>\n",
       "      <td>0.453552</td>\n",
       "      <td>0.714</td>\n",
       "      <td>0.851</td>\n",
       "      <td>bonobo</td>\n",
       "      <td>0.676727</td>\n",
       "      <td>0.697273</td>\n",
       "      <td>0.479881</td>\n",
       "    </tr>\n",
       "    <tr>\n",
       "      <th>2</th>\n",
       "      <td>3</td>\n",
       "      <td>2012-02-08 - Bonobo @ Boiler Room 77 - Ninja T...</td>\n",
       "      <td>7G2ws9VEzcZk51nnp4xuYu</td>\n",
       "      <td>0.519126</td>\n",
       "      <td>0.723</td>\n",
       "      <td>0.791</td>\n",
       "      <td>bonobo</td>\n",
       "      <td>0.676727</td>\n",
       "      <td>0.697273</td>\n",
       "      <td>0.479881</td>\n",
       "    </tr>\n",
       "    <tr>\n",
       "      <th>3</th>\n",
       "      <td>4</td>\n",
       "      <td>2012-02-08 - Bonobo @ Boiler Room 77 - Ninja T...</td>\n",
       "      <td>6KuF6uqMIvaafrF1LCWcEg</td>\n",
       "      <td>0.491803</td>\n",
       "      <td>0.483</td>\n",
       "      <td>0.744</td>\n",
       "      <td>bonobo</td>\n",
       "      <td>0.676727</td>\n",
       "      <td>0.697273</td>\n",
       "      <td>0.479881</td>\n",
       "    </tr>\n",
       "    <tr>\n",
       "      <th>4</th>\n",
       "      <td>5</td>\n",
       "      <td>2012-02-08 - Bonobo @ Boiler Room 77 - Ninja T...</td>\n",
       "      <td>1d5hX0RYHcDM4aHJHSm5cr</td>\n",
       "      <td>0.546448</td>\n",
       "      <td>0.631</td>\n",
       "      <td>0.641</td>\n",
       "      <td>bonobo</td>\n",
       "      <td>0.676727</td>\n",
       "      <td>0.697273</td>\n",
       "      <td>0.479881</td>\n",
       "    </tr>\n",
       "    <tr>\n",
       "      <th>...</th>\n",
       "      <td>...</td>\n",
       "      <td>...</td>\n",
       "      <td>...</td>\n",
       "      <td>...</td>\n",
       "      <td>...</td>\n",
       "      <td>...</td>\n",
       "      <td>...</td>\n",
       "      <td>...</td>\n",
       "      <td>...</td>\n",
       "      <td>...</td>\n",
       "    </tr>\n",
       "    <tr>\n",
       "      <th>656</th>\n",
       "      <td>11</td>\n",
       "      <td>2020-09-30 - Skee Mask - Tsugi Podcast 602</td>\n",
       "      <td>0RPvcGxPrIm6jba1z9HWc9</td>\n",
       "      <td>0.382514</td>\n",
       "      <td>0.702</td>\n",
       "      <td>0.842</td>\n",
       "      <td>skee mask</td>\n",
       "      <td>0.846000</td>\n",
       "      <td>0.650778</td>\n",
       "      <td>0.564663</td>\n",
       "    </tr>\n",
       "    <tr>\n",
       "      <th>657</th>\n",
       "      <td>12</td>\n",
       "      <td>2020-09-30 - Skee Mask - Tsugi Podcast 602</td>\n",
       "      <td>7IRbMtmzqH5pHhsZ6Qpx19</td>\n",
       "      <td>0.562842</td>\n",
       "      <td>0.783</td>\n",
       "      <td>0.800</td>\n",
       "      <td>skee mask</td>\n",
       "      <td>0.846000</td>\n",
       "      <td>0.650778</td>\n",
       "      <td>0.564663</td>\n",
       "    </tr>\n",
       "    <tr>\n",
       "      <th>658</th>\n",
       "      <td>16</td>\n",
       "      <td>2020-09-30 - Skee Mask - Tsugi Podcast 602</td>\n",
       "      <td>2K21TUAQbrD4AA1V4x4mUS</td>\n",
       "      <td>0.530055</td>\n",
       "      <td>0.995</td>\n",
       "      <td>0.612</td>\n",
       "      <td>skee mask</td>\n",
       "      <td>0.846000</td>\n",
       "      <td>0.650778</td>\n",
       "      <td>0.564663</td>\n",
       "    </tr>\n",
       "    <tr>\n",
       "      <th>659</th>\n",
       "      <td>23</td>\n",
       "      <td>2020-09-30 - Skee Mask - Tsugi Podcast 602</td>\n",
       "      <td>1wO8HOEDJxLtxe6XZo1PAD</td>\n",
       "      <td>0.562842</td>\n",
       "      <td>0.938</td>\n",
       "      <td>0.602</td>\n",
       "      <td>skee mask</td>\n",
       "      <td>0.846000</td>\n",
       "      <td>0.650778</td>\n",
       "      <td>0.564663</td>\n",
       "    </tr>\n",
       "    <tr>\n",
       "      <th>660</th>\n",
       "      <td>24</td>\n",
       "      <td>2020-09-30 - Skee Mask - Tsugi Podcast 602</td>\n",
       "      <td>0AGQCjLd0nCjI9Pbmd3Voo</td>\n",
       "      <td>0.819672</td>\n",
       "      <td>0.415</td>\n",
       "      <td>0.106</td>\n",
       "      <td>skee mask</td>\n",
       "      <td>0.846000</td>\n",
       "      <td>0.650778</td>\n",
       "      <td>0.564663</td>\n",
       "    </tr>\n",
       "  </tbody>\n",
       "</table>\n",
       "<p>661 rows × 10 columns</p>\n",
       "</div>"
      ],
      "text/plain": [
       "     n_track                                           set_name  \\\n",
       "0          1  2012-02-08 - Bonobo @ Boiler Room 77 - Ninja T...   \n",
       "1          2  2012-02-08 - Bonobo @ Boiler Room 77 - Ninja T...   \n",
       "2          3  2012-02-08 - Bonobo @ Boiler Room 77 - Ninja T...   \n",
       "3          4  2012-02-08 - Bonobo @ Boiler Room 77 - Ninja T...   \n",
       "4          5  2012-02-08 - Bonobo @ Boiler Room 77 - Ninja T...   \n",
       "..       ...                                                ...   \n",
       "656       11         2020-09-30 - Skee Mask - Tsugi Podcast 602   \n",
       "657       12         2020-09-30 - Skee Mask - Tsugi Podcast 602   \n",
       "658       16         2020-09-30 - Skee Mask - Tsugi Podcast 602   \n",
       "659       23         2020-09-30 - Skee Mask - Tsugi Podcast 602   \n",
       "660       24         2020-09-30 - Skee Mask - Tsugi Podcast 602   \n",
       "\n",
       "                    song_id     tempo  energy  danceability         dj  \\\n",
       "0    2lJ4d8MCT6ZlDRHKJ1br14  0.459016   0.844         0.640     bonobo   \n",
       "1    20ieXcjQBv4ePXkWxhvKPV  0.453552   0.714         0.851     bonobo   \n",
       "2    7G2ws9VEzcZk51nnp4xuYu  0.519126   0.723         0.791     bonobo   \n",
       "3    6KuF6uqMIvaafrF1LCWcEg  0.491803   0.483         0.744     bonobo   \n",
       "4    1d5hX0RYHcDM4aHJHSm5cr  0.546448   0.631         0.641     bonobo   \n",
       "..                      ...       ...     ...           ...        ...   \n",
       "656  0RPvcGxPrIm6jba1z9HWc9  0.382514   0.702         0.842  skee mask   \n",
       "657  7IRbMtmzqH5pHhsZ6Qpx19  0.562842   0.783         0.800  skee mask   \n",
       "658  2K21TUAQbrD4AA1V4x4mUS  0.530055   0.995         0.612  skee mask   \n",
       "659  1wO8HOEDJxLtxe6XZo1PAD  0.562842   0.938         0.602  skee mask   \n",
       "660  0AGQCjLd0nCjI9Pbmd3Voo  0.819672   0.415         0.106  skee mask   \n",
       "\n",
       "     m_energy  m_danceability   m_tempo  \n",
       "0    0.676727        0.697273  0.479881  \n",
       "1    0.676727        0.697273  0.479881  \n",
       "2    0.676727        0.697273  0.479881  \n",
       "3    0.676727        0.697273  0.479881  \n",
       "4    0.676727        0.697273  0.479881  \n",
       "..        ...             ...       ...  \n",
       "656  0.846000        0.650778  0.564663  \n",
       "657  0.846000        0.650778  0.564663  \n",
       "658  0.846000        0.650778  0.564663  \n",
       "659  0.846000        0.650778  0.564663  \n",
       "660  0.846000        0.650778  0.564663  \n",
       "\n",
       "[661 rows x 10 columns]"
      ]
     },
     "execution_count": 282,
     "metadata": {},
     "output_type": "execute_result"
    }
   ],
   "source": [
    "df_modelo"
   ]
  },
  {
   "cell_type": "code",
   "execution_count": 283,
   "id": "4263dfbc",
   "metadata": {},
   "outputs": [
    {
     "data": {
      "text/plain": [
       "array(['2012-02-08 - Bonobo @ Boiler Room 77 - Ninja Tune Takeover',\n",
       "       '2013-12-08 - Bonobo - Liquid Radio, FM4',\n",
       "       '2014-04-06 - Bonobo (Live PA) - Fireside Chat, RBMA Radio',\n",
       "       '2014-04-12 - Bonobo - Essential Mix',\n",
       "       '2014-09-02 - Bonobo - Mixed By',\n",
       "       '2014-11-20 - Bonobo (Live PA) @ Boiler Room London',\n",
       "       '2015-12-18 - Bonobo - Outlier Radio 001, NTS Radio',\n",
       "       '2016-04-07 - George FitzGerald b2b Bonobo - Residency, BBC Radio 1',\n",
       "       '2016-12-16 - Bonobo - Outlier Radio 004, NTS Radio',\n",
       "       '2017-02-10 - Bonobo @ Mixmag Live, Village Underground, London',\n",
       "       '2017-03-25 - Bonobo (Live PA) @ 6 Music Festival, Glasgow, Scotland',\n",
       "       '2017-11-20 - Bonobo - Outlier Radio, NTS Radio',\n",
       "       '2012-03 - Rob Booth, Objekt - Electronic Explorations 190',\n",
       "       '2021-10-23 - Objekt @ Nowadays (All night)',\n",
       "       '2012-09-08 - Objekt @ Dimensions Festival, Pula, Croatia',\n",
       "       '2013-04-30 - Objekt - URB Podcast',\n",
       "       '2017-08-25 - Objekt @ Dekmantel Selectors, Tisno, Croatia',\n",
       "       '2017-10-19 - Mayo, Objekt b2b DJ Stingray - Dance With Pride, Red Light Radio',\n",
       "       '2018-08-03 - Objekt @ Dekmantel Festival, Amsterdam',\n",
       "       '2021-03-13 - Objekt @ 30 Years Tresor, Berlin',\n",
       "       '2011-09-10 - Mary Anne Hobbs, Martyn, DJRUM @ XFM',\n",
       "       '2012-04-16 - DJRUM - Resident Advisor (RA.307)',\n",
       "       '2013-04-30 - Djrum - Mix Of The Week',\n",
       "       '2014-01-10 - Stwo, DJRUM @ Mixmag DJ Lab',\n",
       "       '2017-02-11 - B.Traits, Peggy Gou, Sasha, Djrum - B.Traits, BBC Radio 1',\n",
       "       '2017-05-26 - Djrum, Neinzer - Solid Steel',\n",
       "       '2020-01-27 - Djrum - Dekmantel Podcast 267',\n",
       "       '2021-04-11 - Djrum @ London Unlocked, Tower Bridge, London',\n",
       "       '2015-03-12 - Skee Mask @ Boiler Room Munich x Illian Tape',\n",
       "       '2016-03-04 - Skee Mask - Groove Podcast 50',\n",
       "       '2019-08-03 - Skee Mask b2b Zenker Brothers @ Dekmantel Festival, Amsterdam',\n",
       "       '2019-08-30 - Skee Mask @ Dimensions Festival, Croatia (RA Live)',\n",
       "       '2019-12-19 - Skee Mask - Ilian Tape Podcast Series 046',\n",
       "       '2020-09-30 - Skee Mask - Tsugi Podcast 602'], dtype=object)"
      ]
     },
     "execution_count": 283,
     "metadata": {},
     "output_type": "execute_result"
    }
   ],
   "source": [
    "df_modelo.set_name.unique()"
   ]
  },
  {
   "cell_type": "code",
   "execution_count": 284,
   "id": "c6deb4fd",
   "metadata": {},
   "outputs": [],
   "source": [
    "df_modelo['d_energy'] = df_modelo.m_energy -  df_modelo.energy\n",
    "df_modelo['d_danceability'] = df_modelo.m_danceability -  df_modelo.danceability\n",
    "df_modelo['d_tempo'] = df_modelo.m_tempo -  df_modelo.tempo"
   ]
  },
  {
   "cell_type": "code",
   "execution_count": 285,
   "id": "87f79149",
   "metadata": {
    "scrolled": true
   },
   "outputs": [
    {
     "data": {
      "text/html": [
       "<div>\n",
       "<style scoped>\n",
       "    .dataframe tbody tr th:only-of-type {\n",
       "        vertical-align: middle;\n",
       "    }\n",
       "\n",
       "    .dataframe tbody tr th {\n",
       "        vertical-align: top;\n",
       "    }\n",
       "\n",
       "    .dataframe thead th {\n",
       "        text-align: right;\n",
       "    }\n",
       "</style>\n",
       "<table border=\"1\" class=\"dataframe\">\n",
       "  <thead>\n",
       "    <tr style=\"text-align: right;\">\n",
       "      <th></th>\n",
       "      <th>n_track</th>\n",
       "      <th>set_name</th>\n",
       "      <th>song_id</th>\n",
       "      <th>tempo</th>\n",
       "      <th>energy</th>\n",
       "      <th>danceability</th>\n",
       "      <th>dj</th>\n",
       "      <th>m_energy</th>\n",
       "      <th>m_danceability</th>\n",
       "      <th>m_tempo</th>\n",
       "      <th>d_energy</th>\n",
       "      <th>d_danceability</th>\n",
       "      <th>d_tempo</th>\n",
       "    </tr>\n",
       "  </thead>\n",
       "  <tbody>\n",
       "    <tr>\n",
       "      <th>0</th>\n",
       "      <td>1</td>\n",
       "      <td>2012-02-08 - Bonobo @ Boiler Room 77 - Ninja T...</td>\n",
       "      <td>2lJ4d8MCT6ZlDRHKJ1br14</td>\n",
       "      <td>0.459016</td>\n",
       "      <td>0.844</td>\n",
       "      <td>0.640</td>\n",
       "      <td>bonobo</td>\n",
       "      <td>0.676727</td>\n",
       "      <td>0.697273</td>\n",
       "      <td>0.479881</td>\n",
       "      <td>-0.167273</td>\n",
       "      <td>0.057273</td>\n",
       "      <td>0.020864</td>\n",
       "    </tr>\n",
       "    <tr>\n",
       "      <th>1</th>\n",
       "      <td>2</td>\n",
       "      <td>2012-02-08 - Bonobo @ Boiler Room 77 - Ninja T...</td>\n",
       "      <td>20ieXcjQBv4ePXkWxhvKPV</td>\n",
       "      <td>0.453552</td>\n",
       "      <td>0.714</td>\n",
       "      <td>0.851</td>\n",
       "      <td>bonobo</td>\n",
       "      <td>0.676727</td>\n",
       "      <td>0.697273</td>\n",
       "      <td>0.479881</td>\n",
       "      <td>-0.037273</td>\n",
       "      <td>-0.153727</td>\n",
       "      <td>0.026329</td>\n",
       "    </tr>\n",
       "    <tr>\n",
       "      <th>2</th>\n",
       "      <td>3</td>\n",
       "      <td>2012-02-08 - Bonobo @ Boiler Room 77 - Ninja T...</td>\n",
       "      <td>7G2ws9VEzcZk51nnp4xuYu</td>\n",
       "      <td>0.519126</td>\n",
       "      <td>0.723</td>\n",
       "      <td>0.791</td>\n",
       "      <td>bonobo</td>\n",
       "      <td>0.676727</td>\n",
       "      <td>0.697273</td>\n",
       "      <td>0.479881</td>\n",
       "      <td>-0.046273</td>\n",
       "      <td>-0.093727</td>\n",
       "      <td>-0.039245</td>\n",
       "    </tr>\n",
       "    <tr>\n",
       "      <th>3</th>\n",
       "      <td>4</td>\n",
       "      <td>2012-02-08 - Bonobo @ Boiler Room 77 - Ninja T...</td>\n",
       "      <td>6KuF6uqMIvaafrF1LCWcEg</td>\n",
       "      <td>0.491803</td>\n",
       "      <td>0.483</td>\n",
       "      <td>0.744</td>\n",
       "      <td>bonobo</td>\n",
       "      <td>0.676727</td>\n",
       "      <td>0.697273</td>\n",
       "      <td>0.479881</td>\n",
       "      <td>0.193727</td>\n",
       "      <td>-0.046727</td>\n",
       "      <td>-0.011923</td>\n",
       "    </tr>\n",
       "    <tr>\n",
       "      <th>4</th>\n",
       "      <td>5</td>\n",
       "      <td>2012-02-08 - Bonobo @ Boiler Room 77 - Ninja T...</td>\n",
       "      <td>1d5hX0RYHcDM4aHJHSm5cr</td>\n",
       "      <td>0.546448</td>\n",
       "      <td>0.631</td>\n",
       "      <td>0.641</td>\n",
       "      <td>bonobo</td>\n",
       "      <td>0.676727</td>\n",
       "      <td>0.697273</td>\n",
       "      <td>0.479881</td>\n",
       "      <td>0.045727</td>\n",
       "      <td>0.056273</td>\n",
       "      <td>-0.066567</td>\n",
       "    </tr>\n",
       "  </tbody>\n",
       "</table>\n",
       "</div>"
      ],
      "text/plain": [
       "   n_track                                           set_name  \\\n",
       "0        1  2012-02-08 - Bonobo @ Boiler Room 77 - Ninja T...   \n",
       "1        2  2012-02-08 - Bonobo @ Boiler Room 77 - Ninja T...   \n",
       "2        3  2012-02-08 - Bonobo @ Boiler Room 77 - Ninja T...   \n",
       "3        4  2012-02-08 - Bonobo @ Boiler Room 77 - Ninja T...   \n",
       "4        5  2012-02-08 - Bonobo @ Boiler Room 77 - Ninja T...   \n",
       "\n",
       "                  song_id     tempo  energy  danceability      dj  m_energy  \\\n",
       "0  2lJ4d8MCT6ZlDRHKJ1br14  0.459016   0.844         0.640  bonobo  0.676727   \n",
       "1  20ieXcjQBv4ePXkWxhvKPV  0.453552   0.714         0.851  bonobo  0.676727   \n",
       "2  7G2ws9VEzcZk51nnp4xuYu  0.519126   0.723         0.791  bonobo  0.676727   \n",
       "3  6KuF6uqMIvaafrF1LCWcEg  0.491803   0.483         0.744  bonobo  0.676727   \n",
       "4  1d5hX0RYHcDM4aHJHSm5cr  0.546448   0.631         0.641  bonobo  0.676727   \n",
       "\n",
       "   m_danceability   m_tempo  d_energy  d_danceability   d_tempo  \n",
       "0        0.697273  0.479881 -0.167273        0.057273  0.020864  \n",
       "1        0.697273  0.479881 -0.037273       -0.153727  0.026329  \n",
       "2        0.697273  0.479881 -0.046273       -0.093727 -0.039245  \n",
       "3        0.697273  0.479881  0.193727       -0.046727 -0.011923  \n",
       "4        0.697273  0.479881  0.045727        0.056273 -0.066567  "
      ]
     },
     "execution_count": 285,
     "metadata": {},
     "output_type": "execute_result"
    }
   ],
   "source": [
    "df_modelo.head()"
   ]
  },
  {
   "cell_type": "markdown",
   "id": "726864e0",
   "metadata": {},
   "source": [
    "## Haciendo rangos inter set"
   ]
  },
  {
   "cell_type": "code",
   "execution_count": 287,
   "id": "e8b2a0b5",
   "metadata": {},
   "outputs": [],
   "source": [
    "cuantil_5 = pd.DataFrame(df_modelo.groupby('set_name')['n_track'].quantile(0.5).round(decimals=0)).reset_index()"
   ]
  },
  {
   "cell_type": "code",
   "execution_count": 288,
   "id": "076623db",
   "metadata": {},
   "outputs": [],
   "source": [
    "cuantil_5.columns=['set_name', 'q_05']"
   ]
  },
  {
   "cell_type": "code",
   "execution_count": 289,
   "id": "3b51bf8c",
   "metadata": {},
   "outputs": [],
   "source": [
    "df_modelo=df_modelo.merge(cuantil_5, on='set_name')"
   ]
  },
  {
   "cell_type": "code",
   "execution_count": 290,
   "id": "6476c0c5",
   "metadata": {},
   "outputs": [
    {
     "data": {
      "text/plain": [
       "Index(['n_track', 'set_name', 'song_id', 'tempo', 'energy', 'danceability',\n",
       "       'dj', 'm_energy', 'm_danceability', 'm_tempo', 'd_energy',\n",
       "       'd_danceability', 'd_tempo', 'q_05'],\n",
       "      dtype='object')"
      ]
     },
     "execution_count": 290,
     "metadata": {},
     "output_type": "execute_result"
    }
   ],
   "source": [
    "df_modelo.columns"
   ]
  },
  {
   "cell_type": "code",
   "execution_count": 291,
   "id": "bc403578",
   "metadata": {
    "scrolled": false
   },
   "outputs": [],
   "source": [
    "df_modelo['grupo_set'] = np.where(df_modelo.n_track<=df_modelo.q_05, 1, 2)"
   ]
  },
  {
   "cell_type": "code",
   "execution_count": 292,
   "id": "6a0f77d0",
   "metadata": {},
   "outputs": [],
   "source": [
    "df_modelo.drop(['q_05'], axis=1, inplace=True)"
   ]
  },
  {
   "cell_type": "code",
   "execution_count": null,
   "id": "279dd244",
   "metadata": {},
   "outputs": [],
   "source": []
  },
  {
   "cell_type": "code",
   "execution_count": null,
   "id": "f66dcbaf",
   "metadata": {},
   "outputs": [],
   "source": []
  },
  {
   "cell_type": "code",
   "execution_count": null,
   "id": "de11ecc0",
   "metadata": {},
   "outputs": [],
   "source": []
  },
  {
   "cell_type": "code",
   "execution_count": 198,
   "id": "9d9c3857",
   "metadata": {},
   "outputs": [],
   "source": [
    "cuantil_3 = pd.DataFrame(df_modelo.groupby('set_name')['n_track'].quantile(0.3).round(decimals=0)).reset_index()"
   ]
  },
  {
   "cell_type": "code",
   "execution_count": 200,
   "id": "e191a113",
   "metadata": {},
   "outputs": [],
   "source": [
    "cuantil_3.columns=['set_name', 'q_03']"
   ]
  },
  {
   "cell_type": "code",
   "execution_count": 202,
   "id": "35394708",
   "metadata": {},
   "outputs": [],
   "source": [
    "cuantil_6 = pd.DataFrame(df_modelo.groupby('set_name')['n_track'].quantile(0.6).round(decimals=0)).reset_index()\n",
    "\n",
    "cuantil_6.columns=['set_name', 'q_06']"
   ]
  },
  {
   "cell_type": "code",
   "execution_count": 204,
   "id": "82f6e9d4",
   "metadata": {},
   "outputs": [],
   "source": [
    "df_modelo=df_modelo.merge(cuantil_3, on='set_name')"
   ]
  },
  {
   "cell_type": "code",
   "execution_count": 205,
   "id": "13063355",
   "metadata": {},
   "outputs": [],
   "source": [
    "df_modelo=df_modelo.merge(cuantil_6, on='set_name')"
   ]
  },
  {
   "cell_type": "code",
   "execution_count": 208,
   "id": "709c799c",
   "metadata": {
    "scrolled": true
   },
   "outputs": [],
   "source": [
    "df_modelo['grupo_set'] = np.where(df_modelo.n_track <=df_modelo.q_03, 1, np.where(df_modelo.n_track <=df_modelo.q_06, 2, 3))"
   ]
  },
  {
   "cell_type": "code",
   "execution_count": 210,
   "id": "fad9daf1",
   "metadata": {},
   "outputs": [],
   "source": [
    "df_modelo.drop(['q_03', 'q_06'], axis=1, inplace=True)"
   ]
  },
  {
   "cell_type": "code",
   "execution_count": 293,
   "id": "dc44e3bb",
   "metadata": {},
   "outputs": [],
   "source": [
    "df_medias_grupos=df_modelo.groupby(['set_name', 'grupo_set']).mean()[['tempo', 'energy', 'danceability']].reset_index()"
   ]
  },
  {
   "cell_type": "code",
   "execution_count": 294,
   "id": "bbb87145",
   "metadata": {},
   "outputs": [],
   "source": [
    "df_medias_grupos.columns = ['set_name', 'grupo_set', 'tempo_media_g', 'energy_media_g', 'danceability_media_g']"
   ]
  },
  {
   "cell_type": "code",
   "execution_count": 295,
   "id": "d5a35995",
   "metadata": {},
   "outputs": [],
   "source": [
    "df_modelo=df_modelo.merge(df_medias_grupos, on = ['set_name', 'grupo_set'])"
   ]
  },
  {
   "cell_type": "code",
   "execution_count": 296,
   "id": "911e228b",
   "metadata": {},
   "outputs": [],
   "source": [
    "df_modelo['d_energy_grupo'] = df_modelo.energy_media_g -  df_modelo.energy\n",
    "df_modelo['d_danceability_grupo'] = df_modelo.danceability_media_g -  df_modelo.danceability\n",
    "df_modelo['d_tempo_grupo'] = df_modelo.tempo_media_g -  df_modelo.tempo"
   ]
  },
  {
   "cell_type": "code",
   "execution_count": 297,
   "id": "4f6b6b39",
   "metadata": {
    "scrolled": false
   },
   "outputs": [
    {
     "data": {
      "text/html": [
       "<div>\n",
       "<style scoped>\n",
       "    .dataframe tbody tr th:only-of-type {\n",
       "        vertical-align: middle;\n",
       "    }\n",
       "\n",
       "    .dataframe tbody tr th {\n",
       "        vertical-align: top;\n",
       "    }\n",
       "\n",
       "    .dataframe thead th {\n",
       "        text-align: right;\n",
       "    }\n",
       "</style>\n",
       "<table border=\"1\" class=\"dataframe\">\n",
       "  <thead>\n",
       "    <tr style=\"text-align: right;\">\n",
       "      <th></th>\n",
       "      <th>n_track</th>\n",
       "      <th>set_name</th>\n",
       "      <th>song_id</th>\n",
       "      <th>tempo</th>\n",
       "      <th>energy</th>\n",
       "      <th>danceability</th>\n",
       "      <th>dj</th>\n",
       "      <th>m_energy</th>\n",
       "      <th>m_danceability</th>\n",
       "      <th>m_tempo</th>\n",
       "      <th>d_energy</th>\n",
       "      <th>d_danceability</th>\n",
       "      <th>d_tempo</th>\n",
       "      <th>grupo_set</th>\n",
       "      <th>tempo_media_g</th>\n",
       "      <th>energy_media_g</th>\n",
       "      <th>danceability_media_g</th>\n",
       "      <th>d_energy_grupo</th>\n",
       "      <th>d_danceability_grupo</th>\n",
       "      <th>d_tempo_grupo</th>\n",
       "    </tr>\n",
       "  </thead>\n",
       "  <tbody>\n",
       "    <tr>\n",
       "      <th>0</th>\n",
       "      <td>1</td>\n",
       "      <td>2012-02-08 - Bonobo @ Boiler Room 77 - Ninja T...</td>\n",
       "      <td>2lJ4d8MCT6ZlDRHKJ1br14</td>\n",
       "      <td>0.459016</td>\n",
       "      <td>0.844</td>\n",
       "      <td>0.640</td>\n",
       "      <td>bonobo</td>\n",
       "      <td>0.676727</td>\n",
       "      <td>0.697273</td>\n",
       "      <td>0.479881</td>\n",
       "      <td>-0.167273</td>\n",
       "      <td>0.057273</td>\n",
       "      <td>0.020864</td>\n",
       "      <td>1</td>\n",
       "      <td>0.499089</td>\n",
       "      <td>0.677333</td>\n",
       "      <td>0.724833</td>\n",
       "      <td>-0.166667</td>\n",
       "      <td>0.084833</td>\n",
       "      <td>0.040073</td>\n",
       "    </tr>\n",
       "    <tr>\n",
       "      <th>1</th>\n",
       "      <td>2</td>\n",
       "      <td>2012-02-08 - Bonobo @ Boiler Room 77 - Ninja T...</td>\n",
       "      <td>20ieXcjQBv4ePXkWxhvKPV</td>\n",
       "      <td>0.453552</td>\n",
       "      <td>0.714</td>\n",
       "      <td>0.851</td>\n",
       "      <td>bonobo</td>\n",
       "      <td>0.676727</td>\n",
       "      <td>0.697273</td>\n",
       "      <td>0.479881</td>\n",
       "      <td>-0.037273</td>\n",
       "      <td>-0.153727</td>\n",
       "      <td>0.026329</td>\n",
       "      <td>1</td>\n",
       "      <td>0.499089</td>\n",
       "      <td>0.677333</td>\n",
       "      <td>0.724833</td>\n",
       "      <td>-0.036667</td>\n",
       "      <td>-0.126167</td>\n",
       "      <td>0.045537</td>\n",
       "    </tr>\n",
       "    <tr>\n",
       "      <th>2</th>\n",
       "      <td>3</td>\n",
       "      <td>2012-02-08 - Bonobo @ Boiler Room 77 - Ninja T...</td>\n",
       "      <td>7G2ws9VEzcZk51nnp4xuYu</td>\n",
       "      <td>0.519126</td>\n",
       "      <td>0.723</td>\n",
       "      <td>0.791</td>\n",
       "      <td>bonobo</td>\n",
       "      <td>0.676727</td>\n",
       "      <td>0.697273</td>\n",
       "      <td>0.479881</td>\n",
       "      <td>-0.046273</td>\n",
       "      <td>-0.093727</td>\n",
       "      <td>-0.039245</td>\n",
       "      <td>1</td>\n",
       "      <td>0.499089</td>\n",
       "      <td>0.677333</td>\n",
       "      <td>0.724833</td>\n",
       "      <td>-0.045667</td>\n",
       "      <td>-0.066167</td>\n",
       "      <td>-0.020036</td>\n",
       "    </tr>\n",
       "    <tr>\n",
       "      <th>3</th>\n",
       "      <td>4</td>\n",
       "      <td>2012-02-08 - Bonobo @ Boiler Room 77 - Ninja T...</td>\n",
       "      <td>6KuF6uqMIvaafrF1LCWcEg</td>\n",
       "      <td>0.491803</td>\n",
       "      <td>0.483</td>\n",
       "      <td>0.744</td>\n",
       "      <td>bonobo</td>\n",
       "      <td>0.676727</td>\n",
       "      <td>0.697273</td>\n",
       "      <td>0.479881</td>\n",
       "      <td>0.193727</td>\n",
       "      <td>-0.046727</td>\n",
       "      <td>-0.011923</td>\n",
       "      <td>1</td>\n",
       "      <td>0.499089</td>\n",
       "      <td>0.677333</td>\n",
       "      <td>0.724833</td>\n",
       "      <td>0.194333</td>\n",
       "      <td>-0.019167</td>\n",
       "      <td>0.007286</td>\n",
       "    </tr>\n",
       "    <tr>\n",
       "      <th>4</th>\n",
       "      <td>5</td>\n",
       "      <td>2012-02-08 - Bonobo @ Boiler Room 77 - Ninja T...</td>\n",
       "      <td>1d5hX0RYHcDM4aHJHSm5cr</td>\n",
       "      <td>0.546448</td>\n",
       "      <td>0.631</td>\n",
       "      <td>0.641</td>\n",
       "      <td>bonobo</td>\n",
       "      <td>0.676727</td>\n",
       "      <td>0.697273</td>\n",
       "      <td>0.479881</td>\n",
       "      <td>0.045727</td>\n",
       "      <td>0.056273</td>\n",
       "      <td>-0.066567</td>\n",
       "      <td>1</td>\n",
       "      <td>0.499089</td>\n",
       "      <td>0.677333</td>\n",
       "      <td>0.724833</td>\n",
       "      <td>0.046333</td>\n",
       "      <td>0.083833</td>\n",
       "      <td>-0.047359</td>\n",
       "    </tr>\n",
       "  </tbody>\n",
       "</table>\n",
       "</div>"
      ],
      "text/plain": [
       "   n_track                                           set_name  \\\n",
       "0        1  2012-02-08 - Bonobo @ Boiler Room 77 - Ninja T...   \n",
       "1        2  2012-02-08 - Bonobo @ Boiler Room 77 - Ninja T...   \n",
       "2        3  2012-02-08 - Bonobo @ Boiler Room 77 - Ninja T...   \n",
       "3        4  2012-02-08 - Bonobo @ Boiler Room 77 - Ninja T...   \n",
       "4        5  2012-02-08 - Bonobo @ Boiler Room 77 - Ninja T...   \n",
       "\n",
       "                  song_id     tempo  energy  danceability      dj  m_energy  \\\n",
       "0  2lJ4d8MCT6ZlDRHKJ1br14  0.459016   0.844         0.640  bonobo  0.676727   \n",
       "1  20ieXcjQBv4ePXkWxhvKPV  0.453552   0.714         0.851  bonobo  0.676727   \n",
       "2  7G2ws9VEzcZk51nnp4xuYu  0.519126   0.723         0.791  bonobo  0.676727   \n",
       "3  6KuF6uqMIvaafrF1LCWcEg  0.491803   0.483         0.744  bonobo  0.676727   \n",
       "4  1d5hX0RYHcDM4aHJHSm5cr  0.546448   0.631         0.641  bonobo  0.676727   \n",
       "\n",
       "   m_danceability   m_tempo  d_energy  d_danceability   d_tempo  grupo_set  \\\n",
       "0        0.697273  0.479881 -0.167273        0.057273  0.020864          1   \n",
       "1        0.697273  0.479881 -0.037273       -0.153727  0.026329          1   \n",
       "2        0.697273  0.479881 -0.046273       -0.093727 -0.039245          1   \n",
       "3        0.697273  0.479881  0.193727       -0.046727 -0.011923          1   \n",
       "4        0.697273  0.479881  0.045727        0.056273 -0.066567          1   \n",
       "\n",
       "   tempo_media_g  energy_media_g  danceability_media_g  d_energy_grupo  \\\n",
       "0       0.499089        0.677333              0.724833       -0.166667   \n",
       "1       0.499089        0.677333              0.724833       -0.036667   \n",
       "2       0.499089        0.677333              0.724833       -0.045667   \n",
       "3       0.499089        0.677333              0.724833        0.194333   \n",
       "4       0.499089        0.677333              0.724833        0.046333   \n",
       "\n",
       "   d_danceability_grupo  d_tempo_grupo  \n",
       "0              0.084833       0.040073  \n",
       "1             -0.126167       0.045537  \n",
       "2             -0.066167      -0.020036  \n",
       "3             -0.019167       0.007286  \n",
       "4              0.083833      -0.047359  "
      ]
     },
     "execution_count": 297,
     "metadata": {},
     "output_type": "execute_result"
    }
   ],
   "source": [
    "df_modelo.head()"
   ]
  },
  {
   "cell_type": "code",
   "execution_count": 298,
   "id": "ae1cd0a0",
   "metadata": {
    "scrolled": true
   },
   "outputs": [
    {
     "data": {
      "text/plain": [
       "array([1, 2])"
      ]
     },
     "execution_count": 298,
     "metadata": {},
     "output_type": "execute_result"
    }
   ],
   "source": [
    "df_modelo.grupo_set.unique()"
   ]
  },
  {
   "cell_type": "code",
   "execution_count": 299,
   "id": "85f25031",
   "metadata": {},
   "outputs": [],
   "source": [
    "df_modelo.to_csv(\"/Users/santiago/ih-bootcamp/proyectos/sherpa/out/df_modelo_medias_q50.csv\")"
   ]
  }
 ],
 "metadata": {
  "kernelspec": {
   "display_name": "Python 3",
   "language": "python",
   "name": "python3"
  },
  "language_info": {
   "codemirror_mode": {
    "name": "ipython",
    "version": 3
   },
   "file_extension": ".py",
   "mimetype": "text/x-python",
   "name": "python",
   "nbconvert_exporter": "python",
   "pygments_lexer": "ipython3",
   "version": "3.8.8"
  }
 },
 "nbformat": 4,
 "nbformat_minor": 5
}
