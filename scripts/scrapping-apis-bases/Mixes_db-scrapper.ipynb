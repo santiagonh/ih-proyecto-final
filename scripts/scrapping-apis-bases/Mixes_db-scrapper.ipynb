{
 "cells": [
  {
   "cell_type": "code",
   "execution_count": 90,
   "id": "97c5cc57",
   "metadata": {},
   "outputs": [],
   "source": [
    "import pandas as pd\n",
    "from bs4 import BeautifulSoup\n",
    "import requests\n",
    "import time\n",
    "import numpy as np"
   ]
  },
  {
   "cell_type": "code",
   "execution_count": 91,
   "id": "7f6d1e29",
   "metadata": {},
   "outputs": [],
   "source": [
    "import selenium\n",
    "import re"
   ]
  },
  {
   "cell_type": "code",
   "execution_count": 92,
   "id": "6a1629af",
   "metadata": {},
   "outputs": [],
   "source": [
    "from selenium import webdriver\n",
    "from selenium.webdriver.common.keys import Keys\n",
    "from selenium.webdriver.common.action_chains import ActionChains\n",
    "from selenium.webdriver.support.ui import WebDriverWait\n",
    "from selenium.webdriver.support import expected_conditions as EC\n",
    "from selenium.webdriver.common.by import By"
   ]
  },
  {
   "cell_type": "markdown",
   "id": "54a6fcff",
   "metadata": {},
   "source": [
    "# Selenium"
   ]
  },
  {
   "cell_type": "code",
   "execution_count": 191,
   "id": "47b761df",
   "metadata": {
    "scrolled": true
   },
   "outputs": [],
   "source": [
    "driver = webdriver.Chrome()"
   ]
  },
  {
   "cell_type": "code",
   "execution_count": 174,
   "id": "2955f994",
   "metadata": {},
   "outputs": [],
   "source": [
    "url = 'https://www.mixesdb.com/w/Category:Objekt'"
   ]
  },
  {
   "cell_type": "code",
   "execution_count": 192,
   "id": "ab811a31",
   "metadata": {},
   "outputs": [],
   "source": [
    "driver.get(url)"
   ]
  },
  {
   "cell_type": "code",
   "execution_count": 299,
   "id": "e6d9ff85",
   "metadata": {},
   "outputs": [],
   "source": [
    "lista_df_tracks = []"
   ]
  },
  {
   "cell_type": "code",
   "execution_count": 304,
   "id": "34c93197",
   "metadata": {
    "scrolled": false
   },
   "outputs": [
    {
     "name": "stdout",
     "output_type": "stream",
     "text": [
      "1\n"
     ]
    }
   ],
   "source": [
    "url = 'https://www.mixesdb.com/w/Category:Skee Mask'\n",
    "driver = webdriver.Chrome()\n",
    "driver.get(url)\n",
    "xpath = '//*[@id=\"catMixesList\"]/li'\n",
    "n_sets=len(driver.find_elements(By.XPATH, xpath))\n",
    "time.sleep(3) # duerme 5 segundos\n",
    "\n",
    "driver.find_element(By.XPATH, f'//*[@id=\"catMixesList\"]/li[1]/a').click() \n",
    "\n",
    "for i in range(9,n_sets):\n",
    "    driver.get(url)\n",
    "    time.sleep(3) # duerme 5 segundos\n",
    "    \n",
    "    set_name = driver.find_element(By.XPATH, f'//*[@id=\"catMixesList\"]/li[{i}]/a').text\n",
    "    driver.find_element(By.XPATH, f'//*[@id=\"catMixesList\"]/li[{i}]/a').click() \n",
    "    time.sleep(4) # duerme 5 segundos\n",
    "    \n",
    "    n_section = len(driver.find_elements(By.TAG_NAME, 'ol'))\n",
    "    print(n_section)\n",
    "    \n",
    "    for j in range(0, n_section):\n",
    "        texto=driver.find_elements(By.TAG_NAME, 'ol')[j].text\n",
    "        canciones = texto.split(\"\\n\")\n",
    "    \n",
    "    \n",
    "        n_cancion = 0\n",
    "        \n",
    "        for cancion in canciones:\n",
    "            n_cancion += 1\n",
    "            try:\n",
    "                artist = cancion.split(\"-\")[0].replace(r\"\\[.*\\] \", \"\") \n",
    "                track = cancion.split(\"-\")[1]\n",
    "            \n",
    "            except: \n",
    "                fallidos.append([cancion, set_name])\n",
    "            \n",
    "            \n",
    "            \n",
    "            lista_track = [n_cancion, n_section, artist, track, set_name]\n",
    "            lista_df_tracks.append(lista_track)"
   ]
  },
  {
   "cell_type": "code",
   "execution_count": 305,
   "id": "7a7305f5",
   "metadata": {},
   "outputs": [
    {
     "data": {
      "text/plain": [
       "9"
      ]
     },
     "execution_count": 305,
     "metadata": {},
     "output_type": "execute_result"
    }
   ],
   "source": [
    "i"
   ]
  },
  {
   "cell_type": "code",
   "execution_count": 306,
   "id": "c1a6cdf0",
   "metadata": {
    "scrolled": false
   },
   "outputs": [],
   "source": [
    "df_sets = pd.DataFrame(lista_df_tracks, columns=[\"n_track\", \"set_section\", \"artist\", \"track\", \"set_name\"])"
   ]
  },
  {
   "cell_type": "code",
   "execution_count": 307,
   "id": "922c6bf6",
   "metadata": {
    "scrolled": true
   },
   "outputs": [
    {
     "data": {
      "text/plain": [
       "202"
      ]
     },
     "execution_count": 307,
     "metadata": {},
     "output_type": "execute_result"
    }
   ],
   "source": [
    "len(df_sets)"
   ]
  },
  {
   "cell_type": "code",
   "execution_count": 308,
   "id": "793314fc",
   "metadata": {},
   "outputs": [],
   "source": [
    "df_sets.to_csv(\"/Users/santiago/ih-bootcamp/proyectos/sherpa/out/skee_mask.csv\")"
   ]
  },
  {
   "cell_type": "markdown",
   "id": "844b4bbd",
   "metadata": {},
   "source": [
    "# Limpieza"
   ]
  },
  {
   "cell_type": "code",
   "execution_count": 50,
   "id": "d6a4d91e",
   "metadata": {},
   "outputs": [],
   "source": [
    "df_sets = pd.read_csv(\"/Users/santiago/ih-bootcamp/proyectos/sherpa/out/df_sets_djrum.csv\", index_col = 0)"
   ]
  },
  {
   "cell_type": "code",
   "execution_count": 255,
   "id": "0dea4feb",
   "metadata": {
    "scrolled": true
   },
   "outputs": [
    {
     "data": {
      "text/html": [
       "<div>\n",
       "<style scoped>\n",
       "    .dataframe tbody tr th:only-of-type {\n",
       "        vertical-align: middle;\n",
       "    }\n",
       "\n",
       "    .dataframe tbody tr th {\n",
       "        vertical-align: top;\n",
       "    }\n",
       "\n",
       "    .dataframe thead th {\n",
       "        text-align: right;\n",
       "    }\n",
       "</style>\n",
       "<table border=\"1\" class=\"dataframe\">\n",
       "  <thead>\n",
       "    <tr style=\"text-align: right;\">\n",
       "      <th></th>\n",
       "      <th>n_track</th>\n",
       "      <th>set_section</th>\n",
       "      <th>artist</th>\n",
       "      <th>track</th>\n",
       "      <th>set_name</th>\n",
       "    </tr>\n",
       "  </thead>\n",
       "  <tbody>\n",
       "    <tr>\n",
       "      <th>376</th>\n",
       "      <td>20</td>\n",
       "      <td>1</td>\n",
       "      <td>0lga+Jozef</td>\n",
       "      <td>Untitled (HU Remix)</td>\n",
       "      <td>2020-09-30 - Skee Mask - Tsugi Podcast 602</td>\n",
       "    </tr>\n",
       "    <tr>\n",
       "      <th>377</th>\n",
       "      <td>21</td>\n",
       "      <td>1</td>\n",
       "      <td>Jeff Cochran &amp; Adam Winick</td>\n",
       "      <td>D:EP B2</td>\n",
       "      <td>2020-09-30 - Skee Mask - Tsugi Podcast 602</td>\n",
       "    </tr>\n",
       "    <tr>\n",
       "      <th>378</th>\n",
       "      <td>22</td>\n",
       "      <td>1</td>\n",
       "      <td>Daniel Jacques</td>\n",
       "      <td>Cast Away (My Body And Soul)</td>\n",
       "      <td>2020-09-30 - Skee Mask - Tsugi Podcast 602</td>\n",
       "    </tr>\n",
       "    <tr>\n",
       "      <th>379</th>\n",
       "      <td>23</td>\n",
       "      <td>1</td>\n",
       "      <td>Paul Mac</td>\n",
       "      <td>More Over (Mark Williams 'Real Sessions' Remix)</td>\n",
       "      <td>2020-09-30 - Skee Mask - Tsugi Podcast 602</td>\n",
       "    </tr>\n",
       "    <tr>\n",
       "      <th>380</th>\n",
       "      <td>24</td>\n",
       "      <td>1</td>\n",
       "      <td>Hanno Leichtmann &amp; Sabine Ercklentz</td>\n",
       "      <td>Study Ten</td>\n",
       "      <td>2020-09-30 - Skee Mask - Tsugi Podcast 602</td>\n",
       "    </tr>\n",
       "  </tbody>\n",
       "</table>\n",
       "</div>"
      ],
      "text/plain": [
       "     n_track  set_section                                artist  \\\n",
       "376       20            1                           0lga+Jozef    \n",
       "377       21            1           Jeff Cochran & Adam Winick    \n",
       "378       22            1                       Daniel Jacques    \n",
       "379       23            1                             Paul Mac    \n",
       "380       24            1  Hanno Leichtmann & Sabine Ercklentz    \n",
       "\n",
       "                                                track  \\\n",
       "376                               Untitled (HU Remix)   \n",
       "377                                           D:EP B2   \n",
       "378                      Cast Away (My Body And Soul)   \n",
       "379   More Over (Mark Williams 'Real Sessions' Remix)   \n",
       "380                                         Study Ten   \n",
       "\n",
       "                                       set_name  \n",
       "376  2020-09-30 - Skee Mask - Tsugi Podcast 602  \n",
       "377  2020-09-30 - Skee Mask - Tsugi Podcast 602  \n",
       "378  2020-09-30 - Skee Mask - Tsugi Podcast 602  \n",
       "379  2020-09-30 - Skee Mask - Tsugi Podcast 602  \n",
       "380  2020-09-30 - Skee Mask - Tsugi Podcast 602  "
      ]
     },
     "execution_count": 255,
     "metadata": {},
     "output_type": "execute_result"
    }
   ],
   "source": [
    "df_sets.tail()"
   ]
  },
  {
   "cell_type": "code",
   "execution_count": 309,
   "id": "0f260d7c",
   "metadata": {
    "scrolled": false
   },
   "outputs": [
    {
     "name": "stderr",
     "output_type": "stream",
     "text": [
      "<ipython-input-309-2a99b8f3834b>:1: FutureWarning: The default value of regex will change from True to False in a future version.\n",
      "  df_sets.artist=df_sets.artist.str.replace(r\"\\[.*]\", \"\")\n",
      "<ipython-input-309-2a99b8f3834b>:3: FutureWarning: The default value of regex will change from True to False in a future version.\n",
      "  df_sets.track=df_sets.track.str.replace(r\"\\[.*\", \"\")\n",
      "<ipython-input-309-2a99b8f3834b>:4: FutureWarning: The default value of regex will change from True to False in a future version.\n",
      "  df_sets.track=df_sets.track.str.replace(r\"\\(.*\\)\", \"\")\n"
     ]
    }
   ],
   "source": [
    "df_sets.artist=df_sets.artist.str.replace(r\"\\[.*]\", \"\")\n",
    "df_sets.artist=df_sets.artist.str.strip()\n",
    "df_sets.track=df_sets.track.str.replace(r\"\\[.*\", \"\")\n",
    "df_sets.track=df_sets.track.str.replace(r\"\\(.*\\)\", \"\")\n",
    "df_sets.track=df_sets.track.str.strip()"
   ]
  },
  {
   "cell_type": "code",
   "execution_count": 310,
   "id": "5932681d",
   "metadata": {},
   "outputs": [],
   "source": [
    "df_sets.artist=df_sets.artist.str.strip()"
   ]
  },
  {
   "cell_type": "code",
   "execution_count": 311,
   "id": "6d49624a",
   "metadata": {
    "scrolled": false
   },
   "outputs": [
    {
     "data": {
      "text/html": [
       "<div>\n",
       "<style scoped>\n",
       "    .dataframe tbody tr th:only-of-type {\n",
       "        vertical-align: middle;\n",
       "    }\n",
       "\n",
       "    .dataframe tbody tr th {\n",
       "        vertical-align: top;\n",
       "    }\n",
       "\n",
       "    .dataframe thead th {\n",
       "        text-align: right;\n",
       "    }\n",
       "</style>\n",
       "<table border=\"1\" class=\"dataframe\">\n",
       "  <thead>\n",
       "    <tr style=\"text-align: right;\">\n",
       "      <th></th>\n",
       "      <th>n_track</th>\n",
       "      <th>set_section</th>\n",
       "      <th>artist</th>\n",
       "      <th>track</th>\n",
       "      <th>set_name</th>\n",
       "    </tr>\n",
       "  </thead>\n",
       "  <tbody>\n",
       "    <tr>\n",
       "      <th>197</th>\n",
       "      <td>20</td>\n",
       "      <td>1</td>\n",
       "      <td>0lga+Jozef</td>\n",
       "      <td>Untitled</td>\n",
       "      <td>2020-09-30 - Skee Mask - Tsugi Podcast 602</td>\n",
       "    </tr>\n",
       "    <tr>\n",
       "      <th>198</th>\n",
       "      <td>21</td>\n",
       "      <td>1</td>\n",
       "      <td>Jeff Cochran &amp; Adam Winick</td>\n",
       "      <td>D:EP B2</td>\n",
       "      <td>2020-09-30 - Skee Mask - Tsugi Podcast 602</td>\n",
       "    </tr>\n",
       "    <tr>\n",
       "      <th>199</th>\n",
       "      <td>22</td>\n",
       "      <td>1</td>\n",
       "      <td>Daniel Jacques</td>\n",
       "      <td>Cast Away</td>\n",
       "      <td>2020-09-30 - Skee Mask - Tsugi Podcast 602</td>\n",
       "    </tr>\n",
       "    <tr>\n",
       "      <th>200</th>\n",
       "      <td>23</td>\n",
       "      <td>1</td>\n",
       "      <td>Paul Mac</td>\n",
       "      <td>More Over</td>\n",
       "      <td>2020-09-30 - Skee Mask - Tsugi Podcast 602</td>\n",
       "    </tr>\n",
       "    <tr>\n",
       "      <th>201</th>\n",
       "      <td>24</td>\n",
       "      <td>1</td>\n",
       "      <td>Hanno Leichtmann &amp; Sabine Ercklentz</td>\n",
       "      <td>Study Ten</td>\n",
       "      <td>2020-09-30 - Skee Mask - Tsugi Podcast 602</td>\n",
       "    </tr>\n",
       "  </tbody>\n",
       "</table>\n",
       "</div>"
      ],
      "text/plain": [
       "     n_track  set_section                               artist      track  \\\n",
       "197       20            1                           0lga+Jozef   Untitled   \n",
       "198       21            1           Jeff Cochran & Adam Winick    D:EP B2   \n",
       "199       22            1                       Daniel Jacques  Cast Away   \n",
       "200       23            1                             Paul Mac  More Over   \n",
       "201       24            1  Hanno Leichtmann & Sabine Ercklentz  Study Ten   \n",
       "\n",
       "                                       set_name  \n",
       "197  2020-09-30 - Skee Mask - Tsugi Podcast 602  \n",
       "198  2020-09-30 - Skee Mask - Tsugi Podcast 602  \n",
       "199  2020-09-30 - Skee Mask - Tsugi Podcast 602  \n",
       "200  2020-09-30 - Skee Mask - Tsugi Podcast 602  \n",
       "201  2020-09-30 - Skee Mask - Tsugi Podcast 602  "
      ]
     },
     "execution_count": 311,
     "metadata": {},
     "output_type": "execute_result"
    }
   ],
   "source": [
    "df_sets.tail()"
   ]
  },
  {
   "cell_type": "code",
   "execution_count": 312,
   "id": "afe08c43",
   "metadata": {},
   "outputs": [
    {
     "data": {
      "text/plain": [
       "array(['2015-03-12 - Skee Mask @ Boiler Room Munich x Illian Tape',\n",
       "       '2016-03-04 - Skee Mask - Groove Podcast 50',\n",
       "       '2019-08-03 - Skee Mask b2b Zenker Brothers @ Dekmantel Festival, Amsterdam',\n",
       "       '2019-08-30 - Skee Mask @ Dimensions Festival, Croatia (RA Live)',\n",
       "       '2019-12-19 - Skee Mask - Ilian Tape Podcast Series 046',\n",
       "       '2020-09-30 - Skee Mask - Tsugi Podcast 602'], dtype=object)"
      ]
     },
     "execution_count": 312,
     "metadata": {},
     "output_type": "execute_result"
    }
   ],
   "source": [
    "df_sets.set_name.unique()"
   ]
  },
  {
   "cell_type": "code",
   "execution_count": 313,
   "id": "fdb81ceb",
   "metadata": {},
   "outputs": [],
   "source": [
    "df_sets.to_csv(\"/Users/santiago/ih-bootcamp/proyectos/sherpa/out/skee_mask.csv\")"
   ]
  },
  {
   "cell_type": "markdown",
   "id": "c1b54188",
   "metadata": {},
   "source": [
    "## null imputation"
   ]
  },
  {
   "cell_type": "code",
   "execution_count": 28,
   "id": "b6c7b4ce",
   "metadata": {
    "scrolled": true
   },
   "outputs": [
    {
     "data": {
      "text/plain": [
       "2021-04-11 - Djrum @ London Unlocked, Tower Bridge, London    3\n",
       "2020-01-27 - Djrum - Dekmantel Podcast 267                    2\n",
       "2017-05-26 - Djrum, Neinzer - Solid Steel                     1\n",
       "Name: set_name, dtype: int64"
      ]
     },
     "execution_count": 28,
     "metadata": {},
     "output_type": "execute_result"
    }
   ],
   "source": [
    "df_sets[df_sets.artist==\"?\"]['set_name'].value_counts(dropna=False)"
   ]
  },
  {
   "cell_type": "code",
   "execution_count": 14,
   "id": "fe29c355",
   "metadata": {},
   "outputs": [],
   "source": [
    "df_sets['?']=np.where(df_sets.artist==\"?\", 1, 0)"
   ]
  },
  {
   "cell_type": "code",
   "execution_count": 15,
   "id": "4b2da776",
   "metadata": {},
   "outputs": [],
   "source": [
    "x=df_sets.merge(pd.DataFrame(df_sets.groupby(\"set_name\").sum()[\"?\"]).reset_index(), on = \"set_name\")"
   ]
  },
  {
   "cell_type": "code",
   "execution_count": 69,
   "id": "2536f2ef",
   "metadata": {},
   "outputs": [],
   "source": [
    "#df_sets=df_sets[x['?_y']<6]"
   ]
  },
  {
   "cell_type": "code",
   "execution_count": 16,
   "id": "08abd019",
   "metadata": {},
   "outputs": [],
   "source": [
    "df_sets=df_sets[df_sets.artist!=\"?\"]"
   ]
  },
  {
   "cell_type": "code",
   "execution_count": 17,
   "id": "81a90372",
   "metadata": {},
   "outputs": [],
   "source": [
    "df_sets.drop(columns=\"?\", axis=1, inplace=True)"
   ]
  },
  {
   "cell_type": "code",
   "execution_count": 18,
   "id": "2682e3a8",
   "metadata": {},
   "outputs": [
    {
     "name": "stderr",
     "output_type": "stream",
     "text": [
      "<ipython-input-18-336f69a9f4c2>:1: FutureWarning: The default value of regex will change from True to False in a future version.\n",
      "  df_sets.track = df_sets.track.str.replace(r\"\\[.*\", \"\")\n",
      "<ipython-input-18-336f69a9f4c2>:2: FutureWarning: The default value of regex will change from True to False in a future version.\n",
      "  df_sets.artist = df_sets.artist.str.replace(r\"\\[.*\\]\", \"\")\n"
     ]
    }
   ],
   "source": [
    "df_sets.track = df_sets.track.str.replace(r\"\\[.*\", \"\")\n",
    "df_sets.artist = df_sets.artist.str.replace(r\"\\[.*\\]\", \"\")\n",
    "df_sets.track = df_sets.track.str.strip()\n",
    "df_sets.artist = df_sets.artist.str.strip()"
   ]
  },
  {
   "cell_type": "code",
   "execution_count": 19,
   "id": "5928dcf5",
   "metadata": {},
   "outputs": [],
   "source": [
    "df_sets.to_csv(\"/Users/santiago/ih-bootcamp/proyectos/sherpa/out/df_bonobo_sets.csv\")"
   ]
  }
 ],
 "metadata": {
  "kernelspec": {
   "display_name": "Python 3",
   "language": "python",
   "name": "python3"
  },
  "language_info": {
   "codemirror_mode": {
    "name": "ipython",
    "version": 3
   },
   "file_extension": ".py",
   "mimetype": "text/x-python",
   "name": "python",
   "nbconvert_exporter": "python",
   "pygments_lexer": "ipython3",
   "version": "3.8.8"
  }
 },
 "nbformat": 4,
 "nbformat_minor": 5
}
